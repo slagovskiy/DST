{
 "cells": [
  {
   "cell_type": "code",
   "execution_count": 22,
   "metadata": {
    "collapsed": true
   },
   "outputs": [],
   "source": [
    "import pandas as pd\n",
    "import matplotlib.pyplot as plt\n",
    "import seaborn as sns\n",
    "from scipy.stats import norm\n",
    "from scipy.stats import t\n",
    "from scipy.stats import ttest_ind, shapiro, f_oneway, mannwhitneyu\n",
    "from statsmodels.stats.proportion import proportions_ztest"
   ]
  },
  {
   "cell_type": "code",
   "execution_count": 23,
   "outputs": [],
   "source": [
    "df = pd.read_csv('data/kagle_medical_appointment_no_shows.zip')"
   ],
   "metadata": {
    "collapsed": false
   }
  },
  {
   "cell_type": "code",
   "execution_count": 24,
   "outputs": [
    {
     "data": {
      "text/plain": "      PatientId  AppointmentID Gender          ScheduledDay  \\\n0  2.987250e+13        5642903      F  2016-04-29T18:38:08Z   \n1  5.589978e+14        5642503      M  2016-04-29T16:08:27Z   \n2  4.262962e+12        5642549      F  2016-04-29T16:19:04Z   \n3  8.679512e+11        5642828      F  2016-04-29T17:29:31Z   \n4  8.841186e+12        5642494      F  2016-04-29T16:07:23Z   \n\n         AppointmentDay  Age      Neighbourhood  Scholarship  Hipertension  \\\n0  2016-04-29T00:00:00Z   62    JARDIM DA PENHA            0             1   \n1  2016-04-29T00:00:00Z   56    JARDIM DA PENHA            0             0   \n2  2016-04-29T00:00:00Z   62      MATA DA PRAIA            0             0   \n3  2016-04-29T00:00:00Z    8  PONTAL DE CAMBURI            0             0   \n4  2016-04-29T00:00:00Z   56    JARDIM DA PENHA            0             1   \n\n   Diabetes  Alcoholism  Handcap  SMS_received No-show  \n0         0           0        0             0      No  \n1         0           0        0             0      No  \n2         0           0        0             0      No  \n3         0           0        0             0      No  \n4         1           0        0             0      No  ",
      "text/html": "<div>\n<style scoped>\n    .dataframe tbody tr th:only-of-type {\n        vertical-align: middle;\n    }\n\n    .dataframe tbody tr th {\n        vertical-align: top;\n    }\n\n    .dataframe thead th {\n        text-align: right;\n    }\n</style>\n<table border=\"1\" class=\"dataframe\">\n  <thead>\n    <tr style=\"text-align: right;\">\n      <th></th>\n      <th>PatientId</th>\n      <th>AppointmentID</th>\n      <th>Gender</th>\n      <th>ScheduledDay</th>\n      <th>AppointmentDay</th>\n      <th>Age</th>\n      <th>Neighbourhood</th>\n      <th>Scholarship</th>\n      <th>Hipertension</th>\n      <th>Diabetes</th>\n      <th>Alcoholism</th>\n      <th>Handcap</th>\n      <th>SMS_received</th>\n      <th>No-show</th>\n    </tr>\n  </thead>\n  <tbody>\n    <tr>\n      <th>0</th>\n      <td>2.987250e+13</td>\n      <td>5642903</td>\n      <td>F</td>\n      <td>2016-04-29T18:38:08Z</td>\n      <td>2016-04-29T00:00:00Z</td>\n      <td>62</td>\n      <td>JARDIM DA PENHA</td>\n      <td>0</td>\n      <td>1</td>\n      <td>0</td>\n      <td>0</td>\n      <td>0</td>\n      <td>0</td>\n      <td>No</td>\n    </tr>\n    <tr>\n      <th>1</th>\n      <td>5.589978e+14</td>\n      <td>5642503</td>\n      <td>M</td>\n      <td>2016-04-29T16:08:27Z</td>\n      <td>2016-04-29T00:00:00Z</td>\n      <td>56</td>\n      <td>JARDIM DA PENHA</td>\n      <td>0</td>\n      <td>0</td>\n      <td>0</td>\n      <td>0</td>\n      <td>0</td>\n      <td>0</td>\n      <td>No</td>\n    </tr>\n    <tr>\n      <th>2</th>\n      <td>4.262962e+12</td>\n      <td>5642549</td>\n      <td>F</td>\n      <td>2016-04-29T16:19:04Z</td>\n      <td>2016-04-29T00:00:00Z</td>\n      <td>62</td>\n      <td>MATA DA PRAIA</td>\n      <td>0</td>\n      <td>0</td>\n      <td>0</td>\n      <td>0</td>\n      <td>0</td>\n      <td>0</td>\n      <td>No</td>\n    </tr>\n    <tr>\n      <th>3</th>\n      <td>8.679512e+11</td>\n      <td>5642828</td>\n      <td>F</td>\n      <td>2016-04-29T17:29:31Z</td>\n      <td>2016-04-29T00:00:00Z</td>\n      <td>8</td>\n      <td>PONTAL DE CAMBURI</td>\n      <td>0</td>\n      <td>0</td>\n      <td>0</td>\n      <td>0</td>\n      <td>0</td>\n      <td>0</td>\n      <td>No</td>\n    </tr>\n    <tr>\n      <th>4</th>\n      <td>8.841186e+12</td>\n      <td>5642494</td>\n      <td>F</td>\n      <td>2016-04-29T16:07:23Z</td>\n      <td>2016-04-29T00:00:00Z</td>\n      <td>56</td>\n      <td>JARDIM DA PENHA</td>\n      <td>0</td>\n      <td>1</td>\n      <td>1</td>\n      <td>0</td>\n      <td>0</td>\n      <td>0</td>\n      <td>No</td>\n    </tr>\n  </tbody>\n</table>\n</div>"
     },
     "execution_count": 24,
     "metadata": {},
     "output_type": "execute_result"
    }
   ],
   "source": [
    "df.head()"
   ],
   "metadata": {
    "collapsed": false
   }
  },
  {
   "cell_type": "code",
   "execution_count": 25,
   "outputs": [
    {
     "name": "stdout",
     "output_type": "stream",
     "text": [
      "<class 'pandas.core.frame.DataFrame'>\n",
      "RangeIndex: 110527 entries, 0 to 110526\n",
      "Data columns (total 14 columns):\n",
      " #   Column          Non-Null Count   Dtype  \n",
      "---  ------          --------------   -----  \n",
      " 0   PatientId       110527 non-null  float64\n",
      " 1   AppointmentID   110527 non-null  int64  \n",
      " 2   Gender          110527 non-null  object \n",
      " 3   ScheduledDay    110527 non-null  object \n",
      " 4   AppointmentDay  110527 non-null  object \n",
      " 5   Age             110527 non-null  int64  \n",
      " 6   Neighbourhood   110527 non-null  object \n",
      " 7   Scholarship     110527 non-null  int64  \n",
      " 8   Hipertension    110527 non-null  int64  \n",
      " 9   Diabetes        110527 non-null  int64  \n",
      " 10  Alcoholism      110527 non-null  int64  \n",
      " 11  Handcap         110527 non-null  int64  \n",
      " 12  SMS_received    110527 non-null  int64  \n",
      " 13  No-show         110527 non-null  object \n",
      "dtypes: float64(1), int64(8), object(5)\n",
      "memory usage: 11.8+ MB\n"
     ]
    }
   ],
   "source": [
    "df.info()"
   ],
   "metadata": {
    "collapsed": false
   }
  },
  {
   "cell_type": "code",
   "execution_count": 26,
   "outputs": [
    {
     "data": {
      "text/plain": "<Figure size 800x400 with 1 Axes>",
      "image/png": "[encoded data removed]"
     },
     "metadata": {},
     "output_type": "display_data"
    }
   ],
   "source": [
    "plt.figure(figsize=(8,4))\n",
    "df['No-show'].hist()\n",
    "plt.title('Соотношение людей, которые пропускают приемы, к тем, кто этого не делает');"
   ],
   "metadata": {
    "collapsed": false
   }
  },
  {
   "cell_type": "code",
   "execution_count": 27,
   "outputs": [
    {
     "data": {
      "text/plain": "No     0.798067\nYes    0.201933\nName: No-show, dtype: float64"
     },
     "execution_count": 27,
     "metadata": {},
     "output_type": "execute_result"
    }
   ],
   "source": [
    "df['No-show'].value_counts(True)"
   ],
   "metadata": {
    "collapsed": false
   }
  },
  {
   "cell_type": "code",
   "execution_count": 28,
   "outputs": [
    {
     "data": {
      "text/plain": "F    0.653882\nM    0.346118\nName: Gender, dtype: float64"
     },
     "execution_count": 28,
     "metadata": {},
     "output_type": "execute_result"
    }
   ],
   "source": [
    "df[df['No-show']=='Yes']['Gender'].value_counts(True)"
   ],
   "metadata": {
    "collapsed": false
   }
  },
  {
   "cell_type": "code",
   "execution_count": 29,
   "outputs": [],
   "source": [
    "categorical_columns_names = ['Gender', 'Neighbourhood']\n",
    "encoded_columns = pd.get_dummies(df, columns = categorical_columns_names)"
   ],
   "metadata": {
    "collapsed": false
   }
  },
  {
   "cell_type": "code",
   "execution_count": 30,
   "outputs": [
    {
     "data": {
      "text/plain": "           PatientId  AppointmentID          ScheduledDay  \\\n0       2.987250e+13        5642903  2016-04-29T18:38:08Z   \n1       5.589978e+14        5642503  2016-04-29T16:08:27Z   \n2       4.262962e+12        5642549  2016-04-29T16:19:04Z   \n3       8.679512e+11        5642828  2016-04-29T17:29:31Z   \n4       8.841186e+12        5642494  2016-04-29T16:07:23Z   \n...              ...            ...                   ...   \n110522  2.572134e+12        5651768  2016-05-03T09:15:35Z   \n110523  3.596266e+12        5650093  2016-05-03T07:27:33Z   \n110524  1.557663e+13        5630692  2016-04-27T16:03:52Z   \n110525  9.213493e+13        5630323  2016-04-27T15:09:23Z   \n110526  3.775115e+14        5629448  2016-04-27T13:30:56Z   \n\n              AppointmentDay  Age  Scholarship  Hipertension  Diabetes  \\\n0       2016-04-29T00:00:00Z   62            0             1         0   \n1       2016-04-29T00:00:00Z   56            0             0         0   \n2       2016-04-29T00:00:00Z   62            0             0         0   \n3       2016-04-29T00:00:00Z    8            0             0         0   \n4       2016-04-29T00:00:00Z   56            0             1         1   \n...                      ...  ...          ...           ...       ...   \n110522  2016-06-07T00:00:00Z   56            0             0         0   \n110523  2016-06-07T00:00:00Z   51            0             0         0   \n110524  2016-06-07T00:00:00Z   21            0             0         0   \n110525  2016-06-07T00:00:00Z   38            0             0         0   \n110526  2016-06-07T00:00:00Z   54            0             0         0   \n\n        Alcoholism  Handcap  ...  Neighbourhood_SANTOS REIS  \\\n0                0        0  ...                          0   \n1                0        0  ...                          0   \n2                0        0  ...                          0   \n3                0        0  ...                          0   \n4                0        0  ...                          0   \n...            ...      ...  ...                        ...   \n110522           0        0  ...                          0   \n110523           0        0  ...                          0   \n110524           0        0  ...                          0   \n110525           0        0  ...                          0   \n110526           0        0  ...                          0   \n\n       Neighbourhood_SEGURANÇA DO LAR  Neighbourhood_SOLON BORGES  \\\n0                                   0                           0   \n1                                   0                           0   \n2                                   0                           0   \n3                                   0                           0   \n4                                   0                           0   \n...                               ...                         ...   \n110522                              0                           0   \n110523                              0                           0   \n110524                              0                           0   \n110525                              0                           0   \n110526                              0                           0   \n\n        Neighbourhood_SÃO BENEDITO  Neighbourhood_SÃO CRISTÓVÃO  \\\n0                                0                            0   \n1                                0                            0   \n2                                0                            0   \n3                                0                            0   \n4                                0                            0   \n...                            ...                          ...   \n110522                           0                            0   \n110523                           0                            0   \n110524                           0                            0   \n110525                           0                            0   \n110526                           0                            0   \n\n        Neighbourhood_SÃO JOSÉ  Neighbourhood_SÃO PEDRO  \\\n0                            0                        0   \n1                            0                        0   \n2                            0                        0   \n3                            0                        0   \n4                            0                        0   \n...                        ...                      ...   \n110522                       0                        0   \n110523                       0                        0   \n110524                       0                        0   \n110525                       0                        0   \n110526                       0                        0   \n\n        Neighbourhood_TABUAZEIRO  Neighbourhood_UNIVERSITÁRIO  \\\n0                              0                            0   \n1                              0                            0   \n2                              0                            0   \n3                              0                            0   \n4                              0                            0   \n...                          ...                          ...   \n110522                         0                            0   \n110523                         0                            0   \n110524                         0                            0   \n110525                         0                            0   \n110526                         0                            0   \n\n        Neighbourhood_VILA RUBIM  \n0                              0  \n1                              0  \n2                              0  \n3                              0  \n4                              0  \n...                          ...  \n110522                         0  \n110523                         0  \n110524                         0  \n110525                         0  \n110526                         0  \n\n[110527 rows x 95 columns]",
      "text/html": "<div>\n<style scoped>\n    .dataframe tbody tr th:only-of-type {\n        vertical-align: middle;\n    }\n\n    .dataframe tbody tr th {\n        vertical-align: top;\n    }\n\n    .dataframe thead th {\n        text-align: right;\n    }\n</style>\n<table border=\"1\" class=\"dataframe\">\n  <thead>\n    <tr style=\"text-align: right;\">\n      <th></th>\n      <th>PatientId</th>\n      <th>AppointmentID</th>\n      <th>ScheduledDay</th>\n      <th>AppointmentDay</th>\n      <th>Age</th>\n      <th>Scholarship</th>\n      <th>Hipertension</th>\n      <th>Diabetes</th>\n      <th>Alcoholism</th>\n      <th>Handcap</th>\n      <th>...</th>\n      <th>Neighbourhood_SANTOS REIS</th>\n      <th>Neighbourhood_SEGURANÇA DO LAR</th>\n      <th>Neighbourhood_SOLON BORGES</th>\n      <th>Neighbourhood_SÃO BENEDITO</th>\n      <th>Neighbourhood_SÃO CRISTÓVÃO</th>\n      <th>Neighbourhood_SÃO JOSÉ</th>\n      <th>Neighbourhood_SÃO PEDRO</th>\n      <th>Neighbourhood_TABUAZEIRO</th>\n      <th>Neighbourhood_UNIVERSITÁRIO</th>\n      <th>Neighbourhood_VILA RUBIM</th>\n    </tr>\n  </thead>\n  <tbody>\n    <tr>\n      <th>0</th>\n      <td>2.987250e+13</td>\n      <td>5642903</td>\n      <td>2016-04-29T18:38:08Z</td>\n      <td>2016-04-29T00:00:00Z</td>\n      <td>62</td>\n      <td>0</td>\n      <td>1</td>\n      <td>0</td>\n      <td>0</td>\n      <td>0</td>\n      <td>...</td>\n      <td>0</td>\n      <td>0</td>\n      <td>0</td>\n      <td>0</td>\n      <td>0</td>\n      <td>0</td>\n      <td>0</td>\n      <td>0</td>\n      <td>0</td>\n      <td>0</td>\n    </tr>\n    <tr>\n      <th>1</th>\n      <td>5.589978e+14</td>\n      <td>5642503</td>\n      <td>2016-04-29T16:08:27Z</td>\n      <td>2016-04-29T00:00:00Z</td>\n      <td>56</td>\n      <td>0</td>\n      <td>0</td>\n      <td>0</td>\n      <td>0</td>\n      <td>0</td>\n      <td>...</td>\n      <td>0</td>\n      <td>0</td>\n      <td>0</td>\n      <td>0</td>\n      <td>0</td>\n      <td>0</td>\n      <td>0</td>\n      <td>0</td>\n      <td>0</td>\n      <td>0</td>\n    </tr>\n    <tr>\n      <th>2</th>\n      <td>4.262962e+12</td>\n      <td>5642549</td>\n      <td>2016-04-29T16:19:04Z</td>\n      <td>2016-04-29T00:00:00Z</td>\n      <td>62</td>\n      <td>0</td>\n      <td>0</td>\n      <td>0</td>\n      <td>0</td>\n      <td>0</td>\n      <td>...</td>\n      <td>0</td>\n      <td>0</td>\n      <td>0</td>\n      <td>0</td>\n      <td>0</td>\n      <td>0</td>\n      <td>0</td>\n      <td>0</td>\n      <td>0</td>\n      <td>0</td>\n    </tr>\n    <tr>\n      <th>3</th>\n      <td>8.679512e+11</td>\n      <td>5642828</td>\n      <td>2016-04-29T17:29:31Z</td>\n      <td>2016-04-29T00:00:00Z</td>\n      <td>8</td>\n      <td>0</td>\n      <td>0</td>\n      <td>0</td>\n      <td>0</td>\n      <td>0</td>\n      <td>...</td>\n      <td>0</td>\n      <td>0</td>\n      <td>0</td>\n      <td>0</td>\n      <td>0</td>\n      <td>0</td>\n      <td>0</td>\n      <td>0</td>\n      <td>0</td>\n      <td>0</td>\n    </tr>\n    <tr>\n      <th>4</th>\n      <td>8.841186e+12</td>\n      <td>5642494</td>\n      <td>2016-04-29T16:07:23Z</td>\n      <td>2016-04-29T00:00:00Z</td>\n      <td>56</td>\n      <td>0</td>\n      <td>1</td>\n      <td>1</td>\n      <td>0</td>\n      <td>0</td>\n      <td>...</td>\n      <td>0</td>\n      <td>0</td>\n      <td>0</td>\n      <td>0</td>\n      <td>0</td>\n      <td>0</td>\n      <td>0</td>\n      <td>0</td>\n      <td>0</td>\n      <td>0</td>\n    </tr>\n    <tr>\n      <th>...</th>\n      <td>...</td>\n      <td>...</td>\n      <td>...</td>\n      <td>...</td>\n      <td>...</td>\n      <td>...</td>\n      <td>...</td>\n      <td>...</td>\n      <td>...</td>\n      <td>...</td>\n      <td>...</td>\n      <td>...</td>\n      <td>...</td>\n      <td>...</td>\n      <td>...</td>\n      <td>...</td>\n      <td>...</td>\n      <td>...</td>\n      <td>...</td>\n      <td>...</td>\n      <td>...</td>\n    </tr>\n    <tr>\n      <th>110522</th>\n      <td>2.572134e+12</td>\n      <td>5651768</td>\n      <td>2016-05-03T09:15:35Z</td>\n      <td>2016-06-07T00:00:00Z</td>\n      <td>56</td>\n      <td>0</td>\n      <td>0</td>\n      <td>0</td>\n      <td>0</td>\n      <td>0</td>\n      <td>...</td>\n      <td>0</td>\n      <td>0</td>\n      <td>0</td>\n      <td>0</td>\n      <td>0</td>\n      <td>0</td>\n      <td>0</td>\n      <td>0</td>\n      <td>0</td>\n      <td>0</td>\n    </tr>\n    <tr>\n      <th>110523</th>\n      <td>3.596266e+12</td>\n      <td>5650093</td>\n      <td>2016-05-03T07:27:33Z</td>\n      <td>2016-06-07T00:00:00Z</td>\n      <td>51</td>\n      <td>0</td>\n      <td>0</td>\n      <td>0</td>\n      <td>0</td>\n      <td>0</td>\n      <td>...</td>\n      <td>0</td>\n      <td>0</td>\n      <td>0</td>\n      <td>0</td>\n      <td>0</td>\n      <td>0</td>\n      <td>0</td>\n      <td>0</td>\n      <td>0</td>\n      <td>0</td>\n    </tr>\n    <tr>\n      <th>110524</th>\n      <td>1.557663e+13</td>\n      <td>5630692</td>\n      <td>2016-04-27T16:03:52Z</td>\n      <td>2016-06-07T00:00:00Z</td>\n      <td>21</td>\n      <td>0</td>\n      <td>0</td>\n      <td>0</td>\n      <td>0</td>\n      <td>0</td>\n      <td>...</td>\n      <td>0</td>\n      <td>0</td>\n      <td>0</td>\n      <td>0</td>\n      <td>0</td>\n      <td>0</td>\n      <td>0</td>\n      <td>0</td>\n      <td>0</td>\n      <td>0</td>\n    </tr>\n    <tr>\n      <th>110525</th>\n      <td>9.213493e+13</td>\n      <td>5630323</td>\n      <td>2016-04-27T15:09:23Z</td>\n      <td>2016-06-07T00:00:00Z</td>\n      <td>38</td>\n      <td>0</td>\n      <td>0</td>\n      <td>0</td>\n      <td>0</td>\n      <td>0</td>\n      <td>...</td>\n      <td>0</td>\n      <td>0</td>\n      <td>0</td>\n      <td>0</td>\n      <td>0</td>\n      <td>0</td>\n      <td>0</td>\n      <td>0</td>\n      <td>0</td>\n      <td>0</td>\n    </tr>\n    <tr>\n      <th>110526</th>\n      <td>3.775115e+14</td>\n      <td>5629448</td>\n      <td>2016-04-27T13:30:56Z</td>\n      <td>2016-06-07T00:00:00Z</td>\n      <td>54</td>\n      <td>0</td>\n      <td>0</td>\n      <td>0</td>\n      <td>0</td>\n      <td>0</td>\n      <td>...</td>\n      <td>0</td>\n      <td>0</td>\n      <td>0</td>\n      <td>0</td>\n      <td>0</td>\n      <td>0</td>\n      <td>0</td>\n      <td>0</td>\n      <td>0</td>\n      <td>0</td>\n    </tr>\n  </tbody>\n</table>\n<p>110527 rows × 95 columns</p>\n</div>"
     },
     "execution_count": 30,
     "metadata": {},
     "output_type": "execute_result"
    }
   ],
   "source": [
    "encoded_columns"
   ],
   "metadata": {
    "collapsed": false
   }
  },
  {
   "cell_type": "code",
   "execution_count": 31,
   "outputs": [
    {
     "name": "stdout",
     "output_type": "stream",
     "text": [
      "<class 'pandas.core.frame.DataFrame'>\n",
      "RangeIndex: 110527 entries, 0 to 110526\n",
      "Data columns (total 95 columns):\n",
      " #   Column                                     Non-Null Count   Dtype  \n",
      "---  ------                                     --------------   -----  \n",
      " 0   PatientId                                  110527 non-null  float64\n",
      " 1   AppointmentID                              110527 non-null  int64  \n",
      " 2   ScheduledDay                               110527 non-null  object \n",
      " 3   AppointmentDay                             110527 non-null  object \n",
      " 4   Age                                        110527 non-null  int64  \n",
      " 5   Scholarship                                110527 non-null  int64  \n",
      " 6   Hipertension                               110527 non-null  int64  \n",
      " 7   Diabetes                                   110527 non-null  int64  \n",
      " 8   Alcoholism                                 110527 non-null  int64  \n",
      " 9   Handcap                                    110527 non-null  int64  \n",
      " 10  SMS_received                               110527 non-null  int64  \n",
      " 11  No-show                                    110527 non-null  object \n",
      " 12  Gender_F                                   110527 non-null  uint8  \n",
      " 13  Gender_M                                   110527 non-null  uint8  \n",
      " 14  Neighbourhood_AEROPORTO                    110527 non-null  uint8  \n",
      " 15  Neighbourhood_ANDORINHAS                   110527 non-null  uint8  \n",
      " 16  Neighbourhood_ANTÔNIO HONÓRIO              110527 non-null  uint8  \n",
      " 17  Neighbourhood_ARIOVALDO FAVALESSA          110527 non-null  uint8  \n",
      " 18  Neighbourhood_BARRO VERMELHO               110527 non-null  uint8  \n",
      " 19  Neighbourhood_BELA VISTA                   110527 non-null  uint8  \n",
      " 20  Neighbourhood_BENTO FERREIRA               110527 non-null  uint8  \n",
      " 21  Neighbourhood_BOA VISTA                    110527 non-null  uint8  \n",
      " 22  Neighbourhood_BONFIM                       110527 non-null  uint8  \n",
      " 23  Neighbourhood_CARATOÍRA                    110527 non-null  uint8  \n",
      " 24  Neighbourhood_CENTRO                       110527 non-null  uint8  \n",
      " 25  Neighbourhood_COMDUSA                      110527 non-null  uint8  \n",
      " 26  Neighbourhood_CONQUISTA                    110527 non-null  uint8  \n",
      " 27  Neighbourhood_CONSOLAÇÃO                   110527 non-null  uint8  \n",
      " 28  Neighbourhood_CRUZAMENTO                   110527 non-null  uint8  \n",
      " 29  Neighbourhood_DA PENHA                     110527 non-null  uint8  \n",
      " 30  Neighbourhood_DE LOURDES                   110527 non-null  uint8  \n",
      " 31  Neighbourhood_DO CABRAL                    110527 non-null  uint8  \n",
      " 32  Neighbourhood_DO MOSCOSO                   110527 non-null  uint8  \n",
      " 33  Neighbourhood_DO QUADRO                    110527 non-null  uint8  \n",
      " 34  Neighbourhood_ENSEADA DO SUÁ               110527 non-null  uint8  \n",
      " 35  Neighbourhood_ESTRELINHA                   110527 non-null  uint8  \n",
      " 36  Neighbourhood_FONTE GRANDE                 110527 non-null  uint8  \n",
      " 37  Neighbourhood_FORTE SÃO JOÃO               110527 non-null  uint8  \n",
      " 38  Neighbourhood_FRADINHOS                    110527 non-null  uint8  \n",
      " 39  Neighbourhood_GOIABEIRAS                   110527 non-null  uint8  \n",
      " 40  Neighbourhood_GRANDE VITÓRIA               110527 non-null  uint8  \n",
      " 41  Neighbourhood_GURIGICA                     110527 non-null  uint8  \n",
      " 42  Neighbourhood_HORTO                        110527 non-null  uint8  \n",
      " 43  Neighbourhood_ILHA DAS CAIEIRAS            110527 non-null  uint8  \n",
      " 44  Neighbourhood_ILHA DE SANTA MARIA          110527 non-null  uint8  \n",
      " 45  Neighbourhood_ILHA DO BOI                  110527 non-null  uint8  \n",
      " 46  Neighbourhood_ILHA DO FRADE                110527 non-null  uint8  \n",
      " 47  Neighbourhood_ILHA DO PRÍNCIPE             110527 non-null  uint8  \n",
      " 48  Neighbourhood_ILHAS OCEÂNICAS DE TRINDADE  110527 non-null  uint8  \n",
      " 49  Neighbourhood_INHANGUETÁ                   110527 non-null  uint8  \n",
      " 50  Neighbourhood_ITARARÉ                      110527 non-null  uint8  \n",
      " 51  Neighbourhood_JABOUR                       110527 non-null  uint8  \n",
      " 52  Neighbourhood_JARDIM CAMBURI               110527 non-null  uint8  \n",
      " 53  Neighbourhood_JARDIM DA PENHA              110527 non-null  uint8  \n",
      " 54  Neighbourhood_JESUS DE NAZARETH            110527 non-null  uint8  \n",
      " 55  Neighbourhood_JOANA D´ARC                  110527 non-null  uint8  \n",
      " 56  Neighbourhood_JUCUTUQUARA                  110527 non-null  uint8  \n",
      " 57  Neighbourhood_MARIA ORTIZ                  110527 non-null  uint8  \n",
      " 58  Neighbourhood_MARUÍPE                      110527 non-null  uint8  \n",
      " 59  Neighbourhood_MATA DA PRAIA                110527 non-null  uint8  \n",
      " 60  Neighbourhood_MONTE BELO                   110527 non-null  uint8  \n",
      " 61  Neighbourhood_MORADA DE CAMBURI            110527 non-null  uint8  \n",
      " 62  Neighbourhood_MÁRIO CYPRESTE               110527 non-null  uint8  \n",
      " 63  Neighbourhood_NAZARETH                     110527 non-null  uint8  \n",
      " 64  Neighbourhood_NOVA PALESTINA               110527 non-null  uint8  \n",
      " 65  Neighbourhood_PARQUE INDUSTRIAL            110527 non-null  uint8  \n",
      " 66  Neighbourhood_PARQUE MOSCOSO               110527 non-null  uint8  \n",
      " 67  Neighbourhood_PIEDADE                      110527 non-null  uint8  \n",
      " 68  Neighbourhood_PONTAL DE CAMBURI            110527 non-null  uint8  \n",
      " 69  Neighbourhood_PRAIA DO CANTO               110527 non-null  uint8  \n",
      " 70  Neighbourhood_PRAIA DO SUÁ                 110527 non-null  uint8  \n",
      " 71  Neighbourhood_REDENÇÃO                     110527 non-null  uint8  \n",
      " 72  Neighbourhood_REPÚBLICA                    110527 non-null  uint8  \n",
      " 73  Neighbourhood_RESISTÊNCIA                  110527 non-null  uint8  \n",
      " 74  Neighbourhood_ROMÃO                        110527 non-null  uint8  \n",
      " 75  Neighbourhood_SANTA CECÍLIA                110527 non-null  uint8  \n",
      " 76  Neighbourhood_SANTA CLARA                  110527 non-null  uint8  \n",
      " 77  Neighbourhood_SANTA HELENA                 110527 non-null  uint8  \n",
      " 78  Neighbourhood_SANTA LUÍZA                  110527 non-null  uint8  \n",
      " 79  Neighbourhood_SANTA LÚCIA                  110527 non-null  uint8  \n",
      " 80  Neighbourhood_SANTA MARTHA                 110527 non-null  uint8  \n",
      " 81  Neighbourhood_SANTA TEREZA                 110527 non-null  uint8  \n",
      " 82  Neighbourhood_SANTO ANDRÉ                  110527 non-null  uint8  \n",
      " 83  Neighbourhood_SANTO ANTÔNIO                110527 non-null  uint8  \n",
      " 84  Neighbourhood_SANTOS DUMONT                110527 non-null  uint8  \n",
      " 85  Neighbourhood_SANTOS REIS                  110527 non-null  uint8  \n",
      " 86  Neighbourhood_SEGURANÇA DO LAR             110527 non-null  uint8  \n",
      " 87  Neighbourhood_SOLON BORGES                 110527 non-null  uint8  \n",
      " 88  Neighbourhood_SÃO BENEDITO                 110527 non-null  uint8  \n",
      " 89  Neighbourhood_SÃO CRISTÓVÃO                110527 non-null  uint8  \n",
      " 90  Neighbourhood_SÃO JOSÉ                     110527 non-null  uint8  \n",
      " 91  Neighbourhood_SÃO PEDRO                    110527 non-null  uint8  \n",
      " 92  Neighbourhood_TABUAZEIRO                   110527 non-null  uint8  \n",
      " 93  Neighbourhood_UNIVERSITÁRIO                110527 non-null  uint8  \n",
      " 94  Neighbourhood_VILA RUBIM                   110527 non-null  uint8  \n",
      "dtypes: float64(1), int64(8), object(3), uint8(83)\n",
      "memory usage: 18.9+ MB\n"
     ]
    }
   ],
   "source": [
    "encoded_columns.info()"
   ],
   "metadata": {
    "collapsed": false
   }
  },
  {
   "cell_type": "code",
   "execution_count": 32,
   "outputs": [
    {
     "name": "stderr",
     "output_type": "stream",
     "text": [
      "WARNING:root:Это сообщение-предупреждение\n",
      "ERROR:root:Это сообщение об ошибке\n",
      "CRITICAL:root:Это критическое сообщение\n"
     ]
    }
   ],
   "source": [
    "import logging\n",
    "logging.debug('Это сообщение отладки')\n",
    "logging.info('Это информационное сообщение')\n",
    "logging.warning('Это сообщение-предупреждение')\n",
    "logging.error('Это сообщение об ошибке')\n",
    "logging.critical('Это критическое сообщение')"
   ],
   "metadata": {
    "collapsed": false
   }
  },
  {
   "cell_type": "code",
   "execution_count": 33,
   "outputs": [],
   "source": [
    "logging.basicConfig(level=logging.DEBUG)\n",
    "logging.debug('Сообщение будет залогировано!')"
   ],
   "metadata": {
    "collapsed": false
   }
  },
  {
   "cell_type": "code",
   "execution_count": 34,
   "outputs": [],
   "source": [
    "# Функция для создания лог-файла и записи в него информации\n",
    "def get_logger(path, file):\n",
    "    \"\"\"[Создает лог-файл для логирования в него]\n",
    "    Аргументы:\n",
    "        path {string} -- путь к директории\n",
    "        file {string} -- имя файла\n",
    "     Возвращает:\n",
    "        [obj] -- [логер]\n",
    "    \"\"\"\n",
    "    # проверяем, существует ли файл\n",
    "    log_file = os.path.join(path, file)\n",
    "\n",
    "    #если  файла нет, создаем его\n",
    "    if not os.path.isfile(log_file):\n",
    "        open(log_file, \"w+\").close()\n",
    "\n",
    "    # поменяем формат логирования\n",
    "    file_logging_format = \"%(levelname)s: %(asctime)s: %(message)s\"\n",
    "\n",
    "    # конфигурируем лог-файл\n",
    "    logging.basicConfig(level=logging.INFO,\n",
    "                        format = file_logging_format)\n",
    "    logger = logging.getLogger()\n",
    "\n",
    "    # создадим хэнлдер для записи лога в файл\n",
    "    handler = logging.FileHandler(log_file)\n",
    "\n",
    "    # установим уровень логирования\n",
    "    handler.setLevel(logging.INFO)\n",
    "\n",
    "    # создадим формат логирования, используя file_logging_format\n",
    "    formatter = logging.Formatter(file_logging_format)\n",
    "    handler.setFormatter(formatter)\n",
    "\n",
    "    # добавим хэндлер лог-файлу\n",
    "    logger.addHandler(handler)\n",
    "    return logger"
   ],
   "metadata": {
    "collapsed": false
   }
  },
  {
   "cell_type": "code",
   "execution_count": 35,
   "outputs": [
    {
     "name": "stderr",
     "output_type": "stream",
     "text": [
      "A subdirectory or file logs already exists.\n"
     ]
    }
   ],
   "source": [
    "!mkdir logs"
   ],
   "metadata": {
    "collapsed": false
   }
  },
  {
   "cell_type": "code",
   "execution_count": 36,
   "outputs": [],
   "source": [
    "import os\n",
    "# создаем лог-файл\n",
    "logger = get_logger(path=\"logs/\", file=\"data.logs\")\n",
    "\n",
    "logger.info(\"Data\")\n",
    "\n",
    "logger.info(\"Data shape {}\".format(df.shape))\n",
    "\n",
    "logger.info(\"Percentage of women: {}\".format(df[df['No-show']=='Yes']['Gender'].value_counts(True)[0]))\n",
    "\n",
    "logger.info(\"Percentage of men: {}\".format(df[df['No-show']=='Yes']['Gender'].value_counts(True)[1]))"
   ],
   "metadata": {
    "collapsed": false
   }
  },
  {
   "cell_type": "code",
   "execution_count": 37,
   "outputs": [
    {
     "name": "stderr",
     "output_type": "stream",
     "text": [
      "ERROR:root:Data shape is incorrect!\n"
     ]
    }
   ],
   "source": [
    "if df.shape != (110526,14):\n",
    "    logger.error('Data shape is incorrect!')"
   ],
   "metadata": {
    "collapsed": false
   }
  },
  {
   "cell_type": "code",
   "execution_count": 38,
   "outputs": [
    {
     "name": "stderr",
     "output_type": "stream",
     "text": [
      "COMET WARNING: As you are running in a Jupyter environment, you will need to call `experiment.end()` when finished to ensure all metrics and code are logged before exiting.\n",
      "COMET INFO: Experiment is live on comet.com https://www.comet.com/slagovskiy/medical-appointment/5d0b15eb701c46bf9458f2bcaaa9c71c\n",
      "\n"
     ]
    }
   ],
   "source": [
    "from comet_ml import Experiment\n",
    "\n",
    "# Создайте эксперимент с помощью вашего API ключа\n",
    "experiment = Experiment(\n",
    "    api_key='jEudH2RAVmoOiPgRUdiRT2V6z',\n",
    "    project_name='medical-appointment',\n",
    "    workspace='slagovskiy',\n",
    ")"
   ],
   "metadata": {
    "collapsed": false
   }
  },
  {
   "cell_type": "code",
   "execution_count": 39,
   "outputs": [
    {
     "name": "stderr",
     "output_type": "stream",
     "text": [
      "COMET INFO: ---------------------------\n",
      "COMET INFO: Comet.ml Experiment Summary\n",
      "COMET INFO: ---------------------------\n",
      "COMET INFO:   Data:\n",
      "COMET INFO:     display_summary_level : 1\n",
      "COMET INFO:     url                   : https://www.comet.com/slagovskiy/medical-appointment/5d0b15eb701c46bf9458f2bcaaa9c71c\n",
      "COMET INFO:   Uploads:\n",
      "COMET INFO:     environment details      : 1\n",
      "COMET INFO:     filename                 : 1\n",
      "COMET INFO:     git metadata             : 1\n",
      "COMET INFO:     git-patch (uncompressed) : 1 (8.02 MB)\n",
      "COMET INFO:     installed packages       : 1\n",
      "COMET INFO:     notebook                 : 1\n",
      "COMET INFO:     source_code              : 1\n",
      "COMET INFO: ---------------------------\n",
      "COMET INFO: Uploading metrics, params, and assets to Comet before program termination (may take several seconds)\n",
      "COMET INFO: The Python SDK has 3600 seconds to finish before aborting...\n",
      "COMET INFO: Waiting for completion of the file uploads (may take several seconds)\n",
      "COMET INFO: The Python SDK has 10800 seconds to finish before aborting...\n",
      "COMET INFO: All files uploaded, waiting for confirmation they have been all received\n"
     ]
    }
   ],
   "source": [
    "experiment.end()"
   ],
   "metadata": {
    "collapsed": false
   }
  },
  {
   "cell_type": "code",
   "execution_count": null,
   "outputs": [],
   "source": [],
   "metadata": {
    "collapsed": false
   }
  }
 ],
 "metadata": {
  "kernelspec": {
   "display_name": "Python 3",
   "language": "python",
   "name": "python3"
  },
  "language_info": {
   "codemirror_mode": {
    "name": "ipython",
    "version": 2
   },
   "file_extension": ".py",
   "mimetype": "text/x-python",
   "name": "python",
   "nbconvert_exporter": "python",
   "pygments_lexer": "ipython2",
   "version": "2.7.6"
  }
 },
 "nbformat": 4,
 "nbformat_minor": 0
}
