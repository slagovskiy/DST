{
 "cells": [
  {
   "cell_type": "code",
   "execution_count": 1,
   "metadata": {
    "collapsed": true,
    "ExecuteTime": {
     "end_time": "2023-05-19T04:24:44.087631200Z",
     "start_time": "2023-05-19T04:24:43.894634500Z"
    }
   },
   "outputs": [],
   "source": [
    "import numpy as np"
   ]
  },
  {
   "cell_type": "code",
   "execution_count": 2,
   "metadata": {
    "collapsed": true,
    "ExecuteTime": {
     "end_time": "2023-05-19T04:24:44.107632Z",
     "start_time": "2023-05-19T04:24:44.089635800Z"
    }
   },
   "outputs": [],
   "source": [
    "# произведение матриц\n",
    "A=np.random.randint(5, 12, (3,3))\n",
    "B=np.random.randint(-2, 4, (3,3))"
   ]
  },
  {
   "cell_type": "code",
   "execution_count": 3,
   "metadata": {
    "collapsed": false,
    "ExecuteTime": {
     "end_time": "2023-05-19T04:24:44.124634100Z",
     "start_time": "2023-05-19T04:24:44.109630900Z"
    }
   },
   "outputs": [
    {
     "data": {
      "text/plain": "array([[ 5,  7, 11],\n       [ 6, 11,  6],\n       [ 7,  5,  5]])"
     },
     "execution_count": 3,
     "metadata": {},
     "output_type": "execute_result"
    }
   ],
   "source": [
    "A"
   ]
  },
  {
   "cell_type": "code",
   "execution_count": 4,
   "metadata": {
    "collapsed": false,
    "ExecuteTime": {
     "end_time": "2023-05-19T04:24:44.127630100Z",
     "start_time": "2023-05-19T04:24:44.120635100Z"
    }
   },
   "outputs": [
    {
     "data": {
      "text/plain": "array([[ 3,  3,  0],\n       [-2, -2,  1],\n       [ 2,  3,  0]])"
     },
     "execution_count": 4,
     "metadata": {},
     "output_type": "execute_result"
    }
   ],
   "source": [
    "B"
   ]
  },
  {
   "cell_type": "code",
   "execution_count": 5,
   "metadata": {
    "collapsed": false,
    "ExecuteTime": {
     "end_time": "2023-05-19T04:24:44.133630500Z",
     "start_time": "2023-05-19T04:24:44.128633600Z"
    }
   },
   "outputs": [
    {
     "data": {
      "text/plain": "array([[ 15,  21,   0],\n       [-12, -22,   6],\n       [ 14,  15,   0]])"
     },
     "execution_count": 5,
     "metadata": {},
     "output_type": "execute_result"
    }
   ],
   "source": [
    "# Поэлементное умножение\n",
    "A*B"
   ]
  },
  {
   "cell_type": "code",
   "execution_count": 6,
   "metadata": {
    "collapsed": false,
    "ExecuteTime": {
     "end_time": "2023-05-19T04:24:44.144633500Z",
     "start_time": "2023-05-19T04:24:44.136634500Z"
    }
   },
   "outputs": [
    {
     "name": "stdout",
     "output_type": "stream",
     "text": [
      "[[23 34  7]\n",
      " [ 8 14 11]\n",
      " [21 26  5]]\n"
     ]
    }
   ],
   "source": [
    "# тип np.matrix\n",
    "A_m=np.matrix(A)\n",
    "B_m=np.matrix(B)\n",
    "print(A_m*B_m)"
   ]
  },
  {
   "cell_type": "code",
   "execution_count": 7,
   "metadata": {
    "collapsed": false,
    "ExecuteTime": {
     "end_time": "2023-05-19T04:24:44.178633700Z",
     "start_time": "2023-05-19T04:24:44.146630900Z"
    }
   },
   "outputs": [
    {
     "data": {
      "text/plain": "array([[23, 34,  7],\n       [ 8, 14, 11],\n       [21, 26,  5]])"
     },
     "execution_count": 7,
     "metadata": {},
     "output_type": "execute_result"
    }
   ],
   "source": [
    "# Матричное умножение\n",
    "np.dot(A,B)"
   ]
  },
  {
   "cell_type": "code",
   "execution_count": 8,
   "metadata": {
    "collapsed": false,
    "ExecuteTime": {
     "end_time": "2023-05-19T04:24:44.179632600Z",
     "start_time": "2023-05-19T04:24:44.152630500Z"
    }
   },
   "outputs": [
    {
     "data": {
      "text/plain": "array([[23, 34,  7],\n       [ 8, 14, 11],\n       [21, 26,  5]])"
     },
     "execution_count": 8,
     "metadata": {},
     "output_type": "execute_result"
    }
   ],
   "source": [
    "# Матричное умножение\n",
    "A@B"
   ]
  },
  {
   "cell_type": "code",
   "execution_count": 9,
   "metadata": {
    "collapsed": false,
    "ExecuteTime": {
     "end_time": "2023-05-19T04:24:44.179632600Z",
     "start_time": "2023-05-19T04:24:44.164634300Z"
    }
   },
   "outputs": [
    {
     "data": {
      "text/plain": "array([[ 33,  54,  51],\n       [-15, -31, -29],\n       [ 28,  47,  40]])"
     },
     "execution_count": 9,
     "metadata": {},
     "output_type": "execute_result"
    }
   ],
   "source": [
    "# Порядок умножения AB != BA\n",
    "B@A"
   ]
  },
  {
   "cell_type": "code",
   "execution_count": 10,
   "metadata": {
    "collapsed": false,
    "ExecuteTime": {
     "end_time": "2023-05-19T04:24:44.180634500Z",
     "start_time": "2023-05-19T04:24:44.174633400Z"
    }
   },
   "outputs": [
    {
     "name": "stdout",
     "output_type": "stream",
     "text": [
      "A:\n",
      " [[ 9  8 11  8  5]\n",
      " [ 5  5  6 10  6]\n",
      " [ 7  8  5  9  7]]\n",
      "B:\n",
      " [[ 1  3]\n",
      " [-1  1]\n",
      " [ 1  2]\n",
      " [ 1  2]\n",
      " [-1  3]]\n"
     ]
    }
   ],
   "source": [
    "# Умножение прямоугольных матриц возможно не в любом порядке\n",
    "A=np.random.randint(5, 12, (3,5))\n",
    "B=np.random.randint(-2, 4, (5,2))\n",
    "print('A:\\n',A)\n",
    "print('B:\\n',B)"
   ]
  },
  {
   "cell_type": "code",
   "execution_count": 11,
   "metadata": {
    "collapsed": false,
    "ExecuteTime": {
     "end_time": "2023-05-19T04:24:44.193629700Z",
     "start_time": "2023-05-19T04:24:44.181635100Z"
    }
   },
   "outputs": [
    {
     "data": {
      "text/plain": "array([[15, 88],\n       [10, 70],\n       [ 6, 78]])"
     },
     "execution_count": 11,
     "metadata": {},
     "output_type": "execute_result"
    }
   ],
   "source": [
    "# Умножение прямоугольных матриц возможно не в любом порядке\n",
    "A@B"
   ]
  },
  {
   "cell_type": "code",
   "execution_count": 12,
   "metadata": {
    "collapsed": false,
    "ExecuteTime": {
     "end_time": "2023-05-19T04:24:45.095626700Z",
     "start_time": "2023-05-19T04:24:44.190637100Z"
    }
   },
   "outputs": [
    {
     "ename": "ValueError",
     "evalue": "matmul: Input operand 1 has a mismatch in its core dimension 0, with gufunc signature (n?,k),(k,m?)->(n?,m?) (size 3 is different from 2)",
     "output_type": "error",
     "traceback": [
      "\u001B[1;31m---------------------------------------------------------------------------\u001B[0m",
      "\u001B[1;31mValueError\u001B[0m                                Traceback (most recent call last)",
      "Cell \u001B[1;32mIn[12], line 2\u001B[0m\n\u001B[0;32m      1\u001B[0m \u001B[38;5;66;03m# Умножение прямоугольных матриц возможно не в любом порядке\u001B[39;00m\n\u001B[1;32m----> 2\u001B[0m \u001B[43mB\u001B[49m\u001B[38;5;129;43m@A\u001B[39;49m\n",
      "\u001B[1;31mValueError\u001B[0m: matmul: Input operand 1 has a mismatch in its core dimension 0, with gufunc signature (n?,k),(k,m?)->(n?,m?) (size 3 is different from 2)"
     ]
    }
   ],
   "source": [
    "# Умножение прямоугольных матриц возможно не в любом порядке\n",
    "B@A"
   ]
  },
  {
   "cell_type": "code",
   "execution_count": 13,
   "metadata": {
    "collapsed": false,
    "ExecuteTime": {
     "end_time": "2023-05-19T04:29:28.755826600Z",
     "start_time": "2023-05-19T04:29:28.748827900Z"
    }
   },
   "outputs": [
    {
     "name": "stdout",
     "output_type": "stream",
     "text": [
      "shape of A: (3, 5)\n",
      "shape of B: (5, 2)\n",
      "shape of AB: (3, 2)\n"
     ]
    }
   ],
   "source": [
    "# размер произведения матриц\n",
    "print('shape of A:', np.shape(A))\n",
    "print('shape of B:', np.shape(B))\n",
    "print('shape of AB:', np.shape(A@B))"
   ]
  },
  {
   "cell_type": "code",
   "execution_count": 14,
   "metadata": {
    "collapsed": false,
    "ExecuteTime": {
     "end_time": "2023-05-19T04:29:30.229070400Z",
     "start_time": "2023-05-19T04:29:30.217072200Z"
    }
   },
   "outputs": [
    {
     "name": "stdout",
     "output_type": "stream",
     "text": [
      "A:\n",
      " [[ 3 -4 -1  3]\n",
      " [-3  3 -3 -2]\n",
      " [ 2 -3  0 -4]\n",
      " [ 2 -3 -4  3]]\n",
      "D:\n",
      " [[ 1  0  0  0]\n",
      " [ 0  2  0  0]\n",
      " [ 0  0  0  0]\n",
      " [ 0  0  0 -1]]\n",
      "AD:\n",
      " [[ 3 -8  0 -3]\n",
      " [-3  6  0  2]\n",
      " [ 2 -6  0  4]\n",
      " [ 2 -6  0 -3]]\n",
      "DA:\n",
      " [[ 3 -4 -1  3]\n",
      " [-6  6 -6 -4]\n",
      " [ 0  0  0  0]\n",
      " [-2  3  4 -3]]\n"
     ]
    }
   ],
   "source": [
    "# умножение на специальные матрицы\n",
    "A=np.random.randint(-4, 4, (4,4))\n",
    "D=np.diag([1,2,0,-1])\n",
    "print('A:\\n',A)\n",
    "print('D:\\n',D)\n",
    "print('AD:\\n',A@D)\n",
    "print('DA:\\n',D@A)"
   ]
  },
  {
   "cell_type": "code",
   "execution_count": 15,
   "metadata": {
    "collapsed": false,
    "ExecuteTime": {
     "end_time": "2023-05-19T04:29:31.626070800Z",
     "start_time": "2023-05-19T04:29:31.617076200Z"
    }
   },
   "outputs": [
    {
     "data": {
      "text/plain": "array([2, 6])"
     },
     "execution_count": 15,
     "metadata": {},
     "output_type": "execute_result"
    }
   ],
   "source": [
    "# умножение на одномерный массив numpy\n",
    "A=np.array([[1,0,1],[1,1,1]])\n",
    "b=np.array([-3,4,5])\n",
    "A@b"
   ]
  },
  {
   "cell_type": "code",
   "execution_count": null,
   "metadata": {
    "collapsed": false
   },
   "outputs": [],
   "source": [
    "b@A"
   ]
  },
  {
   "cell_type": "code",
   "execution_count": 16,
   "metadata": {
    "collapsed": false,
    "ExecuteTime": {
     "end_time": "2023-05-19T04:29:32.959588300Z",
     "start_time": "2023-05-19T04:29:32.950588600Z"
    }
   },
   "outputs": [
    {
     "name": "stdout",
     "output_type": "stream",
     "text": [
      "[[ 1  1  1]\n",
      " [ 1  0 -1]\n",
      " [-1  2 -1]] <class 'numpy.ndarray'>\n"
     ]
    }
   ],
   "source": [
    "# матрица Грама ортогональной системы векторов\n",
    "x=np.array([1,1,1])\n",
    "y=np.array([1,0,-1])\n",
    "z=np.array([-1,2,-1])\n",
    "A=np.array([x,y,z])\n",
    "print (A, type(A))"
   ]
  },
  {
   "cell_type": "code",
   "execution_count": null,
   "metadata": {
    "collapsed": false
   },
   "outputs": [],
   "source": [
    "# матрица Грама ортогональной системы векторов\n",
    "A@A.T"
   ]
  },
  {
   "cell_type": "code",
   "execution_count": 17,
   "metadata": {
    "collapsed": false,
    "ExecuteTime": {
     "end_time": "2023-05-19T04:29:37.323982500Z",
     "start_time": "2023-05-19T04:29:37.310987800Z"
    }
   },
   "outputs": [
    {
     "name": "stdout",
     "output_type": "stream",
     "text": [
      "[[ 0.57735027  0.57735027  0.57735027]\n",
      " [ 0.70710678  0.         -0.70710678]\n",
      " [-0.40824829  0.81649658 -0.40824829]] <class 'numpy.ndarray'>\n"
     ]
    }
   ],
   "source": [
    "# матрица Грама ортонормированной системы векторов\n",
    "x_norm=x/np.linalg.norm(x)\n",
    "y_norm=y/np.linalg.norm(y)\n",
    "z_norm=z/np.linalg.norm(z)\n",
    "A_norm=np.array([x_norm,y_norm,z_norm])\n",
    "print (A_norm, type(A_norm))"
   ]
  },
  {
   "cell_type": "code",
   "execution_count": 18,
   "metadata": {
    "collapsed": false,
    "ExecuteTime": {
     "end_time": "2023-05-19T04:29:40.386682700Z",
     "start_time": "2023-05-19T04:29:40.369669400Z"
    }
   },
   "outputs": [
    {
     "data": {
      "text/plain": "array([[ 1.00000000e+00, -1.77961928e-17,  1.66584120e-17],\n       [-1.77961928e-17,  1.00000000e+00, -2.45142679e-17],\n       [ 1.66584120e-17, -2.45142679e-17,  1.00000000e+00]])"
     },
     "execution_count": 18,
     "metadata": {},
     "output_type": "execute_result"
    }
   ],
   "source": [
    "# матрица Грама ортонормированной системы векторов\n",
    "A_norm@A_norm.T"
   ]
  },
  {
   "cell_type": "code",
   "execution_count": 19,
   "metadata": {
    "collapsed": false,
    "ExecuteTime": {
     "end_time": "2023-05-19T04:29:43.383664Z",
     "start_time": "2023-05-19T04:29:43.316666400Z"
    }
   },
   "outputs": [
    {
     "data": {
      "text/plain": "array([[ 1., -0.,  0.],\n       [-0.,  1., -0.],\n       [ 0., -0.,  1.]])"
     },
     "execution_count": 19,
     "metadata": {},
     "output_type": "execute_result"
    }
   ],
   "source": [
    "# ортонормированные системы рулят! :)\n",
    "np.round(A_norm@A_norm.T,1)"
   ]
  },
  {
   "cell_type": "code",
   "execution_count": 20,
   "outputs": [],
   "source": [
    "A = np.array([[5,-1,3,1,2], [-2,8,5,-1,1]])\n",
    "x = np.array([1,2,3,4,5])"
   ],
   "metadata": {
    "collapsed": false,
    "ExecuteTime": {
     "end_time": "2023-05-19T04:30:13.624954900Z",
     "start_time": "2023-05-19T04:30:13.617956400Z"
    }
   }
  },
  {
   "cell_type": "code",
   "execution_count": 21,
   "outputs": [
    {
     "data": {
      "text/plain": "array([[ 5, -1,  3,  1,  2],\n       [-2,  8,  5, -1,  1]])"
     },
     "execution_count": 21,
     "metadata": {},
     "output_type": "execute_result"
    }
   ],
   "source": [
    "A"
   ],
   "metadata": {
    "collapsed": false,
    "ExecuteTime": {
     "end_time": "2023-05-19T04:30:17.421035400Z",
     "start_time": "2023-05-19T04:30:17.401035Z"
    }
   }
  },
  {
   "cell_type": "code",
   "execution_count": 22,
   "outputs": [
    {
     "data": {
      "text/plain": "array([1, 2, 3, 4, 5])"
     },
     "execution_count": 22,
     "metadata": {},
     "output_type": "execute_result"
    }
   ],
   "source": [
    "x"
   ],
   "metadata": {
    "collapsed": false,
    "ExecuteTime": {
     "end_time": "2023-05-19T04:30:19.473654Z",
     "start_time": "2023-05-19T04:30:19.467624300Z"
    }
   }
  },
  {
   "cell_type": "code",
   "execution_count": 23,
   "outputs": [
    {
     "data": {
      "text/plain": "array([26, 30])"
     },
     "execution_count": 23,
     "metadata": {},
     "output_type": "execute_result"
    }
   ],
   "source": [
    "A@x"
   ],
   "metadata": {
    "collapsed": false,
    "ExecuteTime": {
     "end_time": "2023-05-19T04:30:33.062979900Z",
     "start_time": "2023-05-19T04:30:33.056986200Z"
    }
   }
  },
  {
   "cell_type": "code",
   "execution_count": 24,
   "outputs": [
    {
     "ename": "ValueError",
     "evalue": "matmul: Input operand 1 has a mismatch in its core dimension 0, with gufunc signature (n?,k),(k,m?)->(n?,m?) (size 2 is different from 5)",
     "output_type": "error",
     "traceback": [
      "\u001B[1;31m---------------------------------------------------------------------------\u001B[0m",
      "\u001B[1;31mValueError\u001B[0m                                Traceback (most recent call last)",
      "Cell \u001B[1;32mIn[24], line 1\u001B[0m\n\u001B[1;32m----> 1\u001B[0m \u001B[43mx\u001B[49m\u001B[38;5;129;43m@A\u001B[39;49m\n",
      "\u001B[1;31mValueError\u001B[0m: matmul: Input operand 1 has a mismatch in its core dimension 0, with gufunc signature (n?,k),(k,m?)->(n?,m?) (size 2 is different from 5)"
     ]
    }
   ],
   "source": [
    "x@A"
   ],
   "metadata": {
    "collapsed": false,
    "ExecuteTime": {
     "end_time": "2023-05-19T04:30:56.750012900Z",
     "start_time": "2023-05-19T04:30:56.727008300Z"
    }
   }
  },
  {
   "cell_type": "code",
   "execution_count": 25,
   "outputs": [],
   "source": [
    "A = np.array([[1,9,8,5], [3,6,3,2], [3,3,3,3], [0,2,5,9], [4,4,1,2]])\n",
    "B = np.array([[1,-1,0,1,1], [-2,0,2,-1,1]])"
   ],
   "metadata": {
    "collapsed": false,
    "ExecuteTime": {
     "end_time": "2023-05-19T04:31:18.510677700Z",
     "start_time": "2023-05-19T04:31:18.504678400Z"
    }
   }
  },
  {
   "cell_type": "code",
   "execution_count": 26,
   "outputs": [
    {
     "data": {
      "text/plain": "array([[1, 9, 8, 5],\n       [3, 6, 3, 2],\n       [3, 3, 3, 3],\n       [0, 2, 5, 9],\n       [4, 4, 1, 2]])"
     },
     "execution_count": 26,
     "metadata": {},
     "output_type": "execute_result"
    }
   ],
   "source": [
    "A"
   ],
   "metadata": {
    "collapsed": false,
    "ExecuteTime": {
     "end_time": "2023-05-19T04:31:21.203625700Z",
     "start_time": "2023-05-19T04:31:21.197625400Z"
    }
   }
  },
  {
   "cell_type": "code",
   "execution_count": 27,
   "outputs": [
    {
     "data": {
      "text/plain": "array([[ 1, -1,  0,  1,  1],\n       [-2,  0,  2, -1,  1]])"
     },
     "execution_count": 27,
     "metadata": {},
     "output_type": "execute_result"
    }
   ],
   "source": [
    "B"
   ],
   "metadata": {
    "collapsed": false,
    "ExecuteTime": {
     "end_time": "2023-05-19T04:31:22.898594300Z",
     "start_time": "2023-05-19T04:31:22.891623900Z"
    }
   }
  },
  {
   "cell_type": "code",
   "execution_count": 29,
   "outputs": [
    {
     "data": {
      "text/plain": "array([[  2,   9,  11,  14],\n       [  8, -10, -14, -11]])"
     },
     "execution_count": 29,
     "metadata": {},
     "output_type": "execute_result"
    }
   ],
   "source": [
    "B@A"
   ],
   "metadata": {
    "collapsed": false,
    "ExecuteTime": {
     "end_time": "2023-05-19T04:31:51.500090800Z",
     "start_time": "2023-05-19T04:31:51.488110100Z"
    }
   }
  },
  {
   "cell_type": "code",
   "execution_count": 30,
   "outputs": [],
   "source": [
    "x = np.array([1,2,1,0,4])\n",
    "y = np.array([2,1,-1,1,0])\n",
    "z = np.array([-1,1,-1,0,0])"
   ],
   "metadata": {
    "collapsed": false,
    "ExecuteTime": {
     "end_time": "2023-05-19T04:32:18.374671500Z",
     "start_time": "2023-05-19T04:32:18.367667100Z"
    }
   }
  },
  {
   "cell_type": "code",
   "execution_count": 31,
   "outputs": [],
   "source": [
    "A = np.array([x,y,z])"
   ],
   "metadata": {
    "collapsed": false,
    "ExecuteTime": {
     "end_time": "2023-05-19T04:32:40.644350800Z",
     "start_time": "2023-05-19T04:32:40.620379400Z"
    }
   }
  },
  {
   "cell_type": "code",
   "execution_count": 32,
   "outputs": [
    {
     "data": {
      "text/plain": "array([[ 1,  2,  1,  0,  4],\n       [ 2,  1, -1,  1,  0],\n       [-1,  1, -1,  0,  0]])"
     },
     "execution_count": 32,
     "metadata": {},
     "output_type": "execute_result"
    }
   ],
   "source": [
    "A"
   ],
   "metadata": {
    "collapsed": false,
    "ExecuteTime": {
     "end_time": "2023-05-19T04:32:43.174317Z",
     "start_time": "2023-05-19T04:32:43.167316600Z"
    }
   }
  },
  {
   "cell_type": "code",
   "execution_count": 33,
   "outputs": [
    {
     "data": {
      "text/plain": "array([[22,  3,  0],\n       [ 3,  7,  0],\n       [ 0,  0,  3]])"
     },
     "execution_count": 33,
     "metadata": {},
     "output_type": "execute_result"
    }
   ],
   "source": [
    "A@A.T"
   ],
   "metadata": {
    "collapsed": false,
    "ExecuteTime": {
     "end_time": "2023-05-19T04:33:07.812281700Z",
     "start_time": "2023-05-19T04:33:07.792281900Z"
    }
   }
  },
  {
   "cell_type": "code",
   "execution_count": 34,
   "outputs": [
    {
     "data": {
      "text/plain": "array([[ 6,  3,  0,  2,  4],\n       [ 3,  6,  0,  1,  8],\n       [ 0,  0,  3, -1,  4],\n       [ 2,  1, -1,  1,  0],\n       [ 4,  8,  4,  0, 16]])"
     },
     "execution_count": 34,
     "metadata": {},
     "output_type": "execute_result"
    }
   ],
   "source": [
    "A.T@A"
   ],
   "metadata": {
    "collapsed": false,
    "ExecuteTime": {
     "end_time": "2023-05-19T04:33:41.664081500Z",
     "start_time": "2023-05-19T04:33:41.623081400Z"
    }
   }
  },
  {
   "cell_type": "code",
   "execution_count": 56,
   "outputs": [],
   "source": [
    "import pandas as pd\n",
    "\n",
    "Count_DF = pd.DataFrame({\n",
    "    'Женские стрижки': [10, 2, 12, 4, 6, 10, 22, 7],\n",
    "    'Мужские стрижки': [5, 21, 12, 8, 25, 3, 1, 0],\n",
    "    'Окрашивания':[12, 3, 0, 18, 27, 2, 4, 31],\n",
    "    'Укладка':[15, 25, 30, 14, 25, 17, 25, 31],\n",
    "    'Уход':[10, 6, 4, 5, 18, 12, 20, 28]\n",
    "    },\n",
    "    index=['Аня', 'Борис', 'Вика', 'Галя', 'Дима', 'Егор', 'Женя','Юра']\n",
    ")\n",
    "Price_DF = pd.DataFrame({\n",
    "    'Женские стрижки': [2, 1.8, 2, 1.8, 2.5, 5, 1.1, 4.5],\n",
    "    'Мужские стрижки': [1.5, 2.5, 2, 1.2, 3.5, 5, 1, 4],\n",
    "    'Окрашивания':[1, 1, 0, 2.8, 2, 3, 1.5, 2.5],\n",
    "    'Укладка':[0.8, 1, 0.5, 0.8, 1, 2, 0.5, 1],\n",
    "    'Уход':[1, 1, 2, 2, 1.5, 2.5, 1.7, 2]\n",
    "    },\n",
    "    index=['Аня', 'Борис', 'Вика', 'Галя', 'Дима', 'Егор', 'Женя','Юра']\n",
    ")"
   ],
   "metadata": {
    "collapsed": false,
    "ExecuteTime": {
     "end_time": "2023-05-19T04:46:11.816519800Z",
     "start_time": "2023-05-19T04:46:11.801497300Z"
    }
   }
  },
  {
   "cell_type": "code",
   "execution_count": 36,
   "outputs": [
    {
     "data": {
      "text/plain": "       Женские стрижки  Мужские стрижки  Окрашивания  Укладка  Уход\nАня                 10                5           12       15    10\nБорис                2               21            3       25     6\nВика                12               12            0       30     4\nГаля                 4                8           18       14     5\nДима                 6               25           27       25    18\nЕгор                10                3            2       17    12\nЖеня                22                1            4       25    20\nЮра                  7                0           31       31    28",
      "text/html": "<div>\n<style scoped>\n    .dataframe tbody tr th:only-of-type {\n        vertical-align: middle;\n    }\n\n    .dataframe tbody tr th {\n        vertical-align: top;\n    }\n\n    .dataframe thead th {\n        text-align: right;\n    }\n</style>\n<table border=\"1\" class=\"dataframe\">\n  <thead>\n    <tr style=\"text-align: right;\">\n      <th></th>\n      <th>Женские стрижки</th>\n      <th>Мужские стрижки</th>\n      <th>Окрашивания</th>\n      <th>Укладка</th>\n      <th>Уход</th>\n    </tr>\n  </thead>\n  <tbody>\n    <tr>\n      <th>Аня</th>\n      <td>10</td>\n      <td>5</td>\n      <td>12</td>\n      <td>15</td>\n      <td>10</td>\n    </tr>\n    <tr>\n      <th>Борис</th>\n      <td>2</td>\n      <td>21</td>\n      <td>3</td>\n      <td>25</td>\n      <td>6</td>\n    </tr>\n    <tr>\n      <th>Вика</th>\n      <td>12</td>\n      <td>12</td>\n      <td>0</td>\n      <td>30</td>\n      <td>4</td>\n    </tr>\n    <tr>\n      <th>Галя</th>\n      <td>4</td>\n      <td>8</td>\n      <td>18</td>\n      <td>14</td>\n      <td>5</td>\n    </tr>\n    <tr>\n      <th>Дима</th>\n      <td>6</td>\n      <td>25</td>\n      <td>27</td>\n      <td>25</td>\n      <td>18</td>\n    </tr>\n    <tr>\n      <th>Егор</th>\n      <td>10</td>\n      <td>3</td>\n      <td>2</td>\n      <td>17</td>\n      <td>12</td>\n    </tr>\n    <tr>\n      <th>Женя</th>\n      <td>22</td>\n      <td>1</td>\n      <td>4</td>\n      <td>25</td>\n      <td>20</td>\n    </tr>\n    <tr>\n      <th>Юра</th>\n      <td>7</td>\n      <td>0</td>\n      <td>31</td>\n      <td>31</td>\n      <td>28</td>\n    </tr>\n  </tbody>\n</table>\n</div>"
     },
     "execution_count": 36,
     "metadata": {},
     "output_type": "execute_result"
    }
   ],
   "source": [
    "Count_DF"
   ],
   "metadata": {
    "collapsed": false,
    "ExecuteTime": {
     "end_time": "2023-05-19T04:34:58.654429700Z",
     "start_time": "2023-05-19T04:34:58.636398200Z"
    }
   }
  },
  {
   "cell_type": "code",
   "execution_count": 37,
   "outputs": [
    {
     "data": {
      "text/plain": "       Женские стрижки  Мужские стрижки  Окрашивания  Укладка  Уход\nАня                2.0              1.5          1.0      0.8   1.0\nБорис              1.8              2.5          1.0      1.0   1.0\nВика               2.0              2.0          0.0      0.5   2.0\nГаля               1.8              1.2          2.8      0.8   2.0\nДима               2.5              3.5          2.0      1.0   1.5\nЕгор               5.0              5.0          3.0      2.0   2.5\nЖеня               1.1              1.0          1.5      0.5   1.7\nЮра                4.5              4.0          2.5      1.0   2.0",
      "text/html": "<div>\n<style scoped>\n    .dataframe tbody tr th:only-of-type {\n        vertical-align: middle;\n    }\n\n    .dataframe tbody tr th {\n        vertical-align: top;\n    }\n\n    .dataframe thead th {\n        text-align: right;\n    }\n</style>\n<table border=\"1\" class=\"dataframe\">\n  <thead>\n    <tr style=\"text-align: right;\">\n      <th></th>\n      <th>Женские стрижки</th>\n      <th>Мужские стрижки</th>\n      <th>Окрашивания</th>\n      <th>Укладка</th>\n      <th>Уход</th>\n    </tr>\n  </thead>\n  <tbody>\n    <tr>\n      <th>Аня</th>\n      <td>2.0</td>\n      <td>1.5</td>\n      <td>1.0</td>\n      <td>0.8</td>\n      <td>1.0</td>\n    </tr>\n    <tr>\n      <th>Борис</th>\n      <td>1.8</td>\n      <td>2.5</td>\n      <td>1.0</td>\n      <td>1.0</td>\n      <td>1.0</td>\n    </tr>\n    <tr>\n      <th>Вика</th>\n      <td>2.0</td>\n      <td>2.0</td>\n      <td>0.0</td>\n      <td>0.5</td>\n      <td>2.0</td>\n    </tr>\n    <tr>\n      <th>Галя</th>\n      <td>1.8</td>\n      <td>1.2</td>\n      <td>2.8</td>\n      <td>0.8</td>\n      <td>2.0</td>\n    </tr>\n    <tr>\n      <th>Дима</th>\n      <td>2.5</td>\n      <td>3.5</td>\n      <td>2.0</td>\n      <td>1.0</td>\n      <td>1.5</td>\n    </tr>\n    <tr>\n      <th>Егор</th>\n      <td>5.0</td>\n      <td>5.0</td>\n      <td>3.0</td>\n      <td>2.0</td>\n      <td>2.5</td>\n    </tr>\n    <tr>\n      <th>Женя</th>\n      <td>1.1</td>\n      <td>1.0</td>\n      <td>1.5</td>\n      <td>0.5</td>\n      <td>1.7</td>\n    </tr>\n    <tr>\n      <th>Юра</th>\n      <td>4.5</td>\n      <td>4.0</td>\n      <td>2.5</td>\n      <td>1.0</td>\n      <td>2.0</td>\n    </tr>\n  </tbody>\n</table>\n</div>"
     },
     "execution_count": 37,
     "metadata": {},
     "output_type": "execute_result"
    }
   ],
   "source": [
    "Price_DF"
   ],
   "metadata": {
    "collapsed": false,
    "ExecuteTime": {
     "end_time": "2023-05-19T04:35:04.000843300Z",
     "start_time": "2023-05-19T04:35:03.953839500Z"
    }
   }
  },
  {
   "cell_type": "code",
   "execution_count": 57,
   "outputs": [],
   "source": [
    "com = np.array([0.2, 0.2, 0.3, 0.1, 0.1])"
   ],
   "metadata": {
    "collapsed": false,
    "ExecuteTime": {
     "end_time": "2023-05-19T04:46:17.121826Z",
     "start_time": "2023-05-19T04:46:17.105458100Z"
    }
   }
  },
  {
   "cell_type": "code",
   "execution_count": 39,
   "outputs": [
    {
     "data": {
      "text/plain": "array([0.2, 0.2, 0.3, 0.1, 0.1])"
     },
     "execution_count": 39,
     "metadata": {},
     "output_type": "execute_result"
    }
   ],
   "source": [
    "com"
   ],
   "metadata": {
    "collapsed": false,
    "ExecuteTime": {
     "end_time": "2023-05-19T04:35:33.474857600Z",
     "start_time": "2023-05-19T04:35:33.423867700Z"
    }
   }
  },
  {
   "cell_type": "code",
   "execution_count": 58,
   "outputs": [
    {
     "data": {
      "text/plain": "array([[2. , 1.5, 1. , 0.8, 1. ],\n       [1.8, 2.5, 1. , 1. , 1. ],\n       [2. , 2. , 0. , 0.5, 2. ],\n       [1.8, 1.2, 2.8, 0.8, 2. ],\n       [2.5, 3.5, 2. , 1. , 1.5],\n       [5. , 5. , 3. , 2. , 2.5],\n       [1.1, 1. , 1.5, 0.5, 1.7],\n       [4.5, 4. , 2.5, 1. , 2. ]])"
     },
     "execution_count": 58,
     "metadata": {},
     "output_type": "execute_result"
    }
   ],
   "source": [
    "C = Price_DF.values\n",
    "C"
   ],
   "metadata": {
    "collapsed": false,
    "ExecuteTime": {
     "end_time": "2023-05-19T04:46:21.182315200Z",
     "start_time": "2023-05-19T04:46:21.164284700Z"
    }
   }
  },
  {
   "cell_type": "code",
   "execution_count": 59,
   "outputs": [
    {
     "data": {
      "text/plain": "array([[2. , 1.5, 1. , 0.8, 1. ],\n       [1.8, 2.5, 1. , 1. , 1. ],\n       [2. , 2. , 0. , 0.5, 2. ],\n       [1.8, 1.2, 2.8, 0.8, 2. ],\n       [2.5, 3.5, 2. , 1. , 1.5],\n       [5. , 5. , 3. , 2. , 2.5],\n       [1.1, 1. , 1.5, 0.5, 1.7],\n       [4.5, 4. , 2.5, 1. , 2. ]])"
     },
     "execution_count": 59,
     "metadata": {},
     "output_type": "execute_result"
    }
   ],
   "source": [
    "P = Price_DF.values\n",
    "P"
   ],
   "metadata": {
    "collapsed": false,
    "ExecuteTime": {
     "end_time": "2023-05-19T04:46:24.685085600Z",
     "start_time": "2023-05-19T04:46:24.669088800Z"
    }
   }
  },
  {
   "cell_type": "code",
   "execution_count": 49,
   "outputs": [
    {
     "data": {
      "text/plain": "array([ 7.176, 10.092, 10.225, 13.408, 20.525, 55.525,  6.169, 37.875])"
     },
     "execution_count": 49,
     "metadata": {},
     "output_type": "execute_result"
    }
   ],
   "source": [
    "(C*P)@(np.array([1,1,1,1,1])-com).T"
   ],
   "metadata": {
    "collapsed": false,
    "ExecuteTime": {
     "end_time": "2023-05-19T04:42:00.991072600Z",
     "start_time": "2023-05-19T04:42:00.979434Z"
    }
   }
  },
  {
   "cell_type": "code",
   "execution_count": 65,
   "outputs": [
    {
     "data": {
      "text/plain": "array([0.2, 0.2, 0.3, 0.1, 0.1])"
     },
     "execution_count": 65,
     "metadata": {},
     "output_type": "execute_result"
    }
   ],
   "source": [
    "com"
   ],
   "metadata": {
    "collapsed": false,
    "ExecuteTime": {
     "end_time": "2023-05-19T04:47:43.062252700Z",
     "start_time": "2023-05-19T04:47:43.053254400Z"
    }
   }
  },
  {
   "cell_type": "code",
   "execution_count": 63,
   "outputs": [
    {
     "data": {
      "text/plain": "array([[ 4.  ,  2.25,  1.  ,  0.64,  1.  ],\n       [ 3.24,  6.25,  1.  ,  1.  ,  1.  ],\n       [ 4.  ,  4.  ,  0.  ,  0.25,  4.  ],\n       [ 3.24,  1.44,  7.84,  0.64,  4.  ],\n       [ 6.25, 12.25,  4.  ,  1.  ,  2.25],\n       [25.  , 25.  ,  9.  ,  4.  ,  6.25],\n       [ 1.21,  1.  ,  2.25,  0.25,  2.89],\n       [20.25, 16.  ,  6.25,  1.  ,  4.  ]])"
     },
     "execution_count": 63,
     "metadata": {},
     "output_type": "execute_result"
    }
   ],
   "source": [
    "(P*C)"
   ],
   "metadata": {
    "collapsed": false,
    "ExecuteTime": {
     "end_time": "2023-05-19T04:47:07.196856200Z",
     "start_time": "2023-05-19T04:47:07.182854700Z"
    }
   }
  },
  {
   "cell_type": "code",
   "execution_count": 64,
   "outputs": [
    {
     "data": {
      "text/plain": "array([ 1.714,  2.398,  2.025,  3.752,  5.225, 13.725,  1.431,  9.625])"
     },
     "execution_count": 64,
     "metadata": {},
     "output_type": "execute_result"
    }
   ],
   "source": [
    "(P*C)@com"
   ],
   "metadata": {
    "collapsed": false,
    "ExecuteTime": {
     "end_time": "2023-05-19T04:47:22.074758200Z",
     "start_time": "2023-05-19T04:47:22.066757200Z"
    }
   }
  },
  {
   "cell_type": "code",
   "execution_count": 55,
   "outputs": [
    {
     "data": {
      "text/plain": "11.998"
     },
     "execution_count": 55,
     "metadata": {},
     "output_type": "execute_result"
    }
   ],
   "source": [
    "1.714*7"
   ],
   "metadata": {
    "collapsed": false,
    "ExecuteTime": {
     "end_time": "2023-05-19T04:45:26.157432900Z",
     "start_time": "2023-05-19T04:45:26.150430100Z"
    }
   }
  },
  {
   "cell_type": "code",
   "execution_count": 67,
   "outputs": [
    {
     "data": {
      "text/plain": "array([[ 5., -2.],\n       [-2.,  1.]])"
     },
     "execution_count": 67,
     "metadata": {},
     "output_type": "execute_result"
    }
   ],
   "source": [
    "np.linalg.inv(np.array([[1,2],[2,5]]))"
   ],
   "metadata": {
    "collapsed": false,
    "ExecuteTime": {
     "end_time": "2023-05-19T07:05:12.973181200Z",
     "start_time": "2023-05-19T07:05:12.840154900Z"
    }
   }
  },
  {
   "cell_type": "code",
   "execution_count": 70,
   "outputs": [
    {
     "data": {
      "text/plain": "0.125"
     },
     "execution_count": 70,
     "metadata": {},
     "output_type": "execute_result"
    }
   ],
   "source": [
    "round(np.linalg.det(np.linalg.inv(np.array([[2,0,0],[0,1,0],[0,0,4]]))), 3)"
   ],
   "metadata": {
    "collapsed": false,
    "ExecuteTime": {
     "end_time": "2023-05-19T07:19:24.243976100Z",
     "start_time": "2023-05-19T07:19:24.237977100Z"
    }
   }
  },
  {
   "cell_type": "code",
   "execution_count": 71,
   "outputs": [
    {
     "data": {
      "text/plain": "2"
     },
     "execution_count": 71,
     "metadata": {},
     "output_type": "execute_result"
    }
   ],
   "source": [
    "np.linalg.matrix_rank(np.array([[1,0,3,5],[0,4,5,5],[0,0,0,0],[0,0,0,0]]))"
   ],
   "metadata": {
    "collapsed": false,
    "ExecuteTime": {
     "end_time": "2023-05-19T08:19:52.536553200Z",
     "start_time": "2023-05-19T08:19:52.434544200Z"
    }
   }
  },
  {
   "cell_type": "code",
   "execution_count": 72,
   "outputs": [
    {
     "data": {
      "text/plain": "3"
     },
     "execution_count": 72,
     "metadata": {},
     "output_type": "execute_result"
    }
   ],
   "source": [
    "np.linalg.matrix_rank(np.array([[1,0,3,5],[0,4,5,5],[0,0,0,4],[0,0,0,0]]))"
   ],
   "metadata": {
    "collapsed": false,
    "ExecuteTime": {
     "end_time": "2023-05-19T08:20:16.645169Z",
     "start_time": "2023-05-19T08:20:16.608164100Z"
    }
   }
  },
  {
   "cell_type": "code",
   "execution_count": null,
   "outputs": [],
   "source": [],
   "metadata": {
    "collapsed": false
   }
  }
 ],
 "metadata": {
  "kernelspec": {
   "display_name": "Python 3",
   "language": "python",
   "name": "python3"
  },
  "language_info": {
   "codemirror_mode": {
    "name": "ipython",
    "version": 3
   },
   "file_extension": ".py",
   "mimetype": "text/x-python",
   "name": "python",
   "nbconvert_exporter": "python",
   "pygments_lexer": "ipython3",
   "version": "3.6.0"
  }
 },
 "nbformat": 4,
 "nbformat_minor": 2
}
