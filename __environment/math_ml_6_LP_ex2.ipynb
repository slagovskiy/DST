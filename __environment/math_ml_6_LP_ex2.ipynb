{
 "cells": [
  {
   "cell_type": "markdown",
   "metadata": {
    "colab_type": "text",
    "id": "kx8AqfurFc_4"
   },
   "source": [
    "# Задание 4.5.2"
   ]
  },
  {
   "cell_type": "code",
   "execution_count": 1,
   "metadata": {
    "ExecuteTime": {
     "end_time": "2023-07-12T16:53:58.055874300Z",
     "start_time": "2023-07-12T16:53:58.042250Z"
    }
   },
   "outputs": [],
   "source": [
    "from scipy.optimize import linprog\n",
    "import numpy as np"
   ]
  },
  {
   "cell_type": "code",
   "execution_count": 2,
   "metadata": {
    "colab": {},
    "colab_type": "code",
    "id": "hhCg5xr4Fc_5",
    "ExecuteTime": {
     "end_time": "2023-07-12T16:53:59.579318700Z",
     "start_time": "2023-07-12T16:53:59.185382200Z"
    }
   },
   "outputs": [],
   "source": [
    "import cvxpy as cvx"
   ]
  },
  {
   "cell_type": "markdown",
   "metadata": {
    "colab_type": "text",
    "id": "ve8kvbp3Fc_7"
   },
   "source": [
    "#### Матрица стоимостей $C$"
   ]
  },
  {
   "cell_type": "code",
   "execution_count": 3,
   "metadata": {
    "colab": {},
    "colab_type": "code",
    "id": "cneKD5wHFc_8",
    "ExecuteTime": {
     "end_time": "2023-07-12T16:54:00.823704Z",
     "start_time": "2023-07-12T16:54:00.809704200Z"
    }
   },
   "outputs": [],
   "source": [
    "c = np.array([[1000, 12, 10, 19, 8],\n",
    "    [12, 1000, 3, 7, 2], \n",
    "    [10, 3, 1000, 6, 20], \n",
    "    [19, 7, 6, 1000, 4], \n",
    "    [8, 2, 20, 4, 1000]])\n",
    "\n"
   ]
  },
  {
   "cell_type": "markdown",
   "metadata": {
    "colab_type": "text",
    "id": "UwD5zNQUFc_-"
   },
   "source": [
    "#### Матрица переменных $X$"
   ]
  },
  {
   "cell_type": "code",
   "execution_count": 4,
   "metadata": {
    "colab": {},
    "colab_type": "code",
    "id": "vlZ6amgBFc__",
    "ExecuteTime": {
     "end_time": "2023-07-12T16:54:04.440615300Z",
     "start_time": "2023-07-12T16:54:04.423418400Z"
    }
   },
   "outputs": [],
   "source": [
    "x = cvx.Variable(shape=(5,5), boolean=True)"
   ]
  },
  {
   "cell_type": "markdown",
   "metadata": {
    "colab_type": "text",
    "id": "70zbMCPuFdAB"
   },
   "source": [
    "#### Ограничения (сумма $X$ по строкам и столбцам равна 1)"
   ]
  },
  {
   "cell_type": "code",
   "execution_count": 5,
   "metadata": {
    "colab": {},
    "colab_type": "code",
    "id": "GSDUt5mfFdAB",
    "ExecuteTime": {
     "end_time": "2023-07-12T16:54:14.448686600Z",
     "start_time": "2023-07-12T16:54:14.419251600Z"
    }
   },
   "outputs": [],
   "source": [
    "constraints = [\n",
    "    cvx.sum(x, axis=0) == np.ones(5),\n",
    "    cvx.sum(x, axis=1) == np.ones(5)\n",
    "]\n",
    "    "
   ]
  },
  {
   "cell_type": "markdown",
   "metadata": {
    "colab_type": "text",
    "id": "44fgYK_pFdAE"
   },
   "source": [
    "#### Целевая функция (сумма $CX$)"
   ]
  },
  {
   "cell_type": "code",
   "execution_count": 6,
   "metadata": {
    "colab": {},
    "colab_type": "code",
    "id": "IHe9F6Q7FdAF",
    "ExecuteTime": {
     "end_time": "2023-07-12T16:54:18.708743700Z",
     "start_time": "2023-07-12T16:54:18.694745500Z"
    }
   },
   "outputs": [],
   "source": [
    "func = cvx.sum(cvx.multiply(x, c))"
   ]
  },
  {
   "cell_type": "code",
   "execution_count": 7,
   "metadata": {
    "colab": {},
    "colab_type": "code",
    "id": "kg-ceJm5FdAI",
    "ExecuteTime": {
     "end_time": "2023-07-12T16:54:22.750057400Z",
     "start_time": "2023-07-12T16:54:22.738057900Z"
    }
   },
   "outputs": [],
   "source": [
    "problem = cvx.Problem(cvx.Minimize(func), constraints=constraints)"
   ]
  },
  {
   "cell_type": "markdown",
   "metadata": {
    "colab_type": "text",
    "id": "B6ErVQVNFdAK"
   },
   "source": [
    "#### Ответ"
   ]
  },
  {
   "cell_type": "code",
   "execution_count": 8,
   "metadata": {
    "colab": {
     "base_uri": "https://localhost:8080/",
     "height": 34
    },
    "colab_type": "code",
    "id": "G3s6BBjbFdAL",
    "outputId": "9fa735af-7e08-4edf-a37b-dd21104e969e",
    "ExecuteTime": {
     "end_time": "2023-07-12T16:54:26.912158600Z",
     "start_time": "2023-07-12T16:54:26.860933900Z"
    }
   },
   "outputs": [
    {
     "data": {
      "text/plain": "32.0"
     },
     "execution_count": 8,
     "metadata": {},
     "output_type": "execute_result"
    }
   ],
   "source": [
    "problem.solve()"
   ]
  },
  {
   "cell_type": "markdown",
   "metadata": {
    "colab_type": "text",
    "id": "ZlgrYcndFdAO"
   },
   "source": [
    "#### Выбранные ячейки матрицы"
   ]
  },
  {
   "cell_type": "code",
   "execution_count": 9,
   "metadata": {
    "colab": {
     "base_uri": "https://localhost:8080/",
     "height": 102
    },
    "colab_type": "code",
    "id": "BGNvs2GgFdAO",
    "outputId": "d6fd9329-34eb-427e-db0d-8eead3894448",
    "ExecuteTime": {
     "end_time": "2023-07-12T16:54:37.416153800Z",
     "start_time": "2023-07-12T16:54:37.405556200Z"
    }
   },
   "outputs": [
    {
     "data": {
      "text/plain": "array([[ 0.,  0., -0.,  0.,  1.],\n       [ 0.,  0.,  1.,  0.,  0.],\n       [ 1., -0.,  0.,  0.,  0.],\n       [ 0.,  1.,  0.,  0., -0.],\n       [-0.,  0.,  0.,  1.,  0.]])"
     },
     "execution_count": 9,
     "metadata": {},
     "output_type": "execute_result"
    }
   ],
   "source": [
    "np.round(x.value)"
   ]
  }
 ],
 "metadata": {
  "colab": {
   "name": "4.5.1-4.5.3.ipynb",
   "provenance": []
  },
  "kernelspec": {
   "display_name": "Python 3",
   "language": "python",
   "name": "python3"
  },
  "language_info": {
   "codemirror_mode": {
    "name": "ipython",
    "version": 3
   },
   "file_extension": ".py",
   "mimetype": "text/x-python",
   "name": "python",
   "nbconvert_exporter": "python",
   "pygments_lexer": "ipython3",
   "version": "3.7.3"
  }
 },
 "nbformat": 4,
 "nbformat_minor": 1
}
