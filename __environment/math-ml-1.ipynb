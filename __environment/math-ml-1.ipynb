{
 "cells": [
  {
   "cell_type": "code",
   "execution_count": 1,
   "metadata": {
    "collapsed": true,
    "ExecuteTime": {
     "end_time": "2023-05-15T07:24:03.782144800Z",
     "start_time": "2023-05-15T07:24:03.478149100Z"
    }
   },
   "outputs": [],
   "source": [
    "import numpy as np"
   ]
  },
  {
   "cell_type": "code",
   "execution_count": 2,
   "outputs": [],
   "source": [
    "t = np.array([12, 14, 17, 19, 24, 28, 31, 31, 27, 22, 17, 13])"
   ],
   "metadata": {
    "collapsed": false,
    "ExecuteTime": {
     "end_time": "2023-05-15T07:24:03.787148500Z",
     "start_time": "2023-05-15T07:24:03.779147200Z"
    }
   }
  },
  {
   "cell_type": "code",
   "execution_count": 7,
   "outputs": [],
   "source": [
    "a = np.array([5, 1, 2, 6, 4])\n",
    "b = np.array([7, 1, 9, 3, 6])"
   ],
   "metadata": {
    "collapsed": false,
    "ExecuteTime": {
     "end_time": "2023-05-15T07:41:28.916957Z",
     "start_time": "2023-05-15T07:41:28.901344600Z"
    }
   }
  },
  {
   "cell_type": "code",
   "execution_count": 8,
   "outputs": [
    {
     "data": {
      "text/plain": "array([12,  2, 11,  9, 10])"
     },
     "execution_count": 8,
     "metadata": {},
     "output_type": "execute_result"
    }
   ],
   "source": [
    "a + b"
   ],
   "metadata": {
    "collapsed": false,
    "ExecuteTime": {
     "end_time": "2023-05-15T07:41:29.086130100Z",
     "start_time": "2023-05-15T07:41:29.070501Z"
    }
   }
  },
  {
   "cell_type": "code",
   "execution_count": 10,
   "outputs": [
    {
     "data": {
      "text/plain": "array([394., 496., 500.])"
     },
     "execution_count": 10,
     "metadata": {},
     "output_type": "execute_result"
    }
   ],
   "source": [
    "a = np.array([2, 3, 2.5])\n",
    "a * 72 + np.array([120, 150, 190]) + np.array([130, 130, 130])"
   ],
   "metadata": {
    "collapsed": false,
    "ExecuteTime": {
     "end_time": "2023-05-15T07:47:30.777402300Z",
     "start_time": "2023-05-15T07:47:30.761793600Z"
    }
   }
  },
  {
   "cell_type": "code",
   "execution_count": 11,
   "outputs": [
    {
     "data": {
      "text/plain": "array([7, 7])"
     },
     "execution_count": 11,
     "metadata": {},
     "output_type": "execute_result"
    }
   ],
   "source": [
    "a = np.array([4,5])\n",
    "b = np.array([2,1])\n",
    "c = np.array([1,0])\n",
    "a*2 + b*(-3) + c*5"
   ],
   "metadata": {
    "collapsed": false,
    "ExecuteTime": {
     "end_time": "2023-05-15T08:00:14.552224400Z",
     "start_time": "2023-05-15T08:00:14.536595300Z"
    }
   }
  },
  {
   "cell_type": "code",
   "execution_count": 13,
   "outputs": [],
   "source": [
    "import pandas as pd\n",
    "\n",
    "data = pd.DataFrame({\n",
    "    '1.Rent': [65, 70, 120, 35, 40, 50, 100, 90, 85],\n",
    "    '2.Area': [50, 52, 80, 33, 33, 44, 80, 65, 65],\n",
    "    '3.Rooms':[3, 2, 1, 1, 1, 2, 4, 3, 2],\n",
    "    '4.Floor':[5, 12, 10, 3, 6, 13, 8, 21, 5],\n",
    "    '5.Demo two weeks':[8, 4, 5, 10, 20, 12, 5, 1, 10],\n",
    "    '6.Liv.Area': [37, 40, 65, 20, 16, 35, 60, 50, 40]\n",
    "})"
   ],
   "metadata": {
    "collapsed": false,
    "ExecuteTime": {
     "end_time": "2023-05-15T09:39:56.445305800Z",
     "start_time": "2023-05-15T09:39:56.424279700Z"
    }
   }
  },
  {
   "cell_type": "code",
   "execution_count": 14,
   "outputs": [
    {
     "data": {
      "text/plain": "   1.Rent  2.Area  3.Rooms  4.Floor  5.Demo two weeks  6.Liv.Area\n0      65      50        3        5                 8          37\n1      70      52        2       12                 4          40\n2     120      80        1       10                 5          65\n3      35      33        1        3                10          20\n4      40      33        1        6                20          16\n5      50      44        2       13                12          35\n6     100      80        4        8                 5          60\n7      90      65        3       21                 1          50\n8      85      65        2        5                10          40",
      "text/html": "<div>\n<style scoped>\n    .dataframe tbody tr th:only-of-type {\n        vertical-align: middle;\n    }\n\n    .dataframe tbody tr th {\n        vertical-align: top;\n    }\n\n    .dataframe thead th {\n        text-align: right;\n    }\n</style>\n<table border=\"1\" class=\"dataframe\">\n  <thead>\n    <tr style=\"text-align: right;\">\n      <th></th>\n      <th>1.Rent</th>\n      <th>2.Area</th>\n      <th>3.Rooms</th>\n      <th>4.Floor</th>\n      <th>5.Demo two weeks</th>\n      <th>6.Liv.Area</th>\n    </tr>\n  </thead>\n  <tbody>\n    <tr>\n      <th>0</th>\n      <td>65</td>\n      <td>50</td>\n      <td>3</td>\n      <td>5</td>\n      <td>8</td>\n      <td>37</td>\n    </tr>\n    <tr>\n      <th>1</th>\n      <td>70</td>\n      <td>52</td>\n      <td>2</td>\n      <td>12</td>\n      <td>4</td>\n      <td>40</td>\n    </tr>\n    <tr>\n      <th>2</th>\n      <td>120</td>\n      <td>80</td>\n      <td>1</td>\n      <td>10</td>\n      <td>5</td>\n      <td>65</td>\n    </tr>\n    <tr>\n      <th>3</th>\n      <td>35</td>\n      <td>33</td>\n      <td>1</td>\n      <td>3</td>\n      <td>10</td>\n      <td>20</td>\n    </tr>\n    <tr>\n      <th>4</th>\n      <td>40</td>\n      <td>33</td>\n      <td>1</td>\n      <td>6</td>\n      <td>20</td>\n      <td>16</td>\n    </tr>\n    <tr>\n      <th>5</th>\n      <td>50</td>\n      <td>44</td>\n      <td>2</td>\n      <td>13</td>\n      <td>12</td>\n      <td>35</td>\n    </tr>\n    <tr>\n      <th>6</th>\n      <td>100</td>\n      <td>80</td>\n      <td>4</td>\n      <td>8</td>\n      <td>5</td>\n      <td>60</td>\n    </tr>\n    <tr>\n      <th>7</th>\n      <td>90</td>\n      <td>65</td>\n      <td>3</td>\n      <td>21</td>\n      <td>1</td>\n      <td>50</td>\n    </tr>\n    <tr>\n      <th>8</th>\n      <td>85</td>\n      <td>65</td>\n      <td>2</td>\n      <td>5</td>\n      <td>10</td>\n      <td>40</td>\n    </tr>\n  </tbody>\n</table>\n</div>"
     },
     "execution_count": 14,
     "metadata": {},
     "output_type": "execute_result"
    }
   ],
   "source": [
    "data"
   ],
   "metadata": {
    "collapsed": false,
    "ExecuteTime": {
     "end_time": "2023-05-15T09:40:00.747070800Z",
     "start_time": "2023-05-15T09:40:00.739071Z"
    }
   }
  },
  {
   "cell_type": "code",
   "execution_count": 22,
   "outputs": [
    {
     "data": {
      "text/plain": "array([13, 12, 15, 13, 17,  9, 20, 15, 25], dtype=int64)"
     },
     "execution_count": 22,
     "metadata": {},
     "output_type": "execute_result"
    }
   ],
   "source": [
    "data.values[:,1]-data.values[:,5]"
   ],
   "metadata": {
    "collapsed": false,
    "ExecuteTime": {
     "end_time": "2023-05-15T09:43:20.894507300Z",
     "start_time": "2023-05-15T09:43:20.886508900Z"
    }
   }
  },
  {
   "cell_type": "code",
   "execution_count": 25,
   "outputs": [
    {
     "data": {
      "text/plain": "1348"
     },
     "execution_count": 25,
     "metadata": {},
     "output_type": "execute_result"
    }
   ],
   "source": [
    "data.values[:,4]@np.array([10,20,30,15,5,40,20,8,20])"
   ],
   "metadata": {
    "collapsed": false,
    "ExecuteTime": {
     "end_time": "2023-05-15T09:45:35.548249400Z",
     "start_time": "2023-05-15T09:45:35.538220300Z"
    }
   }
  },
  {
   "cell_type": "code",
   "execution_count": 26,
   "outputs": [],
   "source": [
    "u=np.array([3,0,1,1,1])\n",
    "v=np.array([0,1,0,2,-2])\n",
    "w=np.array([1,-4,-1,0,-2])"
   ],
   "metadata": {
    "collapsed": false,
    "ExecuteTime": {
     "end_time": "2023-05-15T09:45:53.704635800Z",
     "start_time": "2023-05-15T09:45:53.698635600Z"
    }
   }
  },
  {
   "cell_type": "code",
   "execution_count": null,
   "outputs": [],
   "source": [],
   "metadata": {
    "collapsed": false
   }
  }
 ],
 "metadata": {
  "kernelspec": {
   "display_name": "Python 3",
   "language": "python",
   "name": "python3"
  },
  "language_info": {
   "codemirror_mode": {
    "name": "ipython",
    "version": 2
   },
   "file_extension": ".py",
   "mimetype": "text/x-python",
   "name": "python",
   "nbconvert_exporter": "python",
   "pygments_lexer": "ipython2",
   "version": "2.7.6"
  }
 },
 "nbformat": 4,
 "nbformat_minor": 0
}
