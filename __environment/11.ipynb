{
 "cells": [
  {
   "cell_type": "code",
   "execution_count": 1,
   "id": "initial_id",
   "metadata": {
    "collapsed": true,
    "ExecuteTime": {
     "end_time": "2023-09-29T08:34:54.265053100Z",
     "start_time": "2023-09-29T08:34:50.481852Z"
    }
   },
   "outputs": [
    {
     "data": {
      "text/plain": "    0   1   2   3   4\n0  30  40  35  57  15",
      "text/html": "<div>\n<style scoped>\n    .dataframe tbody tr th:only-of-type {\n        vertical-align: middle;\n    }\n\n    .dataframe tbody tr th {\n        vertical-align: top;\n    }\n\n    .dataframe thead th {\n        text-align: right;\n    }\n</style>\n<table border=\"1\" class=\"dataframe\">\n  <thead>\n    <tr style=\"text-align: right;\">\n      <th></th>\n      <th>0</th>\n      <th>1</th>\n      <th>2</th>\n      <th>3</th>\n      <th>4</th>\n    </tr>\n  </thead>\n  <tbody>\n    <tr>\n      <th>0</th>\n      <td>30</td>\n      <td>40</td>\n      <td>35</td>\n      <td>57</td>\n      <td>15</td>\n    </tr>\n  </tbody>\n</table>\n</div>"
     },
     "execution_count": 1,
     "metadata": {},
     "output_type": "execute_result"
    }
   ],
   "source": [
    "import pandas as pd\n",
    "from sklearn.preprocessing import RobustScaler, StandardScaler\n",
    "import numpy as np\n",
    "np.random.seed(42)\n",
    "\n",
    "df = pd.DataFrame([[ 30, 40,  35, 57, 15]])\n",
    "df"
   ]
  },
  {
   "cell_type": "code",
   "execution_count": 2,
   "outputs": [
    {
     "data": {
      "text/plain": "array([[0., 0., 0., 0., 0.]])"
     },
     "execution_count": 2,
     "metadata": {},
     "output_type": "execute_result"
    }
   ],
   "source": [
    "sr = RobustScaler()\n",
    "df_sr = sr.fit_transform(df)\n",
    "df_sr"
   ],
   "metadata": {
    "collapsed": false,
    "ExecuteTime": {
     "end_time": "2023-09-29T08:41:09.209252900Z",
     "start_time": "2023-09-29T08:41:09.156198400Z"
    }
   },
   "id": "de6c2af063330bd7"
  },
  {
   "cell_type": "code",
   "execution_count": 3,
   "outputs": [],
   "source": [
    "import pandas as pd\n",
    "import numpy as np"
   ],
   "metadata": {
    "collapsed": false,
    "ExecuteTime": {
     "end_time": "2023-09-29T08:55:09.721282300Z",
     "start_time": "2023-09-29T08:55:09.673284600Z"
    }
   },
   "id": "71e368756acd2799"
  },
  {
   "cell_type": "code",
   "execution_count": 4,
   "outputs": [],
   "source": [
    "df = pd.read_csv('data/new-site.zip',sep='\\t')"
   ],
   "metadata": {
    "collapsed": false,
    "ExecuteTime": {
     "end_time": "2023-09-29T08:55:18.187948200Z",
     "start_time": "2023-09-29T08:55:18.145443700Z"
    }
   },
   "id": "546465b891ed8b94"
  },
  {
   "cell_type": "code",
   "execution_count": 5,
   "outputs": [
    {
     "data": {
      "text/plain": "    site  dwell-time\n0      0           2\n1      1          48\n2      0          15\n3      1          16\n4      0          38\n5      1         169\n6      0         571\n7      1          38\n8      0         233\n9      0         146\n10     1         336\n11     0          57\n12     0          54\n13     0          75\n14     1          55\n15     0         138\n16     1           2\n17     0           6\n18     0          30\n19     1          32",
      "text/html": "<div>\n<style scoped>\n    .dataframe tbody tr th:only-of-type {\n        vertical-align: middle;\n    }\n\n    .dataframe tbody tr th {\n        vertical-align: top;\n    }\n\n    .dataframe thead th {\n        text-align: right;\n    }\n</style>\n<table border=\"1\" class=\"dataframe\">\n  <thead>\n    <tr style=\"text-align: right;\">\n      <th></th>\n      <th>site</th>\n      <th>dwell-time</th>\n    </tr>\n  </thead>\n  <tbody>\n    <tr>\n      <th>0</th>\n      <td>0</td>\n      <td>2</td>\n    </tr>\n    <tr>\n      <th>1</th>\n      <td>1</td>\n      <td>48</td>\n    </tr>\n    <tr>\n      <th>2</th>\n      <td>0</td>\n      <td>15</td>\n    </tr>\n    <tr>\n      <th>3</th>\n      <td>1</td>\n      <td>16</td>\n    </tr>\n    <tr>\n      <th>4</th>\n      <td>0</td>\n      <td>38</td>\n    </tr>\n    <tr>\n      <th>5</th>\n      <td>1</td>\n      <td>169</td>\n    </tr>\n    <tr>\n      <th>6</th>\n      <td>0</td>\n      <td>571</td>\n    </tr>\n    <tr>\n      <th>7</th>\n      <td>1</td>\n      <td>38</td>\n    </tr>\n    <tr>\n      <th>8</th>\n      <td>0</td>\n      <td>233</td>\n    </tr>\n    <tr>\n      <th>9</th>\n      <td>0</td>\n      <td>146</td>\n    </tr>\n    <tr>\n      <th>10</th>\n      <td>1</td>\n      <td>336</td>\n    </tr>\n    <tr>\n      <th>11</th>\n      <td>0</td>\n      <td>57</td>\n    </tr>\n    <tr>\n      <th>12</th>\n      <td>0</td>\n      <td>54</td>\n    </tr>\n    <tr>\n      <th>13</th>\n      <td>0</td>\n      <td>75</td>\n    </tr>\n    <tr>\n      <th>14</th>\n      <td>1</td>\n      <td>55</td>\n    </tr>\n    <tr>\n      <th>15</th>\n      <td>0</td>\n      <td>138</td>\n    </tr>\n    <tr>\n      <th>16</th>\n      <td>1</td>\n      <td>2</td>\n    </tr>\n    <tr>\n      <th>17</th>\n      <td>0</td>\n      <td>6</td>\n    </tr>\n    <tr>\n      <th>18</th>\n      <td>0</td>\n      <td>30</td>\n    </tr>\n    <tr>\n      <th>19</th>\n      <td>1</td>\n      <td>32</td>\n    </tr>\n  </tbody>\n</table>\n</div>"
     },
     "execution_count": 5,
     "metadata": {},
     "output_type": "execute_result"
    }
   ],
   "source": [
    "\n",
    "\n",
    "df.head(20)\n",
    "\n"
   ],
   "metadata": {
    "collapsed": false,
    "ExecuteTime": {
     "end_time": "2023-09-29T08:55:22.490811300Z",
     "start_time": "2023-09-29T08:55:22.460810400Z"
    }
   },
   "id": "30e76bd633f3c10e"
  },
  {
   "cell_type": "code",
   "execution_count": 7,
   "outputs": [
    {
     "data": {
      "text/plain": "site              0\ndwell-time    16898\ndtype: int64"
     },
     "execution_count": 7,
     "metadata": {},
     "output_type": "execute_result"
    }
   ],
   "source": [
    "df[df['site']==0].sum()"
   ],
   "metadata": {
    "collapsed": false,
    "ExecuteTime": {
     "end_time": "2023-09-29T08:56:32.616453300Z",
     "start_time": "2023-09-29T08:56:32.570446900Z"
    }
   },
   "id": "602d048f31b3bb72"
  },
  {
   "cell_type": "code",
   "execution_count": 8,
   "outputs": [
    {
     "data": {
      "text/plain": "site            114\ndwell-time    10032\ndtype: int64"
     },
     "execution_count": 8,
     "metadata": {},
     "output_type": "execute_result"
    }
   ],
   "source": [
    "df[df['site']==1].sum()"
   ],
   "metadata": {
    "collapsed": false,
    "ExecuteTime": {
     "end_time": "2023-09-29T08:57:01.424079900Z",
     "start_time": "2023-09-29T08:57:01.395081300Z"
    }
   },
   "id": "b03d39ad498aafe5"
  },
  {
   "cell_type": "code",
   "execution_count": 9,
   "outputs": [
    {
     "data": {
      "text/plain": "site           0.000000\ndwell-time    90.849462\ndtype: float64"
     },
     "execution_count": 9,
     "metadata": {},
     "output_type": "execute_result"
    }
   ],
   "source": [
    "df[df['site']==0].mean()"
   ],
   "metadata": {
    "collapsed": false,
    "ExecuteTime": {
     "end_time": "2023-09-29T08:57:32.669726800Z",
     "start_time": "2023-09-29T08:57:32.616703100Z"
    }
   },
   "id": "52a85de5063f0bd3"
  },
  {
   "cell_type": "code",
   "execution_count": 10,
   "outputs": [
    {
     "data": {
      "text/plain": "91"
     },
     "execution_count": 10,
     "metadata": {},
     "output_type": "execute_result"
    }
   ],
   "source": [
    "round(90.849462)"
   ],
   "metadata": {
    "collapsed": false,
    "ExecuteTime": {
     "end_time": "2023-09-29T08:58:02.807738200Z",
     "start_time": "2023-09-29T08:58:02.665161100Z"
    }
   },
   "id": "f5c464b719d1f459"
  },
  {
   "cell_type": "code",
   "execution_count": 11,
   "outputs": [
    {
     "data": {
      "text/plain": "site           1.0\ndwell-time    88.0\ndtype: float64"
     },
     "execution_count": 11,
     "metadata": {},
     "output_type": "execute_result"
    }
   ],
   "source": [
    "df[df['site']==1].mean()"
   ],
   "metadata": {
    "collapsed": false,
    "ExecuteTime": {
     "end_time": "2023-09-29T08:58:12.720489600Z",
     "start_time": "2023-09-29T08:58:12.677485500Z"
    }
   },
   "id": "caea478b3281f36e"
  },
  {
   "cell_type": "code",
   "execution_count": 12,
   "outputs": [
    {
     "ename": "ValueError",
     "evalue": "Data must be at least length 3.",
     "output_type": "error",
     "traceback": [
      "\u001B[1;31m---------------------------------------------------------------------------\u001B[0m",
      "\u001B[1;31mValueError\u001B[0m                                Traceback (most recent call last)",
      "Cell \u001B[1;32mIn[12], line 7\u001B[0m\n\u001B[0;32m      5\u001B[0m alpha \u001B[38;5;241m=\u001B[39m \u001B[38;5;241m0.05\u001B[39m \u001B[38;5;66;03m# уровень значимости\u001B[39;00m\n\u001B[0;32m      6\u001B[0m \u001B[38;5;66;03m# вычисляем результат теста Шапиро-Уилка для выборок\u001B[39;00m\n\u001B[1;32m----> 7\u001B[0m shapiro_result_a \u001B[38;5;241m=\u001B[39m \u001B[43mshapiro\u001B[49m\u001B[43m(\u001B[49m\u001B[43mdf\u001B[49m\u001B[38;5;241;43m.\u001B[39;49m\u001B[43mloc\u001B[49m\u001B[43m[\u001B[49m\u001B[43m(\u001B[49m\u001B[43mdf\u001B[49m\u001B[43m[\u001B[49m\u001B[38;5;124;43m'\u001B[39;49m\u001B[38;5;124;43msite\u001B[39;49m\u001B[38;5;124;43m'\u001B[39;49m\u001B[43m]\u001B[49m\u001B[38;5;241;43m==\u001B[39;49m\u001B[38;5;124;43m'\u001B[39;49m\u001B[38;5;124;43m0\u001B[39;49m\u001B[38;5;124;43m'\u001B[39;49m\u001B[43m)\u001B[49m\u001B[43m]\u001B[49m\u001B[43m[\u001B[49m\u001B[38;5;124;43m'\u001B[39;49m\u001B[38;5;124;43mdwell-time\u001B[39;49m\u001B[38;5;124;43m'\u001B[39;49m\u001B[43m]\u001B[49m\u001B[43m)\u001B[49m\n\u001B[0;32m      8\u001B[0m shapiro_result_b \u001B[38;5;241m=\u001B[39m shapiro(df\u001B[38;5;241m.\u001B[39mloc[(df[\u001B[38;5;124m'\u001B[39m\u001B[38;5;124msite\u001B[39m\u001B[38;5;124m'\u001B[39m]\u001B[38;5;241m==\u001B[39m\u001B[38;5;124m'\u001B[39m\u001B[38;5;124m1\u001B[39m\u001B[38;5;124m'\u001B[39m)][\u001B[38;5;124m'\u001B[39m\u001B[38;5;124mdwell-time\u001B[39m\u001B[38;5;124m'\u001B[39m])\n\u001B[0;32m      9\u001B[0m \u001B[38;5;28mprint\u001B[39m(\u001B[38;5;124m'\u001B[39m\u001B[38;5;124mp-value группы А\u001B[39m\u001B[38;5;124m'\u001B[39m, \u001B[38;5;28mround\u001B[39m(shapiro_result_a\u001B[38;5;241m.\u001B[39mpvalue, \u001B[38;5;241m2\u001B[39m))\n",
      "File \u001B[1;32md:\\Work\\DST\\__environment\\venv\\lib\\site-packages\\scipy\\stats\\_morestats.py:1787\u001B[0m, in \u001B[0;36mshapiro\u001B[1;34m(x)\u001B[0m\n\u001B[0;32m   1785\u001B[0m N \u001B[38;5;241m=\u001B[39m \u001B[38;5;28mlen\u001B[39m(x)\n\u001B[0;32m   1786\u001B[0m \u001B[38;5;28;01mif\u001B[39;00m N \u001B[38;5;241m<\u001B[39m \u001B[38;5;241m3\u001B[39m:\n\u001B[1;32m-> 1787\u001B[0m     \u001B[38;5;28;01mraise\u001B[39;00m \u001B[38;5;167;01mValueError\u001B[39;00m(\u001B[38;5;124m\"\u001B[39m\u001B[38;5;124mData must be at least length 3.\u001B[39m\u001B[38;5;124m\"\u001B[39m)\n\u001B[0;32m   1789\u001B[0m x \u001B[38;5;241m=\u001B[39m x \u001B[38;5;241m-\u001B[39m np\u001B[38;5;241m.\u001B[39mmedian(x)\n\u001B[0;32m   1791\u001B[0m a \u001B[38;5;241m=\u001B[39m zeros(N, \u001B[38;5;124m'\u001B[39m\u001B[38;5;124mf\u001B[39m\u001B[38;5;124m'\u001B[39m)\n",
      "\u001B[1;31mValueError\u001B[0m: Data must be at least length 3."
     ]
    }
   ],
   "source": [
    "from scipy.stats import shapiro\n",
    "# нулевая и альтернативная гипотезы\n",
    "H0 = 'Распределения среднего чека в обеих группах нормальные'\n",
    "H1 = 'Распределение среднего чека в одной или обеих группах отлично от нормального'\n",
    "alpha = 0.05 # уровень значимости\n",
    "# вычисляем результат теста Шапиро-Уилка для выборок\n",
    "shapiro_result_a = shapiro(df.loc[(df['site']=='0')]['dwell-time'])\n",
    "shapiro_result_b = shapiro(df.loc[(df['site']=='1')]['dwell-time'])\n",
    "print('p-value группы А', round(shapiro_result_a.pvalue, 2))\n",
    "print('p-value группы B', round(shapiro_result_b.pvalue, 2))\n",
    "# сравниваем полученное p-value с уровнем значимости\n",
    "if shapiro_result_a.pvalue < alpha or shapiro_result_b.pvalue < alpha:\n",
    "    print(\"Отвергаем нулевую гипотезу. {}\".format(H0))\n",
    "    print(\"Альтернативная гипотеза. H1: {}\".format(H1))\n",
    "else:\n",
    "    print(\"Принимаем нулевую гипотезу. {}\".format(H0))"
   ],
   "metadata": {
    "collapsed": false,
    "ExecuteTime": {
     "end_time": "2023-09-29T08:58:51.120963200Z",
     "start_time": "2023-09-29T08:58:49.604075700Z"
    }
   },
   "id": "fb91b43de4d6bef2"
  },
  {
   "cell_type": "code",
   "execution_count": 1,
   "outputs": [
    {
     "name": "stdout",
     "output_type": "stream",
     "text": [
      "RMSE: 5.75\n"
     ]
    }
   ],
   "source": [
    "import numpy as np\n",
    "\n",
    "# Истинные ответы и предсказанные ответы\n",
    "y_true = np.array([1.23, 2.35, 2.75])\n",
    "y_pred = np.array([1.01, 12.3, 2.74])\n",
    "\n",
    "# Рассчитываем квадраты разностей между истинными и предсказанными ответами\n",
    "squared_errors = (y_true - y_pred) ** 2\n",
    "\n",
    "# Среднее значение квадратов разностей\n",
    "mean_squared_error = np.mean(squared_errors)\n",
    "\n",
    "# Корень из среднего значения\n",
    "rmse = np.sqrt(mean_squared_error)\n",
    "\n",
    "# Округляем результат до двух знаков после точки-разделителя\n",
    "rmse_rounded = round(rmse, 2)\n",
    "\n",
    "# Выводим результат\n",
    "print(f\"RMSE: {rmse_rounded}\")"
   ],
   "metadata": {
    "collapsed": false,
    "ExecuteTime": {
     "end_time": "2023-10-09T06:41:59.246872900Z",
     "start_time": "2023-10-09T06:41:59.179410700Z"
    }
   },
   "id": "a2d15aa845754c00"
  },
  {
   "cell_type": "code",
   "execution_count": 2,
   "outputs": [
    {
     "name": "stdout",
     "output_type": "stream",
     "text": [
      "Accuracy: 0.43\n"
     ]
    }
   ],
   "source": [
    "# Количество политических новостей\n",
    "total_political = 15\n",
    "\n",
    "# Количество экономических новостей\n",
    "total_economic = 20\n",
    "\n",
    "# Количество политических новостей, которые были верно классифицированы как политические\n",
    "correct_political = 6\n",
    "\n",
    "# Количество экономических новостей, которые были верно классифицированы как экономические\n",
    "correct_economic = 9\n",
    "\n",
    "# Общее количество верных предсказаний\n",
    "total_correct = correct_political + correct_economic\n",
    "\n",
    "# Общее количество предсказаний\n",
    "total_predictions = total_political + total_economic\n",
    "\n",
    "# Вычисление accuracy\n",
    "accuracy = total_correct / total_predictions\n",
    "\n",
    "# Вывод результата с округлением до двух знаков после точки-разделителя\n",
    "print(f'Accuracy: {accuracy:.2f}')"
   ],
   "metadata": {
    "collapsed": false,
    "ExecuteTime": {
     "end_time": "2023-10-09T06:46:36.856253Z",
     "start_time": "2023-10-09T06:46:36.811133300Z"
    }
   },
   "id": "111e0fb441922e83"
  },
  {
   "cell_type": "code",
   "execution_count": 4,
   "outputs": [
    {
     "name": "stdout",
     "output_type": "stream",
     "text": [
      "Ранг матрицы: 2\n"
     ]
    }
   ],
   "source": [
    "import numpy as np\n",
    "\n",
    "# Создаем матрицу из векторов\n",
    "v = np.array([2, 10, -2])\n",
    "v2 = np.array([3, 2, -2])\n",
    "v3 = np.array([8, 14, -6])\n",
    "\n",
    "matrix = np.vstack([v1, v2, v3])\n",
    "\n",
    "# Находим ранг матрицы\n",
    "rank = np.linalg.matrix_rank(matrix.T)\n",
    "\n",
    "print(\"Ранг матрицы:\", rank)"
   ],
   "metadata": {
    "collapsed": false,
    "ExecuteTime": {
     "end_time": "2023-10-09T07:12:45.503275500Z",
     "start_time": "2023-10-09T07:12:45.477281400Z"
    }
   },
   "id": "22073773880125f8"
  },
  {
   "cell_type": "code",
   "execution_count": 7,
   "outputs": [
    {
     "name": "stdout",
     "output_type": "stream",
     "text": [
      "Оценки коэффициентов:\n",
      "[-125.11579336  -63.06188548  276.4709053    57.87947667]\n"
     ]
    }
   ],
   "source": [
    "import numpy as np\n",
    "\n",
    "# Генерируем данные для примера\n",
    "np.random.seed(42)\n",
    "\n",
    "v1 = np.array([14.3, 21.2, 8.34, 15.32])\n",
    "v2 = np.array([4.3, 3.1, 0.36, 12.42])\n",
    "v3 = np.array([18.6, 24.3, 8.7, 27.74])\n",
    "v4 = np.array([1, 1, 1, 1])\n",
    "\n",
    "X = np.vstack([v1, v2, v3, v4])\n",
    "\n",
    "#X = np.random.rand(100, 3)  # Три регрессора\n",
    "Y = np.array([133.18, 178.6, 56.7, 145.9])\n",
    "\n",
    "# Добавляем столбец с единицами для интерцепта\n",
    "# X = np.column_stack((np.ones(1000), X))\n",
    "\n",
    "# Вычисляем оценки коэффициентов\n",
    "beta_hat = np.linalg.inv(X.T @ X) @ X.T @ Y\n",
    "\n",
    "print(\"Оценки коэффициентов:\")\n",
    "print(beta_hat)"
   ],
   "metadata": {
    "collapsed": false,
    "ExecuteTime": {
     "end_time": "2023-10-09T07:31:38.985276500Z",
     "start_time": "2023-10-09T07:31:38.866695100Z"
    }
   },
   "id": "809b3302d7ec50ca"
  },
  {
   "cell_type": "code",
   "execution_count": 8,
   "outputs": [
    {
     "name": "stdout",
     "output_type": "stream",
     "text": [
      "Градиент функции в точке (1, 1): [96 12]\n"
     ]
    }
   ],
   "source": [
    "import numpy as np\n",
    "\n",
    "# Определяем функцию f(x, y)\n",
    "def func(x, y):\n",
    "    return (3-8*x-y)**2\n",
    "\n",
    "# Определяем точку, в которой нужно вычислить градиент\n",
    "x0 = 1\n",
    "y0 = 1\n",
    "\n",
    "# Вычисляем градиент функции в точке (x0, y0)\n",
    "def gradient(x, y):\n",
    "    df_dx = -16*(-8*x-y+3)  # Производная по x\n",
    "    df_dy = -2*(-8*x-y+3)  # Производная по y\n",
    "    return np.array([df_dx, df_dy])\n",
    "\n",
    "grad = gradient(x0, y0)\n",
    "print(\"Градиент функции в точке ({}, {}): {}\".format(x0, y0, grad))"
   ],
   "metadata": {
    "collapsed": false,
    "ExecuteTime": {
     "end_time": "2023-10-09T07:49:54.261666900Z",
     "start_time": "2023-10-09T07:49:54.208060500Z"
    }
   },
   "id": "7d9bfaa631e67121"
  },
  {
   "cell_type": "code",
   "execution_count": 10,
   "outputs": [
    {
     "name": "stdout",
     "output_type": "stream",
     "text": [
      "Оптимальные параметры w0 и w1: 1.379513816470249 0.5402931890918161\n"
     ]
    }
   ],
   "source": [
    "import numpy as np\n",
    "\n",
    "# Исходные данные\n",
    "x = np.array([1, 3, 5])\n",
    "y = np.array([2.1, 2.9, 4.1])\n",
    "\n",
    "# Начальные значения параметров\n",
    "w0 = 0\n",
    "w1 = 0\n",
    "\n",
    "# Скорость обучения (learning rate)\n",
    "alpha = 0.01\n",
    "\n",
    "# Количество итераций\n",
    "epochs = 1000\n",
    "\n",
    "# Градиентный спуск\n",
    "for _ in range(epochs):\n",
    "    # Вычисляем предсказания модели\n",
    "    predictions = w0 + w1 * x\n",
    "    \n",
    "    # Вычисляем градиенты\n",
    "    gradient_w0 = (1/len(x)) * np.sum(predictions - y)\n",
    "    gradient_w1 = (1/len(x)) * np.sum((predictions - y) * x)\n",
    "    \n",
    "    # Обновляем параметры\n",
    "    w0 = w0 - alpha * gradient_w0\n",
    "    w1 = w1 - alpha * gradient_w1\n",
    "\n",
    "print(\"Оптимальные параметры w0 и w1:\", w0, w1)"
   ],
   "metadata": {
    "collapsed": false,
    "ExecuteTime": {
     "end_time": "2023-10-09T08:11:05.330340600Z",
     "start_time": "2023-10-09T08:11:05.285315Z"
    }
   },
   "id": "392d1a12d4a456f5"
  },
  {
   "cell_type": "code",
   "execution_count": null,
   "outputs": [],
   "source": [],
   "metadata": {
    "collapsed": false
   },
   "id": "4e758e72087c5dc6"
  }
 ],
 "metadata": {
  "kernelspec": {
   "display_name": "Python 3",
   "language": "python",
   "name": "python3"
  },
  "language_info": {
   "codemirror_mode": {
    "name": "ipython",
    "version": 2
   },
   "file_extension": ".py",
   "mimetype": "text/x-python",
   "name": "python",
   "nbconvert_exporter": "python",
   "pygments_lexer": "ipython2",
   "version": "2.7.6"
  }
 },
 "nbformat": 4,
 "nbformat_minor": 5
}
