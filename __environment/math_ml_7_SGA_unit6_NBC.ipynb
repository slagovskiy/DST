{
 "cells": [
  {
   "cell_type": "markdown",
   "id": "00009cca",
   "metadata": {
    "id": "00009cca"
   },
   "source": [
    "# Классификация текстов с использованием Наивного Байесовского Классификатора"
   ]
  },
  {
   "cell_type": "markdown",
   "id": "a52414b8",
   "metadata": {
    "id": "a52414b8"
   },
   "source": [
    "## Задание 1 (1 балл)"
   ]
  },
  {
   "cell_type": "markdown",
   "id": "f5f27b43",
   "metadata": {
    "id": "f5f27b43"
   },
   "source": [
    "Откройте данные. Узнайте, сколько в них спам- и не спам-писем. Визуализируйте полученные соотношение подходящим образом."
   ]
  },
  {
   "cell_type": "code",
   "execution_count": 10,
   "outputs": [],
   "source": [
    "import pandas as pd\n",
    "import numpy as np\n",
    "import seaborn as sns"
   ],
   "metadata": {
    "collapsed": false,
    "ExecuteTime": {
     "end_time": "2023-07-26T07:19:04.606103600Z",
     "start_time": "2023-07-26T07:19:04.598108800Z"
    }
   }
  },
  {
   "cell_type": "code",
   "execution_count": 11,
   "id": "ac369274",
   "metadata": {
    "id": "ac369274",
    "ExecuteTime": {
     "end_time": "2023-07-26T07:19:05.563497Z",
     "start_time": "2023-07-26T07:19:05.481499900Z"
    }
   },
   "outputs": [
    {
     "data": {
      "text/plain": "                                               email  label\n0   date wed NUMBER aug NUMBER NUMBER NUMBER NUMB...      0\n1  martin a posted tassos papadopoulos the greek ...      0\n2  man threatens explosion in moscow thursday aug...      0\n3  klez the virus that won t die already the most...      0\n4   in adding cream to spaghetti carbonara which ...      0",
      "text/html": "<div>\n<style scoped>\n    .dataframe tbody tr th:only-of-type {\n        vertical-align: middle;\n    }\n\n    .dataframe tbody tr th {\n        vertical-align: top;\n    }\n\n    .dataframe thead th {\n        text-align: right;\n    }\n</style>\n<table border=\"1\" class=\"dataframe\">\n  <thead>\n    <tr style=\"text-align: right;\">\n      <th></th>\n      <th>email</th>\n      <th>label</th>\n    </tr>\n  </thead>\n  <tbody>\n    <tr>\n      <th>0</th>\n      <td>date wed NUMBER aug NUMBER NUMBER NUMBER NUMB...</td>\n      <td>0</td>\n    </tr>\n    <tr>\n      <th>1</th>\n      <td>martin a posted tassos papadopoulos the greek ...</td>\n      <td>0</td>\n    </tr>\n    <tr>\n      <th>2</th>\n      <td>man threatens explosion in moscow thursday aug...</td>\n      <td>0</td>\n    </tr>\n    <tr>\n      <th>3</th>\n      <td>klez the virus that won t die already the most...</td>\n      <td>0</td>\n    </tr>\n    <tr>\n      <th>4</th>\n      <td>in adding cream to spaghetti carbonara which ...</td>\n      <td>0</td>\n    </tr>\n  </tbody>\n</table>\n</div>"
     },
     "execution_count": 11,
     "metadata": {},
     "output_type": "execute_result"
    }
   ],
   "source": [
    "data = pd.read_csv('data/spam_or_not_spam.zip')\n",
    "data.head()"
   ]
  },
  {
   "cell_type": "code",
   "execution_count": 12,
   "id": "f4231781",
   "metadata": {
    "id": "f4231781",
    "ExecuteTime": {
     "end_time": "2023-07-26T07:19:06.756639700Z",
     "start_time": "2023-07-26T07:19:06.742642100Z"
    }
   },
   "outputs": [
    {
     "name": "stdout",
     "output_type": "stream",
     "text": [
      "spam 500\n",
      "ham 2500\n"
     ]
    }
   ],
   "source": [
    "print('spam', data[data['label'] == 1]['label'].count())\n",
    "print('ham', data[data['label'] == 0]['label'].count())"
   ]
  },
  {
   "cell_type": "code",
   "execution_count": 13,
   "id": "9b871636",
   "metadata": {
    "id": "9b871636",
    "ExecuteTime": {
     "end_time": "2023-07-26T07:19:09.148850900Z",
     "start_time": "2023-07-26T07:19:09.018826600Z"
    }
   },
   "outputs": [
    {
     "data": {
      "text/plain": "<Figure size 640x480 with 1 Axes>",
      "image/png": "[encoded data removed]"
     },
     "metadata": {},
     "output_type": "display_data"
    }
   ],
   "source": [
    "sns.countplot(data=data, x='label');"
   ]
  },
  {
   "cell_type": "markdown",
   "id": "b161614b",
   "metadata": {
    "id": "b161614b"
   },
   "source": [
    "## Задание 2 (2 балла)"
   ]
  },
  {
   "cell_type": "markdown",
   "id": "dd29763b",
   "metadata": {
    "id": "dd29763b"
   },
   "source": [
    "Вам необходимо предобработать ваши данные и перевести их в векторный вид. Подгрузим необходимый модуль:"
   ]
  },
  {
   "cell_type": "code",
   "execution_count": 14,
   "id": "382eac9c",
   "metadata": {
    "id": "382eac9c",
    "ExecuteTime": {
     "end_time": "2023-07-26T07:19:12.092909200Z",
     "start_time": "2023-07-26T07:19:12.083908600Z"
    }
   },
   "outputs": [],
   "source": [
    "from sklearn.feature_extraction.text import CountVectorizer"
   ]
  },
  {
   "cell_type": "markdown",
   "id": "89546b95",
   "metadata": {
    "id": "89546b95"
   },
   "source": [
    "Замените в данных все пустые строки и строки, состоящие из пробелов, на пропуски (NaN). После этого удалите из данных все строки, в которых наблюдаются пропущенные значения."
   ]
  },
  {
   "cell_type": "code",
   "execution_count": 15,
   "outputs": [
    {
     "name": "stdout",
     "output_type": "stream",
     "text": [
      "<class 'pandas.core.frame.DataFrame'>\n",
      "RangeIndex: 3000 entries, 0 to 2999\n",
      "Data columns (total 2 columns):\n",
      " #   Column  Non-Null Count  Dtype \n",
      "---  ------  --------------  ----- \n",
      " 0   email   2999 non-null   object\n",
      " 1   label   3000 non-null   int64 \n",
      "dtypes: int64(1), object(1)\n",
      "memory usage: 47.0+ KB\n",
      "None\n"
     ]
    }
   ],
   "source": [
    "print(data.info())"
   ],
   "metadata": {
    "collapsed": false,
    "ExecuteTime": {
     "end_time": "2023-07-26T07:19:14.810901800Z",
     "start_time": "2023-07-26T07:19:14.795903600Z"
    }
   }
  },
  {
   "cell_type": "code",
   "execution_count": 16,
   "id": "45180f82",
   "metadata": {
    "id": "45180f82",
    "ExecuteTime": {
     "end_time": "2023-07-26T07:19:17.016791600Z",
     "start_time": "2023-07-26T07:19:17.004793Z"
    }
   },
   "outputs": [
    {
     "name": "stdout",
     "output_type": "stream",
     "text": [
      "<class 'pandas.core.frame.DataFrame'>\n",
      "Int64Index: 2999 entries, 0 to 2999\n",
      "Data columns (total 2 columns):\n",
      " #   Column  Non-Null Count  Dtype \n",
      "---  ------  --------------  ----- \n",
      " 0   email   2999 non-null   object\n",
      " 1   label   2999 non-null   int64 \n",
      "dtypes: int64(1), object(1)\n",
      "memory usage: 70.3+ KB\n",
      "None\n"
     ]
    }
   ],
   "source": [
    "data = data.fillna(np.nan)\n",
    "data = data.dropna()\n",
    "\n",
    "print(data.info())"
   ]
  },
  {
   "cell_type": "markdown",
   "id": "2ca2fe88",
   "metadata": {
    "id": "2ca2fe88"
   },
   "source": [
    "Переводим данные в векторный вид:"
   ]
  },
  {
   "cell_type": "code",
   "execution_count": 17,
   "id": "29e9a37b",
   "metadata": {
    "id": "29e9a37b",
    "ExecuteTime": {
     "end_time": "2023-07-26T07:19:20.379089Z",
     "start_time": "2023-07-26T07:19:19.723097700Z"
    }
   },
   "outputs": [],
   "source": [
    "vectorizer = CountVectorizer()\n",
    "X = vectorizer.fit_transform(data[\"email\"])"
   ]
  },
  {
   "cell_type": "markdown",
   "id": "88c8b726",
   "metadata": {
    "id": "88c8b726"
   },
   "source": [
    "Определите, сколько теперь признаков в нашем наборе данных:"
   ]
  },
  {
   "cell_type": "code",
   "execution_count": 18,
   "id": "f19c2a02",
   "metadata": {
    "id": "f19c2a02",
    "ExecuteTime": {
     "end_time": "2023-07-26T07:19:39.166069Z",
     "start_time": "2023-07-26T07:19:39.159070200Z"
    }
   },
   "outputs": [
    {
     "name": "stdout",
     "output_type": "stream",
     "text": [
      "Количество признаков после преобразования данных в векторный вид 34116\n"
     ]
    }
   ],
   "source": [
    "\n",
    "\n",
    "print('Количество признаков после преобразования данных в векторный вид', X.shape[1])"
   ]
  },
  {
   "cell_type": "markdown",
   "id": "1803f282",
   "metadata": {
    "id": "1803f282"
   },
   "source": [
    "## Задание 3 (2 балла)"
   ]
  },
  {
   "cell_type": "markdown",
   "id": "39f400b7",
   "metadata": {
    "id": "39f400b7"
   },
   "source": [
    "Определите целевую переменную и признаки:"
   ]
  },
  {
   "cell_type": "code",
   "execution_count": 19,
   "id": "31f1acb6",
   "metadata": {
    "id": "31f1acb6",
    "ExecuteTime": {
     "end_time": "2023-07-26T07:19:54.039575500Z",
     "start_time": "2023-07-26T07:19:54.034577Z"
    }
   },
   "outputs": [],
   "source": [
    "y = data['label']\n",
    "X_data = X"
   ]
  },
  {
   "cell_type": "markdown",
   "id": "b20f273e",
   "metadata": {
    "id": "b20f273e"
   },
   "source": [
    "Разделите выборку на обучающую и тестовую, используя стратифицированное разбиение (параметр `stratify` установите в значение вектора ответов y) размер тестовой выборки (`test_size`) возьмите как 0.25, параметр `random_state` определите со значением 42:"
   ]
  },
  {
   "cell_type": "code",
   "execution_count": 20,
   "id": "96538fb6",
   "metadata": {
    "id": "96538fb6",
    "ExecuteTime": {
     "end_time": "2023-07-26T07:20:09.792406300Z",
     "start_time": "2023-07-26T07:20:09.345616200Z"
    }
   },
   "outputs": [],
   "source": [
    "from sklearn.model_selection import train_test_split\n",
    "X_train, X_test, y_train, y_test = train_test_split(X, y, test_size=0.25, random_state=42)"
   ]
  },
  {
   "cell_type": "markdown",
   "id": "139dac3d",
   "metadata": {
    "id": "139dac3d"
   },
   "source": [
    "Рассчитайте среднее значение целевой переменной по тестовой выборке:"
   ]
  },
  {
   "cell_type": "code",
   "execution_count": 21,
   "id": "e9baf72d",
   "metadata": {
    "id": "e9baf72d",
    "ExecuteTime": {
     "end_time": "2023-07-26T07:20:27.717926200Z",
     "start_time": "2023-07-26T07:20:27.706927300Z"
    }
   },
   "outputs": [
    {
     "name": "stdout",
     "output_type": "stream",
     "text": [
      "Среднее значение целевой переменной по тестовой выборке 0.164\n"
     ]
    }
   ],
   "source": [
    "print('Среднее значение целевой переменной по тестовой выборке', y_test.mean())"
   ]
  },
  {
   "cell_type": "markdown",
   "id": "710e0e94",
   "metadata": {
    "id": "710e0e94"
   },
   "source": [
    "## Задание 4 (3 балла)"
   ]
  },
  {
   "cell_type": "markdown",
   "id": "26cf6885",
   "metadata": {
    "id": "26cf6885"
   },
   "source": [
    "Определите и обучите подходящий алгоритм с параметром alpha = 0.01"
   ]
  },
  {
   "cell_type": "code",
   "execution_count": 22,
   "id": "4865dd78",
   "metadata": {
    "id": "4865dd78",
    "ExecuteTime": {
     "end_time": "2023-07-26T07:20:40.053132600Z",
     "start_time": "2023-07-26T07:20:39.891758300Z"
    }
   },
   "outputs": [],
   "source": [
    "from sklearn.naive_bayes import ComplementNB\n",
    "\n",
    "complement_nb = ComplementNB(alpha=0.01)\n",
    "complement_nb.fit(X_train, y_train)\n",
    "y_train_pred = complement_nb.predict(X_train)\n",
    "y_test_pred = complement_nb.predict(X_test)\n",
    "y_test_pred_proba = complement_nb.predict_proba(X_test)"
   ]
  },
  {
   "cell_type": "markdown",
   "id": "d803fbe3",
   "metadata": {
    "id": "d803fbe3"
   },
   "source": [
    "Оцените результат с точки зрения всех известных вам метрик (не менее трёх):"
   ]
  },
  {
   "cell_type": "code",
   "execution_count": 23,
   "id": "b0bbc4d2",
   "metadata": {
    "id": "b0bbc4d2",
    "ExecuteTime": {
     "end_time": "2023-07-26T07:20:55.819144700Z",
     "start_time": "2023-07-26T07:20:55.806146Z"
    }
   },
   "outputs": [
    {
     "name": "stdout",
     "output_type": "stream",
     "text": [
      "Accuracy на тестовой выборке 0.995\n",
      "Precision на тестовой выборке 0.984\n",
      "Recall на тестовой выборке 0.984\n",
      "F1-score на тестовой выборке 0.984\n"
     ]
    }
   ],
   "source": [
    "from sklearn import metrics\n",
    "\n",
    "print('Accuracy на тестовой выборке', round(metrics.accuracy_score(y_test, y_test_pred), 3))\n",
    "print('Precision на тестовой выборке', round(metrics.precision_score(y_test, y_test_pred), 3))\n",
    "print('Recall на тестовой выборке', round(metrics.recall_score(y_test, y_test_pred), 3))\n",
    "print('F1-score на тестовой выборке', round(metrics.f1_score(y_test, y_test_pred), 3))"
   ]
  },
  {
   "cell_type": "markdown",
   "id": "c85976d1",
   "metadata": {
    "id": "c85976d1"
   },
   "source": [
    "Нарисуйте ROC-кривую:"
   ]
  },
  {
   "cell_type": "code",
   "execution_count": 24,
   "id": "b4195126",
   "metadata": {
    "id": "b4195126",
    "ExecuteTime": {
     "end_time": "2023-07-26T07:21:42.657662600Z",
     "start_time": "2023-07-26T07:21:42.525663200Z"
    }
   },
   "outputs": [
    {
     "data": {
      "text/plain": "<Figure size 640x480 with 1 Axes>",
      "image/png": "[encoded data removed]"
     },
     "metadata": {},
     "output_type": "display_data"
    },
    {
     "name": "stdout",
     "output_type": "stream",
     "text": [
      "No Skill: ROC AUC=0.98683\n",
      "Naive Bayes: ROC AUC=0.50000\n"
     ]
    }
   ],
   "source": [
    "from sklearn.metrics import roc_curve, auc\n",
    "from sklearn.metrics import roc_auc_score\n",
    "import matplotlib.pyplot as plt\n",
    "\n",
    "fpr = dict()\n",
    "tpr = dict()\n",
    "roc_auc = dict()\n",
    "\n",
    "fpr, tpr, _ = roc_curve(y_test, y_test_pred_proba[:,1], drop_intermediate=False)\n",
    "roc_auc = auc(fpr, tpr)\n",
    "\n",
    "\n",
    "plt.figure()\n",
    "plt.plot(fpr, tpr, color=\"cornflowerblue\", lw=4,  label=\"ROC curve\")\n",
    "plt.plot([0, 1], [0, 1], color=\"indigo\", lw=2, linestyle=\"--\")\n",
    "plt.xlim([0.0, 1.0])\n",
    "plt.ylim([0.0, 1.05])\n",
    "plt.xlabel(\"False Positive Rate\")\n",
    "plt.ylabel(\"True Positive Rate\")\n",
    "plt.title(\"ROC\")\n",
    "plt.legend(loc=\"lower right\")\n",
    "plt.show()\n",
    "\n",
    "print('No Skill: ROC AUC=%.5f' % (roc_auc))\n",
    "print('Naive Bayes: ROC AUC=%.5f' % 0.5)"
   ]
  },
  {
   "cell_type": "markdown",
   "id": "cf0bb49b",
   "metadata": {
    "id": "cf0bb49b"
   },
   "source": [
    "## Задание 5 (3 балла)"
   ]
  },
  {
   "cell_type": "markdown",
   "id": "30b7a0ae",
   "metadata": {
    "id": "30b7a0ae"
   },
   "source": [
    "Переберите несколько значений alpha с помощью кросс-валидации. Оцените, зависит ли от этого параметра качество классификации."
   ]
  },
  {
   "cell_type": "code",
   "execution_count": 25,
   "id": "3513d907",
   "metadata": {
    "id": "3513d907",
    "ExecuteTime": {
     "end_time": "2023-07-26T07:22:11.842080800Z",
     "start_time": "2023-07-26T07:22:04.455151300Z"
    }
   },
   "outputs": [
    {
     "name": "stdout",
     "output_type": "stream",
     "text": [
      "Наилучшие значения параметров: {'alpha': 0.1}\n",
      "F1-score на тестовой выборке 0.9877551020408164\n"
     ]
    },
    {
     "data": {
      "text/plain": "<Figure size 1000x500 with 1 Axes>",
      "image/png": "[encoded data removed]"
     },
     "metadata": {},
     "output_type": "display_data"
    }
   ],
   "source": [
    "from sklearn.model_selection import GridSearchCV\n",
    "\n",
    "param_grid = {'alpha': [0, 0.0001, 0.001, 0.01, 0.1, 0.2, 0.3]}\n",
    "\n",
    "grid_search = GridSearchCV(\n",
    "    estimator=ComplementNB(),\n",
    "    param_grid=param_grid,\n",
    "    cv=5,\n",
    "    n_jobs = -1,\n",
    "    scoring='f1'\n",
    ")\n",
    "grid_search.fit(X_train, y_train)\n",
    "print(\"Наилучшие значения параметров: {}\".format(grid_search.best_params_))\n",
    "\n",
    "y_test_pred = grid_search.predict(X_test)\n",
    "y_test_pred_proba = grid_search.predict_proba(X_test)\n",
    "print('F1-score на тестовой выборке', metrics.f1_score(y_test, y_test_pred))\n",
    "\n",
    "fig, ax = plt.subplots(figsize=(10, 5))\n",
    "sns.lineplot(x=param_grid['alpha'], y=grid_search.cv_results_['mean_test_score'])\n",
    "ax.set_xlabel('alpha')\n",
    "ax.set_ylabel('mean_test_score')\n",
    "ax.grid()"
   ]
  }
 ],
 "metadata": {
  "colab": {
   "name": "SGA_unit6_NBC.ipynb",
   "provenance": []
  },
  "kernelspec": {
   "display_name": "Python 3 (ipykernel)",
   "language": "python",
   "name": "python3"
  },
  "language_info": {
   "codemirror_mode": {
    "name": "ipython",
    "version": 3
   },
   "file_extension": ".py",
   "mimetype": "text/x-python",
   "name": "python",
   "nbconvert_exporter": "python",
   "pygments_lexer": "ipython3",
   "version": "3.9.7"
  }
 },
 "nbformat": 4,
 "nbformat_minor": 5
}
