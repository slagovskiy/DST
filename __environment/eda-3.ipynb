{
 "cells": [
  {
   "cell_type": "code",
   "execution_count": 51,
   "metadata": {
    "collapsed": true,
    "pycharm": {
     "name": "#%%\n"
    }
   },
   "outputs": [],
   "source": [
    "import numpy as np\n",
    "import pandas as pd\n",
    "import matplotlib.pyplot as plt\n",
    "import seaborn as sns\n",
    "import plotly.express as px\n",
    "import statistics"
   ]
  },
  {
   "cell_type": "code",
   "execution_count": 52,
   "outputs": [
    {
     "name": "stdout",
     "output_type": "stream",
     "text": [
      "<class 'pandas.core.frame.DataFrame'>\n",
      "RangeIndex: 129971 entries, 0 to 129970\n",
      "Data columns (total 13 columns):\n",
      " #   Column                 Non-Null Count   Dtype  \n",
      "---  ------                 --------------   -----  \n",
      " 0   Unnamed: 0             129971 non-null  int64  \n",
      " 1   country                129908 non-null  object \n",
      " 2   description            129971 non-null  object \n",
      " 3   designation            129971 non-null  object \n",
      " 4   points                 129971 non-null  int64  \n",
      " 5   price                  129971 non-null  float64\n",
      " 6   province               129908 non-null  object \n",
      " 7   region_1               129971 non-null  object \n",
      " 8   taster_name            129971 non-null  object \n",
      " 9   taster_twitter_handle  129971 non-null  object \n",
      " 10  title                  129971 non-null  object \n",
      " 11  variety                129970 non-null  object \n",
      " 12  winery                 129971 non-null  object \n",
      "dtypes: float64(1), int64(2), object(10)\n",
      "memory usage: 12.9+ MB\n"
     ]
    }
   ],
   "source": [
    "df = pd.read_csv('data/wine_cleared.zip')\n",
    "df.info()"
   ],
   "metadata": {
    "collapsed": false,
    "pycharm": {
     "name": "#%%\n"
    }
   }
  },
  {
   "cell_type": "code",
   "execution_count": 53,
   "outputs": [],
   "source": [
    "df['price_round'] = df['price'].round().astype(int)"
   ],
   "metadata": {
    "collapsed": false,
    "pycharm": {
     "name": "#%%\n"
    }
   }
  },
  {
   "cell_type": "code",
   "execution_count": 54,
   "outputs": [
    {
     "data": {
      "text/plain": "   Unnamed: 0   country                                        description  \\\n0           0     Italy  Aromas include tropical fruit, broom, brimston...   \n1           1  Portugal  This is ripe and fruity, a wine that is smooth...   \n2           2        US  Tart and snappy, the flavors of lime flesh and...   \n3           3        US  Pineapple rind, lemon pith and orange blossom ...   \n4           4        US  Much like the regular bottling from 2012, this...   \n\n                          designation  points      price           province  \\\n0                        Vulkà Bianco      87  35.363389  Sicily & Sardinia   \n1                            Avidagos      87  15.000000              Douro   \n2                             unknown      87  14.000000             Oregon   \n3                Reserve Late Harvest      87  13.000000           Michigan   \n4  Vintner's Reserve Wild Child Block      87  65.000000             Oregon   \n\n              region_1         taster_name taster_twitter_handle  \\\n0                 Etna       Kerin O’Keefe          @kerinokeefe   \n1              unknown          Roger Voss            @vossroger   \n2    Willamette Valley        Paul Gregutt           @paulgwine    \n3  Lake Michigan Shore  Alexander Peartree               unknown   \n4    Willamette Valley        Paul Gregutt           @paulgwine    \n\n                                               title         variety  \\\n0                  Nicosia 2013 Vulkà Bianco  (Etna)     White Blend   \n1      Quinta dos Avidagos 2011 Avidagos Red (Douro)  Portuguese Red   \n2      Rainstorm 2013 Pinot Gris (Willamette Valley)      Pinot Gris   \n3  St. Julian 2013 Reserve Late Harvest Riesling ...        Riesling   \n4  Sweet Cheeks 2012 Vintner's Reserve Wild Child...      Pinot Noir   \n\n                winery  price_round  \n0              Nicosia           35  \n1  Quinta dos Avidagos           15  \n2            Rainstorm           14  \n3           St. Julian           13  \n4         Sweet Cheeks           65  ",
      "text/html": "<div>\n<style scoped>\n    .dataframe tbody tr th:only-of-type {\n        vertical-align: middle;\n    }\n\n    .dataframe tbody tr th {\n        vertical-align: top;\n    }\n\n    .dataframe thead th {\n        text-align: right;\n    }\n</style>\n<table border=\"1\" class=\"dataframe\">\n  <thead>\n    <tr style=\"text-align: right;\">\n      <th></th>\n      <th>Unnamed: 0</th>\n      <th>country</th>\n      <th>description</th>\n      <th>designation</th>\n      <th>points</th>\n      <th>price</th>\n      <th>province</th>\n      <th>region_1</th>\n      <th>taster_name</th>\n      <th>taster_twitter_handle</th>\n      <th>title</th>\n      <th>variety</th>\n      <th>winery</th>\n      <th>price_round</th>\n    </tr>\n  </thead>\n  <tbody>\n    <tr>\n      <th>0</th>\n      <td>0</td>\n      <td>Italy</td>\n      <td>Aromas include tropical fruit, broom, brimston...</td>\n      <td>Vulkà Bianco</td>\n      <td>87</td>\n      <td>35.363389</td>\n      <td>Sicily &amp; Sardinia</td>\n      <td>Etna</td>\n      <td>Kerin O’Keefe</td>\n      <td>@kerinokeefe</td>\n      <td>Nicosia 2013 Vulkà Bianco  (Etna)</td>\n      <td>White Blend</td>\n      <td>Nicosia</td>\n      <td>35</td>\n    </tr>\n    <tr>\n      <th>1</th>\n      <td>1</td>\n      <td>Portugal</td>\n      <td>This is ripe and fruity, a wine that is smooth...</td>\n      <td>Avidagos</td>\n      <td>87</td>\n      <td>15.000000</td>\n      <td>Douro</td>\n      <td>unknown</td>\n      <td>Roger Voss</td>\n      <td>@vossroger</td>\n      <td>Quinta dos Avidagos 2011 Avidagos Red (Douro)</td>\n      <td>Portuguese Red</td>\n      <td>Quinta dos Avidagos</td>\n      <td>15</td>\n    </tr>\n    <tr>\n      <th>2</th>\n      <td>2</td>\n      <td>US</td>\n      <td>Tart and snappy, the flavors of lime flesh and...</td>\n      <td>unknown</td>\n      <td>87</td>\n      <td>14.000000</td>\n      <td>Oregon</td>\n      <td>Willamette Valley</td>\n      <td>Paul Gregutt</td>\n      <td>@paulgwine</td>\n      <td>Rainstorm 2013 Pinot Gris (Willamette Valley)</td>\n      <td>Pinot Gris</td>\n      <td>Rainstorm</td>\n      <td>14</td>\n    </tr>\n    <tr>\n      <th>3</th>\n      <td>3</td>\n      <td>US</td>\n      <td>Pineapple rind, lemon pith and orange blossom ...</td>\n      <td>Reserve Late Harvest</td>\n      <td>87</td>\n      <td>13.000000</td>\n      <td>Michigan</td>\n      <td>Lake Michigan Shore</td>\n      <td>Alexander Peartree</td>\n      <td>unknown</td>\n      <td>St. Julian 2013 Reserve Late Harvest Riesling ...</td>\n      <td>Riesling</td>\n      <td>St. Julian</td>\n      <td>13</td>\n    </tr>\n    <tr>\n      <th>4</th>\n      <td>4</td>\n      <td>US</td>\n      <td>Much like the regular bottling from 2012, this...</td>\n      <td>Vintner's Reserve Wild Child Block</td>\n      <td>87</td>\n      <td>65.000000</td>\n      <td>Oregon</td>\n      <td>Willamette Valley</td>\n      <td>Paul Gregutt</td>\n      <td>@paulgwine</td>\n      <td>Sweet Cheeks 2012 Vintner's Reserve Wild Child...</td>\n      <td>Pinot Noir</td>\n      <td>Sweet Cheeks</td>\n      <td>65</td>\n    </tr>\n  </tbody>\n</table>\n</div>"
     },
     "execution_count": 54,
     "metadata": {},
     "output_type": "execute_result"
    }
   ],
   "source": [
    "df.head()"
   ],
   "metadata": {
    "collapsed": false,
    "pycharm": {
     "name": "#%%\n"
    }
   }
  },
  {
   "cell_type": "code",
   "execution_count": 55,
   "outputs": [],
   "source": [
    "import re"
   ],
   "metadata": {
    "collapsed": false,
    "pycharm": {
     "name": "#%%\n"
    }
   }
  },
  {
   "cell_type": "code",
   "execution_count": 56,
   "outputs": [
    {
     "data": {
      "text/plain": "   Unnamed: 0   country                                        description  \\\n0           0     Italy  Aromas include tropical fruit, broom, brimston...   \n1           1  Portugal  This is ripe and fruity, a wine that is smooth...   \n2           2        US  Tart and snappy, the flavors of lime flesh and...   \n3           3        US  Pineapple rind, lemon pith and orange blossom ...   \n4           4        US  Much like the regular bottling from 2012, this...   \n\n                          designation  points      price           province  \\\n0                        Vulkà Bianco      87  35.363389  Sicily & Sardinia   \n1                            Avidagos      87  15.000000              Douro   \n2                             unknown      87  14.000000             Oregon   \n3                Reserve Late Harvest      87  13.000000           Michigan   \n4  Vintner's Reserve Wild Child Block      87  65.000000             Oregon   \n\n              region_1         taster_name taster_twitter_handle  \\\n0                 Etna       Kerin O’Keefe          @kerinokeefe   \n1              unknown          Roger Voss            @vossroger   \n2    Willamette Valley        Paul Gregutt           @paulgwine    \n3  Lake Michigan Shore  Alexander Peartree               unknown   \n4    Willamette Valley        Paul Gregutt           @paulgwine    \n\n                                               title         variety  \\\n0                  Nicosia 2013 Vulkà Bianco  (Etna)     White Blend   \n1      Quinta dos Avidagos 2011 Avidagos Red (Douro)  Portuguese Red   \n2      Rainstorm 2013 Pinot Gris (Willamette Valley)      Pinot Gris   \n3  St. Julian 2013 Reserve Late Harvest Riesling ...        Riesling   \n4  Sweet Cheeks 2012 Vintner's Reserve Wild Child...      Pinot Noir   \n\n                winery  price_round  year  \n0              Nicosia           35  2013  \n1  Quinta dos Avidagos           15  2011  \n2            Rainstorm           14  2013  \n3           St. Julian           13  2013  \n4         Sweet Cheeks           65  2012  ",
      "text/html": "<div>\n<style scoped>\n    .dataframe tbody tr th:only-of-type {\n        vertical-align: middle;\n    }\n\n    .dataframe tbody tr th {\n        vertical-align: top;\n    }\n\n    .dataframe thead th {\n        text-align: right;\n    }\n</style>\n<table border=\"1\" class=\"dataframe\">\n  <thead>\n    <tr style=\"text-align: right;\">\n      <th></th>\n      <th>Unnamed: 0</th>\n      <th>country</th>\n      <th>description</th>\n      <th>designation</th>\n      <th>points</th>\n      <th>price</th>\n      <th>province</th>\n      <th>region_1</th>\n      <th>taster_name</th>\n      <th>taster_twitter_handle</th>\n      <th>title</th>\n      <th>variety</th>\n      <th>winery</th>\n      <th>price_round</th>\n      <th>year</th>\n    </tr>\n  </thead>\n  <tbody>\n    <tr>\n      <th>0</th>\n      <td>0</td>\n      <td>Italy</td>\n      <td>Aromas include tropical fruit, broom, brimston...</td>\n      <td>Vulkà Bianco</td>\n      <td>87</td>\n      <td>35.363389</td>\n      <td>Sicily &amp; Sardinia</td>\n      <td>Etna</td>\n      <td>Kerin O’Keefe</td>\n      <td>@kerinokeefe</td>\n      <td>Nicosia 2013 Vulkà Bianco  (Etna)</td>\n      <td>White Blend</td>\n      <td>Nicosia</td>\n      <td>35</td>\n      <td>2013</td>\n    </tr>\n    <tr>\n      <th>1</th>\n      <td>1</td>\n      <td>Portugal</td>\n      <td>This is ripe and fruity, a wine that is smooth...</td>\n      <td>Avidagos</td>\n      <td>87</td>\n      <td>15.000000</td>\n      <td>Douro</td>\n      <td>unknown</td>\n      <td>Roger Voss</td>\n      <td>@vossroger</td>\n      <td>Quinta dos Avidagos 2011 Avidagos Red (Douro)</td>\n      <td>Portuguese Red</td>\n      <td>Quinta dos Avidagos</td>\n      <td>15</td>\n      <td>2011</td>\n    </tr>\n    <tr>\n      <th>2</th>\n      <td>2</td>\n      <td>US</td>\n      <td>Tart and snappy, the flavors of lime flesh and...</td>\n      <td>unknown</td>\n      <td>87</td>\n      <td>14.000000</td>\n      <td>Oregon</td>\n      <td>Willamette Valley</td>\n      <td>Paul Gregutt</td>\n      <td>@paulgwine</td>\n      <td>Rainstorm 2013 Pinot Gris (Willamette Valley)</td>\n      <td>Pinot Gris</td>\n      <td>Rainstorm</td>\n      <td>14</td>\n      <td>2013</td>\n    </tr>\n    <tr>\n      <th>3</th>\n      <td>3</td>\n      <td>US</td>\n      <td>Pineapple rind, lemon pith and orange blossom ...</td>\n      <td>Reserve Late Harvest</td>\n      <td>87</td>\n      <td>13.000000</td>\n      <td>Michigan</td>\n      <td>Lake Michigan Shore</td>\n      <td>Alexander Peartree</td>\n      <td>unknown</td>\n      <td>St. Julian 2013 Reserve Late Harvest Riesling ...</td>\n      <td>Riesling</td>\n      <td>St. Julian</td>\n      <td>13</td>\n      <td>2013</td>\n    </tr>\n    <tr>\n      <th>4</th>\n      <td>4</td>\n      <td>US</td>\n      <td>Much like the regular bottling from 2012, this...</td>\n      <td>Vintner's Reserve Wild Child Block</td>\n      <td>87</td>\n      <td>65.000000</td>\n      <td>Oregon</td>\n      <td>Willamette Valley</td>\n      <td>Paul Gregutt</td>\n      <td>@paulgwine</td>\n      <td>Sweet Cheeks 2012 Vintner's Reserve Wild Child...</td>\n      <td>Pinot Noir</td>\n      <td>Sweet Cheeks</td>\n      <td>65</td>\n      <td>2012</td>\n    </tr>\n  </tbody>\n</table>\n</div>"
     },
     "execution_count": 56,
     "metadata": {},
     "output_type": "execute_result"
    }
   ],
   "source": [
    "regex = '\\d{4}' # регулярное выражение для нахождения чисел\n",
    "df['year'] = df['title'].str.findall(regex).str.get(0)\n",
    "df.head()"
   ],
   "metadata": {
    "collapsed": false,
    "pycharm": {
     "name": "#%%\n"
    }
   }
  },
  {
   "cell_type": "code",
   "execution_count": 57,
   "outputs": [],
   "source": [
    "df['is_usa'] = df['country'].apply(lambda x: 1 if x == 'US' else 0)"
   ],
   "metadata": {
    "collapsed": false,
    "pycharm": {
     "name": "#%%\n"
    }
   }
  },
  {
   "cell_type": "code",
   "execution_count": 58,
   "outputs": [
    {
     "data": {
      "text/plain": "   Unnamed: 0   country                                        description  \\\n0           0     Italy  Aromas include tropical fruit, broom, brimston...   \n1           1  Portugal  This is ripe and fruity, a wine that is smooth...   \n2           2        US  Tart and snappy, the flavors of lime flesh and...   \n3           3        US  Pineapple rind, lemon pith and orange blossom ...   \n4           4        US  Much like the regular bottling from 2012, this...   \n\n                          designation  points      price           province  \\\n0                        Vulkà Bianco      87  35.363389  Sicily & Sardinia   \n1                            Avidagos      87  15.000000              Douro   \n2                             unknown      87  14.000000             Oregon   \n3                Reserve Late Harvest      87  13.000000           Michigan   \n4  Vintner's Reserve Wild Child Block      87  65.000000             Oregon   \n\n              region_1         taster_name taster_twitter_handle  \\\n0                 Etna       Kerin O’Keefe          @kerinokeefe   \n1              unknown          Roger Voss            @vossroger   \n2    Willamette Valley        Paul Gregutt           @paulgwine    \n3  Lake Michigan Shore  Alexander Peartree               unknown   \n4    Willamette Valley        Paul Gregutt           @paulgwine    \n\n                                               title         variety  \\\n0                  Nicosia 2013 Vulkà Bianco  (Etna)     White Blend   \n1      Quinta dos Avidagos 2011 Avidagos Red (Douro)  Portuguese Red   \n2      Rainstorm 2013 Pinot Gris (Willamette Valley)      Pinot Gris   \n3  St. Julian 2013 Reserve Late Harvest Riesling ...        Riesling   \n4  Sweet Cheeks 2012 Vintner's Reserve Wild Child...      Pinot Noir   \n\n                winery  price_round  year  is_usa  \n0              Nicosia           35  2013       0  \n1  Quinta dos Avidagos           15  2011       0  \n2            Rainstorm           14  2013       1  \n3           St. Julian           13  2013       1  \n4         Sweet Cheeks           65  2012       1  ",
      "text/html": "<div>\n<style scoped>\n    .dataframe tbody tr th:only-of-type {\n        vertical-align: middle;\n    }\n\n    .dataframe tbody tr th {\n        vertical-align: top;\n    }\n\n    .dataframe thead th {\n        text-align: right;\n    }\n</style>\n<table border=\"1\" class=\"dataframe\">\n  <thead>\n    <tr style=\"text-align: right;\">\n      <th></th>\n      <th>Unnamed: 0</th>\n      <th>country</th>\n      <th>description</th>\n      <th>designation</th>\n      <th>points</th>\n      <th>price</th>\n      <th>province</th>\n      <th>region_1</th>\n      <th>taster_name</th>\n      <th>taster_twitter_handle</th>\n      <th>title</th>\n      <th>variety</th>\n      <th>winery</th>\n      <th>price_round</th>\n      <th>year</th>\n      <th>is_usa</th>\n    </tr>\n  </thead>\n  <tbody>\n    <tr>\n      <th>0</th>\n      <td>0</td>\n      <td>Italy</td>\n      <td>Aromas include tropical fruit, broom, brimston...</td>\n      <td>Vulkà Bianco</td>\n      <td>87</td>\n      <td>35.363389</td>\n      <td>Sicily &amp; Sardinia</td>\n      <td>Etna</td>\n      <td>Kerin O’Keefe</td>\n      <td>@kerinokeefe</td>\n      <td>Nicosia 2013 Vulkà Bianco  (Etna)</td>\n      <td>White Blend</td>\n      <td>Nicosia</td>\n      <td>35</td>\n      <td>2013</td>\n      <td>0</td>\n    </tr>\n    <tr>\n      <th>1</th>\n      <td>1</td>\n      <td>Portugal</td>\n      <td>This is ripe and fruity, a wine that is smooth...</td>\n      <td>Avidagos</td>\n      <td>87</td>\n      <td>15.000000</td>\n      <td>Douro</td>\n      <td>unknown</td>\n      <td>Roger Voss</td>\n      <td>@vossroger</td>\n      <td>Quinta dos Avidagos 2011 Avidagos Red (Douro)</td>\n      <td>Portuguese Red</td>\n      <td>Quinta dos Avidagos</td>\n      <td>15</td>\n      <td>2011</td>\n      <td>0</td>\n    </tr>\n    <tr>\n      <th>2</th>\n      <td>2</td>\n      <td>US</td>\n      <td>Tart and snappy, the flavors of lime flesh and...</td>\n      <td>unknown</td>\n      <td>87</td>\n      <td>14.000000</td>\n      <td>Oregon</td>\n      <td>Willamette Valley</td>\n      <td>Paul Gregutt</td>\n      <td>@paulgwine</td>\n      <td>Rainstorm 2013 Pinot Gris (Willamette Valley)</td>\n      <td>Pinot Gris</td>\n      <td>Rainstorm</td>\n      <td>14</td>\n      <td>2013</td>\n      <td>1</td>\n    </tr>\n    <tr>\n      <th>3</th>\n      <td>3</td>\n      <td>US</td>\n      <td>Pineapple rind, lemon pith and orange blossom ...</td>\n      <td>Reserve Late Harvest</td>\n      <td>87</td>\n      <td>13.000000</td>\n      <td>Michigan</td>\n      <td>Lake Michigan Shore</td>\n      <td>Alexander Peartree</td>\n      <td>unknown</td>\n      <td>St. Julian 2013 Reserve Late Harvest Riesling ...</td>\n      <td>Riesling</td>\n      <td>St. Julian</td>\n      <td>13</td>\n      <td>2013</td>\n      <td>1</td>\n    </tr>\n    <tr>\n      <th>4</th>\n      <td>4</td>\n      <td>US</td>\n      <td>Much like the regular bottling from 2012, this...</td>\n      <td>Vintner's Reserve Wild Child Block</td>\n      <td>87</td>\n      <td>65.000000</td>\n      <td>Oregon</td>\n      <td>Willamette Valley</td>\n      <td>Paul Gregutt</td>\n      <td>@paulgwine</td>\n      <td>Sweet Cheeks 2012 Vintner's Reserve Wild Child...</td>\n      <td>Pinot Noir</td>\n      <td>Sweet Cheeks</td>\n      <td>65</td>\n      <td>2012</td>\n      <td>1</td>\n    </tr>\n  </tbody>\n</table>\n</div>"
     },
     "execution_count": 58,
     "metadata": {},
     "output_type": "execute_result"
    }
   ],
   "source": [
    "df.head()"
   ],
   "metadata": {
    "collapsed": false,
    "pycharm": {
     "name": "#%%\n"
    }
   }
  },
  {
   "cell_type": "code",
   "execution_count": 59,
   "outputs": [
    {
     "name": "stderr",
     "output_type": "stream",
     "text": [
      "C:\\Users\\Sergey\\AppData\\Local\\Temp\\ipykernel_3324\\4289037457.py:2: UserWarning: Boolean Series key will be reindexed to match DataFrame index.\n",
      "  df_no_france = df[df_no_usa['country'] != 'France']\n"
     ]
    },
    {
     "ename": "IndexingError",
     "evalue": "Unalignable boolean Series provided as indexer (index of the boolean Series and of the indexed object do not match).",
     "output_type": "error",
     "traceback": [
      "\u001B[1;31m---------------------------------------------------------------------------\u001B[0m",
      "\u001B[1;31mIndexingError\u001B[0m                             Traceback (most recent call last)",
      "Cell \u001B[1;32mIn [59], line 2\u001B[0m\n\u001B[0;32m      1\u001B[0m df_no_usa \u001B[38;5;241m=\u001B[39m df[df[\u001B[38;5;124m'\u001B[39m\u001B[38;5;124mis_usa\u001B[39m\u001B[38;5;124m'\u001B[39m] \u001B[38;5;241m==\u001B[39m \u001B[38;5;241m0\u001B[39m]\n\u001B[1;32m----> 2\u001B[0m df_no_france \u001B[38;5;241m=\u001B[39m \u001B[43mdf\u001B[49m\u001B[43m[\u001B[49m\u001B[43mdf_no_usa\u001B[49m\u001B[43m[\u001B[49m\u001B[38;5;124;43m'\u001B[39;49m\u001B[38;5;124;43mcountry\u001B[39;49m\u001B[38;5;124;43m'\u001B[39;49m\u001B[43m]\u001B[49m\u001B[43m \u001B[49m\u001B[38;5;241;43m!=\u001B[39;49m\u001B[43m \u001B[49m\u001B[38;5;124;43m'\u001B[39;49m\u001B[38;5;124;43mFrance\u001B[39;49m\u001B[38;5;124;43m'\u001B[39;49m\u001B[43m]\u001B[49m\n",
      "File \u001B[1;32mD:\\Work\\DST\\__environment\\venv\\lib\\site-packages\\pandas\\core\\frame.py:3496\u001B[0m, in \u001B[0;36mDataFrame.__getitem__\u001B[1;34m(self, key)\u001B[0m\n\u001B[0;32m   3494\u001B[0m \u001B[38;5;66;03m# Do we have a (boolean) 1d indexer?\u001B[39;00m\n\u001B[0;32m   3495\u001B[0m \u001B[38;5;28;01mif\u001B[39;00m com\u001B[38;5;241m.\u001B[39mis_bool_indexer(key):\n\u001B[1;32m-> 3496\u001B[0m     \u001B[38;5;28;01mreturn\u001B[39;00m \u001B[38;5;28;43mself\u001B[39;49m\u001B[38;5;241;43m.\u001B[39;49m\u001B[43m_getitem_bool_array\u001B[49m\u001B[43m(\u001B[49m\u001B[43mkey\u001B[49m\u001B[43m)\u001B[49m\n\u001B[0;32m   3498\u001B[0m \u001B[38;5;66;03m# We are left with two options: a single key, and a collection of keys,\u001B[39;00m\n\u001B[0;32m   3499\u001B[0m \u001B[38;5;66;03m# We interpret tuples as collections only for non-MultiIndex\u001B[39;00m\n\u001B[0;32m   3500\u001B[0m is_single_key \u001B[38;5;241m=\u001B[39m \u001B[38;5;28misinstance\u001B[39m(key, \u001B[38;5;28mtuple\u001B[39m) \u001B[38;5;129;01mor\u001B[39;00m \u001B[38;5;129;01mnot\u001B[39;00m is_list_like(key)\n",
      "File \u001B[1;32mD:\\Work\\DST\\__environment\\venv\\lib\\site-packages\\pandas\\core\\frame.py:3549\u001B[0m, in \u001B[0;36mDataFrame._getitem_bool_array\u001B[1;34m(self, key)\u001B[0m\n\u001B[0;32m   3543\u001B[0m     \u001B[38;5;28;01mraise\u001B[39;00m \u001B[38;5;167;01mValueError\u001B[39;00m(\n\u001B[0;32m   3544\u001B[0m         \u001B[38;5;124mf\u001B[39m\u001B[38;5;124m\"\u001B[39m\u001B[38;5;124mItem wrong length \u001B[39m\u001B[38;5;132;01m{\u001B[39;00m\u001B[38;5;28mlen\u001B[39m(key)\u001B[38;5;132;01m}\u001B[39;00m\u001B[38;5;124m instead of \u001B[39m\u001B[38;5;132;01m{\u001B[39;00m\u001B[38;5;28mlen\u001B[39m(\u001B[38;5;28mself\u001B[39m\u001B[38;5;241m.\u001B[39mindex)\u001B[38;5;132;01m}\u001B[39;00m\u001B[38;5;124m.\u001B[39m\u001B[38;5;124m\"\u001B[39m\n\u001B[0;32m   3545\u001B[0m     )\n\u001B[0;32m   3547\u001B[0m \u001B[38;5;66;03m# check_bool_indexer will throw exception if Series key cannot\u001B[39;00m\n\u001B[0;32m   3548\u001B[0m \u001B[38;5;66;03m# be reindexed to match DataFrame rows\u001B[39;00m\n\u001B[1;32m-> 3549\u001B[0m key \u001B[38;5;241m=\u001B[39m \u001B[43mcheck_bool_indexer\u001B[49m\u001B[43m(\u001B[49m\u001B[38;5;28;43mself\u001B[39;49m\u001B[38;5;241;43m.\u001B[39;49m\u001B[43mindex\u001B[49m\u001B[43m,\u001B[49m\u001B[43m \u001B[49m\u001B[43mkey\u001B[49m\u001B[43m)\u001B[49m\n\u001B[0;32m   3550\u001B[0m indexer \u001B[38;5;241m=\u001B[39m key\u001B[38;5;241m.\u001B[39mnonzero()[\u001B[38;5;241m0\u001B[39m]\n\u001B[0;32m   3551\u001B[0m \u001B[38;5;28;01mreturn\u001B[39;00m \u001B[38;5;28mself\u001B[39m\u001B[38;5;241m.\u001B[39m_take_with_is_copy(indexer, axis\u001B[38;5;241m=\u001B[39m\u001B[38;5;241m0\u001B[39m)\n",
      "File \u001B[1;32mD:\\Work\\DST\\__environment\\venv\\lib\\site-packages\\pandas\\core\\indexing.py:2388\u001B[0m, in \u001B[0;36mcheck_bool_indexer\u001B[1;34m(index, key)\u001B[0m\n\u001B[0;32m   2386\u001B[0m     mask \u001B[38;5;241m=\u001B[39m isna(result\u001B[38;5;241m.\u001B[39m_values)\n\u001B[0;32m   2387\u001B[0m     \u001B[38;5;28;01mif\u001B[39;00m mask\u001B[38;5;241m.\u001B[39many():\n\u001B[1;32m-> 2388\u001B[0m         \u001B[38;5;28;01mraise\u001B[39;00m IndexingError(\n\u001B[0;32m   2389\u001B[0m             \u001B[38;5;124m\"\u001B[39m\u001B[38;5;124mUnalignable boolean Series provided as \u001B[39m\u001B[38;5;124m\"\u001B[39m\n\u001B[0;32m   2390\u001B[0m             \u001B[38;5;124m\"\u001B[39m\u001B[38;5;124mindexer (index of the boolean Series and of \u001B[39m\u001B[38;5;124m\"\u001B[39m\n\u001B[0;32m   2391\u001B[0m             \u001B[38;5;124m\"\u001B[39m\u001B[38;5;124mthe indexed object do not match).\u001B[39m\u001B[38;5;124m\"\u001B[39m\n\u001B[0;32m   2392\u001B[0m         )\n\u001B[0;32m   2393\u001B[0m     \u001B[38;5;28;01mreturn\u001B[39;00m result\u001B[38;5;241m.\u001B[39mastype(\u001B[38;5;28mbool\u001B[39m)\u001B[38;5;241m.\u001B[39m_values\n\u001B[0;32m   2394\u001B[0m \u001B[38;5;28;01mif\u001B[39;00m is_object_dtype(key):\n\u001B[0;32m   2395\u001B[0m     \u001B[38;5;66;03m# key might be object-dtype bool, check_array_indexer needs bool array\u001B[39;00m\n",
      "\u001B[1;31mIndexingError\u001B[0m: Unalignable boolean Series provided as indexer (index of the boolean Series and of the indexed object do not match)."
     ]
    }
   ],
   "source": [
    "df_no_usa = df[df['is_usa'] == 0]\n",
    "df_no_france = df[df_no_usa['country'] != 'France']"
   ],
   "metadata": {
    "collapsed": false,
    "pycharm": {
     "name": "#%%\n"
    }
   }
  },
  {
   "cell_type": "code",
   "execution_count": 60,
   "outputs": [
    {
     "data": {
      "text/plain": "US                        54504\nFrance                    22093\nItaly                     19540\nSpain                      6645\nPortugal                   5691\nChile                      4472\nArgentina                  3800\nAustria                    3345\nAustralia                  2329\nGermany                    2165\nNew Zealand                1419\nSouth Africa               1401\nIsrael                      505\nGreece                      466\nCanada                      257\nHungary                     146\nBulgaria                    141\nRomania                     120\nUruguay                     109\nTurkey                       90\nSlovenia                     87\nGeorgia                      86\nEngland                      74\nCroatia                      73\nMexico                       70\nMoldova                      59\nBrazil                       52\nLebanon                      35\nMorocco                      28\nPeru                         16\nUkraine                      14\nSerbia                       12\nCzech Republic               12\nMacedonia                    12\nCyprus                       11\nIndia                         9\nSwitzerland                   7\nLuxembourg                    6\nBosnia and Herzegovina        2\nArmenia                       2\nSlovakia                      1\nChina                         1\nEgypt                         1\nName: country, dtype: int64"
     },
     "execution_count": 60,
     "metadata": {},
     "output_type": "execute_result"
    }
   ],
   "source": [
    "df['country'].value_counts()"
   ],
   "metadata": {
    "collapsed": false,
    "pycharm": {
     "name": "#%%\n"
    }
   }
  },
  {
   "cell_type": "code",
   "execution_count": 61,
   "outputs": [],
   "source": [
    "df['is_france'] = df['country'].apply(lambda x: 1 if x == 'France' else 0)\n",
    "df['is_italy'] = df['country'].apply(lambda x: 1 if x == 'Italy' else 0)\n"
   ],
   "metadata": {
    "collapsed": false,
    "pycharm": {
     "name": "#%%\n"
    }
   }
  },
  {
   "cell_type": "code",
   "execution_count": 62,
   "outputs": [
    {
     "data": {
      "text/plain": "        Unnamed: 0 country                                        description  \\\n0                0   Italy  Aromas include tropical fruit, broom, brimston...   \n6                6   Italy  Here's a bright, informal red that opens with ...   \n13              13   Italy  This is dominated by oak and oak-driven aromas...   \n22              22   Italy  Delicate aromas recall white flower and citrus...   \n24              24   Italy  Aromas of prune, blackcurrant, toast and oak c...   \n...            ...     ...                                                ...   \n129929      129929   Italy  This luminous sparkler has a sweet, fruit-forw...   \n129943      129943   Italy  A blend of Nero d'Avola and Syrah, this convey...   \n129947      129947   Italy  A blend of 65% Cabernet Sauvignon, 30% Merlot ...   \n129961      129961   Italy  Intense aromas of wild cherry, baking spice, t...   \n129962      129962   Italy  Blackberry, cassis, grilled herb and toasted a...   \n\n                      designation  points      price           province  \\\n0                    Vulkà Bianco      87  35.363389  Sicily & Sardinia   \n6                         Belsito      87  16.000000  Sicily & Sardinia   \n13                          Rosso      87  35.363389  Sicily & Sardinia   \n22                      Ficiligno      87  19.000000  Sicily & Sardinia   \n24                          Aynat      87  35.000000  Sicily & Sardinia   \n...                           ...     ...        ...                ...   \n129929                    unknown      91  38.000000             Veneto   \n129943                    Adènzia      90  29.000000  Sicily & Sardinia   \n129947                   Symposio      90  20.000000  Sicily & Sardinia   \n129961                    unknown      90  30.000000  Sicily & Sardinia   \n129962  Sàgana Tenuta San Giacomo      90  40.000000  Sicily & Sardinia   \n\n                              region_1    taster_name taster_twitter_handle  \\\n0                                 Etna  Kerin O’Keefe          @kerinokeefe   \n6                             Vittoria  Kerin O’Keefe          @kerinokeefe   \n13                                Etna  Kerin O’Keefe          @kerinokeefe   \n22                             Sicilia  Kerin O’Keefe          @kerinokeefe   \n24                             Sicilia  Kerin O’Keefe          @kerinokeefe   \n...                                ...            ...                   ...   \n129929  Prosecco Superiore di Cartizze        unknown               unknown   \n129943                         Sicilia  Kerin O’Keefe          @kerinokeefe   \n129947                 Terre Siciliane  Kerin O’Keefe          @kerinokeefe   \n129961                         Sicilia  Kerin O’Keefe          @kerinokeefe   \n129962                         Sicilia  Kerin O’Keefe          @kerinokeefe   \n\n                                                    title            variety  \\\n0                       Nicosia 2013 Vulkà Bianco  (Etna)        White Blend   \n6        Terre di Giurfo 2013 Belsito Frappato (Vittoria)           Frappato   \n13                 Masseria Setteporte 2012 Rosso  (Etna)  Nerello Mascalese   \n22      Baglio di Pianetto 2007 Ficiligno White (Sicilia)        White Blend   \n24            Canicattì 2009 Aynat Nero d'Avola (Sicilia)       Nero d'Avola   \n...                                                   ...                ...   \n129929  Col Vetoraz Spumanti NV  Prosecco Superiore di...           Prosecco   \n129943  Baglio del Cristo di Campobello 2012 Adènzia R...          Red Blend   \n129947  Feudo Principi di Butera 2012 Symposio Red (Te...          Red Blend   \n129961                        COS 2013 Frappato (Sicilia)           Frappato   \n129962  Cusumano 2012 Sàgana Tenuta San Giacomo Nero d...       Nero d'Avola   \n\n                                 winery  price_round  year  is_usa  is_france  \\\n0                               Nicosia           35  2013       0          0   \n6                       Terre di Giurfo           16  2013       0          0   \n13                  Masseria Setteporte           35  2012       0          0   \n22                   Baglio di Pianetto           19  2007       0          0   \n24                            Canicattì           35  2009       0          0   \n...                                 ...          ...   ...     ...        ...   \n129929             Col Vetoraz Spumanti           38   NaN       0          0   \n129943  Baglio del Cristo di Campobello           29  2012       0          0   \n129947         Feudo Principi di Butera           20  2012       0          0   \n129961                              COS           30  2013       0          0   \n129962                         Cusumano           40  2012       0          0   \n\n        is_italy  \n0              1  \n6              1  \n13             1  \n22             1  \n24             1  \n...          ...  \n129929         1  \n129943         1  \n129947         1  \n129961         1  \n129962         1  \n\n[19540 rows x 18 columns]",
      "text/html": "<div>\n<style scoped>\n    .dataframe tbody tr th:only-of-type {\n        vertical-align: middle;\n    }\n\n    .dataframe tbody tr th {\n        vertical-align: top;\n    }\n\n    .dataframe thead th {\n        text-align: right;\n    }\n</style>\n<table border=\"1\" class=\"dataframe\">\n  <thead>\n    <tr style=\"text-align: right;\">\n      <th></th>\n      <th>Unnamed: 0</th>\n      <th>country</th>\n      <th>description</th>\n      <th>designation</th>\n      <th>points</th>\n      <th>price</th>\n      <th>province</th>\n      <th>region_1</th>\n      <th>taster_name</th>\n      <th>taster_twitter_handle</th>\n      <th>title</th>\n      <th>variety</th>\n      <th>winery</th>\n      <th>price_round</th>\n      <th>year</th>\n      <th>is_usa</th>\n      <th>is_france</th>\n      <th>is_italy</th>\n    </tr>\n  </thead>\n  <tbody>\n    <tr>\n      <th>0</th>\n      <td>0</td>\n      <td>Italy</td>\n      <td>Aromas include tropical fruit, broom, brimston...</td>\n      <td>Vulkà Bianco</td>\n      <td>87</td>\n      <td>35.363389</td>\n      <td>Sicily &amp; Sardinia</td>\n      <td>Etna</td>\n      <td>Kerin O’Keefe</td>\n      <td>@kerinokeefe</td>\n      <td>Nicosia 2013 Vulkà Bianco  (Etna)</td>\n      <td>White Blend</td>\n      <td>Nicosia</td>\n      <td>35</td>\n      <td>2013</td>\n      <td>0</td>\n      <td>0</td>\n      <td>1</td>\n    </tr>\n    <tr>\n      <th>6</th>\n      <td>6</td>\n      <td>Italy</td>\n      <td>Here's a bright, informal red that opens with ...</td>\n      <td>Belsito</td>\n      <td>87</td>\n      <td>16.000000</td>\n      <td>Sicily &amp; Sardinia</td>\n      <td>Vittoria</td>\n      <td>Kerin O’Keefe</td>\n      <td>@kerinokeefe</td>\n      <td>Terre di Giurfo 2013 Belsito Frappato (Vittoria)</td>\n      <td>Frappato</td>\n      <td>Terre di Giurfo</td>\n      <td>16</td>\n      <td>2013</td>\n      <td>0</td>\n      <td>0</td>\n      <td>1</td>\n    </tr>\n    <tr>\n      <th>13</th>\n      <td>13</td>\n      <td>Italy</td>\n      <td>This is dominated by oak and oak-driven aromas...</td>\n      <td>Rosso</td>\n      <td>87</td>\n      <td>35.363389</td>\n      <td>Sicily &amp; Sardinia</td>\n      <td>Etna</td>\n      <td>Kerin O’Keefe</td>\n      <td>@kerinokeefe</td>\n      <td>Masseria Setteporte 2012 Rosso  (Etna)</td>\n      <td>Nerello Mascalese</td>\n      <td>Masseria Setteporte</td>\n      <td>35</td>\n      <td>2012</td>\n      <td>0</td>\n      <td>0</td>\n      <td>1</td>\n    </tr>\n    <tr>\n      <th>22</th>\n      <td>22</td>\n      <td>Italy</td>\n      <td>Delicate aromas recall white flower and citrus...</td>\n      <td>Ficiligno</td>\n      <td>87</td>\n      <td>19.000000</td>\n      <td>Sicily &amp; Sardinia</td>\n      <td>Sicilia</td>\n      <td>Kerin O’Keefe</td>\n      <td>@kerinokeefe</td>\n      <td>Baglio di Pianetto 2007 Ficiligno White (Sicilia)</td>\n      <td>White Blend</td>\n      <td>Baglio di Pianetto</td>\n      <td>19</td>\n      <td>2007</td>\n      <td>0</td>\n      <td>0</td>\n      <td>1</td>\n    </tr>\n    <tr>\n      <th>24</th>\n      <td>24</td>\n      <td>Italy</td>\n      <td>Aromas of prune, blackcurrant, toast and oak c...</td>\n      <td>Aynat</td>\n      <td>87</td>\n      <td>35.000000</td>\n      <td>Sicily &amp; Sardinia</td>\n      <td>Sicilia</td>\n      <td>Kerin O’Keefe</td>\n      <td>@kerinokeefe</td>\n      <td>Canicattì 2009 Aynat Nero d'Avola (Sicilia)</td>\n      <td>Nero d'Avola</td>\n      <td>Canicattì</td>\n      <td>35</td>\n      <td>2009</td>\n      <td>0</td>\n      <td>0</td>\n      <td>1</td>\n    </tr>\n    <tr>\n      <th>...</th>\n      <td>...</td>\n      <td>...</td>\n      <td>...</td>\n      <td>...</td>\n      <td>...</td>\n      <td>...</td>\n      <td>...</td>\n      <td>...</td>\n      <td>...</td>\n      <td>...</td>\n      <td>...</td>\n      <td>...</td>\n      <td>...</td>\n      <td>...</td>\n      <td>...</td>\n      <td>...</td>\n      <td>...</td>\n      <td>...</td>\n    </tr>\n    <tr>\n      <th>129929</th>\n      <td>129929</td>\n      <td>Italy</td>\n      <td>This luminous sparkler has a sweet, fruit-forw...</td>\n      <td>unknown</td>\n      <td>91</td>\n      <td>38.000000</td>\n      <td>Veneto</td>\n      <td>Prosecco Superiore di Cartizze</td>\n      <td>unknown</td>\n      <td>unknown</td>\n      <td>Col Vetoraz Spumanti NV  Prosecco Superiore di...</td>\n      <td>Prosecco</td>\n      <td>Col Vetoraz Spumanti</td>\n      <td>38</td>\n      <td>NaN</td>\n      <td>0</td>\n      <td>0</td>\n      <td>1</td>\n    </tr>\n    <tr>\n      <th>129943</th>\n      <td>129943</td>\n      <td>Italy</td>\n      <td>A blend of Nero d'Avola and Syrah, this convey...</td>\n      <td>Adènzia</td>\n      <td>90</td>\n      <td>29.000000</td>\n      <td>Sicily &amp; Sardinia</td>\n      <td>Sicilia</td>\n      <td>Kerin O’Keefe</td>\n      <td>@kerinokeefe</td>\n      <td>Baglio del Cristo di Campobello 2012 Adènzia R...</td>\n      <td>Red Blend</td>\n      <td>Baglio del Cristo di Campobello</td>\n      <td>29</td>\n      <td>2012</td>\n      <td>0</td>\n      <td>0</td>\n      <td>1</td>\n    </tr>\n    <tr>\n      <th>129947</th>\n      <td>129947</td>\n      <td>Italy</td>\n      <td>A blend of 65% Cabernet Sauvignon, 30% Merlot ...</td>\n      <td>Symposio</td>\n      <td>90</td>\n      <td>20.000000</td>\n      <td>Sicily &amp; Sardinia</td>\n      <td>Terre Siciliane</td>\n      <td>Kerin O’Keefe</td>\n      <td>@kerinokeefe</td>\n      <td>Feudo Principi di Butera 2012 Symposio Red (Te...</td>\n      <td>Red Blend</td>\n      <td>Feudo Principi di Butera</td>\n      <td>20</td>\n      <td>2012</td>\n      <td>0</td>\n      <td>0</td>\n      <td>1</td>\n    </tr>\n    <tr>\n      <th>129961</th>\n      <td>129961</td>\n      <td>Italy</td>\n      <td>Intense aromas of wild cherry, baking spice, t...</td>\n      <td>unknown</td>\n      <td>90</td>\n      <td>30.000000</td>\n      <td>Sicily &amp; Sardinia</td>\n      <td>Sicilia</td>\n      <td>Kerin O’Keefe</td>\n      <td>@kerinokeefe</td>\n      <td>COS 2013 Frappato (Sicilia)</td>\n      <td>Frappato</td>\n      <td>COS</td>\n      <td>30</td>\n      <td>2013</td>\n      <td>0</td>\n      <td>0</td>\n      <td>1</td>\n    </tr>\n    <tr>\n      <th>129962</th>\n      <td>129962</td>\n      <td>Italy</td>\n      <td>Blackberry, cassis, grilled herb and toasted a...</td>\n      <td>Sàgana Tenuta San Giacomo</td>\n      <td>90</td>\n      <td>40.000000</td>\n      <td>Sicily &amp; Sardinia</td>\n      <td>Sicilia</td>\n      <td>Kerin O’Keefe</td>\n      <td>@kerinokeefe</td>\n      <td>Cusumano 2012 Sàgana Tenuta San Giacomo Nero d...</td>\n      <td>Nero d'Avola</td>\n      <td>Cusumano</td>\n      <td>40</td>\n      <td>2012</td>\n      <td>0</td>\n      <td>0</td>\n      <td>1</td>\n    </tr>\n  </tbody>\n</table>\n<p>19540 rows × 18 columns</p>\n</div>"
     },
     "execution_count": 62,
     "metadata": {},
     "output_type": "execute_result"
    }
   ],
   "source": [
    "df[df['is_italy'] == 1]"
   ],
   "metadata": {
    "collapsed": false,
    "pycharm": {
     "name": "#%%\n"
    }
   }
  },
  {
   "cell_type": "code",
   "execution_count": 63,
   "outputs": [
    {
     "data": {
      "text/plain": "        Unnamed: 0 country                                        description  \\\n7                7  France  This dry and restrained wine offers spice in p...   \n9                9  France  This has great depth of flavor with its fresh ...   \n11              11  France  This is a dry wine, very spicy, with a tight, ...   \n30              30  France  Red cherry fruit comes laced with light tannin...   \n42              42  France  This is a festive wine, with soft, ripe fruit ...   \n...            ...     ...                                                ...   \n129964      129964  France  Initially quite muted, this wine slowly develo...   \n129965      129965  France  While it's rich, this beautiful dry wine also ...   \n129968      129968  France  Well-drained gravel soil gives this wine its c...   \n129969      129969  France  A dry style of Pinot Gris, this is crisp with ...   \n129970      129970  France  Big, rich and off-dry, this is powered by inte...   \n\n                          designation  points      price    province  \\\n7                             unknown      87  24.000000      Alsace   \n9                         Les Natures      87  27.000000      Alsace   \n11                            unknown      87  30.000000      Alsace   \n30                            Nouveau      86  35.363389  Beaujolais   \n42                            Nouveau      86   9.000000  Beaujolais   \n...                               ...     ...        ...         ...   \n129964   Domaine Saint-Rémy Herrenweg      90  35.363389      Alsace   \n129965    Seppi Landmann Vallée Noble      90  28.000000      Alsace   \n129968                          Kritt      90  30.000000      Alsace   \n129969                        unknown      90  32.000000      Alsace   \n129970  Lieu-dit Harth Cuvée Caroline      90  21.000000      Alsace   \n\n                   region_1 taster_name taster_twitter_handle  \\\n7                    Alsace  Roger Voss            @vossroger   \n9                    Alsace  Roger Voss            @vossroger   \n11                   Alsace  Roger Voss            @vossroger   \n30      Beaujolais-Villages  Roger Voss            @vossroger   \n42               Beaujolais  Roger Voss            @vossroger   \n...                     ...         ...                   ...   \n129964               Alsace  Roger Voss            @vossroger   \n129965               Alsace  Roger Voss            @vossroger   \n129968               Alsace  Roger Voss            @vossroger   \n129969               Alsace  Roger Voss            @vossroger   \n129970               Alsace  Roger Voss            @vossroger   \n\n                                                    title         variety  \\\n7                   Trimbach 2012 Gewurztraminer (Alsace)  Gewürztraminer   \n9       Jean-Baptiste Adam 2012 Les Natures Pinot Gris...      Pinot Gris   \n11                Leon Beyer 2012 Gewurztraminer (Alsace)  Gewürztraminer   \n30      Domaine de la Madone 2012 Nouveau  (Beaujolais...           Gamay   \n42                 Henry Fessy 2012 Nouveau  (Beaujolais)           Gamay   \n...                                                   ...             ...   \n129964  Domaine Ehrhart 2013 Domaine Saint-Rémy Herren...  Gewürztraminer   \n129965  Domaine Rieflé-Landmann 2013 Seppi Landmann Va...      Pinot Gris   \n129968  Domaine Gresser 2013 Kritt Gewurztraminer (Als...  Gewürztraminer   \n129969      Domaine Marcel Deiss 2012 Pinot Gris (Alsace)      Pinot Gris   \n129970  Domaine Schoffit 2012 Lieu-dit Harth Cuvée Car...  Gewürztraminer   \n\n                         winery  price_round  year  is_usa  is_france  \\\n7                      Trimbach           24  2012       0          1   \n9            Jean-Baptiste Adam           27  2012       0          1   \n11                   Leon Beyer           30  2012       0          1   \n30         Domaine de la Madone           35  2012       0          1   \n42                  Henry Fessy            9  2012       0          1   \n...                         ...          ...   ...     ...        ...   \n129964          Domaine Ehrhart           35  2013       0          1   \n129965  Domaine Rieflé-Landmann           28  2013       0          1   \n129968          Domaine Gresser           30  2013       0          1   \n129969     Domaine Marcel Deiss           32  2012       0          1   \n129970         Domaine Schoffit           21  2012       0          1   \n\n        is_italy  \n7              0  \n9              0  \n11             0  \n30             0  \n42             0  \n...          ...  \n129964         0  \n129965         0  \n129968         0  \n129969         0  \n129970         0  \n\n[22093 rows x 18 columns]",
      "text/html": "<div>\n<style scoped>\n    .dataframe tbody tr th:only-of-type {\n        vertical-align: middle;\n    }\n\n    .dataframe tbody tr th {\n        vertical-align: top;\n    }\n\n    .dataframe thead th {\n        text-align: right;\n    }\n</style>\n<table border=\"1\" class=\"dataframe\">\n  <thead>\n    <tr style=\"text-align: right;\">\n      <th></th>\n      <th>Unnamed: 0</th>\n      <th>country</th>\n      <th>description</th>\n      <th>designation</th>\n      <th>points</th>\n      <th>price</th>\n      <th>province</th>\n      <th>region_1</th>\n      <th>taster_name</th>\n      <th>taster_twitter_handle</th>\n      <th>title</th>\n      <th>variety</th>\n      <th>winery</th>\n      <th>price_round</th>\n      <th>year</th>\n      <th>is_usa</th>\n      <th>is_france</th>\n      <th>is_italy</th>\n    </tr>\n  </thead>\n  <tbody>\n    <tr>\n      <th>7</th>\n      <td>7</td>\n      <td>France</td>\n      <td>This dry and restrained wine offers spice in p...</td>\n      <td>unknown</td>\n      <td>87</td>\n      <td>24.000000</td>\n      <td>Alsace</td>\n      <td>Alsace</td>\n      <td>Roger Voss</td>\n      <td>@vossroger</td>\n      <td>Trimbach 2012 Gewurztraminer (Alsace)</td>\n      <td>Gewürztraminer</td>\n      <td>Trimbach</td>\n      <td>24</td>\n      <td>2012</td>\n      <td>0</td>\n      <td>1</td>\n      <td>0</td>\n    </tr>\n    <tr>\n      <th>9</th>\n      <td>9</td>\n      <td>France</td>\n      <td>This has great depth of flavor with its fresh ...</td>\n      <td>Les Natures</td>\n      <td>87</td>\n      <td>27.000000</td>\n      <td>Alsace</td>\n      <td>Alsace</td>\n      <td>Roger Voss</td>\n      <td>@vossroger</td>\n      <td>Jean-Baptiste Adam 2012 Les Natures Pinot Gris...</td>\n      <td>Pinot Gris</td>\n      <td>Jean-Baptiste Adam</td>\n      <td>27</td>\n      <td>2012</td>\n      <td>0</td>\n      <td>1</td>\n      <td>0</td>\n    </tr>\n    <tr>\n      <th>11</th>\n      <td>11</td>\n      <td>France</td>\n      <td>This is a dry wine, very spicy, with a tight, ...</td>\n      <td>unknown</td>\n      <td>87</td>\n      <td>30.000000</td>\n      <td>Alsace</td>\n      <td>Alsace</td>\n      <td>Roger Voss</td>\n      <td>@vossroger</td>\n      <td>Leon Beyer 2012 Gewurztraminer (Alsace)</td>\n      <td>Gewürztraminer</td>\n      <td>Leon Beyer</td>\n      <td>30</td>\n      <td>2012</td>\n      <td>0</td>\n      <td>1</td>\n      <td>0</td>\n    </tr>\n    <tr>\n      <th>30</th>\n      <td>30</td>\n      <td>France</td>\n      <td>Red cherry fruit comes laced with light tannin...</td>\n      <td>Nouveau</td>\n      <td>86</td>\n      <td>35.363389</td>\n      <td>Beaujolais</td>\n      <td>Beaujolais-Villages</td>\n      <td>Roger Voss</td>\n      <td>@vossroger</td>\n      <td>Domaine de la Madone 2012 Nouveau  (Beaujolais...</td>\n      <td>Gamay</td>\n      <td>Domaine de la Madone</td>\n      <td>35</td>\n      <td>2012</td>\n      <td>0</td>\n      <td>1</td>\n      <td>0</td>\n    </tr>\n    <tr>\n      <th>42</th>\n      <td>42</td>\n      <td>France</td>\n      <td>This is a festive wine, with soft, ripe fruit ...</td>\n      <td>Nouveau</td>\n      <td>86</td>\n      <td>9.000000</td>\n      <td>Beaujolais</td>\n      <td>Beaujolais</td>\n      <td>Roger Voss</td>\n      <td>@vossroger</td>\n      <td>Henry Fessy 2012 Nouveau  (Beaujolais)</td>\n      <td>Gamay</td>\n      <td>Henry Fessy</td>\n      <td>9</td>\n      <td>2012</td>\n      <td>0</td>\n      <td>1</td>\n      <td>0</td>\n    </tr>\n    <tr>\n      <th>...</th>\n      <td>...</td>\n      <td>...</td>\n      <td>...</td>\n      <td>...</td>\n      <td>...</td>\n      <td>...</td>\n      <td>...</td>\n      <td>...</td>\n      <td>...</td>\n      <td>...</td>\n      <td>...</td>\n      <td>...</td>\n      <td>...</td>\n      <td>...</td>\n      <td>...</td>\n      <td>...</td>\n      <td>...</td>\n      <td>...</td>\n    </tr>\n    <tr>\n      <th>129964</th>\n      <td>129964</td>\n      <td>France</td>\n      <td>Initially quite muted, this wine slowly develo...</td>\n      <td>Domaine Saint-Rémy Herrenweg</td>\n      <td>90</td>\n      <td>35.363389</td>\n      <td>Alsace</td>\n      <td>Alsace</td>\n      <td>Roger Voss</td>\n      <td>@vossroger</td>\n      <td>Domaine Ehrhart 2013 Domaine Saint-Rémy Herren...</td>\n      <td>Gewürztraminer</td>\n      <td>Domaine Ehrhart</td>\n      <td>35</td>\n      <td>2013</td>\n      <td>0</td>\n      <td>1</td>\n      <td>0</td>\n    </tr>\n    <tr>\n      <th>129965</th>\n      <td>129965</td>\n      <td>France</td>\n      <td>While it's rich, this beautiful dry wine also ...</td>\n      <td>Seppi Landmann Vallée Noble</td>\n      <td>90</td>\n      <td>28.000000</td>\n      <td>Alsace</td>\n      <td>Alsace</td>\n      <td>Roger Voss</td>\n      <td>@vossroger</td>\n      <td>Domaine Rieflé-Landmann 2013 Seppi Landmann Va...</td>\n      <td>Pinot Gris</td>\n      <td>Domaine Rieflé-Landmann</td>\n      <td>28</td>\n      <td>2013</td>\n      <td>0</td>\n      <td>1</td>\n      <td>0</td>\n    </tr>\n    <tr>\n      <th>129968</th>\n      <td>129968</td>\n      <td>France</td>\n      <td>Well-drained gravel soil gives this wine its c...</td>\n      <td>Kritt</td>\n      <td>90</td>\n      <td>30.000000</td>\n      <td>Alsace</td>\n      <td>Alsace</td>\n      <td>Roger Voss</td>\n      <td>@vossroger</td>\n      <td>Domaine Gresser 2013 Kritt Gewurztraminer (Als...</td>\n      <td>Gewürztraminer</td>\n      <td>Domaine Gresser</td>\n      <td>30</td>\n      <td>2013</td>\n      <td>0</td>\n      <td>1</td>\n      <td>0</td>\n    </tr>\n    <tr>\n      <th>129969</th>\n      <td>129969</td>\n      <td>France</td>\n      <td>A dry style of Pinot Gris, this is crisp with ...</td>\n      <td>unknown</td>\n      <td>90</td>\n      <td>32.000000</td>\n      <td>Alsace</td>\n      <td>Alsace</td>\n      <td>Roger Voss</td>\n      <td>@vossroger</td>\n      <td>Domaine Marcel Deiss 2012 Pinot Gris (Alsace)</td>\n      <td>Pinot Gris</td>\n      <td>Domaine Marcel Deiss</td>\n      <td>32</td>\n      <td>2012</td>\n      <td>0</td>\n      <td>1</td>\n      <td>0</td>\n    </tr>\n    <tr>\n      <th>129970</th>\n      <td>129970</td>\n      <td>France</td>\n      <td>Big, rich and off-dry, this is powered by inte...</td>\n      <td>Lieu-dit Harth Cuvée Caroline</td>\n      <td>90</td>\n      <td>21.000000</td>\n      <td>Alsace</td>\n      <td>Alsace</td>\n      <td>Roger Voss</td>\n      <td>@vossroger</td>\n      <td>Domaine Schoffit 2012 Lieu-dit Harth Cuvée Car...</td>\n      <td>Gewürztraminer</td>\n      <td>Domaine Schoffit</td>\n      <td>21</td>\n      <td>2012</td>\n      <td>0</td>\n      <td>1</td>\n      <td>0</td>\n    </tr>\n  </tbody>\n</table>\n<p>22093 rows × 18 columns</p>\n</div>"
     },
     "execution_count": 63,
     "metadata": {},
     "output_type": "execute_result"
    }
   ],
   "source": [
    "df[df['is_france'] == 1]"
   ],
   "metadata": {
    "collapsed": false,
    "pycharm": {
     "name": "#%%\n"
    }
   }
  },
  {
   "cell_type": "code",
   "execution_count": 64,
   "outputs": [
    {
     "data": {
      "text/plain": "22093"
     },
     "execution_count": 64,
     "metadata": {},
     "output_type": "execute_result"
    }
   ],
   "source": [
    "df['is_france'].sum()"
   ],
   "metadata": {
    "collapsed": false,
    "pycharm": {
     "name": "#%%\n"
    }
   }
  },
  {
   "cell_type": "code",
   "execution_count": 65,
   "outputs": [
    {
     "data": {
      "text/plain": "19540"
     },
     "execution_count": 65,
     "metadata": {},
     "output_type": "execute_result"
    }
   ],
   "source": [
    "df['is_italy'].sum()"
   ],
   "metadata": {
    "collapsed": false,
    "pycharm": {
     "name": "#%%\n"
    }
   }
  },
  {
   "cell_type": "code",
   "execution_count": 66,
   "outputs": [],
   "source": [
    "df['year'] = pd.to_datetime(df['year'], errors='coerce')"
   ],
   "metadata": {
    "collapsed": false,
    "pycharm": {
     "name": "#%%\n"
    }
   }
  },
  {
   "cell_type": "code",
   "execution_count": 67,
   "outputs": [],
   "source": [
    "df['old_wine'] = df['year'].apply(lambda x: 1 if x.year < 2010 else 0)"
   ],
   "metadata": {
    "collapsed": false,
    "pycharm": {
     "name": "#%%\n"
    }
   }
  },
  {
   "cell_type": "code",
   "execution_count": 68,
   "outputs": [
    {
     "data": {
      "text/plain": "39765"
     },
     "execution_count": 68,
     "metadata": {},
     "output_type": "execute_result"
    }
   ],
   "source": [
    "df['old_wine'].sum()"
   ],
   "metadata": {
    "collapsed": false,
    "pycharm": {
     "name": "#%%\n"
    }
   }
  },
  {
   "cell_type": "code",
   "execution_count": 69,
   "outputs": [
    {
     "data": {
      "text/plain": "0                        Etna\n1                       Douro\n2           Willamette Valley\n3         Lake Michigan Shore\n4           Willamette Valley\n                 ...         \n129966                  Mosel\n129967                 Oregon\n129968                 Alsace\n129969                 Alsace\n129970                 Alsace\nName: locality, Length: 129971, dtype: object"
     },
     "execution_count": 69,
     "metadata": {},
     "output_type": "execute_result"
    }
   ],
   "source": [
    "df['locality'] = df['title'].str.findall('\\(([\\w\\s]+)\\)').str.get(0)\n",
    "df['locality']"
   ],
   "metadata": {
    "collapsed": false,
    "pycharm": {
     "name": "#%%\n"
    }
   }
  },
  {
   "cell_type": "code",
   "execution_count": 70,
   "outputs": [
    {
     "data": {
      "text/plain": "   country  population\n24   Italy  59,097,904",
      "text/html": "<div>\n<style scoped>\n    .dataframe tbody tr th:only-of-type {\n        vertical-align: middle;\n    }\n\n    .dataframe tbody tr th {\n        vertical-align: top;\n    }\n\n    .dataframe thead th {\n        text-align: right;\n    }\n</style>\n<table border=\"1\" class=\"dataframe\">\n  <thead>\n    <tr style=\"text-align: right;\">\n      <th></th>\n      <th>country</th>\n      <th>population</th>\n    </tr>\n  </thead>\n  <tbody>\n    <tr>\n      <th>24</th>\n      <td>Italy</td>\n      <td>59,097,904</td>\n    </tr>\n  </tbody>\n</table>\n</div>"
     },
     "execution_count": 70,
     "metadata": {},
     "output_type": "execute_result"
    }
   ],
   "source": [
    "country_population = pd.read_csv('data/country_population.zip', sep=';')\n",
    "country_population[country_population['country']=='Italy']"
   ],
   "metadata": {
    "collapsed": false,
    "pycharm": {
     "name": "#%%\n"
    }
   }
  },
  {
   "cell_type": "code",
   "execution_count": 79,
   "outputs": [
    {
     "name": "stdout",
     "output_type": "stream",
     "text": [
      "<class 'pandas.core.frame.DataFrame'>\n",
      "RangeIndex: 241 entries, 0 to 240\n",
      "Data columns (total 2 columns):\n",
      " #   Column      Non-Null Count  Dtype \n",
      "---  ------      --------------  ----- \n",
      " 0   country     241 non-null    object\n",
      " 1   population  241 non-null    object\n",
      "dtypes: object(2)\n",
      "memory usage: 3.9+ KB\n"
     ]
    }
   ],
   "source": [
    "country_population.info()"
   ],
   "metadata": {
    "collapsed": false,
    "pycharm": {
     "name": "#%%\n"
    }
   }
  },
  {
   "cell_type": "code",
   "execution_count": 81,
   "outputs": [],
   "source": [
    "df = df.join(country_population.set_index('country'), on='country')"
   ],
   "metadata": {
    "collapsed": false,
    "pycharm": {
     "name": "#%%\n"
    }
   }
  },
  {
   "cell_type": "code",
   "execution_count": 82,
   "outputs": [
    {
     "data": {
      "text/plain": "          country         area\n0          Russia  17075400.00\n1          Canada   9984670.00\n2           China   9596960.00\n3              US   9372610.00\n4          Brazil   8547000.00\n..            ...          ...\n188    San Marino        61.00\n189        Tuvalu        26.00\n190         Nauru        21.00\n191        Monaco         2.00\n192  Vatican City         0.44\n\n[193 rows x 2 columns]",
      "text/html": "<div>\n<style scoped>\n    .dataframe tbody tr th:only-of-type {\n        vertical-align: middle;\n    }\n\n    .dataframe tbody tr th {\n        vertical-align: top;\n    }\n\n    .dataframe thead th {\n        text-align: right;\n    }\n</style>\n<table border=\"1\" class=\"dataframe\">\n  <thead>\n    <tr style=\"text-align: right;\">\n      <th></th>\n      <th>country</th>\n      <th>area</th>\n    </tr>\n  </thead>\n  <tbody>\n    <tr>\n      <th>0</th>\n      <td>Russia</td>\n      <td>17075400.00</td>\n    </tr>\n    <tr>\n      <th>1</th>\n      <td>Canada</td>\n      <td>9984670.00</td>\n    </tr>\n    <tr>\n      <th>2</th>\n      <td>China</td>\n      <td>9596960.00</td>\n    </tr>\n    <tr>\n      <th>3</th>\n      <td>US</td>\n      <td>9372610.00</td>\n    </tr>\n    <tr>\n      <th>4</th>\n      <td>Brazil</td>\n      <td>8547000.00</td>\n    </tr>\n    <tr>\n      <th>...</th>\n      <td>...</td>\n      <td>...</td>\n    </tr>\n    <tr>\n      <th>188</th>\n      <td>San Marino</td>\n      <td>61.00</td>\n    </tr>\n    <tr>\n      <th>189</th>\n      <td>Tuvalu</td>\n      <td>26.00</td>\n    </tr>\n    <tr>\n      <th>190</th>\n      <td>Nauru</td>\n      <td>21.00</td>\n    </tr>\n    <tr>\n      <th>191</th>\n      <td>Monaco</td>\n      <td>2.00</td>\n    </tr>\n    <tr>\n      <th>192</th>\n      <td>Vatican City</td>\n      <td>0.44</td>\n    </tr>\n  </tbody>\n</table>\n<p>193 rows × 2 columns</p>\n</div>"
     },
     "execution_count": 82,
     "metadata": {},
     "output_type": "execute_result"
    }
   ],
   "source": [
    "country_area = pd.read_csv('data/country_area.zip', sep=';')\n",
    "country_area"
   ],
   "metadata": {
    "collapsed": false,
    "pycharm": {
     "name": "#%%\n"
    }
   }
  },
  {
   "cell_type": "code",
   "execution_count": 84,
   "outputs": [
    {
     "data": {
      "text/plain": "        Unnamed: 0   country  \\\n0                0     Italy   \n1                1  Portugal   \n2                2        US   \n3                3        US   \n4                4        US   \n...            ...       ...   \n129966      129966   Germany   \n129967      129967        US   \n129968      129968    France   \n129969      129969    France   \n129970      129970    France   \n\n                                              description  \\\n0       Aromas include tropical fruit, broom, brimston...   \n1       This is ripe and fruity, a wine that is smooth...   \n2       Tart and snappy, the flavors of lime flesh and...   \n3       Pineapple rind, lemon pith and orange blossom ...   \n4       Much like the regular bottling from 2012, this...   \n...                                                   ...   \n129966  Notes of honeysuckle and cantaloupe sweeten th...   \n129967  Citation is given as much as a decade of bottl...   \n129968  Well-drained gravel soil gives this wine its c...   \n129969  A dry style of Pinot Gris, this is crisp with ...   \n129970  Big, rich and off-dry, this is powered by inte...   \n\n                                   designation  points      price  \\\n0                                 Vulkà Bianco      87  35.363389   \n1                                     Avidagos      87  15.000000   \n2                                      unknown      87  14.000000   \n3                         Reserve Late Harvest      87  13.000000   \n4           Vintner's Reserve Wild Child Block      87  65.000000   \n...                                        ...     ...        ...   \n129966  Brauneberger Juffer-Sonnenuhr Spätlese      90  28.000000   \n129967                                 unknown      90  75.000000   \n129968                                   Kritt      90  30.000000   \n129969                                 unknown      90  32.000000   \n129970           Lieu-dit Harth Cuvée Caroline      90  21.000000   \n\n                 province             region_1         taster_name  \\\n0       Sicily & Sardinia                 Etna       Kerin O’Keefe   \n1                   Douro              unknown          Roger Voss   \n2                  Oregon    Willamette Valley        Paul Gregutt   \n3                Michigan  Lake Michigan Shore  Alexander Peartree   \n4                  Oregon    Willamette Valley        Paul Gregutt   \n...                   ...                  ...                 ...   \n129966              Mosel              unknown  Anna Lee C. Iijima   \n129967             Oregon               Oregon        Paul Gregutt   \n129968             Alsace               Alsace          Roger Voss   \n129969             Alsace               Alsace          Roger Voss   \n129970             Alsace               Alsace          Roger Voss   \n\n       taster_twitter_handle  ...                                    winery  \\\n0               @kerinokeefe  ...                                   Nicosia   \n1                 @vossroger  ...                       Quinta dos Avidagos   \n2                @paulgwine   ...                                 Rainstorm   \n3                    unknown  ...                                St. Julian   \n4                @paulgwine   ...                              Sweet Cheeks   \n...                      ...  ...                                       ...   \n129966               unknown  ...  Dr. H. Thanisch (Erben Müller-Burggraef)   \n129967           @paulgwine   ...                                  Citation   \n129968            @vossroger  ...                           Domaine Gresser   \n129969            @vossroger  ...                      Domaine Marcel Deiss   \n129970            @vossroger  ...                          Domaine Schoffit   \n\n       price_round       year  is_usa is_france  is_italy  old_wine  \\\n0               35 2013-01-01       0         0         1         0   \n1               15 2011-01-01       0         0         0         0   \n2               14 2013-01-01       1         0         0         0   \n3               13 2013-01-01       1         0         0         0   \n4               65 2012-01-01       1         0         0         0   \n...            ...        ...     ...       ...       ...       ...   \n129966          28 2013-01-01       0         0         0         0   \n129967          75 2004-01-01       1         0         0         1   \n129968          30 2013-01-01       0         1         0         0   \n129969          32 2012-01-01       0         1         0         0   \n129970          21 2012-01-01       0         1         0         0   \n\n                   locality   population       area  \n0                      Etna   59,097,904   301230.0  \n1                     Douro   10,347,892    92391.0  \n2         Willamette Valley  333,022,386  9372610.0  \n3       Lake Michigan Shore  333,022,386  9372610.0  \n4         Willamette Valley  333,022,386  9372610.0  \n...                     ...          ...        ...  \n129966                Mosel   83,129,285   357022.0  \n129967               Oregon  333,022,386  9372610.0  \n129968               Alsace   68,035,000   547030.0  \n129969               Alsace   68,035,000   547030.0  \n129970               Alsace   68,035,000   547030.0  \n\n[129972 rows x 22 columns]",
      "text/html": "<div>\n<style scoped>\n    .dataframe tbody tr th:only-of-type {\n        vertical-align: middle;\n    }\n\n    .dataframe tbody tr th {\n        vertical-align: top;\n    }\n\n    .dataframe thead th {\n        text-align: right;\n    }\n</style>\n<table border=\"1\" class=\"dataframe\">\n  <thead>\n    <tr style=\"text-align: right;\">\n      <th></th>\n      <th>Unnamed: 0</th>\n      <th>country</th>\n      <th>description</th>\n      <th>designation</th>\n      <th>points</th>\n      <th>price</th>\n      <th>province</th>\n      <th>region_1</th>\n      <th>taster_name</th>\n      <th>taster_twitter_handle</th>\n      <th>...</th>\n      <th>winery</th>\n      <th>price_round</th>\n      <th>year</th>\n      <th>is_usa</th>\n      <th>is_france</th>\n      <th>is_italy</th>\n      <th>old_wine</th>\n      <th>locality</th>\n      <th>population</th>\n      <th>area</th>\n    </tr>\n  </thead>\n  <tbody>\n    <tr>\n      <th>0</th>\n      <td>0</td>\n      <td>Italy</td>\n      <td>Aromas include tropical fruit, broom, brimston...</td>\n      <td>Vulkà Bianco</td>\n      <td>87</td>\n      <td>35.363389</td>\n      <td>Sicily &amp; Sardinia</td>\n      <td>Etna</td>\n      <td>Kerin O’Keefe</td>\n      <td>@kerinokeefe</td>\n      <td>...</td>\n      <td>Nicosia</td>\n      <td>35</td>\n      <td>2013-01-01</td>\n      <td>0</td>\n      <td>0</td>\n      <td>1</td>\n      <td>0</td>\n      <td>Etna</td>\n      <td>59,097,904</td>\n      <td>301230.0</td>\n    </tr>\n    <tr>\n      <th>1</th>\n      <td>1</td>\n      <td>Portugal</td>\n      <td>This is ripe and fruity, a wine that is smooth...</td>\n      <td>Avidagos</td>\n      <td>87</td>\n      <td>15.000000</td>\n      <td>Douro</td>\n      <td>unknown</td>\n      <td>Roger Voss</td>\n      <td>@vossroger</td>\n      <td>...</td>\n      <td>Quinta dos Avidagos</td>\n      <td>15</td>\n      <td>2011-01-01</td>\n      <td>0</td>\n      <td>0</td>\n      <td>0</td>\n      <td>0</td>\n      <td>Douro</td>\n      <td>10,347,892</td>\n      <td>92391.0</td>\n    </tr>\n    <tr>\n      <th>2</th>\n      <td>2</td>\n      <td>US</td>\n      <td>Tart and snappy, the flavors of lime flesh and...</td>\n      <td>unknown</td>\n      <td>87</td>\n      <td>14.000000</td>\n      <td>Oregon</td>\n      <td>Willamette Valley</td>\n      <td>Paul Gregutt</td>\n      <td>@paulgwine</td>\n      <td>...</td>\n      <td>Rainstorm</td>\n      <td>14</td>\n      <td>2013-01-01</td>\n      <td>1</td>\n      <td>0</td>\n      <td>0</td>\n      <td>0</td>\n      <td>Willamette Valley</td>\n      <td>333,022,386</td>\n      <td>9372610.0</td>\n    </tr>\n    <tr>\n      <th>3</th>\n      <td>3</td>\n      <td>US</td>\n      <td>Pineapple rind, lemon pith and orange blossom ...</td>\n      <td>Reserve Late Harvest</td>\n      <td>87</td>\n      <td>13.000000</td>\n      <td>Michigan</td>\n      <td>Lake Michigan Shore</td>\n      <td>Alexander Peartree</td>\n      <td>unknown</td>\n      <td>...</td>\n      <td>St. Julian</td>\n      <td>13</td>\n      <td>2013-01-01</td>\n      <td>1</td>\n      <td>0</td>\n      <td>0</td>\n      <td>0</td>\n      <td>Lake Michigan Shore</td>\n      <td>333,022,386</td>\n      <td>9372610.0</td>\n    </tr>\n    <tr>\n      <th>4</th>\n      <td>4</td>\n      <td>US</td>\n      <td>Much like the regular bottling from 2012, this...</td>\n      <td>Vintner's Reserve Wild Child Block</td>\n      <td>87</td>\n      <td>65.000000</td>\n      <td>Oregon</td>\n      <td>Willamette Valley</td>\n      <td>Paul Gregutt</td>\n      <td>@paulgwine</td>\n      <td>...</td>\n      <td>Sweet Cheeks</td>\n      <td>65</td>\n      <td>2012-01-01</td>\n      <td>1</td>\n      <td>0</td>\n      <td>0</td>\n      <td>0</td>\n      <td>Willamette Valley</td>\n      <td>333,022,386</td>\n      <td>9372610.0</td>\n    </tr>\n    <tr>\n      <th>...</th>\n      <td>...</td>\n      <td>...</td>\n      <td>...</td>\n      <td>...</td>\n      <td>...</td>\n      <td>...</td>\n      <td>...</td>\n      <td>...</td>\n      <td>...</td>\n      <td>...</td>\n      <td>...</td>\n      <td>...</td>\n      <td>...</td>\n      <td>...</td>\n      <td>...</td>\n      <td>...</td>\n      <td>...</td>\n      <td>...</td>\n      <td>...</td>\n      <td>...</td>\n      <td>...</td>\n    </tr>\n    <tr>\n      <th>129966</th>\n      <td>129966</td>\n      <td>Germany</td>\n      <td>Notes of honeysuckle and cantaloupe sweeten th...</td>\n      <td>Brauneberger Juffer-Sonnenuhr Spätlese</td>\n      <td>90</td>\n      <td>28.000000</td>\n      <td>Mosel</td>\n      <td>unknown</td>\n      <td>Anna Lee C. Iijima</td>\n      <td>unknown</td>\n      <td>...</td>\n      <td>Dr. H. Thanisch (Erben Müller-Burggraef)</td>\n      <td>28</td>\n      <td>2013-01-01</td>\n      <td>0</td>\n      <td>0</td>\n      <td>0</td>\n      <td>0</td>\n      <td>Mosel</td>\n      <td>83,129,285</td>\n      <td>357022.0</td>\n    </tr>\n    <tr>\n      <th>129967</th>\n      <td>129967</td>\n      <td>US</td>\n      <td>Citation is given as much as a decade of bottl...</td>\n      <td>unknown</td>\n      <td>90</td>\n      <td>75.000000</td>\n      <td>Oregon</td>\n      <td>Oregon</td>\n      <td>Paul Gregutt</td>\n      <td>@paulgwine</td>\n      <td>...</td>\n      <td>Citation</td>\n      <td>75</td>\n      <td>2004-01-01</td>\n      <td>1</td>\n      <td>0</td>\n      <td>0</td>\n      <td>1</td>\n      <td>Oregon</td>\n      <td>333,022,386</td>\n      <td>9372610.0</td>\n    </tr>\n    <tr>\n      <th>129968</th>\n      <td>129968</td>\n      <td>France</td>\n      <td>Well-drained gravel soil gives this wine its c...</td>\n      <td>Kritt</td>\n      <td>90</td>\n      <td>30.000000</td>\n      <td>Alsace</td>\n      <td>Alsace</td>\n      <td>Roger Voss</td>\n      <td>@vossroger</td>\n      <td>...</td>\n      <td>Domaine Gresser</td>\n      <td>30</td>\n      <td>2013-01-01</td>\n      <td>0</td>\n      <td>1</td>\n      <td>0</td>\n      <td>0</td>\n      <td>Alsace</td>\n      <td>68,035,000</td>\n      <td>547030.0</td>\n    </tr>\n    <tr>\n      <th>129969</th>\n      <td>129969</td>\n      <td>France</td>\n      <td>A dry style of Pinot Gris, this is crisp with ...</td>\n      <td>unknown</td>\n      <td>90</td>\n      <td>32.000000</td>\n      <td>Alsace</td>\n      <td>Alsace</td>\n      <td>Roger Voss</td>\n      <td>@vossroger</td>\n      <td>...</td>\n      <td>Domaine Marcel Deiss</td>\n      <td>32</td>\n      <td>2012-01-01</td>\n      <td>0</td>\n      <td>1</td>\n      <td>0</td>\n      <td>0</td>\n      <td>Alsace</td>\n      <td>68,035,000</td>\n      <td>547030.0</td>\n    </tr>\n    <tr>\n      <th>129970</th>\n      <td>129970</td>\n      <td>France</td>\n      <td>Big, rich and off-dry, this is powered by inte...</td>\n      <td>Lieu-dit Harth Cuvée Caroline</td>\n      <td>90</td>\n      <td>21.000000</td>\n      <td>Alsace</td>\n      <td>Alsace</td>\n      <td>Roger Voss</td>\n      <td>@vossroger</td>\n      <td>...</td>\n      <td>Domaine Schoffit</td>\n      <td>21</td>\n      <td>2012-01-01</td>\n      <td>0</td>\n      <td>1</td>\n      <td>0</td>\n      <td>0</td>\n      <td>Alsace</td>\n      <td>68,035,000</td>\n      <td>547030.0</td>\n    </tr>\n  </tbody>\n</table>\n<p>129972 rows × 22 columns</p>\n</div>"
     },
     "execution_count": 84,
     "metadata": {},
     "output_type": "execute_result"
    }
   ],
   "source": [
    "df = df.join(country_area.set_index('country'), on='country')\n",
    "df"
   ],
   "metadata": {
    "collapsed": false,
    "pycharm": {
     "name": "#%%\n"
    }
   }
  },
  {
   "cell_type": "code",
   "execution_count": 90,
   "outputs": [
    {
     "data": {
      "text/plain": "    Unnamed: 0 country                                        description  \\\n94          94      US  Barrel notes are prominent, with aromas of Cre...   \n\n                                designation  points  price    province  \\\n94  Grand Klasse Reserve Lawrence Vineyards      88   22.0  Washington   \n\n                region_1       taster_name taster_twitter_handle  ... winery  \\\n94  Columbia Valley (WA)  Sean P. Sullivan         @wawinereport  ...   Gård   \n\n   price_round       year  is_usa is_france  is_italy  old_wine  locality  \\\n94          22 2014-01-01       1         0         0         0        WA   \n\n     population       area  \n94  333,022,386  9372610.0  \n\n[1 rows x 22 columns]",
      "text/html": "<div>\n<style scoped>\n    .dataframe tbody tr th:only-of-type {\n        vertical-align: middle;\n    }\n\n    .dataframe tbody tr th {\n        vertical-align: top;\n    }\n\n    .dataframe thead th {\n        text-align: right;\n    }\n</style>\n<table border=\"1\" class=\"dataframe\">\n  <thead>\n    <tr style=\"text-align: right;\">\n      <th></th>\n      <th>Unnamed: 0</th>\n      <th>country</th>\n      <th>description</th>\n      <th>designation</th>\n      <th>points</th>\n      <th>price</th>\n      <th>province</th>\n      <th>region_1</th>\n      <th>taster_name</th>\n      <th>taster_twitter_handle</th>\n      <th>...</th>\n      <th>winery</th>\n      <th>price_round</th>\n      <th>year</th>\n      <th>is_usa</th>\n      <th>is_france</th>\n      <th>is_italy</th>\n      <th>old_wine</th>\n      <th>locality</th>\n      <th>population</th>\n      <th>area</th>\n    </tr>\n  </thead>\n  <tbody>\n    <tr>\n      <th>94</th>\n      <td>94</td>\n      <td>US</td>\n      <td>Barrel notes are prominent, with aromas of Cre...</td>\n      <td>Grand Klasse Reserve Lawrence Vineyards</td>\n      <td>88</td>\n      <td>22.0</td>\n      <td>Washington</td>\n      <td>Columbia Valley (WA)</td>\n      <td>Sean P. Sullivan</td>\n      <td>@wawinereport</td>\n      <td>...</td>\n      <td>Gård</td>\n      <td>22</td>\n      <td>2014-01-01</td>\n      <td>1</td>\n      <td>0</td>\n      <td>0</td>\n      <td>0</td>\n      <td>WA</td>\n      <td>333,022,386</td>\n      <td>9372610.0</td>\n    </tr>\n  </tbody>\n</table>\n<p>1 rows × 22 columns</p>\n</div>"
     },
     "execution_count": 90,
     "metadata": {},
     "output_type": "execute_result"
    }
   ],
   "source": [
    "df[df['title'] == 'Gård 2014 Grand Klasse Reserve Lawrence Vineyards Viognier (Columbia Valley (WA))']"
   ],
   "metadata": {
    "collapsed": false,
    "pycharm": {
     "name": "#%%\n"
    }
   }
  },
  {
   "cell_type": "code",
   "execution_count": 91,
   "outputs": [
    {
     "data": {
      "text/plain": "   client_id          agent_date          created_at            end_date\n0        460 2013-12-17 04:55:39 2013-12-17 04:55:44 2013-12-17 04:55:45\n1         12 2013-12-16 20:03:20 2013-12-16 20:03:22 2013-12-16 20:07:13\n2         56 2013-12-16 20:03:20 2013-12-16 20:03:20 2013-12-16 20:05:04\n3        980 2013-12-16 20:03:20 2013-12-16 20:03:27 2013-12-16 20:03:29\n4        396 2013-12-16 20:08:27 2013-12-16 20:08:28 2013-12-16 20:12:03\n5        449 2013-12-16 20:03:20 2013-12-16 20:03:25 2013-12-16 20:05:00\n6        397 2013-12-16 20:08:25 2013-12-16 20:08:27 2013-12-16 20:09:59\n7        398 2013-12-16 20:01:23 2013-12-16 20:01:23 2013-12-16 20:04:58\n8        452 2013-12-16 20:03:20 2013-12-16 20:03:21 2013-12-16 20:04:55\n9        440 2013-12-16 20:03:20 2013-12-16 20:04:26 2013-12-16 20:04:32",
      "text/html": "<div>\n<style scoped>\n    .dataframe tbody tr th:only-of-type {\n        vertical-align: middle;\n    }\n\n    .dataframe tbody tr th {\n        vertical-align: top;\n    }\n\n    .dataframe thead th {\n        text-align: right;\n    }\n</style>\n<table border=\"1\" class=\"dataframe\">\n  <thead>\n    <tr style=\"text-align: right;\">\n      <th></th>\n      <th>client_id</th>\n      <th>agent_date</th>\n      <th>created_at</th>\n      <th>end_date</th>\n    </tr>\n  </thead>\n  <tbody>\n    <tr>\n      <th>0</th>\n      <td>460</td>\n      <td>2013-12-17 04:55:39</td>\n      <td>2013-12-17 04:55:44</td>\n      <td>2013-12-17 04:55:45</td>\n    </tr>\n    <tr>\n      <th>1</th>\n      <td>12</td>\n      <td>2013-12-16 20:03:20</td>\n      <td>2013-12-16 20:03:22</td>\n      <td>2013-12-16 20:07:13</td>\n    </tr>\n    <tr>\n      <th>2</th>\n      <td>56</td>\n      <td>2013-12-16 20:03:20</td>\n      <td>2013-12-16 20:03:20</td>\n      <td>2013-12-16 20:05:04</td>\n    </tr>\n    <tr>\n      <th>3</th>\n      <td>980</td>\n      <td>2013-12-16 20:03:20</td>\n      <td>2013-12-16 20:03:27</td>\n      <td>2013-12-16 20:03:29</td>\n    </tr>\n    <tr>\n      <th>4</th>\n      <td>396</td>\n      <td>2013-12-16 20:08:27</td>\n      <td>2013-12-16 20:08:28</td>\n      <td>2013-12-16 20:12:03</td>\n    </tr>\n    <tr>\n      <th>5</th>\n      <td>449</td>\n      <td>2013-12-16 20:03:20</td>\n      <td>2013-12-16 20:03:25</td>\n      <td>2013-12-16 20:05:00</td>\n    </tr>\n    <tr>\n      <th>6</th>\n      <td>397</td>\n      <td>2013-12-16 20:08:25</td>\n      <td>2013-12-16 20:08:27</td>\n      <td>2013-12-16 20:09:59</td>\n    </tr>\n    <tr>\n      <th>7</th>\n      <td>398</td>\n      <td>2013-12-16 20:01:23</td>\n      <td>2013-12-16 20:01:23</td>\n      <td>2013-12-16 20:04:58</td>\n    </tr>\n    <tr>\n      <th>8</th>\n      <td>452</td>\n      <td>2013-12-16 20:03:20</td>\n      <td>2013-12-16 20:03:21</td>\n      <td>2013-12-16 20:04:55</td>\n    </tr>\n    <tr>\n      <th>9</th>\n      <td>440</td>\n      <td>2013-12-16 20:03:20</td>\n      <td>2013-12-16 20:04:26</td>\n      <td>2013-12-16 20:04:32</td>\n    </tr>\n  </tbody>\n</table>\n</div>"
     },
     "execution_count": 91,
     "metadata": {},
     "output_type": "execute_result"
    }
   ],
   "source": [
    "# инициализируем информацию о звонках\n",
    "calls_list = [\n",
    "    [460, '2013-12-17 04:55:39', '2013-12-17 04:55:44', '2013-12-17 04:55:45'],\n",
    "    [12, '2013-12-16 20:03:20', '2013-12-16 20:03:22', '2013-12-16 20:07:13'],\n",
    "    [56, '2013-12-16 20:03:20', '2013-12-16 20:03:20', '2013-12-16 20:05:04'],\n",
    "    [980, '2013-12-16 20:03:20','2013-12-16 20:03:27', '2013-12-16 20:03:29'],\n",
    "    [396, '2013-12-16 20:08:27', '2013-12-16 20:08:28','2013-12-16 20:12:03'],\n",
    "    [449, '2013-12-16 20:03:20', '2013-12-16 20:03:25','2013-12-16 20:05:00'],\n",
    "    [397, '2013-12-16 20:08:25', '2013-12-16 20:08:27', '2013-12-16 20:09:59'],\n",
    "    [398, '2013-12-16 20:01:23', '2013-12-16 20:01:23', '2013-12-16 20:04:58'],\n",
    "    [452, '2013-12-16 20:03:20', '2013-12-16 20:03:21','2013-12-16 20:04:55'],\n",
    "    [440, '2013-12-16 20:03:20', '2013-12-16 20:04:26', '2013-12-16 20:04:32']\n",
    "]\n",
    "\n",
    "calls = pd.DataFrame(calls_list, columns = ['client_id',  'agent_date', 'created_at' ,'end_date'])\n",
    "\n",
    "# преобразовываем признаки в формат datetime для удобной работы\n",
    "\n",
    "calls['agent_date'] = pd.to_datetime(calls['agent_date'])\n",
    "calls['created_at'] = pd.to_datetime(calls['created_at'])\n",
    "calls['end_date'] = pd.to_datetime(calls['end_date'])\n",
    "\n",
    "calls"
   ],
   "metadata": {
    "collapsed": false,
    "pycharm": {
     "name": "#%%\n"
    }
   }
  },
  {
   "cell_type": "code",
   "execution_count": 92,
   "outputs": [
    {
     "data": {
      "text/plain": "   client_id          agent_date          created_at            end_date  \\\n0        460 2013-12-17 04:55:39 2013-12-17 04:55:44 2013-12-17 04:55:45   \n1         12 2013-12-16 20:03:20 2013-12-16 20:03:22 2013-12-16 20:07:13   \n2         56 2013-12-16 20:03:20 2013-12-16 20:03:20 2013-12-16 20:05:04   \n3        980 2013-12-16 20:03:20 2013-12-16 20:03:27 2013-12-16 20:03:29   \n4        396 2013-12-16 20:08:27 2013-12-16 20:08:28 2013-12-16 20:12:03   \n5        449 2013-12-16 20:03:20 2013-12-16 20:03:25 2013-12-16 20:05:00   \n6        397 2013-12-16 20:08:25 2013-12-16 20:08:27 2013-12-16 20:09:59   \n7        398 2013-12-16 20:01:23 2013-12-16 20:01:23 2013-12-16 20:04:58   \n8        452 2013-12-16 20:03:20 2013-12-16 20:03:21 2013-12-16 20:04:55   \n9        440 2013-12-16 20:03:20 2013-12-16 20:04:26 2013-12-16 20:04:32   \n\n   duration  \n0         1  \n1       231  \n2       104  \n3         2  \n4       215  \n5        95  \n6        92  \n7       215  \n8        94  \n9         6  ",
      "text/html": "<div>\n<style scoped>\n    .dataframe tbody tr th:only-of-type {\n        vertical-align: middle;\n    }\n\n    .dataframe tbody tr th {\n        vertical-align: top;\n    }\n\n    .dataframe thead th {\n        text-align: right;\n    }\n</style>\n<table border=\"1\" class=\"dataframe\">\n  <thead>\n    <tr style=\"text-align: right;\">\n      <th></th>\n      <th>client_id</th>\n      <th>agent_date</th>\n      <th>created_at</th>\n      <th>end_date</th>\n      <th>duration</th>\n    </tr>\n  </thead>\n  <tbody>\n    <tr>\n      <th>0</th>\n      <td>460</td>\n      <td>2013-12-17 04:55:39</td>\n      <td>2013-12-17 04:55:44</td>\n      <td>2013-12-17 04:55:45</td>\n      <td>1</td>\n    </tr>\n    <tr>\n      <th>1</th>\n      <td>12</td>\n      <td>2013-12-16 20:03:20</td>\n      <td>2013-12-16 20:03:22</td>\n      <td>2013-12-16 20:07:13</td>\n      <td>231</td>\n    </tr>\n    <tr>\n      <th>2</th>\n      <td>56</td>\n      <td>2013-12-16 20:03:20</td>\n      <td>2013-12-16 20:03:20</td>\n      <td>2013-12-16 20:05:04</td>\n      <td>104</td>\n    </tr>\n    <tr>\n      <th>3</th>\n      <td>980</td>\n      <td>2013-12-16 20:03:20</td>\n      <td>2013-12-16 20:03:27</td>\n      <td>2013-12-16 20:03:29</td>\n      <td>2</td>\n    </tr>\n    <tr>\n      <th>4</th>\n      <td>396</td>\n      <td>2013-12-16 20:08:27</td>\n      <td>2013-12-16 20:08:28</td>\n      <td>2013-12-16 20:12:03</td>\n      <td>215</td>\n    </tr>\n    <tr>\n      <th>5</th>\n      <td>449</td>\n      <td>2013-12-16 20:03:20</td>\n      <td>2013-12-16 20:03:25</td>\n      <td>2013-12-16 20:05:00</td>\n      <td>95</td>\n    </tr>\n    <tr>\n      <th>6</th>\n      <td>397</td>\n      <td>2013-12-16 20:08:25</td>\n      <td>2013-12-16 20:08:27</td>\n      <td>2013-12-16 20:09:59</td>\n      <td>92</td>\n    </tr>\n    <tr>\n      <th>7</th>\n      <td>398</td>\n      <td>2013-12-16 20:01:23</td>\n      <td>2013-12-16 20:01:23</td>\n      <td>2013-12-16 20:04:58</td>\n      <td>215</td>\n    </tr>\n    <tr>\n      <th>8</th>\n      <td>452</td>\n      <td>2013-12-16 20:03:20</td>\n      <td>2013-12-16 20:03:21</td>\n      <td>2013-12-16 20:04:55</td>\n      <td>94</td>\n    </tr>\n    <tr>\n      <th>9</th>\n      <td>440</td>\n      <td>2013-12-16 20:03:20</td>\n      <td>2013-12-16 20:04:26</td>\n      <td>2013-12-16 20:04:32</td>\n      <td>6</td>\n    </tr>\n  </tbody>\n</table>\n</div>"
     },
     "execution_count": 92,
     "metadata": {},
     "output_type": "execute_result"
    }
   ],
   "source": [
    "calls['duration'] = (calls['end_date'] - calls['created_at']).dt.seconds\n",
    "calls"
   ],
   "metadata": {
    "collapsed": false,
    "pycharm": {
     "name": "#%%\n"
    }
   }
  },
  {
   "cell_type": "code",
   "execution_count": 94,
   "outputs": [
    {
     "data": {
      "text/plain": "   client_id          agent_date          created_at            end_date  \\\n0        460 2013-12-17 04:55:39 2013-12-17 04:55:44 2013-12-17 04:55:45   \n1         12 2013-12-16 20:03:20 2013-12-16 20:03:22 2013-12-16 20:07:13   \n2         56 2013-12-16 20:03:20 2013-12-16 20:03:20 2013-12-16 20:05:04   \n3        980 2013-12-16 20:03:20 2013-12-16 20:03:27 2013-12-16 20:03:29   \n4        396 2013-12-16 20:08:27 2013-12-16 20:08:28 2013-12-16 20:12:03   \n5        449 2013-12-16 20:03:20 2013-12-16 20:03:25 2013-12-16 20:05:00   \n6        397 2013-12-16 20:08:25 2013-12-16 20:08:27 2013-12-16 20:09:59   \n7        398 2013-12-16 20:01:23 2013-12-16 20:01:23 2013-12-16 20:04:58   \n8        452 2013-12-16 20:03:20 2013-12-16 20:03:21 2013-12-16 20:04:55   \n9        440 2013-12-16 20:03:20 2013-12-16 20:04:26 2013-12-16 20:04:32   \n\n   duration  time_connection  \n0         1                5  \n1       231                2  \n2       104                0  \n3         2                7  \n4       215                1  \n5        95                5  \n6        92                2  \n7       215                0  \n8        94                1  \n9         6               66  ",
      "text/html": "<div>\n<style scoped>\n    .dataframe tbody tr th:only-of-type {\n        vertical-align: middle;\n    }\n\n    .dataframe tbody tr th {\n        vertical-align: top;\n    }\n\n    .dataframe thead th {\n        text-align: right;\n    }\n</style>\n<table border=\"1\" class=\"dataframe\">\n  <thead>\n    <tr style=\"text-align: right;\">\n      <th></th>\n      <th>client_id</th>\n      <th>agent_date</th>\n      <th>created_at</th>\n      <th>end_date</th>\n      <th>duration</th>\n      <th>time_connection</th>\n    </tr>\n  </thead>\n  <tbody>\n    <tr>\n      <th>0</th>\n      <td>460</td>\n      <td>2013-12-17 04:55:39</td>\n      <td>2013-12-17 04:55:44</td>\n      <td>2013-12-17 04:55:45</td>\n      <td>1</td>\n      <td>5</td>\n    </tr>\n    <tr>\n      <th>1</th>\n      <td>12</td>\n      <td>2013-12-16 20:03:20</td>\n      <td>2013-12-16 20:03:22</td>\n      <td>2013-12-16 20:07:13</td>\n      <td>231</td>\n      <td>2</td>\n    </tr>\n    <tr>\n      <th>2</th>\n      <td>56</td>\n      <td>2013-12-16 20:03:20</td>\n      <td>2013-12-16 20:03:20</td>\n      <td>2013-12-16 20:05:04</td>\n      <td>104</td>\n      <td>0</td>\n    </tr>\n    <tr>\n      <th>3</th>\n      <td>980</td>\n      <td>2013-12-16 20:03:20</td>\n      <td>2013-12-16 20:03:27</td>\n      <td>2013-12-16 20:03:29</td>\n      <td>2</td>\n      <td>7</td>\n    </tr>\n    <tr>\n      <th>4</th>\n      <td>396</td>\n      <td>2013-12-16 20:08:27</td>\n      <td>2013-12-16 20:08:28</td>\n      <td>2013-12-16 20:12:03</td>\n      <td>215</td>\n      <td>1</td>\n    </tr>\n    <tr>\n      <th>5</th>\n      <td>449</td>\n      <td>2013-12-16 20:03:20</td>\n      <td>2013-12-16 20:03:25</td>\n      <td>2013-12-16 20:05:00</td>\n      <td>95</td>\n      <td>5</td>\n    </tr>\n    <tr>\n      <th>6</th>\n      <td>397</td>\n      <td>2013-12-16 20:08:25</td>\n      <td>2013-12-16 20:08:27</td>\n      <td>2013-12-16 20:09:59</td>\n      <td>92</td>\n      <td>2</td>\n    </tr>\n    <tr>\n      <th>7</th>\n      <td>398</td>\n      <td>2013-12-16 20:01:23</td>\n      <td>2013-12-16 20:01:23</td>\n      <td>2013-12-16 20:04:58</td>\n      <td>215</td>\n      <td>0</td>\n    </tr>\n    <tr>\n      <th>8</th>\n      <td>452</td>\n      <td>2013-12-16 20:03:20</td>\n      <td>2013-12-16 20:03:21</td>\n      <td>2013-12-16 20:04:55</td>\n      <td>94</td>\n      <td>1</td>\n    </tr>\n    <tr>\n      <th>9</th>\n      <td>440</td>\n      <td>2013-12-16 20:03:20</td>\n      <td>2013-12-16 20:04:26</td>\n      <td>2013-12-16 20:04:32</td>\n      <td>6</td>\n      <td>66</td>\n    </tr>\n  </tbody>\n</table>\n</div>"
     },
     "execution_count": 94,
     "metadata": {},
     "output_type": "execute_result"
    }
   ],
   "source": [
    "calls['time_connection'] = (calls['created_at'] - calls['agent_date']).dt.seconds\n",
    "calls"
   ],
   "metadata": {
    "collapsed": false,
    "pycharm": {
     "name": "#%%\n"
    }
   }
  },
  {
   "cell_type": "code",
   "execution_count": 95,
   "outputs": [
    {
     "data": {
      "text/plain": "89"
     },
     "execution_count": 95,
     "metadata": {},
     "output_type": "execute_result"
    }
   ],
   "source": [
    "calls['time_connection'].sum()"
   ],
   "metadata": {
    "collapsed": false,
    "pycharm": {
     "name": "#%%\n"
    }
   }
  },
  {
   "cell_type": "code",
   "execution_count": 96,
   "outputs": [
    {
     "data": {
      "text/plain": "   client_id          agent_date          created_at            end_date  \\\n0        460 2013-12-17 04:55:39 2013-12-17 04:55:44 2013-12-17 04:55:45   \n1         12 2013-12-16 20:03:20 2013-12-16 20:03:22 2013-12-16 20:07:13   \n2         56 2013-12-16 20:03:20 2013-12-16 20:03:20 2013-12-16 20:05:04   \n3        980 2013-12-16 20:03:20 2013-12-16 20:03:27 2013-12-16 20:03:29   \n4        396 2013-12-16 20:08:27 2013-12-16 20:08:28 2013-12-16 20:12:03   \n5        449 2013-12-16 20:03:20 2013-12-16 20:03:25 2013-12-16 20:05:00   \n6        397 2013-12-16 20:08:25 2013-12-16 20:08:27 2013-12-16 20:09:59   \n7        398 2013-12-16 20:01:23 2013-12-16 20:01:23 2013-12-16 20:04:58   \n8        452 2013-12-16 20:03:20 2013-12-16 20:03:21 2013-12-16 20:04:55   \n9        440 2013-12-16 20:03:20 2013-12-16 20:04:26 2013-12-16 20:04:32   \n\n   duration  time_connection  is_connection  \n0         1                5              0  \n1       231                2              1  \n2       104                0              1  \n3         2                7              0  \n4       215                1              1  \n5        95                5              1  \n6        92                2              1  \n7       215                0              1  \n8        94                1              1  \n9         6               66              0  ",
      "text/html": "<div>\n<style scoped>\n    .dataframe tbody tr th:only-of-type {\n        vertical-align: middle;\n    }\n\n    .dataframe tbody tr th {\n        vertical-align: top;\n    }\n\n    .dataframe thead th {\n        text-align: right;\n    }\n</style>\n<table border=\"1\" class=\"dataframe\">\n  <thead>\n    <tr style=\"text-align: right;\">\n      <th></th>\n      <th>client_id</th>\n      <th>agent_date</th>\n      <th>created_at</th>\n      <th>end_date</th>\n      <th>duration</th>\n      <th>time_connection</th>\n      <th>is_connection</th>\n    </tr>\n  </thead>\n  <tbody>\n    <tr>\n      <th>0</th>\n      <td>460</td>\n      <td>2013-12-17 04:55:39</td>\n      <td>2013-12-17 04:55:44</td>\n      <td>2013-12-17 04:55:45</td>\n      <td>1</td>\n      <td>5</td>\n      <td>0</td>\n    </tr>\n    <tr>\n      <th>1</th>\n      <td>12</td>\n      <td>2013-12-16 20:03:20</td>\n      <td>2013-12-16 20:03:22</td>\n      <td>2013-12-16 20:07:13</td>\n      <td>231</td>\n      <td>2</td>\n      <td>1</td>\n    </tr>\n    <tr>\n      <th>2</th>\n      <td>56</td>\n      <td>2013-12-16 20:03:20</td>\n      <td>2013-12-16 20:03:20</td>\n      <td>2013-12-16 20:05:04</td>\n      <td>104</td>\n      <td>0</td>\n      <td>1</td>\n    </tr>\n    <tr>\n      <th>3</th>\n      <td>980</td>\n      <td>2013-12-16 20:03:20</td>\n      <td>2013-12-16 20:03:27</td>\n      <td>2013-12-16 20:03:29</td>\n      <td>2</td>\n      <td>7</td>\n      <td>0</td>\n    </tr>\n    <tr>\n      <th>4</th>\n      <td>396</td>\n      <td>2013-12-16 20:08:27</td>\n      <td>2013-12-16 20:08:28</td>\n      <td>2013-12-16 20:12:03</td>\n      <td>215</td>\n      <td>1</td>\n      <td>1</td>\n    </tr>\n    <tr>\n      <th>5</th>\n      <td>449</td>\n      <td>2013-12-16 20:03:20</td>\n      <td>2013-12-16 20:03:25</td>\n      <td>2013-12-16 20:05:00</td>\n      <td>95</td>\n      <td>5</td>\n      <td>1</td>\n    </tr>\n    <tr>\n      <th>6</th>\n      <td>397</td>\n      <td>2013-12-16 20:08:25</td>\n      <td>2013-12-16 20:08:27</td>\n      <td>2013-12-16 20:09:59</td>\n      <td>92</td>\n      <td>2</td>\n      <td>1</td>\n    </tr>\n    <tr>\n      <th>7</th>\n      <td>398</td>\n      <td>2013-12-16 20:01:23</td>\n      <td>2013-12-16 20:01:23</td>\n      <td>2013-12-16 20:04:58</td>\n      <td>215</td>\n      <td>0</td>\n      <td>1</td>\n    </tr>\n    <tr>\n      <th>8</th>\n      <td>452</td>\n      <td>2013-12-16 20:03:20</td>\n      <td>2013-12-16 20:03:21</td>\n      <td>2013-12-16 20:04:55</td>\n      <td>94</td>\n      <td>1</td>\n      <td>1</td>\n    </tr>\n    <tr>\n      <th>9</th>\n      <td>440</td>\n      <td>2013-12-16 20:03:20</td>\n      <td>2013-12-16 20:04:26</td>\n      <td>2013-12-16 20:04:32</td>\n      <td>6</td>\n      <td>66</td>\n      <td>0</td>\n    </tr>\n  </tbody>\n</table>\n</div>"
     },
     "execution_count": 96,
     "metadata": {},
     "output_type": "execute_result"
    }
   ],
   "source": [
    "calls['is_connection'] = calls['duration'].apply(lambda x: 1 if x > 10 else 0)\n",
    "calls"
   ],
   "metadata": {
    "collapsed": false,
    "pycharm": {
     "name": "#%%\n"
    }
   }
  },
  {
   "cell_type": "code",
   "execution_count": 97,
   "outputs": [
    {
     "data": {
      "text/plain": "7"
     },
     "execution_count": 97,
     "metadata": {},
     "output_type": "execute_result"
    }
   ],
   "source": [
    "calls['is_connection'].sum()"
   ],
   "metadata": {
    "collapsed": false,
    "pycharm": {
     "name": "#%%\n"
    }
   }
  },
  {
   "cell_type": "code",
   "execution_count": 98,
   "outputs": [
    {
     "data": {
      "text/plain": "   client_id          agent_date          created_at            end_date  \\\n0        460 2013-12-17 04:55:39 2013-12-17 04:55:44 2013-12-17 04:55:45   \n1         12 2013-12-16 20:03:20 2013-12-16 20:03:22 2013-12-16 20:07:13   \n2         56 2013-12-16 20:03:20 2013-12-16 20:03:20 2013-12-16 20:05:04   \n3        980 2013-12-16 20:03:20 2013-12-16 20:03:27 2013-12-16 20:03:29   \n4        396 2013-12-16 20:08:27 2013-12-16 20:08:28 2013-12-16 20:12:03   \n5        449 2013-12-16 20:03:20 2013-12-16 20:03:25 2013-12-16 20:05:00   \n6        397 2013-12-16 20:08:25 2013-12-16 20:08:27 2013-12-16 20:09:59   \n7        398 2013-12-16 20:01:23 2013-12-16 20:01:23 2013-12-16 20:04:58   \n8        452 2013-12-16 20:03:20 2013-12-16 20:03:21 2013-12-16 20:04:55   \n9        440 2013-12-16 20:03:20 2013-12-16 20:04:26 2013-12-16 20:04:32   \n\n   duration  time_connection  is_connection  time_diff  \n0         1                5              0          6  \n1       231                2              1        233  \n2       104                0              1        104  \n3         2                7              0          9  \n4       215                1              1        216  \n5        95                5              1        100  \n6        92                2              1         94  \n7       215                0              1        215  \n8        94                1              1         95  \n9         6               66              0         72  ",
      "text/html": "<div>\n<style scoped>\n    .dataframe tbody tr th:only-of-type {\n        vertical-align: middle;\n    }\n\n    .dataframe tbody tr th {\n        vertical-align: top;\n    }\n\n    .dataframe thead th {\n        text-align: right;\n    }\n</style>\n<table border=\"1\" class=\"dataframe\">\n  <thead>\n    <tr style=\"text-align: right;\">\n      <th></th>\n      <th>client_id</th>\n      <th>agent_date</th>\n      <th>created_at</th>\n      <th>end_date</th>\n      <th>duration</th>\n      <th>time_connection</th>\n      <th>is_connection</th>\n      <th>time_diff</th>\n    </tr>\n  </thead>\n  <tbody>\n    <tr>\n      <th>0</th>\n      <td>460</td>\n      <td>2013-12-17 04:55:39</td>\n      <td>2013-12-17 04:55:44</td>\n      <td>2013-12-17 04:55:45</td>\n      <td>1</td>\n      <td>5</td>\n      <td>0</td>\n      <td>6</td>\n    </tr>\n    <tr>\n      <th>1</th>\n      <td>12</td>\n      <td>2013-12-16 20:03:20</td>\n      <td>2013-12-16 20:03:22</td>\n      <td>2013-12-16 20:07:13</td>\n      <td>231</td>\n      <td>2</td>\n      <td>1</td>\n      <td>233</td>\n    </tr>\n    <tr>\n      <th>2</th>\n      <td>56</td>\n      <td>2013-12-16 20:03:20</td>\n      <td>2013-12-16 20:03:20</td>\n      <td>2013-12-16 20:05:04</td>\n      <td>104</td>\n      <td>0</td>\n      <td>1</td>\n      <td>104</td>\n    </tr>\n    <tr>\n      <th>3</th>\n      <td>980</td>\n      <td>2013-12-16 20:03:20</td>\n      <td>2013-12-16 20:03:27</td>\n      <td>2013-12-16 20:03:29</td>\n      <td>2</td>\n      <td>7</td>\n      <td>0</td>\n      <td>9</td>\n    </tr>\n    <tr>\n      <th>4</th>\n      <td>396</td>\n      <td>2013-12-16 20:08:27</td>\n      <td>2013-12-16 20:08:28</td>\n      <td>2013-12-16 20:12:03</td>\n      <td>215</td>\n      <td>1</td>\n      <td>1</td>\n      <td>216</td>\n    </tr>\n    <tr>\n      <th>5</th>\n      <td>449</td>\n      <td>2013-12-16 20:03:20</td>\n      <td>2013-12-16 20:03:25</td>\n      <td>2013-12-16 20:05:00</td>\n      <td>95</td>\n      <td>5</td>\n      <td>1</td>\n      <td>100</td>\n    </tr>\n    <tr>\n      <th>6</th>\n      <td>397</td>\n      <td>2013-12-16 20:08:25</td>\n      <td>2013-12-16 20:08:27</td>\n      <td>2013-12-16 20:09:59</td>\n      <td>92</td>\n      <td>2</td>\n      <td>1</td>\n      <td>94</td>\n    </tr>\n    <tr>\n      <th>7</th>\n      <td>398</td>\n      <td>2013-12-16 20:01:23</td>\n      <td>2013-12-16 20:01:23</td>\n      <td>2013-12-16 20:04:58</td>\n      <td>215</td>\n      <td>0</td>\n      <td>1</td>\n      <td>215</td>\n    </tr>\n    <tr>\n      <th>8</th>\n      <td>452</td>\n      <td>2013-12-16 20:03:20</td>\n      <td>2013-12-16 20:03:21</td>\n      <td>2013-12-16 20:04:55</td>\n      <td>94</td>\n      <td>1</td>\n      <td>1</td>\n      <td>95</td>\n    </tr>\n    <tr>\n      <th>9</th>\n      <td>440</td>\n      <td>2013-12-16 20:03:20</td>\n      <td>2013-12-16 20:04:26</td>\n      <td>2013-12-16 20:04:32</td>\n      <td>6</td>\n      <td>66</td>\n      <td>0</td>\n      <td>72</td>\n    </tr>\n  </tbody>\n</table>\n</div>"
     },
     "execution_count": 98,
     "metadata": {},
     "output_type": "execute_result"
    }
   ],
   "source": [
    "calls['time_diff'] = (calls['end_date'] - calls['agent_date']).dt.seconds\n",
    "calls"
   ],
   "metadata": {
    "collapsed": false,
    "pycharm": {
     "name": "#%%\n"
    }
   }
  },
  {
   "cell_type": "code",
   "execution_count": 99,
   "outputs": [
    {
     "data": {
      "text/plain": "1144"
     },
     "execution_count": 99,
     "metadata": {},
     "output_type": "execute_result"
    }
   ],
   "source": [
    "calls['time_diff'].sum()"
   ],
   "metadata": {
    "collapsed": false,
    "pycharm": {
     "name": "#%%\n"
    }
   }
  },
  {
   "cell_type": "code",
   "execution_count": 100,
   "outputs": [
    {
     "name": "stdout",
     "output_type": "stream",
     "text": [
      "<class 'pandas.core.frame.DataFrame'>\n",
      "Int64Index: 129972 entries, 0 to 129970\n",
      "Data columns (total 22 columns):\n",
      " #   Column                 Non-Null Count   Dtype         \n",
      "---  ------                 --------------   -----         \n",
      " 0   Unnamed: 0             129972 non-null  int64         \n",
      " 1   country                129909 non-null  object        \n",
      " 2   description            129972 non-null  object        \n",
      " 3   designation            129972 non-null  object        \n",
      " 4   points                 129972 non-null  int64         \n",
      " 5   price                  129972 non-null  float64       \n",
      " 6   province               129909 non-null  object        \n",
      " 7   region_1               129972 non-null  object        \n",
      " 8   taster_name            129972 non-null  object        \n",
      " 9   taster_twitter_handle  129972 non-null  object        \n",
      " 10  title                  129972 non-null  object        \n",
      " 11  variety                129971 non-null  object        \n",
      " 12  winery                 129972 non-null  object        \n",
      " 13  price_round            129972 non-null  int32         \n",
      " 14  year                   125332 non-null  datetime64[ns]\n",
      " 15  is_usa                 129972 non-null  int64         \n",
      " 16  is_france              129972 non-null  int64         \n",
      " 17  is_italy               129972 non-null  int64         \n",
      " 18  old_wine               129972 non-null  int64         \n",
      " 19  locality               113113 non-null  object        \n",
      " 20  population             129823 non-null  object        \n",
      " 21  area                   129835 non-null  float64       \n",
      "dtypes: datetime64[ns](1), float64(2), int32(1), int64(6), object(12)\n",
      "memory usage: 22.3+ MB\n"
     ]
    }
   ],
   "source": [
    "df.info()"
   ],
   "metadata": {
    "collapsed": false,
    "pycharm": {
     "name": "#%%\n"
    }
   }
  },
  {
   "cell_type": "code",
   "execution_count": 104,
   "outputs": [
    {
     "data": {
      "text/plain": "98627.0"
     },
     "execution_count": 104,
     "metadata": {},
     "output_type": "execute_result"
    }
   ],
   "source": [
    "df['year'] = pd.to_datetime(df['year'])\n",
    "df['years_diff'] = (pd.to_datetime(\"2022-01-12\") - df['year']).dt.days\n",
    "df['years_diff'].max()"
   ],
   "metadata": {
    "collapsed": false,
    "pycharm": {
     "name": "#%%\n"
    }
   }
  },
  {
   "cell_type": "code",
   "execution_count": 103,
   "outputs": [
    {
     "data": {
      "text/plain": "98950.0"
     },
     "execution_count": 103,
     "metadata": {},
     "output_type": "execute_result"
    }
   ],
   "source": [],
   "metadata": {
    "collapsed": false,
    "pycharm": {
     "name": "#%%\n"
    }
   }
  },
  {
   "cell_type": "code",
   "execution_count": null,
   "outputs": [],
   "source": [],
   "metadata": {
    "collapsed": false,
    "pycharm": {
     "name": "#%%\n"
    }
   }
  }
 ],
 "metadata": {
  "kernelspec": {
   "display_name": "Python 3",
   "language": "python",
   "name": "python3"
  },
  "language_info": {
   "codemirror_mode": {
    "name": "ipython",
    "version": 2
   },
   "file_extension": ".py",
   "mimetype": "text/x-python",
   "name": "python",
   "nbconvert_exporter": "python",
   "pygments_lexer": "ipython2",
   "version": "2.7.6"
  }
 },
 "nbformat": 4,
 "nbformat_minor": 0
}