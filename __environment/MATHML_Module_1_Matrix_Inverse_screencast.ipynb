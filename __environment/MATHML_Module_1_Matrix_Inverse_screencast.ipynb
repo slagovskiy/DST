{
 "cells": [
  {
   "cell_type": "code",
   "source": [
    "import numpy as np"
   ],
   "outputs": [],
   "execution_count": 1,
   "metadata": {
    "collapsed": true,
    "ExecuteTime": {
     "end_time": "2023-05-19T08:21:44.906559200Z",
     "start_time": "2023-05-19T08:21:43.348817300Z"
    }
   }
  },
  {
   "cell_type": "code",
   "source": [
    "# обратная матрица - все ок\n",
    "A1=np.array([[1,2,3],[4,5,6],[7,8,10]])\n",
    "print('A1:\\n',A1)"
   ],
   "outputs": [
    {
     "name": "stdout",
     "output_type": "stream",
     "text": [
      "A1:\n",
      " [[ 1  2  3]\n",
      " [ 4  5  6]\n",
      " [ 7  8 10]]\n"
     ]
    }
   ],
   "execution_count": 2,
   "metadata": {
    "collapsed": false,
    "ExecuteTime": {
     "end_time": "2023-05-19T08:21:44.915567300Z",
     "start_time": "2023-05-19T08:21:44.908593100Z"
    }
   }
  },
  {
   "cell_type": "code",
   "source": [
    "print('rk(A3):\\n',np.linalg.matrix_rank(A1))"
   ],
   "outputs": [
    {
     "name": "stdout",
     "output_type": "stream",
     "text": [
      "rk(A3):\n",
      " 3\n"
     ]
    }
   ],
   "execution_count": 3,
   "metadata": {
    "collapsed": false,
    "ExecuteTime": {
     "end_time": "2023-05-19T08:21:44.923556700Z",
     "start_time": "2023-05-19T08:21:44.917558500Z"
    }
   }
  },
  {
   "cell_type": "code",
   "source": [
    "# обратная матрица - все ок\n",
    "A1_inv=np.linalg.inv(A1)\n",
    "print('A1 inversed:\\n',A1_inv)\n"
   ],
   "outputs": [
    {
     "name": "stdout",
     "output_type": "stream",
     "text": [
      "A1 inversed:\n",
      " [[-0.66666667 -1.33333333  1.        ]\n",
      " [-0.66666667  3.66666667 -2.        ]\n",
      " [ 1.         -2.          1.        ]]\n"
     ]
    }
   ],
   "execution_count": 4,
   "metadata": {
    "collapsed": false,
    "ExecuteTime": {
     "end_time": "2023-05-19T08:21:44.950566900Z",
     "start_time": "2023-05-19T08:21:44.926557200Z"
    }
   }
  },
  {
   "cell_type": "code",
   "source": [
    "# обратная матрица - все ок\n",
    "print('A1 @ A1 inversed=E check:\\n',A1@A1_inv,1)\n",
    "print(np.round(A1@A1_inv,1))\n",
    "print('check OK')"
   ],
   "outputs": [
    {
     "name": "stdout",
     "output_type": "stream",
     "text": [
      "A1 @ A1 inversed=E check:\n",
      " [[1.00000000e+00 0.00000000e+00 1.11022302e-16]\n",
      " [0.00000000e+00 1.00000000e+00 2.22044605e-16]\n",
      " [8.88178420e-16 0.00000000e+00 1.00000000e+00]] 1\n",
      "[[1. 0. 0.]\n",
      " [0. 1. 0.]\n",
      " [0. 0. 1.]]\n",
      "check OK\n"
     ]
    }
   ],
   "execution_count": 5,
   "metadata": {
    "collapsed": false,
    "ExecuteTime": {
     "end_time": "2023-05-19T08:21:44.961558Z",
     "start_time": "2023-05-19T08:21:44.933559100Z"
    }
   }
  },
  {
   "cell_type": "code",
   "source": [
    "# обратная матрица - вырожденный случай\n",
    "A2=np.array([[1,2,3],[4,5,6],[1,2,3]])\n",
    "print('A2:\\n',A2)"
   ],
   "outputs": [
    {
     "name": "stdout",
     "output_type": "stream",
     "text": [
      "A2:\n",
      " [[1 2 3]\n",
      " [4 5 6]\n",
      " [1 2 3]]\n"
     ]
    }
   ],
   "execution_count": 6,
   "metadata": {
    "collapsed": false,
    "ExecuteTime": {
     "end_time": "2023-05-19T08:21:44.971561300Z",
     "start_time": "2023-05-19T08:21:44.962558300Z"
    }
   }
  },
  {
   "cell_type": "code",
   "source": [
    "# обратная матрица - вырожденный случай\n",
    "print('rk(A3):\\n',np.linalg.matrix_rank(A2))"
   ],
   "outputs": [
    {
     "name": "stdout",
     "output_type": "stream",
     "text": [
      "rk(A3):\n",
      " 2\n"
     ]
    }
   ],
   "execution_count": 7,
   "metadata": {
    "collapsed": false,
    "ExecuteTime": {
     "end_time": "2023-05-19T08:21:45.022589600Z",
     "start_time": "2023-05-19T08:21:44.968557500Z"
    }
   }
  },
  {
   "cell_type": "code",
   "source": [
    "# обратная матрица - вырожденный случай\n",
    "np.linalg.inv(A2)"
   ],
   "outputs": [
    {
     "ename": "LinAlgError",
     "evalue": "Singular matrix",
     "output_type": "error",
     "traceback": [
      "\u001B[1;31m---------------------------------------------------------------------------\u001B[0m",
      "\u001B[1;31mLinAlgError\u001B[0m                               Traceback (most recent call last)",
      "Cell \u001B[1;32mIn[8], line 2\u001B[0m\n\u001B[0;32m      1\u001B[0m \u001B[38;5;66;03m# обратная матрица - вырожденный случай\u001B[39;00m\n\u001B[1;32m----> 2\u001B[0m \u001B[43mnp\u001B[49m\u001B[38;5;241;43m.\u001B[39;49m\u001B[43mlinalg\u001B[49m\u001B[38;5;241;43m.\u001B[39;49m\u001B[43minv\u001B[49m\u001B[43m(\u001B[49m\u001B[43mA2\u001B[49m\u001B[43m)\u001B[49m\n",
      "File \u001B[1;32m<__array_function__ internals>:180\u001B[0m, in \u001B[0;36minv\u001B[1;34m(*args, **kwargs)\u001B[0m\n",
      "File \u001B[1;32md:\\Work\\DST\\__environment\\venv\\lib\\site-packages\\numpy\\linalg\\linalg.py:552\u001B[0m, in \u001B[0;36minv\u001B[1;34m(a)\u001B[0m\n\u001B[0;32m    550\u001B[0m signature \u001B[38;5;241m=\u001B[39m \u001B[38;5;124m'\u001B[39m\u001B[38;5;124mD->D\u001B[39m\u001B[38;5;124m'\u001B[39m \u001B[38;5;28;01mif\u001B[39;00m isComplexType(t) \u001B[38;5;28;01melse\u001B[39;00m \u001B[38;5;124m'\u001B[39m\u001B[38;5;124md->d\u001B[39m\u001B[38;5;124m'\u001B[39m\n\u001B[0;32m    551\u001B[0m extobj \u001B[38;5;241m=\u001B[39m get_linalg_error_extobj(_raise_linalgerror_singular)\n\u001B[1;32m--> 552\u001B[0m ainv \u001B[38;5;241m=\u001B[39m \u001B[43m_umath_linalg\u001B[49m\u001B[38;5;241;43m.\u001B[39;49m\u001B[43minv\u001B[49m\u001B[43m(\u001B[49m\u001B[43ma\u001B[49m\u001B[43m,\u001B[49m\u001B[43m \u001B[49m\u001B[43msignature\u001B[49m\u001B[38;5;241;43m=\u001B[39;49m\u001B[43msignature\u001B[49m\u001B[43m,\u001B[49m\u001B[43m \u001B[49m\u001B[43mextobj\u001B[49m\u001B[38;5;241;43m=\u001B[39;49m\u001B[43mextobj\u001B[49m\u001B[43m)\u001B[49m\n\u001B[0;32m    553\u001B[0m \u001B[38;5;28;01mreturn\u001B[39;00m wrap(ainv\u001B[38;5;241m.\u001B[39mastype(result_t, copy\u001B[38;5;241m=\u001B[39m\u001B[38;5;28;01mFalse\u001B[39;00m))\n",
      "File \u001B[1;32md:\\Work\\DST\\__environment\\venv\\lib\\site-packages\\numpy\\linalg\\linalg.py:89\u001B[0m, in \u001B[0;36m_raise_linalgerror_singular\u001B[1;34m(err, flag)\u001B[0m\n\u001B[0;32m     88\u001B[0m \u001B[38;5;28;01mdef\u001B[39;00m \u001B[38;5;21m_raise_linalgerror_singular\u001B[39m(err, flag):\n\u001B[1;32m---> 89\u001B[0m     \u001B[38;5;28;01mraise\u001B[39;00m LinAlgError(\u001B[38;5;124m\"\u001B[39m\u001B[38;5;124mSingular matrix\u001B[39m\u001B[38;5;124m\"\u001B[39m)\n",
      "\u001B[1;31mLinAlgError\u001B[0m: Singular matrix"
     ]
    }
   ],
   "execution_count": 8,
   "metadata": {
    "collapsed": false,
    "ExecuteTime": {
     "end_time": "2023-05-19T08:21:46.012558800Z",
     "start_time": "2023-05-19T08:21:44.977558800Z"
    }
   }
  },
  {
   "cell_type": "code",
   "source": [
    "# обратная матрица - magic\n",
    "A3=np.array([[1,2,3],[4,5,6],[7,8,9]])\n",
    "print('A3:\\n',A3)"
   ],
   "outputs": [
    {
     "name": "stdout",
     "output_type": "stream",
     "text": [
      "A3:\n",
      " [[1 2 3]\n",
      " [4 5 6]\n",
      " [7 8 9]]\n"
     ]
    }
   ],
   "execution_count": 9,
   "metadata": {
    "collapsed": false,
    "ExecuteTime": {
     "end_time": "2023-05-19T08:22:58.926749Z",
     "start_time": "2023-05-19T08:22:58.915752400Z"
    }
   }
  },
  {
   "cell_type": "code",
   "source": [
    "# обратная матрица - magic\n",
    "print('rk(A3):\\n',np.linalg.matrix_rank(A3))"
   ],
   "outputs": [
    {
     "name": "stdout",
     "output_type": "stream",
     "text": [
      "rk(A3):\n",
      " 2\n"
     ]
    }
   ],
   "execution_count": 10,
   "metadata": {
    "collapsed": false,
    "ExecuteTime": {
     "end_time": "2023-05-19T08:23:14.113358100Z",
     "start_time": "2023-05-19T08:23:14.101362100Z"
    }
   }
  },
  {
   "cell_type": "code",
   "source": [
    "# обратная матрица - magic\n",
    "print('A3 inversed:\\n',np.linalg.inv(A3))"
   ],
   "outputs": [
    {
     "ename": "LinAlgError",
     "evalue": "Singular matrix",
     "output_type": "error",
     "traceback": [
      "\u001B[1;31m---------------------------------------------------------------------------\u001B[0m",
      "\u001B[1;31mLinAlgError\u001B[0m                               Traceback (most recent call last)",
      "Cell \u001B[1;32mIn[13], line 2\u001B[0m\n\u001B[0;32m      1\u001B[0m \u001B[38;5;66;03m# обратная матрица - magic\u001B[39;00m\n\u001B[1;32m----> 2\u001B[0m \u001B[38;5;28mprint\u001B[39m(\u001B[38;5;124m'\u001B[39m\u001B[38;5;124mA3 inversed:\u001B[39m\u001B[38;5;130;01m\\n\u001B[39;00m\u001B[38;5;124m'\u001B[39m,\u001B[43mnp\u001B[49m\u001B[38;5;241;43m.\u001B[39;49m\u001B[43mlinalg\u001B[49m\u001B[38;5;241;43m.\u001B[39;49m\u001B[43minv\u001B[49m\u001B[43m(\u001B[49m\u001B[43mA3\u001B[49m\u001B[43m)\u001B[49m)\n",
      "File \u001B[1;32m<__array_function__ internals>:180\u001B[0m, in \u001B[0;36minv\u001B[1;34m(*args, **kwargs)\u001B[0m\n",
      "File \u001B[1;32md:\\Work\\DST\\__environment\\venv\\lib\\site-packages\\numpy\\linalg\\linalg.py:552\u001B[0m, in \u001B[0;36minv\u001B[1;34m(a)\u001B[0m\n\u001B[0;32m    550\u001B[0m signature \u001B[38;5;241m=\u001B[39m \u001B[38;5;124m'\u001B[39m\u001B[38;5;124mD->D\u001B[39m\u001B[38;5;124m'\u001B[39m \u001B[38;5;28;01mif\u001B[39;00m isComplexType(t) \u001B[38;5;28;01melse\u001B[39;00m \u001B[38;5;124m'\u001B[39m\u001B[38;5;124md->d\u001B[39m\u001B[38;5;124m'\u001B[39m\n\u001B[0;32m    551\u001B[0m extobj \u001B[38;5;241m=\u001B[39m get_linalg_error_extobj(_raise_linalgerror_singular)\n\u001B[1;32m--> 552\u001B[0m ainv \u001B[38;5;241m=\u001B[39m \u001B[43m_umath_linalg\u001B[49m\u001B[38;5;241;43m.\u001B[39;49m\u001B[43minv\u001B[49m\u001B[43m(\u001B[49m\u001B[43ma\u001B[49m\u001B[43m,\u001B[49m\u001B[43m \u001B[49m\u001B[43msignature\u001B[49m\u001B[38;5;241;43m=\u001B[39;49m\u001B[43msignature\u001B[49m\u001B[43m,\u001B[49m\u001B[43m \u001B[49m\u001B[43mextobj\u001B[49m\u001B[38;5;241;43m=\u001B[39;49m\u001B[43mextobj\u001B[49m\u001B[43m)\u001B[49m\n\u001B[0;32m    553\u001B[0m \u001B[38;5;28;01mreturn\u001B[39;00m wrap(ainv\u001B[38;5;241m.\u001B[39mastype(result_t, copy\u001B[38;5;241m=\u001B[39m\u001B[38;5;28;01mFalse\u001B[39;00m))\n",
      "File \u001B[1;32md:\\Work\\DST\\__environment\\venv\\lib\\site-packages\\numpy\\linalg\\linalg.py:89\u001B[0m, in \u001B[0;36m_raise_linalgerror_singular\u001B[1;34m(err, flag)\u001B[0m\n\u001B[0;32m     88\u001B[0m \u001B[38;5;28;01mdef\u001B[39;00m \u001B[38;5;21m_raise_linalgerror_singular\u001B[39m(err, flag):\n\u001B[1;32m---> 89\u001B[0m     \u001B[38;5;28;01mraise\u001B[39;00m LinAlgError(\u001B[38;5;124m\"\u001B[39m\u001B[38;5;124mSingular matrix\u001B[39m\u001B[38;5;124m\"\u001B[39m)\n",
      "\u001B[1;31mLinAlgError\u001B[0m: Singular matrix"
     ]
    }
   ],
   "execution_count": 13,
   "metadata": {
    "collapsed": false,
    "ExecuteTime": {
     "end_time": "2023-05-19T08:23:44.038874500Z",
     "start_time": "2023-05-19T08:23:43.998876600Z"
    }
   }
  },
  {
   "cell_type": "code",
   "source": [
    "# обратная матрица - magic\n",
    "print('A3 @ A3 inversed = E check:\\n',A3@np.linalg.inv(A3))\n",
    "print('check failed')"
   ],
   "outputs": [
    {
     "ename": "LinAlgError",
     "evalue": "Singular matrix",
     "output_type": "error",
     "traceback": [
      "\u001B[1;31m---------------------------------------------------------------------------\u001B[0m",
      "\u001B[1;31mLinAlgError\u001B[0m                               Traceback (most recent call last)",
      "Cell \u001B[1;32mIn[12], line 2\u001B[0m\n\u001B[0;32m      1\u001B[0m \u001B[38;5;66;03m# обратная матрица - magic\u001B[39;00m\n\u001B[1;32m----> 2\u001B[0m \u001B[38;5;28mprint\u001B[39m(\u001B[38;5;124m'\u001B[39m\u001B[38;5;124mA3 @ A3 inversed = E check:\u001B[39m\u001B[38;5;130;01m\\n\u001B[39;00m\u001B[38;5;124m'\u001B[39m,A3\u001B[38;5;129m@np\u001B[39m\u001B[38;5;241;43m.\u001B[39;49m\u001B[43mlinalg\u001B[49m\u001B[38;5;241;43m.\u001B[39;49m\u001B[43minv\u001B[49m\u001B[43m(\u001B[49m\u001B[43mA3\u001B[49m\u001B[43m)\u001B[49m)\n\u001B[0;32m      3\u001B[0m \u001B[38;5;28mprint\u001B[39m(\u001B[38;5;124m'\u001B[39m\u001B[38;5;124mcheck failed\u001B[39m\u001B[38;5;124m'\u001B[39m)\n",
      "File \u001B[1;32m<__array_function__ internals>:180\u001B[0m, in \u001B[0;36minv\u001B[1;34m(*args, **kwargs)\u001B[0m\n",
      "File \u001B[1;32md:\\Work\\DST\\__environment\\venv\\lib\\site-packages\\numpy\\linalg\\linalg.py:552\u001B[0m, in \u001B[0;36minv\u001B[1;34m(a)\u001B[0m\n\u001B[0;32m    550\u001B[0m signature \u001B[38;5;241m=\u001B[39m \u001B[38;5;124m'\u001B[39m\u001B[38;5;124mD->D\u001B[39m\u001B[38;5;124m'\u001B[39m \u001B[38;5;28;01mif\u001B[39;00m isComplexType(t) \u001B[38;5;28;01melse\u001B[39;00m \u001B[38;5;124m'\u001B[39m\u001B[38;5;124md->d\u001B[39m\u001B[38;5;124m'\u001B[39m\n\u001B[0;32m    551\u001B[0m extobj \u001B[38;5;241m=\u001B[39m get_linalg_error_extobj(_raise_linalgerror_singular)\n\u001B[1;32m--> 552\u001B[0m ainv \u001B[38;5;241m=\u001B[39m \u001B[43m_umath_linalg\u001B[49m\u001B[38;5;241;43m.\u001B[39;49m\u001B[43minv\u001B[49m\u001B[43m(\u001B[49m\u001B[43ma\u001B[49m\u001B[43m,\u001B[49m\u001B[43m \u001B[49m\u001B[43msignature\u001B[49m\u001B[38;5;241;43m=\u001B[39;49m\u001B[43msignature\u001B[49m\u001B[43m,\u001B[49m\u001B[43m \u001B[49m\u001B[43mextobj\u001B[49m\u001B[38;5;241;43m=\u001B[39;49m\u001B[43mextobj\u001B[49m\u001B[43m)\u001B[49m\n\u001B[0;32m    553\u001B[0m \u001B[38;5;28;01mreturn\u001B[39;00m wrap(ainv\u001B[38;5;241m.\u001B[39mastype(result_t, copy\u001B[38;5;241m=\u001B[39m\u001B[38;5;28;01mFalse\u001B[39;00m))\n",
      "File \u001B[1;32md:\\Work\\DST\\__environment\\venv\\lib\\site-packages\\numpy\\linalg\\linalg.py:89\u001B[0m, in \u001B[0;36m_raise_linalgerror_singular\u001B[1;34m(err, flag)\u001B[0m\n\u001B[0;32m     88\u001B[0m \u001B[38;5;28;01mdef\u001B[39;00m \u001B[38;5;21m_raise_linalgerror_singular\u001B[39m(err, flag):\n\u001B[1;32m---> 89\u001B[0m     \u001B[38;5;28;01mraise\u001B[39;00m LinAlgError(\u001B[38;5;124m\"\u001B[39m\u001B[38;5;124mSingular matrix\u001B[39m\u001B[38;5;124m\"\u001B[39m)\n",
      "\u001B[1;31mLinAlgError\u001B[0m: Singular matrix"
     ]
    }
   ],
   "execution_count": 12,
   "metadata": {
    "collapsed": false,
    "ExecuteTime": {
     "end_time": "2023-05-19T08:23:35.304224800Z",
     "start_time": "2023-05-19T08:23:35.257223Z"
    }
   }
  },
  {
   "cell_type": "code",
   "source": [
    "print('det(A1)):\\n',np.linalg.det(A1))"
   ],
   "outputs": [
    {
     "name": "stdout",
     "output_type": "stream",
     "text": [
      "det(A1)):\n",
      " -2.9999999999999996\n"
     ]
    }
   ],
   "execution_count": 14,
   "metadata": {
    "collapsed": false,
    "ExecuteTime": {
     "end_time": "2023-05-19T08:24:14.893269300Z",
     "start_time": "2023-05-19T08:24:14.884269500Z"
    }
   }
  },
  {
   "cell_type": "code",
   "source": [
    "print('det(A2)):\\n',np.linalg.det(A2))"
   ],
   "outputs": [
    {
     "name": "stdout",
     "output_type": "stream",
     "text": [
      "det(A2)):\n",
      " 0.0\n"
     ]
    }
   ],
   "execution_count": 15,
   "metadata": {
    "collapsed": false,
    "ExecuteTime": {
     "end_time": "2023-05-19T08:24:18.629480800Z",
     "start_time": "2023-05-19T08:24:18.619483200Z"
    }
   }
  },
  {
   "cell_type": "code",
   "source": [
    "print('det(A3)):\\n',np.linalg.det(A3))"
   ],
   "outputs": [
    {
     "name": "stdout",
     "output_type": "stream",
     "text": [
      "det(A3)):\n",
      " 0.0\n"
     ]
    }
   ],
   "execution_count": 16,
   "metadata": {
    "collapsed": false,
    "ExecuteTime": {
     "end_time": "2023-05-19T08:24:23.047025500Z",
     "start_time": "2023-05-19T08:24:23.028025300Z"
    }
   }
  },
  {
   "cell_type": "code",
   "source": [
    "# обратная матрица - неустойчивость\n",
    "A4=np.array([[1,2,3],[4,5,6],[1,2,3.00005]])\n",
    "print('A4:\\n',A4)\n",
    "print('rk(A4):\\n',np.linalg.matrix_rank(A4))\n",
    "print('det(A4):\\n',np.linalg.det(A4))\n",
    "print('A4 inverse:\\n',np.linalg.inv(A4))"
   ],
   "outputs": [
    {
     "name": "stdout",
     "output_type": "stream",
     "text": [
      "A4:\n",
      " [[1.      2.      3.     ]\n",
      " [4.      5.      6.     ]\n",
      " [1.      2.      3.00005]]\n",
      "rk(A4):\n",
      " 3\n",
      "det(A4):\n",
      " -0.00014999999999965044\n",
      "A4 inverse:\n",
      " [[-2.00016667e+04  6.66666667e-01  2.00000000e+04]\n",
      " [ 4.00013333e+04 -3.33333333e-01 -4.00000000e+04]\n",
      " [-2.00000000e+04  0.00000000e+00  2.00000000e+04]]\n"
     ]
    }
   ],
   "execution_count": 17,
   "metadata": {
    "collapsed": false,
    "ExecuteTime": {
     "end_time": "2023-05-19T08:25:04.609200700Z",
     "start_time": "2023-05-19T08:25:04.590937500Z"
    }
   }
  },
  {
   "cell_type": "code",
   "source": [
    "# обратная матрица - неустойчивость вблизи нулевого определителя\n",
    "A5=np.array([[1,2,3],[4,5,6],[1,2,3.00000005]])\n",
    "print('A5:\\n',A5)\n",
    "print('rk(A5):\\n',np.linalg.matrix_rank(A5))\n",
    "print('det(A5):\\n',np.linalg.det(A5))\n",
    "print('A5 inverse:\\n',np.linalg.inv(A5))"
   ],
   "outputs": [
    {
     "name": "stdout",
     "output_type": "stream",
     "text": [
      "A5:\n",
      " [[1.         2.         3.        ]\n",
      " [4.         5.         6.        ]\n",
      " [1.         2.         3.00000005]]\n",
      "rk(A5):\n",
      " 3\n",
      "det(A5):\n",
      " -1.5000000042064706e-07\n",
      "A5 inverse:\n",
      " [[-2.00000016e+07  6.66666667e-01  1.99999999e+07]\n",
      " [ 4.00000012e+07 -3.33333333e-01 -3.99999999e+07]\n",
      " [-1.99999999e+07  0.00000000e+00  1.99999999e+07]]\n"
     ]
    }
   ],
   "execution_count": 18,
   "metadata": {
    "collapsed": false,
    "ExecuteTime": {
     "end_time": "2023-05-19T08:25:25.023782600Z",
     "start_time": "2023-05-19T08:25:25.013788700Z"
    }
   }
  },
  {
   "cell_type": "code",
   "source": [
    "# обратимость матрицы Грама линейно независимой системы векторов\n",
    "v1=np.array([1,2,1])\n",
    "v2=np.array([1,1,1])\n",
    "A=np.array([v1,v2]).T\n",
    "print('A:\\n',A)\n",
    "print('Матрица Грама:\\n',A.T@A)"
   ],
   "outputs": [
    {
     "name": "stdout",
     "output_type": "stream",
     "text": [
      "A:\n",
      " [[1 1]\n",
      " [2 1]\n",
      " [1 1]]\n",
      "Матрица Грама:\n",
      " [[6 4]\n",
      " [4 3]]\n"
     ]
    }
   ],
   "execution_count": 19,
   "metadata": {
    "collapsed": false,
    "ExecuteTime": {
     "end_time": "2023-05-19T08:26:16.143377300Z",
     "start_time": "2023-05-19T08:26:16.133378100Z"
    }
   }
  },
  {
   "cell_type": "code",
   "source": [
    "print('Ранг матрицы Грама:\\n',np.linalg.matrix_rank(A.T@A))"
   ],
   "outputs": [
    {
     "name": "stdout",
     "output_type": "stream",
     "text": [
      "Ранг матрицы Грама:\n",
      " 2\n"
     ]
    }
   ],
   "execution_count": 20,
   "metadata": {
    "collapsed": false,
    "ExecuteTime": {
     "end_time": "2023-05-19T08:26:42.670904700Z",
     "start_time": "2023-05-19T08:26:42.662877100Z"
    }
   }
  },
  {
   "cell_type": "code",
   "source": [
    "print('Определитель матрицы Грама:\\n',np.linalg.det(A.T@A))"
   ],
   "outputs": [
    {
     "name": "stdout",
     "output_type": "stream",
     "text": [
      "Определитель матрицы Грама:\n",
      " 2.0000000000000004\n"
     ]
    }
   ],
   "execution_count": 21,
   "metadata": {
    "collapsed": false,
    "ExecuteTime": {
     "end_time": "2023-05-19T08:26:46.117119400Z",
     "start_time": "2023-05-19T08:26:46.106119700Z"
    }
   }
  },
  {
   "cell_type": "code",
   "source": [
    "print('Обратная к матрице Грама:\\n',np.linalg.inv(A.T@A))"
   ],
   "outputs": [
    {
     "name": "stdout",
     "output_type": "stream",
     "text": [
      "Обратная к матрице Грама:\n",
      " [[ 1.5 -2. ]\n",
      " [-2.   3. ]]\n"
     ]
    }
   ],
   "execution_count": 22,
   "metadata": {
    "collapsed": false,
    "ExecuteTime": {
     "end_time": "2023-05-19T08:26:49.766233Z",
     "start_time": "2023-05-19T08:26:49.759240300Z"
    }
   }
  },
  {
   "cell_type": "code",
   "source": [
    "A = np.array([[8, 6, 11], [7, 5, 9],[6, 10, 6]])"
   ],
   "outputs": [],
   "execution_count": 23,
   "metadata": {
    "collapsed": true,
    "ExecuteTime": {
     "end_time": "2023-05-19T08:27:27.896059200Z",
     "start_time": "2023-05-19T08:27:27.884706200Z"
    }
   }
  },
  {
   "cell_type": "code",
   "execution_count": 24,
   "outputs": [
    {
     "data": {
      "text/plain": "array([[-1.875  ,  2.3125 , -0.03125],\n       [ 0.375  , -0.5625 ,  0.15625],\n       [ 1.25   , -1.375  , -0.0625 ]])"
     },
     "execution_count": 24,
     "metadata": {},
     "output_type": "execute_result"
    }
   ],
   "source": [
    "np.linalg.inv(A)"
   ],
   "metadata": {
    "collapsed": false,
    "ExecuteTime": {
     "end_time": "2023-05-19T08:27:38.447090100Z",
     "start_time": "2023-05-19T08:27:38.440090600Z"
    }
   }
  },
  {
   "cell_type": "code",
   "execution_count": 25,
   "outputs": [],
   "source": [
    "v1 = np.array([9, 10, 7, 7, 9])\n",
    "v2 = np.array([2, 0, 5, 1, 4])\n",
    "v3 = np.array([4, 0, 0, 4, 1])\n",
    "v4 = np.array([3, -4, 3, -1, -4])"
   ],
   "metadata": {
    "collapsed": false,
    "ExecuteTime": {
     "end_time": "2023-05-19T08:28:12.732113Z",
     "start_time": "2023-05-19T08:28:12.715112300Z"
    }
   }
  },
  {
   "cell_type": "code",
   "execution_count": 28,
   "outputs": [
    {
     "data": {
      "text/plain": "array([[ 9,  2,  4,  3],\n       [10,  0,  0, -4],\n       [ 7,  5,  0,  3],\n       [ 7,  1,  4, -1],\n       [ 9,  4,  1, -4]])"
     },
     "execution_count": 28,
     "metadata": {},
     "output_type": "execute_result"
    }
   ],
   "source": [
    "A = np.array([v1,v2,v3,v4]).T\n",
    "A"
   ],
   "metadata": {
    "collapsed": false,
    "ExecuteTime": {
     "end_time": "2023-05-19T08:28:55.031819900Z",
     "start_time": "2023-05-19T08:28:55.013822300Z"
    }
   }
  },
  {
   "cell_type": "code",
   "execution_count": 29,
   "outputs": [
    {
     "data": {
      "text/plain": "4"
     },
     "execution_count": 29,
     "metadata": {},
     "output_type": "execute_result"
    }
   ],
   "source": [
    "np.linalg.matrix_rank(A)"
   ],
   "metadata": {
    "collapsed": false,
    "ExecuteTime": {
     "end_time": "2023-05-19T08:29:11.570851400Z",
     "start_time": "2023-05-19T08:29:11.547815200Z"
    }
   }
  },
  {
   "cell_type": "code",
   "execution_count": 31,
   "outputs": [
    {
     "data": {
      "text/plain": "array([[360,  96,  73, -35],\n       [ 96,  46,  16,   4],\n       [ 73,  16,  33,   4],\n       [-35,   4,   4,  51]])"
     },
     "execution_count": 31,
     "metadata": {},
     "output_type": "execute_result"
    }
   ],
   "source": [
    "AG = A.T@A\n",
    "AG"
   ],
   "metadata": {
    "collapsed": false,
    "ExecuteTime": {
     "end_time": "2023-05-19T08:30:30.827267900Z",
     "start_time": "2023-05-19T08:30:30.816271900Z"
    }
   }
  },
  {
   "cell_type": "code",
   "execution_count": 33,
   "outputs": [
    {
     "data": {
      "text/plain": "3716648.0"
     },
     "execution_count": 33,
     "metadata": {},
     "output_type": "execute_result"
    }
   ],
   "source": [
    "round(np.linalg.det(AG),1)"
   ],
   "metadata": {
    "collapsed": false,
    "ExecuteTime": {
     "end_time": "2023-05-19T08:30:51.624094100Z",
     "start_time": "2023-05-19T08:30:51.613096600Z"
    }
   }
  },
  {
   "cell_type": "code",
   "execution_count": 36,
   "outputs": [
    {
     "data": {
      "text/plain": "array([[ 0.01711488, -0.02798543, -0.02623063,  0.01599775],\n       [-0.02798543,  0.071967  ,  0.03031441, -0.02722776],\n       [-0.02623063,  0.03031441,  0.07683106, -0.02640498],\n       [ 0.01599775, -0.02722776, -0.02640498,  0.03479318]])"
     },
     "execution_count": 36,
     "metadata": {},
     "output_type": "execute_result"
    }
   ],
   "source": [
    "np.linalg.inv(AG)"
   ],
   "metadata": {
    "collapsed": false,
    "ExecuteTime": {
     "end_time": "2023-05-19T08:31:58.000211200Z",
     "start_time": "2023-05-19T08:31:57.975213100Z"
    }
   }
  },
  {
   "cell_type": "code",
   "execution_count": null,
   "outputs": [],
   "source": [],
   "metadata": {
    "collapsed": false
   }
  }
 ],
 "metadata": {
  "kernelspec": {
   "display_name": "Python 3",
   "language": "python",
   "name": "python3"
  },
  "language_info": {
   "codemirror_mode": {
    "name": "ipython",
    "version": 3
   },
   "file_extension": ".py",
   "mimetype": "text/x-python",
   "name": "python",
   "nbconvert_exporter": "python",
   "pygments_lexer": "ipython3",
   "version": "3.6.0"
  },
  "nteract": {
   "version": "0.26.0"
  }
 },
 "nbformat": 4,
 "nbformat_minor": 2
}
