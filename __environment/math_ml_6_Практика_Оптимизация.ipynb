{
 "cells": [
  {
   "cell_type": "markdown",
   "metadata": {
    "id": "NyHIGVhfa_Wf"
   },
   "source": [
    "# Стохастический градиентный и координатный спуски"
   ]
  },
  {
   "cell_type": "markdown",
   "metadata": {
    "id": "gn6lluIADUKa"
   },
   "source": [
    "Для каждого задания указано количество баллов (если они оцениваются отдельно) + 1 балл за аккуратное и полное выполнение всего задания"
   ]
  },
  {
   "cell_type": "markdown",
   "metadata": {
    "id": "txCccYvha_Wv"
   },
   "source": [
    "## Загрузка и подготовка данных"
   ]
  },
  {
   "cell_type": "markdown",
   "metadata": {
    "id": "NbyOzeZ6a_Wx"
   },
   "source": [
    "**Загрузите уже знакомый вам файл *Advertising.csv* как объект DataFrame.**"
   ]
  },
  {
   "cell_type": "code",
   "execution_count": 125,
   "metadata": {
    "id": "E1L4_xeDa_Wz",
    "ExecuteTime": {
     "end_time": "2023-07-13T09:09:01.333655600Z",
     "start_time": "2023-07-13T09:09:01.119657100Z"
    }
   },
   "outputs": [],
   "source": [
    "import numpy as np\n",
    "import pandas as pd\n",
    "from sklearn.linear_model import LinearRegression, SGDRegressor\n",
    "from sklearn import metrics\n",
    "import seaborn as sns\n",
    "import warnings\n",
    "warnings.filterwarnings('ignore')\n",
    "warnings.simplefilter('ignore')"
   ]
  },
  {
   "cell_type": "code",
   "execution_count": 126,
   "outputs": [
    {
     "data": {
      "text/plain": "   Unnamed: 0     TV  radio  newspaper  sales\n0           1  230.1   37.8       69.2   22.1\n1           2   44.5   39.3       45.1   10.4\n2           3   17.2   45.9       69.3    9.3\n3           4  151.5   41.3       58.5   18.5\n4           5  180.8   10.8       58.4   12.9",
      "text/html": "<div>\n<style scoped>\n    .dataframe tbody tr th:only-of-type {\n        vertical-align: middle;\n    }\n\n    .dataframe tbody tr th {\n        vertical-align: top;\n    }\n\n    .dataframe thead th {\n        text-align: right;\n    }\n</style>\n<table border=\"1\" class=\"dataframe\">\n  <thead>\n    <tr style=\"text-align: right;\">\n      <th></th>\n      <th>Unnamed: 0</th>\n      <th>TV</th>\n      <th>radio</th>\n      <th>newspaper</th>\n      <th>sales</th>\n    </tr>\n  </thead>\n  <tbody>\n    <tr>\n      <th>0</th>\n      <td>1</td>\n      <td>230.1</td>\n      <td>37.8</td>\n      <td>69.2</td>\n      <td>22.1</td>\n    </tr>\n    <tr>\n      <th>1</th>\n      <td>2</td>\n      <td>44.5</td>\n      <td>39.3</td>\n      <td>45.1</td>\n      <td>10.4</td>\n    </tr>\n    <tr>\n      <th>2</th>\n      <td>3</td>\n      <td>17.2</td>\n      <td>45.9</td>\n      <td>69.3</td>\n      <td>9.3</td>\n    </tr>\n    <tr>\n      <th>3</th>\n      <td>4</td>\n      <td>151.5</td>\n      <td>41.3</td>\n      <td>58.5</td>\n      <td>18.5</td>\n    </tr>\n    <tr>\n      <th>4</th>\n      <td>5</td>\n      <td>180.8</td>\n      <td>10.8</td>\n      <td>58.4</td>\n      <td>12.9</td>\n    </tr>\n  </tbody>\n</table>\n</div>"
     },
     "execution_count": 126,
     "metadata": {},
     "output_type": "execute_result"
    }
   ],
   "source": [
    "df = pd.read_csv('data/Advertising.zip')\n",
    "df.head()"
   ],
   "metadata": {
    "collapsed": false,
    "ExecuteTime": {
     "end_time": "2023-07-13T09:09:01.446655400Z",
     "start_time": "2023-07-13T09:09:01.125657600Z"
    }
   }
  },
  {
   "cell_type": "markdown",
   "metadata": {
    "id": "bf4aVFndDUKf"
   },
   "source": [
    "**Проверьте, есть ли в данных пропуски и, если они есть - удалите их**"
   ]
  },
  {
   "cell_type": "code",
   "execution_count": 127,
   "metadata": {
    "id": "tiVeFnR5DUKg",
    "ExecuteTime": {
     "end_time": "2023-07-13T09:09:01.447655400Z",
     "start_time": "2023-07-13T09:09:01.156657900Z"
    }
   },
   "outputs": [
    {
     "data": {
      "text/plain": "Unnamed: 0    0\nTV            0\nradio         0\nnewspaper     0\nsales         0\ndtype: int64"
     },
     "execution_count": 127,
     "metadata": {},
     "output_type": "execute_result"
    }
   ],
   "source": [
    "df.isnull().sum()"
   ]
  },
  {
   "cell_type": "markdown",
   "source": [
    "Пропусков нет"
   ],
   "metadata": {
    "collapsed": false
   }
  },
  {
   "cell_type": "markdown",
   "metadata": {
    "id": "rTkiqPr_DUKh"
   },
   "source": [
    "**Преобразуйте ваши признаки в массивы NumPy и разделите их на переменные X (предикторы) и y(целевая переменная)** "
   ]
  },
  {
   "cell_type": "code",
   "execution_count": 128,
   "metadata": {
    "id": "R9OHIRB3a_Xa",
    "ExecuteTime": {
     "end_time": "2023-07-13T09:09:01.448655500Z",
     "start_time": "2023-07-13T09:09:01.167658600Z"
    }
   },
   "outputs": [],
   "source": [
    "# признак unnamed:0 игнорируем, он дублирует индексы со сдвигом на 1\n",
    "\n",
    "X = df[['TV', 'radio', 'newspaper']].values\n",
    "y = df['sales'].values"
   ]
  },
  {
   "cell_type": "markdown",
   "metadata": {
    "id": "KCvjSoHEDUKo"
   },
   "source": [
    "## Координатный спуск (3 балла)"
   ]
  },
  {
   "cell_type": "markdown",
   "metadata": {
    "id": "yjNm8dATDUKq"
   },
   "source": [
    "**Добавим единичный столбец для того, чтобы у нас был свободный коэффициент в уравнении регрессии:**"
   ]
  },
  {
   "cell_type": "code",
   "execution_count": 129,
   "metadata": {
    "id": "LMgq0fmKDUKr",
    "ExecuteTime": {
     "end_time": "2023-07-13T09:09:01.448655500Z",
     "start_time": "2023-07-13T09:09:01.175659400Z"
    }
   },
   "outputs": [
    {
     "name": "stdout",
     "output_type": "stream",
     "text": [
      "(200, 4) (200, 1)\n"
     ]
    }
   ],
   "source": [
    "# добавляем в матрицу наблюдений единичный столбец\n",
    "X = np.hstack([np.ones(X.shape[0]).reshape(-1, 1), X])\n",
    "# преобразуем вектор y в массив\n",
    "y = y.reshape(-1, 1)\n",
    "\n",
    "# проверим размерность данных\n",
    "print(X.shape, y.shape)"
   ]
  },
  {
   "cell_type": "markdown",
   "metadata": {
    "id": "R008OQwcDUKt"
   },
   "source": [
    "**Нормализуем данные: обычно это необходимо для корректной работы алгоритма**"
   ]
  },
  {
   "cell_type": "code",
   "execution_count": 130,
   "metadata": {
    "id": "2Sk7Wx-SDUKt",
    "ExecuteTime": {
     "end_time": "2023-07-13T09:09:01.449655500Z",
     "start_time": "2023-07-13T09:09:01.180659500Z"
    }
   },
   "outputs": [],
   "source": [
    "X = X / np.sqrt(np.sum(np.square(X), axis=0))"
   ]
  },
  {
   "cell_type": "markdown",
   "metadata": {
    "id": "F_pHHbAdDUKu"
   },
   "source": [
    "**Реализуйте алгоритм координатного спуска:** (3 балла)\n",
    "\n",
    "Ниже приведен алгоритм координатного спуска для случая нормализованных данных:"
   ]
  },
  {
   "cell_type": "markdown",
   "metadata": {},
   "source": [
    "**Задано:**\n",
    "\n",
    "* $X=(x_{ij})$ - матрица наблюдений, размерностью $dim(X)=(n, m)$\n",
    "* $N=1000$ - количество итераций\n",
    "\n",
    "**Примечание:** *1000 итераций здесь указаны для этого задания, на самом деле их может быть намного больше, нет детерменированного значения.*\n",
    "\n",
    "**Алгоритм (математическая запись):**\n",
    "* Создать нулевой вектор параметров $w_0=(0, 0,..., 0)^T$\n",
    "* Для всех $t=1, 2, ..., N$ итераций:\n",
    "    * Для всех $k = 1, 2,..., m$:\n",
    "        * Фиксируем значение всех признаков, кроме $k$-ого и вычисляем прогноз модели линейной регрессии.Для этого исключаем признак $k$-ый из данных и $w_j$ из параметров при построении прогноза.\n",
    "        Математически это можно записать следующим образом:\n",
    "\n",
    "        $$h_i = \\sum_{j=1}^{k-1} x_{ij}w_{j} + \\sum_{j=k+1}^{m} x_{ij}w_j $$\n",
    "\n",
    "        **Примечание:**\n",
    "        \n",
    "        *Обратите, что в данной записи текущий признак под номером $k$ не участвует в сумме.Сравните эту запись с классической записью прогноза линейной регрессии в случае нормированных данных (когда участвуют все признаки):*\n",
    "\n",
    "        $$h_i = \\sum_{j=1}^{m} x_{ij}w_{j}$$ \n",
    "        \n",
    "        * Вычисляем новое значение параметра $k$-ого коэффициента: \n",
    "        $$w_k = \\sum_{i=1}^{n} x_{ik} (y_i - h_i) = x_k^T(y-h) $$\n",
    "\n",
    "    * Вычисляем значение функции потерь и сохраняем в историю изменения функции потерь (В оценке функции потерь участвуют все признаки):\n",
    "        $$\\hat{y_i} = \\sum_{j=1}^{m}x_{ij}w_j$$\n",
    "        $$Loss_t = \\frac{1}{n} \\sum_{i=1}^{n}(y_i-\\hat{y_i})^2$$\n",
    "        \n",
    "        или в векторном виде:\n",
    "        \n",
    "        $$\\hat{y} = Xw$$\n",
    "        $$Loss_t = \\frac{1}{n}(y-\\hat{y})^T(y-\\hat{y})$$\n",
    "    \n",
    "\n"
   ]
  },
  {
   "cell_type": "markdown",
   "metadata": {},
   "source": [
    "**Алгоритм (псевдокод):**\n",
    "```python\n",
    "\n",
    "num_iters = #количество итераций\n",
    "m = # количество строк в матрице X\n",
    "n = # количество столбцов в матрице X\n",
    "w = #вектор размера nx1, состояющий из нулей\n",
    "\n",
    "for i in range(num_iters):\n",
    "    for k in range(n):\n",
    "        # Вычисляем прогноз без k-ого фактора\n",
    "        h = (X[:,0:k] @ w[0:k]) + (X[:,k+1:] @ w[k+1:])\n",
    "        # Обновляем новое значение k-ого коэффициента\n",
    "        w[k] =  (X[:,k].T @ (y - h))\n",
    "        # Вычисляем функцию потерь\n",
    "        cost = sum((X @ w) - y) ** 2)/(len(y))\n",
    "\n",
    "```"
   ]
  },
  {
   "cell_type": "markdown",
   "metadata": {
    "id": "y3IdiHm9DUKv"
   },
   "source": [
    "Вам необходимо реализовать координатный спуск, и вывести веса в модели линейной регрессии."
   ]
  },
  {
   "cell_type": "code",
   "execution_count": 131,
   "metadata": {
    "ExecuteTime": {
     "end_time": "2023-07-13T09:09:02.109660300Z",
     "start_time": "2023-07-13T09:09:01.191659900Z"
    }
   },
   "outputs": [
    {
     "name": "stdout",
     "output_type": "stream",
     "text": [
      "Коэффициенты линейной регрессии: \n",
      " [[ 41.56217205]\n",
      " [110.13144155]\n",
      " [ 73.52860638]\n",
      " [ -0.55006384]]\n",
      "MSE: [2.78412631]\n",
      "MAE: [1.25201123]\n"
     ]
    }
   ],
   "source": [
    "# задаем функцию для решения задания\n",
    "def coordinate_descent(X,y, w, num_iters = 1000):\n",
    "    '''\n",
    "    Функция реализует алгоритм координатного спуска.\n",
    "    Параметры функции:\n",
    "        X: матрица наблюдений\n",
    "        y: целевая переменная\n",
    "        w: вектор коэффициентов\n",
    "        num_iters: кол-во итераций\n",
    "    Функция возвращает:\n",
    "        w: вектор с коэффициентами\n",
    "        mse: значение метрики MSE\n",
    "        mae: значение метрики MAE\n",
    "    '''\n",
    "    mse = []\n",
    "    mae = []\n",
    "    for i in range(num_iters):\n",
    "        for k in range(m):\n",
    "            h = (X[:,0:k] @ w[0:k]) + (X[:,k+1:] @ w[k+1:])     # Вычисляем прогноз\n",
    "            w[k] =  (X[:,k].T @ (y - h))                        # Обновляем k-й коэффициент\n",
    "            mse = sum((y - (X @ w)) ** 2)/(len(y))              # Вычисляем MSE\n",
    "            mae = sum(abs(y - (X @ w)))/(len(y))                # Вычисляем MAE\n",
    "    return w, mse, mae\n",
    "\n",
    "m = X.shape[1]\n",
    "n = len(y)\n",
    "w = np.zeros((4,1))\n",
    "\n",
    "w, cost_mse, mae = coordinate_descent(X,y, w)\n",
    "\n",
    "print(f'Коэффициенты линейной регрессии: \\n {w}')\n",
    "print(f'MSE: {cost_mse}')\n",
    "print(f'MAE: {mae}')"
   ]
  },
  {
   "cell_type": "markdown",
   "metadata": {
    "id": "a3jG-7UADUKx"
   },
   "source": [
    "Сравните результаты с реализацией линейной регрессии из библиотеки sklearn:"
   ]
  },
  {
   "cell_type": "code",
   "execution_count": 132,
   "metadata": {
    "id": "SBl-1Yb5DUKy",
    "ExecuteTime": {
     "end_time": "2023-07-13T09:09:02.121662200Z",
     "start_time": "2023-07-13T09:09:02.112659500Z"
    }
   },
   "outputs": [
    {
     "name": "stdout",
     "output_type": "stream",
     "text": [
      "Коэффициенты модели: \n",
      " [[ 41.56217205 110.13144155  73.52860638  -0.55006384]]\n",
      "MSE: 2.784126314510936\n",
      "MAE: 1.2520112296870662\n"
     ]
    }
   ],
   "source": [
    "from sklearn.linear_model import LinearRegression\n",
    " \n",
    "model = LinearRegression(fit_intercept=False)\n",
    "model.fit(X, y)\n",
    "\n",
    "y_predict = model.predict(X)\n",
    "\n",
    "model_mse = metrics.mean_squared_error(y,y_predict)\n",
    "model_mae = metrics.mean_absolute_error(y,y_predict)\n",
    " \n",
    "print(f'Коэффициенты модели: \\n {model.coef_}')\n",
    "print(f'MSE: {model_mse}')\n",
    "print(f'MAE: {model_mae}')"
   ]
  },
  {
   "cell_type": "markdown",
   "metadata": {
    "id": "hIl0AGLyDUKy"
   },
   "source": [
    "Если вы все сделали верно, они должны практически совпасть!"
   ]
  },
  {
   "cell_type": "markdown",
   "source": [
    "Коэффициенты и метрики в обоих случаях совпадают"
   ],
   "metadata": {
    "collapsed": false
   }
  },
  {
   "cell_type": "markdown",
   "metadata": {
    "id": "VCGwFnPdDUKz"
   },
   "source": [
    "## Стохастический градиентный спуск (6 баллов)"
   ]
  },
  {
   "cell_type": "markdown",
   "metadata": {
    "id": "5u7Q2YJla_Xk"
   },
   "source": [
    "**Отмасштабируйте столбцы исходной матрицы *X* (которую мы не нормализовали еще!). Для того, чтобы это сделать, надо вычесть из каждого значения среднее и разделить на стандартное отклонение** (0.5 баллов)"
   ]
  },
  {
   "cell_type": "code",
   "execution_count": 133,
   "metadata": {
    "id": "9cEpV_5La_Xo",
    "ExecuteTime": {
     "end_time": "2023-07-13T09:09:02.176659Z",
     "start_time": "2023-07-13T09:09:02.121662200Z"
    }
   },
   "outputs": [],
   "source": [
    "X = df[['TV', 'radio', 'newspaper']].values\n",
    "y = df['sales'].values\n",
    "\n",
    "X = (X - np.mean(X, axis=0))/np.std(X, axis=0)"
   ]
  },
  {
   "cell_type": "markdown",
   "metadata": {
    "id": "8WkNYILHDUK1"
   },
   "source": [
    "**Добавим единичный столбец**"
   ]
  },
  {
   "cell_type": "code",
   "execution_count": 134,
   "metadata": {
    "id": "EVl5tEGtDUK1",
    "ExecuteTime": {
     "end_time": "2023-07-13T09:09:02.190660800Z",
     "start_time": "2023-07-13T09:09:02.149657200Z"
    }
   },
   "outputs": [
    {
     "name": "stdout",
     "output_type": "stream",
     "text": [
      "(200, 4) (200, 1)\n"
     ]
    }
   ],
   "source": [
    "# добавляем в матрицу наблюдений единичный столбец\n",
    "X = np.hstack([np.ones(X.shape[0]).reshape(-1, 1), X])\n",
    "y = y.reshape(-1, 1)\n",
    "w = np.zeros([4, 1])\n",
    "\n",
    "print(X.shape, y.shape)"
   ]
  },
  {
   "cell_type": "markdown",
   "metadata": {
    "id": "m53tZA5fDUK1"
   },
   "source": [
    "**Создайте функцию mse_error для вычисления среднеквадратичной ошибки, принимающую два аргумента: реальные значения и предсказывающие, и возвращающую значение mse** (0.5 балла)"
   ]
  },
  {
   "cell_type": "code",
   "execution_count": 135,
   "metadata": {
    "id": "0cvtC08Aa_YK",
    "ExecuteTime": {
     "end_time": "2023-07-13T09:09:02.190660800Z",
     "start_time": "2023-07-13T09:09:02.158659700Z"
    }
   },
   "outputs": [],
   "source": [
    "def mse_error(y, y_predict):\n",
    "    '''\n",
    "    Функция вычисляет среднеквадратичную ошибку MSE.\n",
    "    Параметры функции:\n",
    "        y: массив/вектор с реальными значениями целевой переменной\n",
    "        y_predict: массив/вектор с предсказанными значениями целевой переменной\n",
    "    Функция возвращает:\n",
    "        значение среднеквадратичной ошибки MSE\n",
    "    '''\n",
    "    mse = sum((y - y_predict) ** 2)/(len(y))\n",
    "    return mse"
   ]
  },
  {
   "cell_type": "markdown",
   "metadata": {
    "id": "lpOLhdvBDUK2"
   },
   "source": [
    "**Сделайте наивный прогноз: предскажите продажи средним значением. После этого рассчитайте среднеквадратичную ошибку для этого прогноза** (0.5 балла)"
   ]
  },
  {
   "cell_type": "code",
   "execution_count": 136,
   "metadata": {
    "id": "kLV_XljVa_YZ",
    "ExecuteTime": {
     "end_time": "2023-07-13T09:09:02.190660800Z",
     "start_time": "2023-07-13T09:09:02.176659Z"
    }
   },
   "outputs": [
    {
     "name": "stdout",
     "output_type": "stream",
     "text": [
      "[27.08574375]\n"
     ]
    }
   ],
   "source": [
    "y_predict = np.mean(y, axis=0)\n",
    "\n",
    "print(mse_error(y, y_predict))"
   ]
  },
  {
   "cell_type": "markdown",
   "metadata": {
    "id": "BbybL2ola_ZM"
   },
   "source": [
    "**Создайте функцию *lin_pred*, которая может по матрице предикторов *X* и вектору весов линейной модели *w* получить вектор прогнозов** (0.5 балла)"
   ]
  },
  {
   "cell_type": "code",
   "execution_count": 137,
   "metadata": {
    "id": "1Cyz-Luaa_ZO",
    "ExecuteTime": {
     "end_time": "2023-07-13T09:09:02.191660600Z",
     "start_time": "2023-07-13T09:09:02.177658400Z"
    }
   },
   "outputs": [],
   "source": [
    "def lin_pred(X, w):\n",
    "    '''\n",
    "    Функция вычисляет массив прогнозов\n",
    "    Параметры функции:\n",
    "        X: матрица наблюдений\n",
    "        w: вектор коэффициентов линейной модели\n",
    "    Функция возвращает:\n",
    "        массив прогнозов\n",
    "    '''\n",
    "    y_predict = X@w\n",
    "    y_predict = y_predict.reshape(-1, 1)\n",
    "\n",
    "    return y_predict"
   ]
  },
  {
   "cell_type": "markdown",
   "metadata": {
    "id": "BU4adBrya_Zm"
   },
   "source": [
    "**Создайте функцию *stoch_grad_step* для реализации шага стохастического градиентного спуска. (1.5 балла) \n",
    "Функция должна принимать на вход следующие аргументы:**\n",
    "* матрицу *X*\n",
    "* вектора *y* и *w*\n",
    "* число *train_ind* - индекс объекта обучающей выборки (строки матрицы *X*), по которому считается изменение весов\n",
    "* число *$\\eta$* (eta) - шаг градиентного спуска\n",
    "\n",
    "Результатом будет вектор обновленных весов"
   ]
  },
  {
   "cell_type": "markdown",
   "metadata": {
    "id": "dyLY-P02DUK5"
   },
   "source": [
    "Шаг для стохастического градиентного спуска выглядит следующим образом:"
   ]
  },
  {
   "cell_type": "markdown",
   "metadata": {
    "id": "ORsAyIKNDUK5"
   },
   "source": [
    "$$\\Large w_j \\leftarrow w_j - \\frac{2\\eta}{\\ell} \\sum_{i=1}^\\ell{{x_{ij}((w_0 + w_1x_{i1} + w_2x_{i2} +  w_3x_{i3}) - y_i)}}$$"
   ]
  },
  {
   "cell_type": "markdown",
   "metadata": {
    "id": "CQl2FrpuDUK6"
   },
   "source": [
    "Для того, чтобы написать функцию, нужно сделать следующее:\n",
    "    \n",
    "*  посчитать направление изменения: умножить объект обучающей выборки на 2 и на разницу между предсказанным значением и реальным, а потом поделить на количество элементов в выборке.\n",
    "* вернуть разницу между вектором весов и направлением изменения, умноженным на шаг градиентного спуска"
   ]
  },
  {
   "cell_type": "code",
   "execution_count": 138,
   "metadata": {
    "id": "YUhVQGsja_Zn",
    "ExecuteTime": {
     "end_time": "2023-07-13T09:09:02.191660600Z",
     "start_time": "2023-07-13T09:09:02.183660300Z"
    }
   },
   "outputs": [],
   "source": [
    "def stoch_grad_step(X, y, w, train_index, eta):\n",
    "    '''\n",
    "    Функция реализует шаг стохастического градиентного спуска\n",
    "    Параметры функции:\n",
    "        X: матрица наблюдений\n",
    "        y: массив реальных значений целевой переменной\n",
    "        w: вектор коэффициентов линейной модели\n",
    "        train_index: индекс объекта обучающей выборки\n",
    "        eta: шаг градиентного спуска\n",
    "    Функция возвращает:\n",
    "        обновленные коэффициенты линейной модели\n",
    "    '''\n",
    "    object = X[train_index]\n",
    "    y_predict = lin_pred(X[train_index], w)                     # предсказываем целевую переменную\n",
    "    direction = (object*2*(y_predict - y[train_index])) / 1     # рассчитываем направление изменения весов модели по формуле\n",
    "    w_new = w - direction*eta                                   # обновляем веса(коэффициенты) модели\n",
    "\n",
    "    return w_new[0]"
   ]
  },
  {
   "cell_type": "markdown",
   "metadata": {
    "id": "pXwIFd0Ma_Zx"
   },
   "source": [
    "**Создайте функцию *stochastic_gradient_descent*, для реализации стохастического градиентного спуска (2.5 балла)**\n",
    "\n",
    "**Функция принимает на вход следующие аргументы:**\n",
    "- Матрицу признаков X\n",
    "- Целевую переменнную\n",
    "- Изначальную точку (веса модели)\n",
    "- Параметр, определяющий темп обучения\n",
    "- Максимальное число итераций\n",
    "- Евклидово расстояние между векторами весов на соседних итерациях градиентного спуска,при котором алгоритм прекращает работу \n",
    "\n",
    "**На каждой итерации в вектор (список) должно записываться текущее значение среднеквадратичной ошибки. Функция должна возвращать вектор весов $w$, а также вектор (список) ошибок.**"
   ]
  },
  {
   "cell_type": "markdown",
   "metadata": {
    "id": "ZVeoNF1JDUK7"
   },
   "source": [
    "Алгоритм сследующий:\n",
    "    \n",
    "* Инициализируйте расстояние между векторами весов на соседних итерациях большим числом (можно бесконечностью)\n",
    "* Создайте пустой список для фиксации ошибок\n",
    "* Создайте счетчик итераций\n",
    "* Реализуйте оновной цикл обучения пока расстояние между векторами весов больше того, при котором надо прекратить работу (когда расстояния станут слишком маленькими - значит, мы застряли в одном месте) и количество итераций меньше максимально разрешенного: сгенерируйте случайный индекс, запишите текущую ошибку в вектор ошибок, запишите в переменную текущий шаг стохастического спуска с использованием функции, написанной ранее. Далее рассчитайте текущее расстояние между векторами весов и прибавьте к счетчику итераций 1.\n",
    "* Верните вектор весов и вектор ошибок"
   ]
  },
  {
   "cell_type": "code",
   "execution_count": 139,
   "metadata": {
    "id": "CD_xcFNfa_Zy",
    "ExecuteTime": {
     "end_time": "2023-07-13T09:09:02.256656200Z",
     "start_time": "2023-07-13T09:09:02.191660600Z"
    }
   },
   "outputs": [],
   "source": [
    "def stochastic_gradient_descent(X, y, w, eta, max_iter, min_weight_dist, seed):\n",
    "    '''\n",
    "    Функция реализует стохастический градиентный спуск\n",
    "    Параметры функции:\n",
    "        X: матрица наблюдений\n",
    "        y: массив реальных значений целевой переменной\n",
    "        w: вектор коэффициентов линейной модели\n",
    "        eta: параметр, определяющий темп обучения\n",
    "        max_iter: максимальное число итераций\n",
    "        min_weight_dist: минимальное расстояние между векторами весов\n",
    "        seed: для воспроизводимости эксперимета\n",
    "    Функция возвращает:\n",
    "        w: обновленные коэффициенты линейной модели\n",
    "        errors: MSE\n",
    "    '''\n",
    "    weight_dist = float(\"inf\") # задаем начальное значение расстояния между векторами - бесконечность\n",
    "    errors = []\n",
    "    iter_num = 0\n",
    "\n",
    "    np.random.seed(seed)\n",
    "\n",
    "    # выполняем пока расстояние между векторами весов больше ограничения и не превысили количества итераций\n",
    "    while weight_dist > min_weight_dist and iter_num < max_iter:\n",
    "        random_index = np.random.randint(X.shape[0])                            # задаем случайный индекс строки матрицы X\n",
    "        new_w = stoch_grad_step(X, y, w, random_index, eta)                     # обновляем коэффициены\n",
    "        error = mse_error(y[random_index], lin_pred(X[random_index], new_w))    # MSE\n",
    "        errors.append(error)\n",
    "        weight_dist = np.linalg.norm(w-new_w)                                   # расстояние между векторами\n",
    "        w = new_w\n",
    "        iter_num += 1\n",
    "\n",
    "    return w, errors"
   ]
  },
  {
   "cell_type": "markdown",
   "metadata": {
    "id": "0OqHO1Rta_Z7"
   },
   "source": [
    " **Запустите $10^5$ итераций стохастического градиентного спуска. Укажите вектор начальных весов, состоящий из нулей. Можете поэкспериментировать с параметром, отвечающим за темп обучения.**"
   ]
  },
  {
   "cell_type": "markdown",
   "metadata": {
    "id": "N6fHHT6vDUK8"
   },
   "source": [
    "**Постройте график зависимости ошибки от номера итерации**"
   ]
  },
  {
   "cell_type": "code",
   "execution_count": 140,
   "metadata": {
    "id": "zsSfHDzLDUK9",
    "ExecuteTime": {
     "end_time": "2023-07-13T09:09:03.918662100Z",
     "start_time": "2023-07-13T09:09:02.203659400Z"
    }
   },
   "outputs": [],
   "source": [
    "# реализуем стохастический градиентный спуск\n",
    "w, errors = stochastic_gradient_descent(X, y, w, eta=0.0001, max_iter=1e5, min_weight_dist=1e-8, seed=42)"
   ]
  },
  {
   "cell_type": "markdown",
   "metadata": {
    "id": "O-MVOcJ6a_aY"
   },
   "source": [
    "**Выведите вектор весов, к которому сошелся метод.**"
   ]
  },
  {
   "cell_type": "code",
   "execution_count": 141,
   "metadata": {
    "id": "MPjVkXe4DUK9",
    "ExecuteTime": {
     "end_time": "2023-07-13T09:09:03.924690100Z",
     "start_time": "2023-07-13T09:09:03.919665300Z"
    }
   },
   "outputs": [
    {
     "data": {
      "text/plain": "array([14.01943426,  3.92231475,  2.82193654, -0.0326486 ])"
     },
     "execution_count": 141,
     "metadata": {},
     "output_type": "execute_result"
    }
   ],
   "source": [
    "w"
   ]
  },
  {
   "cell_type": "markdown",
   "metadata": {
    "id": "qabzMc3Qa_a5"
   },
   "source": [
    "**Выведите среднеквадратичную ошибку на последней итерации.**"
   ]
  },
  {
   "cell_type": "code",
   "execution_count": 142,
   "metadata": {
    "id": "7tPWleMIa_a7",
    "ExecuteTime": {
     "end_time": "2023-07-13T09:09:03.957660500Z",
     "start_time": "2023-07-13T09:09:03.926663400Z"
    }
   },
   "outputs": [
    {
     "data": {
      "text/plain": "1.0730595722999264e-11"
     },
     "execution_count": 142,
     "metadata": {},
     "output_type": "execute_result"
    }
   ],
   "source": [
    "errors[-1][0]"
   ]
  },
  {
   "cell_type": "code",
   "execution_count": 143,
   "outputs": [
    {
     "name": "stdout",
     "output_type": "stream",
     "text": [
      "MSE: [2.78493236]\n",
      "MAE: [1.25089949]\n"
     ]
    }
   ],
   "source": [
    "print(f'MSE: {mse_error(y,lin_pred(X,w))}')\n",
    "print(f'MAE: {sum(abs(y - lin_pred(X,w)))/(len(y))}')"
   ],
   "metadata": {
    "collapsed": false,
    "ExecuteTime": {
     "end_time": "2023-07-13T09:09:03.968663800Z",
     "start_time": "2023-07-13T09:09:03.953661700Z"
    }
   }
  },
  {
   "cell_type": "markdown",
   "source": [
    "Для проверки полученных результатов выполним градиентный стохастический спуск, используя библиотеку sklearn"
   ],
   "metadata": {
    "collapsed": false
   }
  },
  {
   "cell_type": "code",
   "execution_count": 144,
   "outputs": [
    {
     "name": "stdout",
     "output_type": "stream",
     "text": [
      "Коэффициенты модели: \n",
      " [ 7.01050789  3.91559302  2.77040546 -0.00990973]\n",
      "MSE: 2.7845883108149714\n",
      "MAE: 1.2529978806525406\n"
     ]
    }
   ],
   "source": [
    "reg = SGDRegressor(max_iter=100000)\n",
    "reg.fit(X,y)\n",
    "\n",
    "y_predict = reg.predict(X)\n",
    "\n",
    "# вычисляем метрики MSE и MAE\n",
    "model_mse = metrics.mean_squared_error(y,y_predict)\n",
    "model_mae = metrics.mean_absolute_error(y,y_predict)\n",
    "\n",
    "# выводим полученные данные\n",
    "print(f'Коэффициенты модели: \\n {reg.coef_}')\n",
    "print(f'MSE: {model_mse}')\n",
    "print(f'MAE: {model_mae}')"
   ],
   "metadata": {
    "collapsed": false,
    "ExecuteTime": {
     "end_time": "2023-07-13T09:09:03.977660Z",
     "start_time": "2023-07-13T09:09:03.961663100Z"
    }
   }
  },
  {
   "cell_type": "markdown",
   "source": [
    "Был реализован алгоритм стохастического градиентного спуска"
   ],
   "metadata": {
    "collapsed": false
   }
  }
 ],
 "metadata": {
  "colab": {
   "collapsed_sections": [],
   "name": "Практика_Оптимизация.ipynb",
   "provenance": [],
   "toc_visible": true
  },
  "kernelspec": {
   "display_name": "Python 3.10.8 ('base')",
   "language": "python",
   "name": "python3"
  },
  "language_info": {
   "codemirror_mode": {
    "name": "ipython",
    "version": 3
   },
   "file_extension": ".py",
   "mimetype": "text/x-python",
   "name": "python",
   "nbconvert_exporter": "python",
   "pygments_lexer": "ipython3",
   "version": "3.10.8"
  },
  "vscode": {
   "interpreter": {
    "hash": "86c56a74836ad344b00594bf6f38fa6a676a207ceefe20d101fbc465800ccb8d"
   }
  }
 },
 "nbformat": 4,
 "nbformat_minor": 0
}
