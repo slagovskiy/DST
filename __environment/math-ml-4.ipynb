{
 "cells": [
  {
   "cell_type": "code",
   "execution_count": 1,
   "metadata": {
    "collapsed": true,
    "ExecuteTime": {
     "end_time": "2023-06-28T12:17:04.092663300Z",
     "start_time": "2023-06-28T12:17:04.079155900Z"
    }
   },
   "outputs": [],
   "source": [
    "A = {'ID453', 'ID312', 'ID41', 'ID3', 'ID500', 'ID920', 'ID36', 'ID27'}\n",
    "B = {'ID41', 'ID36', 'ID27', 'ID124', 'ID7', 'ID501', 'ID91' }"
   ]
  },
  {
   "cell_type": "code",
   "execution_count": 3,
   "outputs": [
    {
     "data": {
      "text/plain": "{'ID27', 'ID3', 'ID312', 'ID36', 'ID41', 'ID453', 'ID500', 'ID920'}"
     },
     "execution_count": 3,
     "metadata": {},
     "output_type": "execute_result"
    }
   ],
   "source": [
    "A"
   ],
   "metadata": {
    "collapsed": false,
    "ExecuteTime": {
     "end_time": "2023-06-28T12:17:09.851936200Z",
     "start_time": "2023-06-28T12:17:09.817558400Z"
    }
   }
  },
  {
   "cell_type": "code",
   "execution_count": 4,
   "outputs": [
    {
     "data": {
      "text/plain": "{'ID124', 'ID27', 'ID36', 'ID41', 'ID501', 'ID7', 'ID91'}"
     },
     "execution_count": 4,
     "metadata": {},
     "output_type": "execute_result"
    }
   ],
   "source": [
    "B"
   ],
   "metadata": {
    "collapsed": false,
    "ExecuteTime": {
     "end_time": "2023-06-28T12:17:11.099224200Z",
     "start_time": "2023-06-28T12:17:11.069685300Z"
    }
   }
  },
  {
   "cell_type": "code",
   "execution_count": 5,
   "outputs": [
    {
     "name": "stdout",
     "output_type": "stream",
     "text": [
      "{'ID500', 'ID920', 'ID3', 'ID91', 'ID36', 'ID453', 'ID41', 'ID27', 'ID312', 'ID501', 'ID124', 'ID7'}\n"
     ]
    }
   ],
   "source": [
    "union_AB = A.union(B)\n",
    "print(union_AB)"
   ],
   "metadata": {
    "collapsed": false,
    "ExecuteTime": {
     "end_time": "2023-06-28T12:17:22.040237100Z",
     "start_time": "2023-06-28T12:17:22.011220Z"
    }
   }
  },
  {
   "cell_type": "code",
   "execution_count": 6,
   "outputs": [
    {
     "name": "stdout",
     "output_type": "stream",
     "text": [
      "{'ID500', 'ID920', 'ID3', 'ID91', 'ID36', 'ID453', 'ID41', 'ID27', 'ID312', 'ID501', 'ID124', 'ID7'}\n"
     ]
    }
   ],
   "source": [
    "union_AB = A | B\n",
    "print(union_AB)"
   ],
   "metadata": {
    "collapsed": false,
    "ExecuteTime": {
     "end_time": "2023-06-28T12:17:30.381281900Z",
     "start_time": "2023-06-28T12:17:30.356205700Z"
    }
   }
  },
  {
   "cell_type": "code",
   "execution_count": 7,
   "outputs": [
    {
     "name": "stdout",
     "output_type": "stream",
     "text": [
      "{'ID41', 'ID27', 'ID36'}\n"
     ]
    }
   ],
   "source": [
    "inter_AB = A.intersection(B)\n",
    "print(inter_AB)"
   ],
   "metadata": {
    "collapsed": false,
    "ExecuteTime": {
     "end_time": "2023-06-28T12:17:45.958420Z",
     "start_time": "2023-06-28T12:17:45.938236Z"
    }
   }
  },
  {
   "cell_type": "code",
   "execution_count": 8,
   "outputs": [
    {
     "name": "stdout",
     "output_type": "stream",
     "text": [
      "{'ID41', 'ID27', 'ID36'}\n"
     ]
    }
   ],
   "source": [
    "inter_AB = A & B\n",
    "print(inter_AB)"
   ],
   "metadata": {
    "collapsed": false,
    "ExecuteTime": {
     "end_time": "2023-06-28T12:17:53.217402100Z",
     "start_time": "2023-06-28T12:17:53.187851400Z"
    }
   }
  },
  {
   "cell_type": "code",
   "execution_count": 9,
   "outputs": [
    {
     "name": "stdout",
     "output_type": "stream",
     "text": [
      "{'ID500', 'ID920', 'ID3', 'ID453', 'ID312'}\n"
     ]
    }
   ],
   "source": [
    "diff_AB = A.difference(B)\n",
    "print(diff_AB)"
   ],
   "metadata": {
    "collapsed": false,
    "ExecuteTime": {
     "end_time": "2023-06-28T12:19:42.759302900Z",
     "start_time": "2023-06-28T12:19:42.711612500Z"
    }
   }
  },
  {
   "cell_type": "code",
   "execution_count": 10,
   "outputs": [
    {
     "name": "stdout",
     "output_type": "stream",
     "text": [
      "{'ID501', 'ID124', 'ID7', 'ID91'}\n"
     ]
    }
   ],
   "source": [
    "diff_BA = B - A\n",
    "print(diff_BA)"
   ],
   "metadata": {
    "collapsed": false,
    "ExecuteTime": {
     "end_time": "2023-06-28T12:19:50.288717200Z",
     "start_time": "2023-06-28T12:19:50.282681Z"
    }
   }
  },
  {
   "cell_type": "code",
   "execution_count": 11,
   "outputs": [
    {
     "name": "stdout",
     "output_type": "stream",
     "text": [
      "{'ID3', 'ID91', 'ID453', 'ID500', 'ID920', 'ID312', 'ID501', 'ID124', 'ID7'}\n"
     ]
    }
   ],
   "source": [
    "symmAB = A.symmetric_difference(B)\n",
    "print(symmAB)"
   ],
   "metadata": {
    "collapsed": false,
    "ExecuteTime": {
     "end_time": "2023-06-28T12:20:00.379830100Z",
     "start_time": "2023-06-28T12:20:00.299778Z"
    }
   }
  },
  {
   "cell_type": "code",
   "execution_count": 12,
   "outputs": [
    {
     "name": "stdout",
     "output_type": "stream",
     "text": [
      "{'ID3', 'ID91', 'ID453', 'ID500', 'ID920', 'ID312', 'ID501', 'ID124', 'ID7'}\n"
     ]
    }
   ],
   "source": [
    "symmAB = A ^ B\n",
    "print(symmAB)"
   ],
   "metadata": {
    "collapsed": false,
    "ExecuteTime": {
     "end_time": "2023-06-28T12:20:06.800215100Z",
     "start_time": "2023-06-28T12:20:06.773215600Z"
    }
   }
  },
  {
   "cell_type": "code",
   "execution_count": 13,
   "outputs": [],
   "source": [
    "import sympy"
   ],
   "metadata": {
    "collapsed": false,
    "ExecuteTime": {
     "end_time": "2023-06-28T12:23:02.296127900Z",
     "start_time": "2023-06-28T12:22:52.673372800Z"
    }
   }
  },
  {
   "cell_type": "code",
   "execution_count": 14,
   "outputs": [
    {
     "data": {
      "text/plain": "sqrt(2)",
      "text/latex": "$\\displaystyle \\sqrt{2}$"
     },
     "execution_count": 14,
     "metadata": {},
     "output_type": "execute_result"
    }
   ],
   "source": [
    "sympy.sqrt(2)"
   ],
   "metadata": {
    "collapsed": false,
    "ExecuteTime": {
     "end_time": "2023-06-28T12:23:05.656586800Z",
     "start_time": "2023-06-28T12:23:05.650397400Z"
    }
   }
  },
  {
   "cell_type": "code",
   "execution_count": 15,
   "outputs": [
    {
     "data": {
      "text/plain": "{1, 3, 7, 9, 10}",
      "text/latex": "$\\displaystyle \\left\\{1, 3, 7, 9, 10\\right\\}$"
     },
     "execution_count": 15,
     "metadata": {},
     "output_type": "execute_result"
    }
   ],
   "source": [
    "from sympy import FiniteSet, Union\n",
    "l1 = [1, 3, 7, 10]\n",
    "l2 = [9, 7, 1]\n",
    "a = FiniteSet(*l1)\n",
    "b = FiniteSet(*l2)\n",
    "Union(a, b)"
   ],
   "metadata": {
    "collapsed": false,
    "ExecuteTime": {
     "end_time": "2023-06-28T12:23:46.379124200Z",
     "start_time": "2023-06-28T12:23:46.340889200Z"
    }
   }
  },
  {
   "cell_type": "code",
   "execution_count": 16,
   "outputs": [
    {
     "data": {
      "text/plain": "ConditionSet(x, Eq(x**2 - 5*x, 0), Interval(2, 9))",
      "text/latex": "$\\displaystyle \\left\\{x\\; \\middle|\\; x \\in \\left[2, 9\\right] \\wedge x^{2} - 5 x = 0 \\right\\}$"
     },
     "execution_count": 16,
     "metadata": {},
     "output_type": "execute_result"
    }
   ],
   "source": [
    "from sympy import ConditionSet, Eq, Symbol, Interval\n",
    "x=Symbol('x')\n",
    "s=ConditionSet(x, Eq(x**2-5*x,0), Interval(2,9))\n",
    "s"
   ],
   "metadata": {
    "collapsed": false,
    "ExecuteTime": {
     "end_time": "2023-06-28T12:24:14.806236Z",
     "start_time": "2023-06-28T12:24:13.739221800Z"
    }
   }
  },
  {
   "cell_type": "code",
   "execution_count": 20,
   "outputs": [
    {
     "ename": "AttributeError",
     "evalue": "'Symbol' object has no attribute 'com'",
     "output_type": "error",
     "traceback": [
      "\u001B[1;31m---------------------------------------------------------------------------\u001B[0m",
      "\u001B[1;31mValueError\u001B[0m                                Traceback (most recent call last)",
      "\u001B[1;31mValueError\u001B[0m: Error from parse_expr with transformed code: \"Symbol ('bennet' )@Symbol ('xyz' ).com \"",
      "\nThe above exception was the direct cause of the following exception:\n",
      "\u001B[1;31mAttributeError\u001B[0m                            Traceback (most recent call last)",
      "Cell \u001B[1;32mIn[20], line 19\u001B[0m\n\u001B[0;32m      1\u001B[0m a \u001B[38;5;241m=\u001B[39m [\n\u001B[0;32m      2\u001B[0m     \u001B[38;5;124m'\u001B[39m\u001B[38;5;124mbennet@xyz.com\u001B[39m\u001B[38;5;124m'\u001B[39m,\n\u001B[0;32m      3\u001B[0m     \u001B[38;5;124m'\u001B[39m\u001B[38;5;124mdarcy@abc.com\u001B[39m\u001B[38;5;124m'\u001B[39m,\n\u001B[1;32m   (...)\u001B[0m\n\u001B[0;32m      9\u001B[0m     \u001B[38;5;124m'\u001B[39m\u001B[38;5;124m0071235@gmail.ru\u001B[39m\u001B[38;5;124m'\u001B[39m\n\u001B[0;32m     10\u001B[0m ]\n\u001B[0;32m     11\u001B[0m b \u001B[38;5;241m=\u001B[39m [\n\u001B[0;32m     12\u001B[0m     \u001B[38;5;124m'\u001B[39m\u001B[38;5;124mmarimari@xyz.com\u001B[39m\u001B[38;5;124m'\u001B[39m,\n\u001B[0;32m     13\u001B[0m     \u001B[38;5;124m'\u001B[39m\u001B[38;5;124mdarcy@abc.com\u001B[39m\u001B[38;5;124m'\u001B[39m,\n\u001B[1;32m   (...)\u001B[0m\n\u001B[0;32m     17\u001B[0m     \u001B[38;5;124m'\u001B[39m\u001B[38;5;124mkatrin@ya.com\u001B[39m\u001B[38;5;124m'\u001B[39m\n\u001B[0;32m     18\u001B[0m ]\n\u001B[1;32m---> 19\u001B[0m A \u001B[38;5;241m=\u001B[39m \u001B[43mFiniteSet\u001B[49m\u001B[43m(\u001B[49m\u001B[38;5;241;43m*\u001B[39;49m\u001B[43ma\u001B[49m\u001B[43m)\u001B[49m\n\u001B[0;32m     20\u001B[0m B \u001B[38;5;241m=\u001B[39m FiniteSet(\u001B[38;5;241m*\u001B[39mb)\n\u001B[0;32m     21\u001B[0m Union(A, B)\n",
      "File \u001B[1;32mD:\\Work\\DST\\__environment\\venv\\lib\\site-packages\\sympy\\sets\\sets.py:1924\u001B[0m, in \u001B[0;36mFiniteSet.__new__\u001B[1;34m(cls, *args, **kwargs)\u001B[0m\n\u001B[0;32m   1922\u001B[0m evaluate \u001B[38;5;241m=\u001B[39m kwargs\u001B[38;5;241m.\u001B[39mget(\u001B[38;5;124m'\u001B[39m\u001B[38;5;124mevaluate\u001B[39m\u001B[38;5;124m'\u001B[39m, global_parameters\u001B[38;5;241m.\u001B[39mevaluate)\n\u001B[0;32m   1923\u001B[0m \u001B[38;5;28;01mif\u001B[39;00m evaluate:\n\u001B[1;32m-> 1924\u001B[0m     args \u001B[38;5;241m=\u001B[39m \u001B[38;5;28;43mlist\u001B[39;49m\u001B[43m(\u001B[49m\u001B[38;5;28;43mmap\u001B[39;49m\u001B[43m(\u001B[49m\u001B[43msympify\u001B[49m\u001B[43m,\u001B[49m\u001B[43m \u001B[49m\u001B[43margs\u001B[49m\u001B[43m)\u001B[49m\u001B[43m)\u001B[49m\n\u001B[0;32m   1926\u001B[0m     \u001B[38;5;28;01mif\u001B[39;00m \u001B[38;5;28mlen\u001B[39m(args) \u001B[38;5;241m==\u001B[39m \u001B[38;5;241m0\u001B[39m:\n\u001B[0;32m   1927\u001B[0m         \u001B[38;5;28;01mreturn\u001B[39;00m S\u001B[38;5;241m.\u001B[39mEmptySet\n",
      "File \u001B[1;32mD:\\Work\\DST\\__environment\\venv\\lib\\site-packages\\sympy\\core\\sympify.py:496\u001B[0m, in \u001B[0;36msympify\u001B[1;34m(a, locals, convert_xor, strict, rational, evaluate)\u001B[0m\n\u001B[0;32m    494\u001B[0m \u001B[38;5;28;01mtry\u001B[39;00m:\n\u001B[0;32m    495\u001B[0m     a \u001B[38;5;241m=\u001B[39m a\u001B[38;5;241m.\u001B[39mreplace(\u001B[38;5;124m'\u001B[39m\u001B[38;5;130;01m\\n\u001B[39;00m\u001B[38;5;124m'\u001B[39m, \u001B[38;5;124m'\u001B[39m\u001B[38;5;124m'\u001B[39m)\n\u001B[1;32m--> 496\u001B[0m     expr \u001B[38;5;241m=\u001B[39m \u001B[43mparse_expr\u001B[49m\u001B[43m(\u001B[49m\u001B[43ma\u001B[49m\u001B[43m,\u001B[49m\u001B[43m \u001B[49m\u001B[43mlocal_dict\u001B[49m\u001B[38;5;241;43m=\u001B[39;49m\u001B[38;5;28;43mlocals\u001B[39;49m\u001B[43m,\u001B[49m\u001B[43m \u001B[49m\u001B[43mtransformations\u001B[49m\u001B[38;5;241;43m=\u001B[39;49m\u001B[43mtransformations\u001B[49m\u001B[43m,\u001B[49m\u001B[43m \u001B[49m\u001B[43mevaluate\u001B[49m\u001B[38;5;241;43m=\u001B[39;49m\u001B[43mevaluate\u001B[49m\u001B[43m)\u001B[49m\n\u001B[0;32m    497\u001B[0m \u001B[38;5;28;01mexcept\u001B[39;00m (TokenError, \u001B[38;5;167;01mSyntaxError\u001B[39;00m) \u001B[38;5;28;01mas\u001B[39;00m exc:\n\u001B[0;32m    498\u001B[0m     \u001B[38;5;28;01mraise\u001B[39;00m SympifyError(\u001B[38;5;124m'\u001B[39m\u001B[38;5;124mcould not parse \u001B[39m\u001B[38;5;132;01m%r\u001B[39;00m\u001B[38;5;124m'\u001B[39m \u001B[38;5;241m%\u001B[39m a, exc)\n",
      "File \u001B[1;32mD:\\Work\\DST\\__environment\\venv\\lib\\site-packages\\sympy\\parsing\\sympy_parser.py:1101\u001B[0m, in \u001B[0;36mparse_expr\u001B[1;34m(s, local_dict, transformations, global_dict, evaluate)\u001B[0m\n\u001B[0;32m   1099\u001B[0m \u001B[38;5;28;01mfor\u001B[39;00m i \u001B[38;5;129;01min\u001B[39;00m local_dict\u001B[38;5;241m.\u001B[39mpop(null, ()):\n\u001B[0;32m   1100\u001B[0m     local_dict[i] \u001B[38;5;241m=\u001B[39m null\n\u001B[1;32m-> 1101\u001B[0m \u001B[38;5;28;01mraise\u001B[39;00m e \u001B[38;5;28;01mfrom\u001B[39;00m \u001B[38;5;21;01mValueError\u001B[39;00m(\u001B[38;5;124mf\u001B[39m\u001B[38;5;124m\"\u001B[39m\u001B[38;5;124mError from parse_expr with transformed code: \u001B[39m\u001B[38;5;132;01m{\u001B[39;00mcode\u001B[38;5;132;01m!r}\u001B[39;00m\u001B[38;5;124m\"\u001B[39m)\n",
      "File \u001B[1;32mD:\\Work\\DST\\__environment\\venv\\lib\\site-packages\\sympy\\parsing\\sympy_parser.py:1092\u001B[0m, in \u001B[0;36mparse_expr\u001B[1;34m(s, local_dict, transformations, global_dict, evaluate)\u001B[0m\n\u001B[0;32m   1089\u001B[0m     code \u001B[38;5;241m=\u001B[39m \u001B[38;5;28mcompile\u001B[39m(evaluateFalse(code), \u001B[38;5;124m'\u001B[39m\u001B[38;5;124m<string>\u001B[39m\u001B[38;5;124m'\u001B[39m, \u001B[38;5;124m'\u001B[39m\u001B[38;5;124meval\u001B[39m\u001B[38;5;124m'\u001B[39m)\n\u001B[0;32m   1091\u001B[0m \u001B[38;5;28;01mtry\u001B[39;00m:\n\u001B[1;32m-> 1092\u001B[0m     rv \u001B[38;5;241m=\u001B[39m \u001B[43meval_expr\u001B[49m\u001B[43m(\u001B[49m\u001B[43mcode\u001B[49m\u001B[43m,\u001B[49m\u001B[43m \u001B[49m\u001B[43mlocal_dict\u001B[49m\u001B[43m,\u001B[49m\u001B[43m \u001B[49m\u001B[43mglobal_dict\u001B[49m\u001B[43m)\u001B[49m\n\u001B[0;32m   1093\u001B[0m     \u001B[38;5;66;03m# restore neutral definitions for names\u001B[39;00m\n\u001B[0;32m   1094\u001B[0m     \u001B[38;5;28;01mfor\u001B[39;00m i \u001B[38;5;129;01min\u001B[39;00m local_dict\u001B[38;5;241m.\u001B[39mpop(null, ()):\n",
      "File \u001B[1;32mD:\\Work\\DST\\__environment\\venv\\lib\\site-packages\\sympy\\parsing\\sympy_parser.py:907\u001B[0m, in \u001B[0;36meval_expr\u001B[1;34m(code, local_dict, global_dict)\u001B[0m\n\u001B[0;32m    901\u001B[0m \u001B[38;5;28;01mdef\u001B[39;00m \u001B[38;5;21meval_expr\u001B[39m(code, local_dict: DICT, global_dict: DICT):\n\u001B[0;32m    902\u001B[0m \u001B[38;5;250m    \u001B[39m\u001B[38;5;124;03m\"\"\"\u001B[39;00m\n\u001B[0;32m    903\u001B[0m \u001B[38;5;124;03m    Evaluate Python code generated by ``stringify_expr``.\u001B[39;00m\n\u001B[0;32m    904\u001B[0m \n\u001B[0;32m    905\u001B[0m \u001B[38;5;124;03m    Generally, ``parse_expr`` should be used.\u001B[39;00m\n\u001B[0;32m    906\u001B[0m \u001B[38;5;124;03m    \"\"\"\u001B[39;00m\n\u001B[1;32m--> 907\u001B[0m     expr \u001B[38;5;241m=\u001B[39m \u001B[38;5;28;43meval\u001B[39;49m\u001B[43m(\u001B[49m\n\u001B[0;32m    908\u001B[0m \u001B[43m        \u001B[49m\u001B[43mcode\u001B[49m\u001B[43m,\u001B[49m\u001B[43m \u001B[49m\u001B[43mglobal_dict\u001B[49m\u001B[43m,\u001B[49m\u001B[43m \u001B[49m\u001B[43mlocal_dict\u001B[49m\u001B[43m)\u001B[49m  \u001B[38;5;66;03m# take local objects in preference\u001B[39;00m\n\u001B[0;32m    909\u001B[0m     \u001B[38;5;28;01mreturn\u001B[39;00m expr\n",
      "File \u001B[1;32m<string>:1\u001B[0m\n",
      "\u001B[1;31mAttributeError\u001B[0m: 'Symbol' object has no attribute 'com'"
     ]
    }
   ],
   "source": [
    "a = [\n",
    "    'bennet@xyz.com',\n",
    "    'darcy@abc.com',\n",
    "    'margaret@xyz.com',\n",
    "    'pa@hhh.com',\n",
    "    'marimari@xyz.com',\n",
    "    'mallika@yahoo.com',\n",
    "    'abc@xyz.com',\n",
    "    '0071235@gmail.ru'\n",
    "]\n",
    "b = [\n",
    "    'marimari@xyz.com',\n",
    "    'darcy@abc.com',\n",
    "    '0071235@gmail.ru',\n",
    "    'darcy@abc.com',\n",
    "    'petr44@xyz.com',\n",
    "    'katrin@ya.com'\n",
    "]\n",
    "A = FiniteSet(*a)\n",
    "B = FiniteSet(*b)\n",
    "Union(A, B)"
   ],
   "metadata": {
    "collapsed": false,
    "ExecuteTime": {
     "end_time": "2023-06-28T12:31:37.010203400Z",
     "start_time": "2023-06-28T12:31:36.935981600Z"
    }
   }
  },
  {
   "cell_type": "code",
   "execution_count": 23,
   "outputs": [
    {
     "data": {
      "text/plain": "3"
     },
     "execution_count": 23,
     "metadata": {},
     "output_type": "execute_result"
    }
   ],
   "source": [
    "a = {\n",
    "    'bennet@xyz.com',\n",
    "    'darcy@abc.com',\n",
    "    'margaret@xyz.com',\n",
    "    'pa@hhh.com',\n",
    "    'marimari@xyz.com',\n",
    "    'mallika@yahoo.com',\n",
    "    'abc@xyz.com',\n",
    "    '0071235@gmail.ru'\n",
    "}\n",
    "b = {\n",
    "    'marimari@xyz.com',\n",
    "    'darcy@abc.com',\n",
    "    '0071235@gmail.ru',\n",
    "    'darcy@abc.com',\n",
    "    'petr44@xyz.com',\n",
    "    'katrin@ya.com'\n",
    "}\n",
    "len(a.intersection(b))"
   ],
   "metadata": {
    "collapsed": false,
    "ExecuteTime": {
     "end_time": "2023-06-28T12:32:33.218441100Z",
     "start_time": "2023-06-28T12:32:33.187415300Z"
    }
   }
  },
  {
   "cell_type": "code",
   "execution_count": 24,
   "outputs": [
    {
     "data": {
      "text/plain": "{'katrin@ya.com', 'petr44@xyz.com'}"
     },
     "execution_count": 24,
     "metadata": {},
     "output_type": "execute_result"
    }
   ],
   "source": [
    "b-a"
   ],
   "metadata": {
    "collapsed": false,
    "ExecuteTime": {
     "end_time": "2023-06-28T12:33:25.765626300Z",
     "start_time": "2023-06-28T12:33:25.741036Z"
    }
   }
  },
  {
   "cell_type": "code",
   "execution_count": 26,
   "outputs": [
    {
     "data": {
      "text/plain": "Union(Interval.open(-oo, 0), Interval.open(0, oo))",
      "text/latex": "$\\displaystyle \\left(-\\infty, 0\\right) \\cup \\left(0, \\infty\\right)$"
     },
     "metadata": {},
     "output_type": "display_data"
    },
    {
     "data": {
      "text/plain": "Union(Interval.open(-oo, 0), Interval.open(0, oo))",
      "text/latex": "$\\displaystyle \\left(-\\infty, 0\\right) \\cup \\left(0, \\infty\\right)$"
     },
     "metadata": {},
     "output_type": "display_data"
    }
   ],
   "source": [
    "from sympy import Symbol, S # импортируем нужные функции для обозначения переменных\n",
    "from sympy.calculus.util import function_range #импортируем функцию для поиска области значения\n",
    "from sympy.calculus.util import continuous_domain #импортируем функцию для поиска области определения\n",
    "x = Symbol(\"x\") #определяем нашу переменную\n",
    "f = 1/x # определяем нашу функцию\n",
    "display(continuous_domain(f, x, S.Reals)) #вычисляем область определения\n",
    "display(function_range(f, x, S.Reals))"
   ],
   "metadata": {
    "collapsed": false,
    "ExecuteTime": {
     "end_time": "2023-06-28T13:17:28.444620300Z",
     "start_time": "2023-06-28T13:17:28.391096500Z"
    }
   }
  },
  {
   "cell_type": "code",
   "execution_count": 27,
   "outputs": [
    {
     "data": {
      "text/plain": "Interval.open(0, oo)",
      "text/latex": "$\\displaystyle \\left(0, \\infty\\right)$"
     },
     "metadata": {},
     "output_type": "display_data"
    },
    {
     "data": {
      "text/plain": "Interval(-oo, exp(-1))",
      "text/latex": "$\\displaystyle \\left(-\\infty, e^{-1}\\right]$"
     },
     "metadata": {},
     "output_type": "display_data"
    }
   ],
   "source": [
    "from sympy import log\n",
    "\n",
    "f = log(x)/x\n",
    "display(continuous_domain(f, x, S.Reals)) #вычисляем область определения\n",
    "display(function_range(f, x, S.Reals))"
   ],
   "metadata": {
    "collapsed": false,
    "ExecuteTime": {
     "end_time": "2023-06-28T13:18:37.174466800Z",
     "start_time": "2023-06-28T13:18:37.011445500Z"
    }
   }
  },
  {
   "cell_type": "code",
   "execution_count": 28,
   "outputs": [
    {
     "data": {
      "text/plain": "Interval(-1, 1)",
      "text/latex": "$\\displaystyle \\left[-1, 1\\right]$"
     },
     "execution_count": 28,
     "metadata": {},
     "output_type": "execute_result"
    }
   ],
   "source": [
    "from sympy import Symbol, S, sin #импортируем нужные функции для обозначения переменных\n",
    "from sympy.calculus.util import function_range #импортируем функцию для поиска области значений\n",
    "x = Symbol(\"x\")\n",
    "f = sin(x)\n",
    "function_range(f, x, S.Reals)"
   ],
   "metadata": {
    "collapsed": false,
    "ExecuteTime": {
     "end_time": "2023-06-28T13:19:36.257645400Z",
     "start_time": "2023-06-28T13:19:36.184351300Z"
    }
   }
  },
  {
   "cell_type": "code",
   "execution_count": 29,
   "outputs": [
    {
     "data": {
      "text/plain": "Interval(-2*E, oo)",
      "text/latex": "$\\displaystyle \\left[- 2 e, \\infty\\right)$"
     },
     "execution_count": 29,
     "metadata": {},
     "output_type": "execute_result"
    }
   ],
   "source": [
    "from sympy import Symbol, S #импортируем нужные функции для обозначения переменных\n",
    "from sympy.calculus.util import function_range #импортируем функцию для поиска области значений\n",
    "from sympy import exp #добавляем функцию для вычисления экспоненциальной функции\n",
    "x = Symbol(\"x\")\n",
    "f = (x*x-3)/(exp(x))\n",
    "function_range(f, x, S.Reals)"
   ],
   "metadata": {
    "collapsed": false,
    "ExecuteTime": {
     "end_time": "2023-06-28T13:20:07.561142200Z",
     "start_time": "2023-06-28T13:20:07.284733900Z"
    }
   }
  },
  {
   "cell_type": "code",
   "execution_count": 30,
   "outputs": [
    {
     "data": {
      "text/plain": "(x**2 - 3)*exp(-x)",
      "text/latex": "$\\displaystyle \\left(x^{2} - 3\\right) e^{- x}$"
     },
     "execution_count": 30,
     "metadata": {},
     "output_type": "execute_result"
    }
   ],
   "source": [
    "f"
   ],
   "metadata": {
    "collapsed": false,
    "ExecuteTime": {
     "end_time": "2023-06-28T13:20:10.165501500Z",
     "start_time": "2023-06-28T13:20:10.134472900Z"
    }
   }
  },
  {
   "cell_type": "code",
   "execution_count": 31,
   "outputs": [
    {
     "data": {
      "text/plain": "4",
      "text/latex": "$\\displaystyle 4$"
     },
     "execution_count": 31,
     "metadata": {},
     "output_type": "execute_result"
    }
   ],
   "source": [
    "x = Symbol(\"x\")\n",
    "f = x*x+5*x+4\n",
    "f.subs(x, 0)"
   ],
   "metadata": {
    "collapsed": false,
    "ExecuteTime": {
     "end_time": "2023-06-28T13:20:50.398566Z",
     "start_time": "2023-06-28T13:20:50.359234100Z"
    }
   }
  },
  {
   "cell_type": "code",
   "execution_count": 32,
   "outputs": [
    {
     "data": {
      "text/plain": "{-4, -1}",
      "text/latex": "$\\displaystyle \\left\\{-4, -1\\right\\}$"
     },
     "execution_count": 32,
     "metadata": {},
     "output_type": "execute_result"
    }
   ],
   "source": [
    "from sympy import solveset, Eq\n",
    "solveset(Eq(x*x+5*x+4, 0), x)"
   ],
   "metadata": {
    "collapsed": false,
    "ExecuteTime": {
     "end_time": "2023-06-28T13:21:09.465607Z",
     "start_time": "2023-06-28T13:21:09.392644200Z"
    }
   }
  },
  {
   "cell_type": "code",
   "execution_count": 33,
   "outputs": [
    {
     "data": {
      "text/plain": "Reals",
      "text/latex": "$\\displaystyle \\mathbb{R}$"
     },
     "execution_count": 33,
     "metadata": {},
     "output_type": "execute_result"
    }
   ],
   "source": [
    "f = x*x + 1\n",
    "continuous_domain(f, x, S.Reals)"
   ],
   "metadata": {
    "collapsed": false,
    "ExecuteTime": {
     "end_time": "2023-06-28T13:23:00.621866900Z",
     "start_time": "2023-06-28T13:23:00.590840800Z"
    }
   }
  },
  {
   "cell_type": "code",
   "execution_count": 34,
   "outputs": [],
   "source": [
    "f = 3/(x*x-10)"
   ],
   "metadata": {
    "collapsed": false,
    "ExecuteTime": {
     "end_time": "2023-06-28T13:28:46.644443800Z",
     "start_time": "2023-06-28T13:28:46.616442400Z"
    }
   }
  },
  {
   "cell_type": "code",
   "execution_count": 35,
   "outputs": [
    {
     "data": {
      "text/plain": "3/(x**2 - 10)",
      "text/latex": "$\\displaystyle \\frac{3}{x^{2} - 10}$"
     },
     "execution_count": 35,
     "metadata": {},
     "output_type": "execute_result"
    }
   ],
   "source": [
    "f"
   ],
   "metadata": {
    "collapsed": false,
    "ExecuteTime": {
     "end_time": "2023-06-28T13:28:48.549015100Z",
     "start_time": "2023-06-28T13:28:48.498711Z"
    }
   }
  },
  {
   "cell_type": "code",
   "execution_count": 36,
   "outputs": [
    {
     "data": {
      "text/plain": "Union(Interval(-oo, -3/10), Interval.open(0, oo))",
      "text/latex": "$\\displaystyle \\left(-\\infty, - \\frac{3}{10}\\right] \\cup \\left(0, \\infty\\right)$"
     },
     "execution_count": 36,
     "metadata": {},
     "output_type": "execute_result"
    }
   ],
   "source": [
    "function_range(f, x, S.Reals)"
   ],
   "metadata": {
    "collapsed": false,
    "ExecuteTime": {
     "end_time": "2023-06-28T13:29:21.000311500Z",
     "start_time": "2023-06-28T13:29:20.709756800Z"
    }
   }
  },
  {
   "cell_type": "code",
   "execution_count": 37,
   "outputs": [
    {
     "data": {
      "text/plain": "4*x**3 + 9*x**2 + 8*x",
      "text/latex": "$\\displaystyle 4 x^{3} + 9 x^{2} + 8 x$"
     },
     "execution_count": 37,
     "metadata": {},
     "output_type": "execute_result"
    }
   ],
   "source": [
    "import sympy\n",
    "x = sympy.Symbol(\"x\")\n",
    "expr = x**4 + 3*x**3 + 4*x**2 + 8\n",
    "expr.diff(x)"
   ],
   "metadata": {
    "collapsed": false,
    "ExecuteTime": {
     "end_time": "2023-06-28T15:36:40.705345Z",
     "start_time": "2023-06-28T15:36:40.637345100Z"
    }
   }
  },
  {
   "cell_type": "code",
   "execution_count": 38,
   "outputs": [
    {
     "data": {
      "text/plain": "x**4 + 3*x**3 + 4*x**2 + 8",
      "text/latex": "$\\displaystyle x^{4} + 3 x^{3} + 4 x^{2} + 8$"
     },
     "execution_count": 38,
     "metadata": {},
     "output_type": "execute_result"
    }
   ],
   "source": [
    "expr"
   ],
   "metadata": {
    "collapsed": false,
    "ExecuteTime": {
     "end_time": "2023-06-28T15:36:46.080740300Z",
     "start_time": "2023-06-28T15:36:45.978662Z"
    }
   }
  },
  {
   "cell_type": "code",
   "execution_count": 39,
   "outputs": [
    {
     "data": {
      "text/plain": "(2*x + 5)/(x**2 + 5*x) + exp(sin(x))*cos(x)",
      "text/latex": "$\\displaystyle \\frac{2 x + 5}{x^{2} + 5 x} + e^{\\sin{\\left(x \\right)}} \\cos{\\left(x \\right)}$"
     },
     "execution_count": 39,
     "metadata": {},
     "output_type": "execute_result"
    }
   ],
   "source": [
    "import sympy\n",
    "from sympy import diff, sin, exp, log, Symbol\n",
    "x = sympy.Symbol(\"x\")\n",
    "expr = log(x**2 + 5*x) + exp(sin(x))\n",
    "expr.diff(x)"
   ],
   "metadata": {
    "collapsed": false,
    "ExecuteTime": {
     "end_time": "2023-06-28T15:37:08.392676Z",
     "start_time": "2023-06-28T15:37:08.330165400Z"
    }
   }
  },
  {
   "cell_type": "code",
   "execution_count": 40,
   "outputs": [
    {
     "data": {
      "text/plain": "(3 + 1/x)*exp(x)*cos(3*x + log(x)) + exp(x)*sin(3*x + log(x))",
      "text/latex": "$\\displaystyle \\left(3 + \\frac{1}{x}\\right) e^{x} \\cos{\\left(3 x + \\log{\\left(x \\right)} \\right)} + e^{x} \\sin{\\left(3 x + \\log{\\left(x \\right)} \\right)}$"
     },
     "execution_count": 40,
     "metadata": {},
     "output_type": "execute_result"
    }
   ],
   "source": [
    "import sympy\n",
    "from sympy import diff, sin,exp, log, Symbol\n",
    "x = sympy.Symbol(\"x\")\n",
    "expr = sin(x*3 + log(x))*exp((x))\n",
    "expr.diff(x)"
   ],
   "metadata": {
    "collapsed": false,
    "ExecuteTime": {
     "end_time": "2023-06-28T15:37:31.260128100Z",
     "start_time": "2023-06-28T15:37:31.197616200Z"
    }
   }
  },
  {
   "cell_type": "code",
   "execution_count": 41,
   "outputs": [
    {
     "data": {
      "text/plain": "8*x + 4",
      "text/latex": "$\\displaystyle 8 x + 4$"
     },
     "execution_count": 41,
     "metadata": {},
     "output_type": "execute_result"
    }
   ],
   "source": [
    "expr = (2*x+1)**2\n",
    "expr.diff(x)"
   ],
   "metadata": {
    "collapsed": false,
    "ExecuteTime": {
     "end_time": "2023-06-28T15:46:09.646059600Z",
     "start_time": "2023-06-28T15:46:09.585447800Z"
    }
   }
  },
  {
   "cell_type": "code",
   "execution_count": 43,
   "outputs": [],
   "source": [
    "expr = 2*x**2+1"
   ],
   "metadata": {
    "collapsed": false,
    "ExecuteTime": {
     "end_time": "2023-06-28T15:47:02.244105700Z",
     "start_time": "2023-06-28T15:47:02.084771900Z"
    }
   }
  },
  {
   "cell_type": "code",
   "execution_count": 44,
   "outputs": [
    {
     "data": {
      "text/plain": "2*x**2 + 1",
      "text/latex": "$\\displaystyle 2 x^{2} + 1$"
     },
     "execution_count": 44,
     "metadata": {},
     "output_type": "execute_result"
    }
   ],
   "source": [
    "expr"
   ],
   "metadata": {
    "collapsed": false,
    "ExecuteTime": {
     "end_time": "2023-06-28T15:47:06.107815900Z",
     "start_time": "2023-06-28T15:47:06.008001800Z"
    }
   }
  },
  {
   "cell_type": "code",
   "execution_count": 45,
   "outputs": [
    {
     "data": {
      "text/plain": "4*x",
      "text/latex": "$\\displaystyle 4 x$"
     },
     "execution_count": 45,
     "metadata": {},
     "output_type": "execute_result"
    }
   ],
   "source": [
    "expr.diff(x)"
   ],
   "metadata": {
    "collapsed": false,
    "ExecuteTime": {
     "end_time": "2023-06-28T15:47:18.800560200Z",
     "start_time": "2023-06-28T15:47:18.747569300Z"
    }
   }
  },
  {
   "cell_type": "code",
   "execution_count": 47,
   "outputs": [],
   "source": [
    "expr = log(5*x+3)"
   ],
   "metadata": {
    "collapsed": false,
    "ExecuteTime": {
     "end_time": "2023-06-28T15:48:38.504956400Z",
     "start_time": "2023-06-28T15:48:38.475957400Z"
    }
   }
  },
  {
   "cell_type": "code",
   "execution_count": 48,
   "outputs": [
    {
     "data": {
      "text/plain": "log(5*x + 3)",
      "text/latex": "$\\displaystyle \\log{\\left(5 x + 3 \\right)}$"
     },
     "execution_count": 48,
     "metadata": {},
     "output_type": "execute_result"
    }
   ],
   "source": [
    "expr"
   ],
   "metadata": {
    "collapsed": false,
    "ExecuteTime": {
     "end_time": "2023-06-28T15:48:41.609389900Z",
     "start_time": "2023-06-28T15:48:41.560538400Z"
    }
   }
  },
  {
   "cell_type": "code",
   "execution_count": 49,
   "outputs": [
    {
     "data": {
      "text/plain": "5/(5*x + 3)",
      "text/latex": "$\\displaystyle \\frac{5}{5 x + 3}$"
     },
     "execution_count": 49,
     "metadata": {},
     "output_type": "execute_result"
    }
   ],
   "source": [
    "from sympy import ln\n",
    "expr=ln(5*x+3)\n",
    "expr.diff(x)"
   ],
   "metadata": {
    "collapsed": false,
    "ExecuteTime": {
     "end_time": "2023-06-28T15:49:21.306618800Z",
     "start_time": "2023-06-28T15:49:21.263617500Z"
    }
   }
  },
  {
   "cell_type": "code",
   "execution_count": 51,
   "outputs": [],
   "source": [
    "expr = sin(3*x)**2"
   ],
   "metadata": {
    "collapsed": false,
    "ExecuteTime": {
     "end_time": "2023-06-28T15:50:05.617430700Z",
     "start_time": "2023-06-28T15:50:05.600921400Z"
    }
   }
  },
  {
   "cell_type": "code",
   "execution_count": 53,
   "outputs": [
    {
     "data": {
      "text/plain": "6*sin(3*x)*cos(3*x)",
      "text/latex": "$\\displaystyle 6 \\sin{\\left(3 x \\right)} \\cos{\\left(3 x \\right)}$"
     },
     "execution_count": 53,
     "metadata": {},
     "output_type": "execute_result"
    }
   ],
   "source": [
    "expr.diff(x)"
   ],
   "metadata": {
    "collapsed": false,
    "ExecuteTime": {
     "end_time": "2023-06-28T15:50:18.208825300Z",
     "start_time": "2023-06-28T15:50:18.180826300Z"
    }
   }
  },
  {
   "cell_type": "code",
   "execution_count": 57,
   "outputs": [
    {
     "data": {
      "text/plain": "x/sqrt(x**2 + 1)",
      "text/latex": "$\\displaystyle \\frac{x}{\\sqrt{x^{2} + 1}}$"
     },
     "execution_count": 57,
     "metadata": {},
     "output_type": "execute_result"
    }
   ],
   "source": [
    "from sympy import sqrt\n",
    "expr = sqrt(1 + x**2)\n",
    "expr.diff(x)"
   ],
   "metadata": {
    "collapsed": false,
    "ExecuteTime": {
     "end_time": "2023-06-28T15:55:14.020543700Z",
     "start_time": "2023-06-28T15:55:13.975335800Z"
    }
   }
  },
  {
   "cell_type": "code",
   "execution_count": 59,
   "outputs": [
    {
     "data": {
      "text/plain": "12*x**2",
      "text/latex": "$\\displaystyle 12 x^{2}$"
     },
     "execution_count": 59,
     "metadata": {},
     "output_type": "execute_result"
    }
   ],
   "source": [
    "expr = x**4 + 5*x\n",
    "expr.diff(x, 2)"
   ],
   "metadata": {
    "collapsed": false,
    "ExecuteTime": {
     "end_time": "2023-06-28T15:56:04.996220100Z",
     "start_time": "2023-06-28T15:56:04.955220200Z"
    }
   }
  },
  {
   "cell_type": "code",
   "execution_count": 61,
   "outputs": [
    {
     "data": {
      "text/plain": "3*x/2",
      "text/latex": "$\\displaystyle \\frac{3 x}{2}$"
     },
     "execution_count": 61,
     "metadata": {},
     "output_type": "execute_result"
    }
   ],
   "source": [
    "expr = (x**3/4)-3*x\n",
    "expr.diff(x, 2)"
   ],
   "metadata": {
    "collapsed": false,
    "ExecuteTime": {
     "end_time": "2023-06-28T16:05:49.211488700Z",
     "start_time": "2023-06-28T16:05:49.123973100Z"
    }
   }
  },
  {
   "cell_type": "code",
   "execution_count": null,
   "outputs": [],
   "source": [],
   "metadata": {
    "collapsed": false
   }
  }
 ],
 "metadata": {
  "kernelspec": {
   "display_name": "Python 3",
   "language": "python",
   "name": "python3"
  },
  "language_info": {
   "codemirror_mode": {
    "name": "ipython",
    "version": 2
   },
   "file_extension": ".py",
   "mimetype": "text/x-python",
   "name": "python",
   "nbconvert_exporter": "python",
   "pygments_lexer": "ipython2",
   "version": "2.7.6"
  }
 },
 "nbformat": 4,
 "nbformat_minor": 0
}
