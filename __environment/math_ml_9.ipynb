{
 "cells": [
  {
   "cell_type": "code",
   "execution_count": 2,
   "metadata": {
    "collapsed": true,
    "ExecuteTime": {
     "end_time": "2023-08-07T08:38:26.134572300Z",
     "start_time": "2023-08-07T08:38:26.081543200Z"
    }
   },
   "outputs": [
    {
     "data": {
      "text/plain": "0.31673469387755115"
     },
     "execution_count": 2,
     "metadata": {},
     "output_type": "execute_result"
    }
   ],
   "source": [
    "import numpy as np\n",
    "\n",
    "\n",
    "a = np.array([4.4, 3.8, 4.8, 4.0, 3.4, 4.2, 5.2])\n",
    "b = a.mean()\n",
    "np.sum((a - b)**2)/7"
   ]
  },
  {
   "cell_type": "code",
   "execution_count": 3,
   "outputs": [
    {
     "name": "stderr",
     "output_type": "stream",
     "text": [
      "D:\\Work\\DST\\__environment\\venv\\lib\\site-packages\\sklearn\\linear_model\\_logistic.py:460: ConvergenceWarning: lbfgs failed to converge (status=1):\n",
      "STOP: TOTAL NO. of ITERATIONS REACHED LIMIT.\n",
      "\n",
      "Increase the number of iterations (max_iter) or scale the data as shown in:\n",
      "    https://scikit-learn.org/stable/modules/preprocessing.html\n",
      "Please also refer to the documentation for alternative solver options:\n",
      "    https://scikit-learn.org/stable/modules/linear_model.html#logistic-regression\n",
      "  n_iter_i = _check_optimize_result(\n"
     ]
    },
    {
     "data": {
      "text/plain": "0.7601476014760148"
     },
     "execution_count": 3,
     "metadata": {},
     "output_type": "execute_result"
    }
   ],
   "source": [
    "import pandas as pd\n",
    "import matplotlib.pyplot as plt\n",
    "import seaborn as sns\n",
    "import numpy as np\n",
    "from sklearn import tree\n",
    "from sklearn.linear_model import LogisticRegression\n",
    "from sklearn.tree import DecisionTreeClassifier\n",
    "from sklearn.model_selection import train_test_split\n",
    "from sklearn.metrics import f1_score\n",
    "\n",
    "df = pd.read_csv('data/wineQualityReds.zip')\n",
    "\n",
    "df['target']= np.where(df.quality >=6,1,0)\n",
    "Y= df['target']\n",
    "X = df.drop(['target', 'quality'], axis= 1)\n",
    "X_train, X_test, y_train, y_test = train_test_split(\n",
    "    X, Y, test_size=0.3, random_state=42)\n",
    "model = LogisticRegression()\n",
    "model.fit(X_train, y_train)\n",
    "preds_train = model.predict(X_train)\n",
    "preds_test = model.predict(X_test)\n",
    "f1_score(preds_test, y_test)\n",
    "model = DecisionTreeClassifier(max_depth = 10, random_state=42)\n",
    "model.fit(X_train, y_train)\n",
    "preds_train = model.predict(X_train)\n",
    "preds_test = model.predict(X_test)\n",
    "f1_score(preds_test, y_test)"
   ],
   "metadata": {
    "collapsed": false,
    "ExecuteTime": {
     "end_time": "2023-08-07T08:38:29.484818500Z",
     "start_time": "2023-08-07T08:38:26.094542200Z"
    }
   }
  },
  {
   "cell_type": "code",
   "execution_count": 4,
   "outputs": [
    {
     "name": "stderr",
     "output_type": "stream",
     "text": [
      "D:\\Work\\DST\\__environment\\venv\\lib\\site-packages\\sklearn\\ensemble\\_base.py:156: FutureWarning: `base_estimator` was renamed to `estimator` in version 1.2 and will be removed in 1.4.\n",
      "  warnings.warn(\n"
     ]
    },
    {
     "data": {
      "text/plain": "0.8239700374531835"
     },
     "execution_count": 4,
     "metadata": {},
     "output_type": "execute_result"
    }
   ],
   "source": [
    "from sklearn.ensemble import BaggingClassifier\n",
    "\n",
    "model = BaggingClassifier(base_estimator=DecisionTreeClassifier(max_depth = 10, random_state=42), n_estimators=1500, random_state=42).fit(X_train, y_train)\n",
    "preds_train = model.predict(X_train)\n",
    "preds_test = model.predict(X_test)\n",
    "f1_score(preds_test, y_test)"
   ],
   "metadata": {
    "collapsed": false,
    "ExecuteTime": {
     "end_time": "2023-08-07T08:38:47.499962600Z",
     "start_time": "2023-08-07T08:38:29.484818500Z"
    }
   }
  },
  {
   "cell_type": "code",
   "execution_count": 5,
   "outputs": [
    {
     "data": {
      "text/plain": "     crim_rate    zn  business  river  nit_oxiden  rooms   age    dist  \\\n0      0.00632  18.0      2.31      0       0.538  6.575  65.2  4.0900   \n1      0.02731   0.0      7.07      0       0.469  6.421  78.9  4.9671   \n2      0.02729   0.0      7.07      0       0.469  7.185  61.1  4.9671   \n3      0.03237   0.0      2.18      0       0.458  6.998  45.8  6.0622   \n4      0.06905   0.0      2.18      0       0.458  7.147  54.2  6.0622   \n..         ...   ...       ...    ...         ...    ...   ...     ...   \n501    0.06263   0.0     11.93      0       0.573  6.593  69.1  2.4786   \n502    0.04527   0.0     11.93      0       0.573  6.120  76.7  2.2875   \n503    0.06076   0.0     11.93      0       0.573  6.976  91.0  2.1675   \n504    0.10959   0.0     11.93      0       0.573  6.794  89.3  2.3889   \n505    0.04741   0.0     11.93      0       0.573  6.030  80.8  2.5050   \n\n     highways_index    tax  pup_per_teaс  lower  target  \n0                 1  296.0          15.3   4.98    24.0  \n1                 2  242.0          17.8   9.14    21.6  \n2                 2  242.0          17.8   4.03    34.7  \n3                 3  222.0          18.7   2.94    33.4  \n4                 3  222.0          18.7   5.33    36.2  \n..              ...    ...           ...    ...     ...  \n501               1  273.0          21.0   9.67    22.4  \n502               1  273.0          21.0   9.08    20.6  \n503               1  273.0          21.0   5.64    23.9  \n504               1  273.0          21.0   6.48    22.0  \n505               1  273.0          21.0   7.88    11.9  \n\n[506 rows x 13 columns]",
      "text/html": "<div>\n<style scoped>\n    .dataframe tbody tr th:only-of-type {\n        vertical-align: middle;\n    }\n\n    .dataframe tbody tr th {\n        vertical-align: top;\n    }\n\n    .dataframe thead th {\n        text-align: right;\n    }\n</style>\n<table border=\"1\" class=\"dataframe\">\n  <thead>\n    <tr style=\"text-align: right;\">\n      <th></th>\n      <th>crim_rate</th>\n      <th>zn</th>\n      <th>business</th>\n      <th>river</th>\n      <th>nit_oxiden</th>\n      <th>rooms</th>\n      <th>age</th>\n      <th>dist</th>\n      <th>highways_index</th>\n      <th>tax</th>\n      <th>pup_per_teaс</th>\n      <th>lower</th>\n      <th>target</th>\n    </tr>\n  </thead>\n  <tbody>\n    <tr>\n      <th>0</th>\n      <td>0.00632</td>\n      <td>18.0</td>\n      <td>2.31</td>\n      <td>0</td>\n      <td>0.538</td>\n      <td>6.575</td>\n      <td>65.2</td>\n      <td>4.0900</td>\n      <td>1</td>\n      <td>296.0</td>\n      <td>15.3</td>\n      <td>4.98</td>\n      <td>24.0</td>\n    </tr>\n    <tr>\n      <th>1</th>\n      <td>0.02731</td>\n      <td>0.0</td>\n      <td>7.07</td>\n      <td>0</td>\n      <td>0.469</td>\n      <td>6.421</td>\n      <td>78.9</td>\n      <td>4.9671</td>\n      <td>2</td>\n      <td>242.0</td>\n      <td>17.8</td>\n      <td>9.14</td>\n      <td>21.6</td>\n    </tr>\n    <tr>\n      <th>2</th>\n      <td>0.02729</td>\n      <td>0.0</td>\n      <td>7.07</td>\n      <td>0</td>\n      <td>0.469</td>\n      <td>7.185</td>\n      <td>61.1</td>\n      <td>4.9671</td>\n      <td>2</td>\n      <td>242.0</td>\n      <td>17.8</td>\n      <td>4.03</td>\n      <td>34.7</td>\n    </tr>\n    <tr>\n      <th>3</th>\n      <td>0.03237</td>\n      <td>0.0</td>\n      <td>2.18</td>\n      <td>0</td>\n      <td>0.458</td>\n      <td>6.998</td>\n      <td>45.8</td>\n      <td>6.0622</td>\n      <td>3</td>\n      <td>222.0</td>\n      <td>18.7</td>\n      <td>2.94</td>\n      <td>33.4</td>\n    </tr>\n    <tr>\n      <th>4</th>\n      <td>0.06905</td>\n      <td>0.0</td>\n      <td>2.18</td>\n      <td>0</td>\n      <td>0.458</td>\n      <td>7.147</td>\n      <td>54.2</td>\n      <td>6.0622</td>\n      <td>3</td>\n      <td>222.0</td>\n      <td>18.7</td>\n      <td>5.33</td>\n      <td>36.2</td>\n    </tr>\n    <tr>\n      <th>...</th>\n      <td>...</td>\n      <td>...</td>\n      <td>...</td>\n      <td>...</td>\n      <td>...</td>\n      <td>...</td>\n      <td>...</td>\n      <td>...</td>\n      <td>...</td>\n      <td>...</td>\n      <td>...</td>\n      <td>...</td>\n      <td>...</td>\n    </tr>\n    <tr>\n      <th>501</th>\n      <td>0.06263</td>\n      <td>0.0</td>\n      <td>11.93</td>\n      <td>0</td>\n      <td>0.573</td>\n      <td>6.593</td>\n      <td>69.1</td>\n      <td>2.4786</td>\n      <td>1</td>\n      <td>273.0</td>\n      <td>21.0</td>\n      <td>9.67</td>\n      <td>22.4</td>\n    </tr>\n    <tr>\n      <th>502</th>\n      <td>0.04527</td>\n      <td>0.0</td>\n      <td>11.93</td>\n      <td>0</td>\n      <td>0.573</td>\n      <td>6.120</td>\n      <td>76.7</td>\n      <td>2.2875</td>\n      <td>1</td>\n      <td>273.0</td>\n      <td>21.0</td>\n      <td>9.08</td>\n      <td>20.6</td>\n    </tr>\n    <tr>\n      <th>503</th>\n      <td>0.06076</td>\n      <td>0.0</td>\n      <td>11.93</td>\n      <td>0</td>\n      <td>0.573</td>\n      <td>6.976</td>\n      <td>91.0</td>\n      <td>2.1675</td>\n      <td>1</td>\n      <td>273.0</td>\n      <td>21.0</td>\n      <td>5.64</td>\n      <td>23.9</td>\n    </tr>\n    <tr>\n      <th>504</th>\n      <td>0.10959</td>\n      <td>0.0</td>\n      <td>11.93</td>\n      <td>0</td>\n      <td>0.573</td>\n      <td>6.794</td>\n      <td>89.3</td>\n      <td>2.3889</td>\n      <td>1</td>\n      <td>273.0</td>\n      <td>21.0</td>\n      <td>6.48</td>\n      <td>22.0</td>\n    </tr>\n    <tr>\n      <th>505</th>\n      <td>0.04741</td>\n      <td>0.0</td>\n      <td>11.93</td>\n      <td>0</td>\n      <td>0.573</td>\n      <td>6.030</td>\n      <td>80.8</td>\n      <td>2.5050</td>\n      <td>1</td>\n      <td>273.0</td>\n      <td>21.0</td>\n      <td>7.88</td>\n      <td>11.9</td>\n    </tr>\n  </tbody>\n</table>\n<p>506 rows × 13 columns</p>\n</div>"
     },
     "metadata": {},
     "output_type": "display_data"
    },
    {
     "data": {
      "text/plain": "22.77316384180791"
     },
     "execution_count": 5,
     "metadata": {},
     "output_type": "execute_result"
    }
   ],
   "source": [
    "data = pd.read_csv('data/boston__1_.zip')\n",
    "\n",
    "data['target'] = data['target'].apply(lambda r: float(str(r).replace(',', '.')))\n",
    "data['zn'] = data['zn'].apply(lambda r: float(str(r).replace(',', '.')))\n",
    "data['crim_rate'] = data['crim_rate'].apply(lambda r: float(str(r).replace(',', '.')))\n",
    "data['business'] = data['business'].apply(lambda r: float(str(r).replace(',', '.')))\n",
    "data['nit_oxiden'] = data['nit_oxiden'].apply(lambda r: float(str(r).replace(',', '.')))\n",
    "data['rooms'] = data['rooms'].apply(lambda r: float(str(r).replace(',', '.')))\n",
    "data['age'] = data['age'].apply(lambda r: float(str(r).replace(',', '.')))\n",
    "data['dist'] = data['dist'].apply(lambda r: float(str(r).replace(',', '.')))\n",
    "data['tax'] = data['tax'].apply(lambda r: float(str(r).replace(',', '.')))\n",
    "data['pup_per_teaс'] = data['pup_per_teaс'].apply(lambda r: float(str(r).replace(',', '.')))\n",
    "data['lower'] = data['lower'].apply(lambda r: float(str(r).replace(',', '.')))\n",
    "\n",
    "display(data)\n",
    "\n",
    "X = data[data.columns[:-1]]\n",
    "Y = data[\"target\"]\n",
    "X_train, X_test, Y_train, Y_test = train_test_split(X, Y, test_size=0.3, random_state = 13)\n",
    "Y_train.mean()"
   ],
   "metadata": {
    "collapsed": false,
    "ExecuteTime": {
     "end_time": "2023-08-07T08:38:47.967245100Z",
     "start_time": "2023-08-07T08:38:47.505948Z"
    }
   }
  },
  {
   "cell_type": "code",
   "execution_count": 6,
   "outputs": [
    {
     "name": "stdout",
     "output_type": "stream",
     "text": [
      "<class 'pandas.core.frame.DataFrame'>\n",
      "Int64Index: 354 entries, 475 to 338\n",
      "Data columns (total 12 columns):\n",
      " #   Column          Non-Null Count  Dtype  \n",
      "---  ------          --------------  -----  \n",
      " 0   crim_rate       354 non-null    float64\n",
      " 1   zn              354 non-null    float64\n",
      " 2   business        354 non-null    float64\n",
      " 3   river           354 non-null    int64  \n",
      " 4   nit_oxiden      354 non-null    float64\n",
      " 5   rooms           354 non-null    float64\n",
      " 6   age             354 non-null    float64\n",
      " 7   dist            354 non-null    float64\n",
      " 8   highways_index  354 non-null    int64  \n",
      " 9   tax             354 non-null    float64\n",
      " 10  pup_per_teaс    354 non-null    float64\n",
      " 11  lower           354 non-null    float64\n",
      "dtypes: float64(10), int64(2)\n",
      "memory usage: 36.0 KB\n"
     ]
    },
    {
     "data": {
      "text/plain": "None"
     },
     "metadata": {},
     "output_type": "display_data"
    },
    {
     "name": "stdout",
     "output_type": "stream",
     "text": [
      "3.7222793958561513\n"
     ]
    }
   ],
   "source": [
    "from sklearn.linear_model import LinearRegression\n",
    "from sklearn.metrics import mean_absolute_error\n",
    "\n",
    "display(X_train.info())\n",
    "\n",
    "model_lr = LinearRegression()\n",
    "model_lr.fit(X_train, Y_train)\n",
    "preds_train = model_lr.predict(X_train)\n",
    "preds_test = model_lr.predict(X_test)\n",
    "print(mean_absolute_error(Y_test, preds_test))"
   ],
   "metadata": {
    "collapsed": false,
    "ExecuteTime": {
     "end_time": "2023-08-07T08:38:48.032241100Z",
     "start_time": "2023-08-07T08:38:47.968241400Z"
    }
   }
  },
  {
   "cell_type": "code",
   "execution_count": 7,
   "outputs": [
    {
     "name": "stdout",
     "output_type": "stream",
     "text": [
      "0.0\n",
      "2.8388157894736845\n"
     ]
    }
   ],
   "source": [
    "from sklearn.tree import DecisionTreeRegressor\n",
    "\n",
    "model = DecisionTreeRegressor(random_state=13)\n",
    "model.fit(X_train, Y_train)\n",
    "preds_train = model.predict(X_train)\n",
    "preds_test = model.predict(X_test)\n",
    "print(mean_absolute_error(Y_train, preds_train))\n",
    "print(mean_absolute_error(Y_test, preds_test))"
   ],
   "metadata": {
    "collapsed": false,
    "ExecuteTime": {
     "end_time": "2023-08-07T08:38:48.235240300Z",
     "start_time": "2023-08-07T08:38:47.986241900Z"
    }
   }
  },
  {
   "cell_type": "code",
   "execution_count": 8,
   "outputs": [
    {
     "name": "stdout",
     "output_type": "stream",
     "text": [
      "2.9328947368421057\n",
      "2.466315789473684\n",
      "2.2559736842105265\n",
      "2.2365657894736892\n"
     ]
    }
   ],
   "source": [
    "from sklearn.ensemble import RandomForestRegressor\n",
    "\n",
    "for n in [3, 10, 100, 500]:\n",
    "    model = RandomForestRegressor(n_estimators=n, random_state = 13)\n",
    "    model.fit(X_train, Y_train)\n",
    "    preds_train = model.predict(X_train)\n",
    "    preds_test = model.predict(X_test)\n",
    "    print(mean_absolute_error(Y_test, preds_test))"
   ],
   "metadata": {
    "collapsed": false,
    "ExecuteTime": {
     "end_time": "2023-08-07T08:38:52.149172200Z",
     "start_time": "2023-08-07T08:38:48.237238300Z"
    }
   }
  },
  {
   "cell_type": "code",
   "execution_count": 9,
   "outputs": [],
   "source": [
    "df = pd.read_csv('data/weatherAUS.zip')"
   ],
   "metadata": {
    "collapsed": false,
    "ExecuteTime": {
     "end_time": "2023-08-07T08:38:52.541165400Z",
     "start_time": "2023-08-07T08:38:52.151171500Z"
    }
   }
  },
  {
   "cell_type": "code",
   "execution_count": 10,
   "outputs": [
    {
     "data": {
      "text/plain": "343248"
     },
     "execution_count": 10,
     "metadata": {},
     "output_type": "execute_result"
    }
   ],
   "source": [
    "df.isnull().sum().sum()"
   ],
   "metadata": {
    "collapsed": false,
    "ExecuteTime": {
     "end_time": "2023-08-07T08:38:52.640164600Z",
     "start_time": "2023-08-07T08:38:52.543191600Z"
    }
   }
  },
  {
   "cell_type": "code",
   "execution_count": 11,
   "outputs": [
    {
     "data": {
      "text/plain": "(145460, 23)"
     },
     "execution_count": 11,
     "metadata": {},
     "output_type": "execute_result"
    }
   ],
   "source": [
    "df.shape"
   ],
   "metadata": {
    "collapsed": false,
    "ExecuteTime": {
     "end_time": "2023-08-07T08:38:52.680187200Z",
     "start_time": "2023-08-07T08:38:52.641160700Z"
    }
   }
  },
  {
   "cell_type": "code",
   "execution_count": 12,
   "outputs": [
    {
     "data": {
      "text/plain": "(145460, 20)"
     },
     "execution_count": 12,
     "metadata": {},
     "output_type": "execute_result"
    }
   ],
   "source": [
    "round(df.isna().sum() / len(df), 3)\n",
    "df.drop(['Evaporation','Sunshine','Cloud3pm'], axis = 1, inplace = True)\n",
    "df.shape"
   ],
   "metadata": {
    "collapsed": false,
    "ExecuteTime": {
     "end_time": "2023-08-07T08:38:52.776161100Z",
     "start_time": "2023-08-07T08:38:52.663163900Z"
    }
   }
  },
  {
   "cell_type": "code",
   "execution_count": 13,
   "outputs": [],
   "source": [
    "df.RainToday = df.RainToday.map({'No': 0, 'Yes': 1})\n",
    "df.RainTomorrow = df.RainTomorrow.map({'No': 0, 'Yes': 1})"
   ],
   "metadata": {
    "collapsed": false,
    "ExecuteTime": {
     "end_time": "2023-08-07T08:38:52.830157700Z",
     "start_time": "2023-08-07T08:38:52.779159Z"
    }
   }
  },
  {
   "cell_type": "code",
   "execution_count": 14,
   "outputs": [
    {
     "data": {
      "text/plain": "0.22419285648984874"
     },
     "execution_count": 14,
     "metadata": {},
     "output_type": "execute_result"
    }
   ],
   "source": [
    "df['RainToday'].mean()"
   ],
   "metadata": {
    "collapsed": false,
    "ExecuteTime": {
     "end_time": "2023-08-07T08:38:52.837156500Z",
     "start_time": "2023-08-07T08:38:52.813162200Z"
    }
   }
  },
  {
   "cell_type": "code",
   "execution_count": 15,
   "outputs": [
    {
     "name": "stderr",
     "output_type": "stream",
     "text": [
      "C:\\Users\\lagovskiy.sergey\\AppData\\Local\\Temp\\1\\ipykernel_5860\\3898277681.py:4: FutureWarning: The default value of numeric_only in DataFrameGroupBy.mean is deprecated. In a future version, numeric_only will default to False. Either specify numeric_only or select only columns which should be valid for the function.\n",
      "  df_season = df.groupby('Month').mean()\n"
     ]
    },
    {
     "data": {
      "text/plain": "       RainToday\nMonth           \n1       0.189484\n2       0.206746\n3       0.217135\n4       0.216845\n5       0.222163\n6       0.263638\n7       0.270736\n8       0.253167\n9       0.229135\n10      0.196512\n11      0.210843\n12      0.213037",
      "text/html": "<div>\n<style scoped>\n    .dataframe tbody tr th:only-of-type {\n        vertical-align: middle;\n    }\n\n    .dataframe tbody tr th {\n        vertical-align: top;\n    }\n\n    .dataframe thead th {\n        text-align: right;\n    }\n</style>\n<table border=\"1\" class=\"dataframe\">\n  <thead>\n    <tr style=\"text-align: right;\">\n      <th></th>\n      <th>RainToday</th>\n    </tr>\n    <tr>\n      <th>Month</th>\n      <th></th>\n    </tr>\n  </thead>\n  <tbody>\n    <tr>\n      <th>1</th>\n      <td>0.189484</td>\n    </tr>\n    <tr>\n      <th>2</th>\n      <td>0.206746</td>\n    </tr>\n    <tr>\n      <th>3</th>\n      <td>0.217135</td>\n    </tr>\n    <tr>\n      <th>4</th>\n      <td>0.216845</td>\n    </tr>\n    <tr>\n      <th>5</th>\n      <td>0.222163</td>\n    </tr>\n    <tr>\n      <th>6</th>\n      <td>0.263638</td>\n    </tr>\n    <tr>\n      <th>7</th>\n      <td>0.270736</td>\n    </tr>\n    <tr>\n      <th>8</th>\n      <td>0.253167</td>\n    </tr>\n    <tr>\n      <th>9</th>\n      <td>0.229135</td>\n    </tr>\n    <tr>\n      <th>10</th>\n      <td>0.196512</td>\n    </tr>\n    <tr>\n      <th>11</th>\n      <td>0.210843</td>\n    </tr>\n    <tr>\n      <th>12</th>\n      <td>0.213037</td>\n    </tr>\n  </tbody>\n</table>\n</div>"
     },
     "execution_count": 15,
     "metadata": {},
     "output_type": "execute_result"
    }
   ],
   "source": [
    "df.Date = pd.to_datetime(df.Date)\n",
    "df['Month'] = df.Date.dt.month\n",
    "df.drop('Date', axis = 1, inplace = True)\n",
    "df_season = df.groupby('Month').mean()\n",
    "df_season[['RainToday']]"
   ],
   "metadata": {
    "collapsed": false,
    "ExecuteTime": {
     "end_time": "2023-08-07T08:38:52.941158Z",
     "start_time": "2023-08-07T08:38:52.830157700Z"
    }
   }
  },
  {
   "cell_type": "code",
   "execution_count": 16,
   "outputs": [
    {
     "data": {
      "text/plain": "(145460, 124)"
     },
     "execution_count": 16,
     "metadata": {},
     "output_type": "execute_result"
    }
   ],
   "source": [
    "categoricals = ['Month', 'Location', 'WindGustDir', 'WindDir9am', 'WindDir3pm']\n",
    "df_dummies = pd.get_dummies(df, columns=categoricals)\n",
    "df_dummies.shape"
   ],
   "metadata": {
    "collapsed": false,
    "ExecuteTime": {
     "end_time": "2023-08-07T08:38:53.095155600Z",
     "start_time": "2023-08-07T08:38:52.942158900Z"
    }
   }
  },
  {
   "cell_type": "code",
   "execution_count": 17,
   "outputs": [
    {
     "data": {
      "text/plain": "0.22770253002811142"
     },
     "execution_count": 17,
     "metadata": {},
     "output_type": "execute_result"
    }
   ],
   "source": [
    "df_dummies.dropna(inplace=True)\n",
    "X = df_dummies.drop('RainTomorrow', axis = 1)\n",
    "Y = df_dummies['RainTomorrow']\n",
    "X_train, X_test, Y_train, Y_test = train_test_split(X, Y, test_size=0.3, random_state = 31)\n",
    "Y_test.mean()"
   ],
   "metadata": {
    "collapsed": false,
    "ExecuteTime": {
     "end_time": "2023-08-07T08:38:53.259150600Z",
     "start_time": "2023-08-07T08:38:53.096153Z"
    }
   }
  },
  {
   "cell_type": "code",
   "execution_count": 18,
   "outputs": [
    {
     "data": {
      "text/plain": "0.02879072820657669"
     },
     "execution_count": 18,
     "metadata": {},
     "output_type": "execute_result"
    }
   ],
   "source": [
    "def gbs(data, n):\n",
    "    inds = np.random.randint(0, len(data), (n, len(data))) #определяем индексы случайным образом\n",
    "    numbers = data[inds] #выбираем значения по индексам\n",
    "    return numbers\n",
    "target = X_train['MinTemp'].values #выбираем целевую переменную\n",
    "np.random.seed(31) #задаём параметр генератора случайных чисел\n",
    "mean_values = [np.mean(x) for x in gbs(target, 1000)] #получаем все средние значения\n",
    "np.std(mean_values) #находим для них стандартное отклонение"
   ],
   "metadata": {
    "collapsed": false,
    "ExecuteTime": {
     "end_time": "2023-08-07T08:38:54.390131400Z",
     "start_time": "2023-08-07T08:38:53.259150600Z"
    }
   }
  },
  {
   "cell_type": "code",
   "execution_count": 19,
   "outputs": [
    {
     "name": "stderr",
     "output_type": "stream",
     "text": [
      "D:\\Work\\DST\\__environment\\venv\\lib\\site-packages\\sklearn\\linear_model\\_logistic.py:460: ConvergenceWarning: lbfgs failed to converge (status=1):\n",
      "STOP: TOTAL NO. of ITERATIONS REACHED LIMIT.\n",
      "\n",
      "Increase the number of iterations (max_iter) or scale the data as shown in:\n",
      "    https://scikit-learn.org/stable/modules/preprocessing.html\n",
      "Please also refer to the documentation for alternative solver options:\n",
      "    https://scikit-learn.org/stable/modules/linear_model.html#logistic-regression\n",
      "  n_iter_i = _check_optimize_result(\n"
     ]
    },
    {
     "data": {
      "text/plain": "0.7261883053393459"
     },
     "execution_count": 19,
     "metadata": {},
     "output_type": "execute_result"
    }
   ],
   "source": [
    "from sklearn.metrics import roc_auc_score\n",
    "\n",
    "clf = LogisticRegression()\n",
    "clf.fit(X_train, Y_train)\n",
    "preds_train = clf.predict(X_train)\n",
    "preds_test = clf.predict(X_test)\n",
    "roc_auc_score(Y_test, preds_test)"
   ],
   "metadata": {
    "collapsed": false,
    "ExecuteTime": {
     "end_time": "2023-08-07T08:38:56.584092600Z",
     "start_time": "2023-08-07T08:38:54.392130700Z"
    }
   }
  },
  {
   "cell_type": "code",
   "execution_count": 20,
   "outputs": [
    {
     "name": "stdout",
     "output_type": "stream",
     "text": [
      "Fitting 3 folds for each of 96 candidates, totalling 288 fits\n",
      "[CV 1/3] END max_depth=5, max_leaf_nodes=2, min_samples_split=2;, score=0.817 total time=   0.1s\n",
      "[CV 2/3] END max_depth=5, max_leaf_nodes=2, min_samples_split=2;, score=0.820 total time=   0.0s\n",
      "[CV 3/3] END max_depth=5, max_leaf_nodes=2, min_samples_split=2;, score=0.825 total time=   0.0s\n",
      "[CV 1/3] END max_depth=5, max_leaf_nodes=2, min_samples_split=3;, score=0.817 total time=   0.0s\n",
      "[CV 2/3] END max_depth=5, max_leaf_nodes=2, min_samples_split=3;, score=0.820 total time=   0.0s\n",
      "[CV 3/3] END max_depth=5, max_leaf_nodes=2, min_samples_split=3;, score=0.825 total time=   0.0s\n",
      "[CV 1/3] END max_depth=5, max_leaf_nodes=2, min_samples_split=4;, score=0.817 total time=   0.0s\n",
      "[CV 2/3] END max_depth=5, max_leaf_nodes=2, min_samples_split=4;, score=0.820 total time=   0.0s\n",
      "[CV 3/3] END max_depth=5, max_leaf_nodes=2, min_samples_split=4;, score=0.825 total time=   0.0s\n",
      "[CV 1/3] END max_depth=5, max_leaf_nodes=3, min_samples_split=2;, score=0.819 total time=   0.0s\n",
      "[CV 2/3] END max_depth=5, max_leaf_nodes=3, min_samples_split=2;, score=0.820 total time=   0.0s\n",
      "[CV 3/3] END max_depth=5, max_leaf_nodes=3, min_samples_split=2;, score=0.825 total time=   0.1s\n",
      "[CV 1/3] END max_depth=5, max_leaf_nodes=3, min_samples_split=3;, score=0.819 total time=   0.0s\n",
      "[CV 2/3] END max_depth=5, max_leaf_nodes=3, min_samples_split=3;, score=0.820 total time=   0.0s\n",
      "[CV 3/3] END max_depth=5, max_leaf_nodes=3, min_samples_split=3;, score=0.825 total time=   0.1s\n",
      "[CV 1/3] END max_depth=5, max_leaf_nodes=3, min_samples_split=4;, score=0.819 total time=   0.0s\n",
      "[CV 2/3] END max_depth=5, max_leaf_nodes=3, min_samples_split=4;, score=0.820 total time=   0.0s\n",
      "[CV 3/3] END max_depth=5, max_leaf_nodes=3, min_samples_split=4;, score=0.825 total time=   0.1s\n",
      "[CV 1/3] END max_depth=5, max_leaf_nodes=4, min_samples_split=2;, score=0.819 total time=   0.1s\n",
      "[CV 2/3] END max_depth=5, max_leaf_nodes=4, min_samples_split=2;, score=0.820 total time=   0.1s\n",
      "[CV 3/3] END max_depth=5, max_leaf_nodes=4, min_samples_split=2;, score=0.825 total time=   0.1s\n",
      "[CV 1/3] END max_depth=5, max_leaf_nodes=4, min_samples_split=3;, score=0.819 total time=   0.1s\n",
      "[CV 2/3] END max_depth=5, max_leaf_nodes=4, min_samples_split=3;, score=0.820 total time=   0.1s\n",
      "[CV 3/3] END max_depth=5, max_leaf_nodes=4, min_samples_split=3;, score=0.825 total time=   0.1s\n",
      "[CV 1/3] END max_depth=5, max_leaf_nodes=4, min_samples_split=4;, score=0.819 total time=   0.1s\n",
      "[CV 2/3] END max_depth=5, max_leaf_nodes=4, min_samples_split=4;, score=0.820 total time=   0.1s\n",
      "[CV 3/3] END max_depth=5, max_leaf_nodes=4, min_samples_split=4;, score=0.825 total time=   0.1s\n",
      "[CV 1/3] END max_depth=5, max_leaf_nodes=5, min_samples_split=2;, score=0.819 total time=   0.1s\n",
      "[CV 2/3] END max_depth=5, max_leaf_nodes=5, min_samples_split=2;, score=0.820 total time=   0.1s\n",
      "[CV 3/3] END max_depth=5, max_leaf_nodes=5, min_samples_split=2;, score=0.825 total time=   0.1s\n",
      "[CV 1/3] END max_depth=5, max_leaf_nodes=5, min_samples_split=3;, score=0.819 total time=   0.1s\n",
      "[CV 2/3] END max_depth=5, max_leaf_nodes=5, min_samples_split=3;, score=0.820 total time=   0.1s\n",
      "[CV 3/3] END max_depth=5, max_leaf_nodes=5, min_samples_split=3;, score=0.825 total time=   0.1s\n",
      "[CV 1/3] END max_depth=5, max_leaf_nodes=5, min_samples_split=4;, score=0.819 total time=   0.1s\n",
      "[CV 2/3] END max_depth=5, max_leaf_nodes=5, min_samples_split=4;, score=0.820 total time=   0.1s\n",
      "[CV 3/3] END max_depth=5, max_leaf_nodes=5, min_samples_split=4;, score=0.825 total time=   0.1s\n",
      "[CV 1/3] END max_depth=5, max_leaf_nodes=6, min_samples_split=2;, score=0.819 total time=   0.1s\n",
      "[CV 2/3] END max_depth=5, max_leaf_nodes=6, min_samples_split=2;, score=0.820 total time=   0.1s\n",
      "[CV 3/3] END max_depth=5, max_leaf_nodes=6, min_samples_split=2;, score=0.832 total time=   0.1s\n",
      "[CV 1/3] END max_depth=5, max_leaf_nodes=6, min_samples_split=3;, score=0.819 total time=   0.1s\n",
      "[CV 2/3] END max_depth=5, max_leaf_nodes=6, min_samples_split=3;, score=0.820 total time=   0.1s\n",
      "[CV 3/3] END max_depth=5, max_leaf_nodes=6, min_samples_split=3;, score=0.832 total time=   0.1s\n",
      "[CV 1/3] END max_depth=5, max_leaf_nodes=6, min_samples_split=4;, score=0.819 total time=   0.1s\n",
      "[CV 2/3] END max_depth=5, max_leaf_nodes=6, min_samples_split=4;, score=0.820 total time=   0.1s\n",
      "[CV 3/3] END max_depth=5, max_leaf_nodes=6, min_samples_split=4;, score=0.832 total time=   0.1s\n",
      "[CV 1/3] END max_depth=5, max_leaf_nodes=7, min_samples_split=2;, score=0.831 total time=   0.1s\n",
      "[CV 2/3] END max_depth=5, max_leaf_nodes=7, min_samples_split=2;, score=0.834 total time=   0.1s\n",
      "[CV 3/3] END max_depth=5, max_leaf_nodes=7, min_samples_split=2;, score=0.832 total time=   0.1s\n",
      "[CV 1/3] END max_depth=5, max_leaf_nodes=7, min_samples_split=3;, score=0.831 total time=   0.1s\n",
      "[CV 2/3] END max_depth=5, max_leaf_nodes=7, min_samples_split=3;, score=0.834 total time=   0.1s\n",
      "[CV 3/3] END max_depth=5, max_leaf_nodes=7, min_samples_split=3;, score=0.832 total time=   0.1s\n",
      "[CV 1/3] END max_depth=5, max_leaf_nodes=7, min_samples_split=4;, score=0.831 total time=   0.1s\n",
      "[CV 2/3] END max_depth=5, max_leaf_nodes=7, min_samples_split=4;, score=0.834 total time=   0.1s\n",
      "[CV 3/3] END max_depth=5, max_leaf_nodes=7, min_samples_split=4;, score=0.832 total time=   0.1s\n",
      "[CV 1/3] END max_depth=5, max_leaf_nodes=8, min_samples_split=2;, score=0.835 total time=   0.1s\n",
      "[CV 2/3] END max_depth=5, max_leaf_nodes=8, min_samples_split=2;, score=0.840 total time=   0.1s\n",
      "[CV 3/3] END max_depth=5, max_leaf_nodes=8, min_samples_split=2;, score=0.836 total time=   0.1s\n",
      "[CV 1/3] END max_depth=5, max_leaf_nodes=8, min_samples_split=3;, score=0.835 total time=   0.1s\n",
      "[CV 2/3] END max_depth=5, max_leaf_nodes=8, min_samples_split=3;, score=0.840 total time=   0.1s\n",
      "[CV 3/3] END max_depth=5, max_leaf_nodes=8, min_samples_split=3;, score=0.836 total time=   0.1s\n",
      "[CV 1/3] END max_depth=5, max_leaf_nodes=8, min_samples_split=4;, score=0.835 total time=   0.1s\n",
      "[CV 2/3] END max_depth=5, max_leaf_nodes=8, min_samples_split=4;, score=0.840 total time=   0.1s\n",
      "[CV 3/3] END max_depth=5, max_leaf_nodes=8, min_samples_split=4;, score=0.836 total time=   0.1s\n",
      "[CV 1/3] END max_depth=5, max_leaf_nodes=9, min_samples_split=2;, score=0.835 total time=   0.1s\n",
      "[CV 2/3] END max_depth=5, max_leaf_nodes=9, min_samples_split=2;, score=0.840 total time=   0.1s\n",
      "[CV 3/3] END max_depth=5, max_leaf_nodes=9, min_samples_split=2;, score=0.837 total time=   0.1s\n",
      "[CV 1/3] END max_depth=5, max_leaf_nodes=9, min_samples_split=3;, score=0.835 total time=   0.1s\n",
      "[CV 2/3] END max_depth=5, max_leaf_nodes=9, min_samples_split=3;, score=0.840 total time=   0.1s\n",
      "[CV 3/3] END max_depth=5, max_leaf_nodes=9, min_samples_split=3;, score=0.837 total time=   0.1s\n",
      "[CV 1/3] END max_depth=5, max_leaf_nodes=9, min_samples_split=4;, score=0.835 total time=   0.1s\n",
      "[CV 2/3] END max_depth=5, max_leaf_nodes=9, min_samples_split=4;, score=0.840 total time=   0.1s\n",
      "[CV 3/3] END max_depth=5, max_leaf_nodes=9, min_samples_split=4;, score=0.837 total time=   0.1s\n",
      "[CV 1/3] END max_depth=7, max_leaf_nodes=2, min_samples_split=2;, score=0.817 total time=   0.0s\n",
      "[CV 2/3] END max_depth=7, max_leaf_nodes=2, min_samples_split=2;, score=0.820 total time=   0.0s\n",
      "[CV 3/3] END max_depth=7, max_leaf_nodes=2, min_samples_split=2;, score=0.825 total time=   0.0s\n",
      "[CV 1/3] END max_depth=7, max_leaf_nodes=2, min_samples_split=3;, score=0.817 total time=   0.0s\n",
      "[CV 2/3] END max_depth=7, max_leaf_nodes=2, min_samples_split=3;, score=0.820 total time=   0.0s\n",
      "[CV 3/3] END max_depth=7, max_leaf_nodes=2, min_samples_split=3;, score=0.825 total time=   0.0s\n",
      "[CV 1/3] END max_depth=7, max_leaf_nodes=2, min_samples_split=4;, score=0.817 total time=   0.0s\n",
      "[CV 2/3] END max_depth=7, max_leaf_nodes=2, min_samples_split=4;, score=0.820 total time=   0.0s\n",
      "[CV 3/3] END max_depth=7, max_leaf_nodes=2, min_samples_split=4;, score=0.825 total time=   0.0s\n",
      "[CV 1/3] END max_depth=7, max_leaf_nodes=3, min_samples_split=2;, score=0.819 total time=   0.0s\n",
      "[CV 2/3] END max_depth=7, max_leaf_nodes=3, min_samples_split=2;, score=0.820 total time=   0.0s\n",
      "[CV 3/3] END max_depth=7, max_leaf_nodes=3, min_samples_split=2;, score=0.825 total time=   0.1s\n",
      "[CV 1/3] END max_depth=7, max_leaf_nodes=3, min_samples_split=3;, score=0.819 total time=   0.0s\n",
      "[CV 2/3] END max_depth=7, max_leaf_nodes=3, min_samples_split=3;, score=0.820 total time=   0.0s\n",
      "[CV 3/3] END max_depth=7, max_leaf_nodes=3, min_samples_split=3;, score=0.825 total time=   0.1s\n",
      "[CV 1/3] END max_depth=7, max_leaf_nodes=3, min_samples_split=4;, score=0.819 total time=   0.0s\n",
      "[CV 2/3] END max_depth=7, max_leaf_nodes=3, min_samples_split=4;, score=0.820 total time=   0.0s\n",
      "[CV 3/3] END max_depth=7, max_leaf_nodes=3, min_samples_split=4;, score=0.825 total time=   0.1s\n",
      "[CV 1/3] END max_depth=7, max_leaf_nodes=4, min_samples_split=2;, score=0.819 total time=   0.1s\n",
      "[CV 2/3] END max_depth=7, max_leaf_nodes=4, min_samples_split=2;, score=0.820 total time=   0.1s\n",
      "[CV 3/3] END max_depth=7, max_leaf_nodes=4, min_samples_split=2;, score=0.825 total time=   0.1s\n",
      "[CV 1/3] END max_depth=7, max_leaf_nodes=4, min_samples_split=3;, score=0.819 total time=   0.1s\n",
      "[CV 2/3] END max_depth=7, max_leaf_nodes=4, min_samples_split=3;, score=0.820 total time=   0.1s\n",
      "[CV 3/3] END max_depth=7, max_leaf_nodes=4, min_samples_split=3;, score=0.825 total time=   0.1s\n",
      "[CV 1/3] END max_depth=7, max_leaf_nodes=4, min_samples_split=4;, score=0.819 total time=   0.1s\n",
      "[CV 2/3] END max_depth=7, max_leaf_nodes=4, min_samples_split=4;, score=0.820 total time=   0.1s\n",
      "[CV 3/3] END max_depth=7, max_leaf_nodes=4, min_samples_split=4;, score=0.825 total time=   0.1s\n",
      "[CV 1/3] END max_depth=7, max_leaf_nodes=5, min_samples_split=2;, score=0.819 total time=   0.1s\n",
      "[CV 2/3] END max_depth=7, max_leaf_nodes=5, min_samples_split=2;, score=0.820 total time=   0.1s\n",
      "[CV 3/3] END max_depth=7, max_leaf_nodes=5, min_samples_split=2;, score=0.825 total time=   0.1s\n",
      "[CV 1/3] END max_depth=7, max_leaf_nodes=5, min_samples_split=3;, score=0.819 total time=   0.1s\n",
      "[CV 2/3] END max_depth=7, max_leaf_nodes=5, min_samples_split=3;, score=0.820 total time=   0.1s\n",
      "[CV 3/3] END max_depth=7, max_leaf_nodes=5, min_samples_split=3;, score=0.825 total time=   0.1s\n",
      "[CV 1/3] END max_depth=7, max_leaf_nodes=5, min_samples_split=4;, score=0.819 total time=   0.1s\n",
      "[CV 2/3] END max_depth=7, max_leaf_nodes=5, min_samples_split=4;, score=0.820 total time=   0.1s\n",
      "[CV 3/3] END max_depth=7, max_leaf_nodes=5, min_samples_split=4;, score=0.825 total time=   0.1s\n",
      "[CV 1/3] END max_depth=7, max_leaf_nodes=6, min_samples_split=2;, score=0.819 total time=   0.1s\n",
      "[CV 2/3] END max_depth=7, max_leaf_nodes=6, min_samples_split=2;, score=0.820 total time=   0.1s\n",
      "[CV 3/3] END max_depth=7, max_leaf_nodes=6, min_samples_split=2;, score=0.832 total time=   0.1s\n",
      "[CV 1/3] END max_depth=7, max_leaf_nodes=6, min_samples_split=3;, score=0.819 total time=   0.1s\n",
      "[CV 2/3] END max_depth=7, max_leaf_nodes=6, min_samples_split=3;, score=0.820 total time=   0.1s\n",
      "[CV 3/3] END max_depth=7, max_leaf_nodes=6, min_samples_split=3;, score=0.832 total time=   0.1s\n",
      "[CV 1/3] END max_depth=7, max_leaf_nodes=6, min_samples_split=4;, score=0.819 total time=   0.1s\n",
      "[CV 2/3] END max_depth=7, max_leaf_nodes=6, min_samples_split=4;, score=0.820 total time=   0.1s\n",
      "[CV 3/3] END max_depth=7, max_leaf_nodes=6, min_samples_split=4;, score=0.832 total time=   0.1s\n",
      "[CV 1/3] END max_depth=7, max_leaf_nodes=7, min_samples_split=2;, score=0.831 total time=   0.1s\n",
      "[CV 2/3] END max_depth=7, max_leaf_nodes=7, min_samples_split=2;, score=0.834 total time=   0.1s\n",
      "[CV 3/3] END max_depth=7, max_leaf_nodes=7, min_samples_split=2;, score=0.832 total time=   0.1s\n",
      "[CV 1/3] END max_depth=7, max_leaf_nodes=7, min_samples_split=3;, score=0.831 total time=   0.1s\n",
      "[CV 2/3] END max_depth=7, max_leaf_nodes=7, min_samples_split=3;, score=0.834 total time=   0.1s\n",
      "[CV 3/3] END max_depth=7, max_leaf_nodes=7, min_samples_split=3;, score=0.832 total time=   0.1s\n",
      "[CV 1/3] END max_depth=7, max_leaf_nodes=7, min_samples_split=4;, score=0.831 total time=   0.1s\n",
      "[CV 2/3] END max_depth=7, max_leaf_nodes=7, min_samples_split=4;, score=0.834 total time=   0.1s\n",
      "[CV 3/3] END max_depth=7, max_leaf_nodes=7, min_samples_split=4;, score=0.832 total time=   0.1s\n",
      "[CV 1/3] END max_depth=7, max_leaf_nodes=8, min_samples_split=2;, score=0.835 total time=   0.1s\n",
      "[CV 2/3] END max_depth=7, max_leaf_nodes=8, min_samples_split=2;, score=0.840 total time=   0.1s\n",
      "[CV 3/3] END max_depth=7, max_leaf_nodes=8, min_samples_split=2;, score=0.836 total time=   0.1s\n",
      "[CV 1/3] END max_depth=7, max_leaf_nodes=8, min_samples_split=3;, score=0.835 total time=   0.1s\n",
      "[CV 2/3] END max_depth=7, max_leaf_nodes=8, min_samples_split=3;, score=0.840 total time=   0.1s\n",
      "[CV 3/3] END max_depth=7, max_leaf_nodes=8, min_samples_split=3;, score=0.836 total time=   0.1s\n",
      "[CV 1/3] END max_depth=7, max_leaf_nodes=8, min_samples_split=4;, score=0.835 total time=   0.1s\n",
      "[CV 2/3] END max_depth=7, max_leaf_nodes=8, min_samples_split=4;, score=0.840 total time=   0.1s\n",
      "[CV 3/3] END max_depth=7, max_leaf_nodes=8, min_samples_split=4;, score=0.836 total time=   0.1s\n",
      "[CV 1/3] END max_depth=7, max_leaf_nodes=9, min_samples_split=2;, score=0.835 total time=   0.1s\n",
      "[CV 2/3] END max_depth=7, max_leaf_nodes=9, min_samples_split=2;, score=0.840 total time=   0.1s\n",
      "[CV 3/3] END max_depth=7, max_leaf_nodes=9, min_samples_split=2;, score=0.837 total time=   0.1s\n",
      "[CV 1/3] END max_depth=7, max_leaf_nodes=9, min_samples_split=3;, score=0.835 total time=   0.1s\n",
      "[CV 2/3] END max_depth=7, max_leaf_nodes=9, min_samples_split=3;, score=0.840 total time=   0.1s\n",
      "[CV 3/3] END max_depth=7, max_leaf_nodes=9, min_samples_split=3;, score=0.837 total time=   0.1s\n",
      "[CV 1/3] END max_depth=7, max_leaf_nodes=9, min_samples_split=4;, score=0.835 total time=   0.1s\n",
      "[CV 2/3] END max_depth=7, max_leaf_nodes=9, min_samples_split=4;, score=0.840 total time=   0.1s\n",
      "[CV 3/3] END max_depth=7, max_leaf_nodes=9, min_samples_split=4;, score=0.837 total time=   0.1s\n",
      "[CV 1/3] END max_depth=9, max_leaf_nodes=2, min_samples_split=2;, score=0.817 total time=   0.0s\n",
      "[CV 2/3] END max_depth=9, max_leaf_nodes=2, min_samples_split=2;, score=0.820 total time=   0.0s\n",
      "[CV 3/3] END max_depth=9, max_leaf_nodes=2, min_samples_split=2;, score=0.825 total time=   0.0s\n",
      "[CV 1/3] END max_depth=9, max_leaf_nodes=2, min_samples_split=3;, score=0.817 total time=   0.0s\n",
      "[CV 2/3] END max_depth=9, max_leaf_nodes=2, min_samples_split=3;, score=0.820 total time=   0.1s\n",
      "[CV 3/3] END max_depth=9, max_leaf_nodes=2, min_samples_split=3;, score=0.825 total time=   0.0s\n",
      "[CV 1/3] END max_depth=9, max_leaf_nodes=2, min_samples_split=4;, score=0.817 total time=   0.0s\n",
      "[CV 2/3] END max_depth=9, max_leaf_nodes=2, min_samples_split=4;, score=0.820 total time=   0.0s\n",
      "[CV 3/3] END max_depth=9, max_leaf_nodes=2, min_samples_split=4;, score=0.825 total time=   0.0s\n",
      "[CV 1/3] END max_depth=9, max_leaf_nodes=3, min_samples_split=2;, score=0.819 total time=   0.0s\n",
      "[CV 2/3] END max_depth=9, max_leaf_nodes=3, min_samples_split=2;, score=0.820 total time=   0.0s\n",
      "[CV 3/3] END max_depth=9, max_leaf_nodes=3, min_samples_split=2;, score=0.825 total time=   0.1s\n",
      "[CV 1/3] END max_depth=9, max_leaf_nodes=3, min_samples_split=3;, score=0.819 total time=   0.0s\n",
      "[CV 2/3] END max_depth=9, max_leaf_nodes=3, min_samples_split=3;, score=0.820 total time=   0.0s\n",
      "[CV 3/3] END max_depth=9, max_leaf_nodes=3, min_samples_split=3;, score=0.825 total time=   0.1s\n",
      "[CV 1/3] END max_depth=9, max_leaf_nodes=3, min_samples_split=4;, score=0.819 total time=   0.0s\n",
      "[CV 2/3] END max_depth=9, max_leaf_nodes=3, min_samples_split=4;, score=0.820 total time=   0.0s\n",
      "[CV 3/3] END max_depth=9, max_leaf_nodes=3, min_samples_split=4;, score=0.825 total time=   0.1s\n",
      "[CV 1/3] END max_depth=9, max_leaf_nodes=4, min_samples_split=2;, score=0.819 total time=   0.1s\n",
      "[CV 2/3] END max_depth=9, max_leaf_nodes=4, min_samples_split=2;, score=0.820 total time=   0.1s\n",
      "[CV 3/3] END max_depth=9, max_leaf_nodes=4, min_samples_split=2;, score=0.825 total time=   0.1s\n",
      "[CV 1/3] END max_depth=9, max_leaf_nodes=4, min_samples_split=3;, score=0.819 total time=   0.1s\n",
      "[CV 2/3] END max_depth=9, max_leaf_nodes=4, min_samples_split=3;, score=0.820 total time=   0.1s\n",
      "[CV 3/3] END max_depth=9, max_leaf_nodes=4, min_samples_split=3;, score=0.825 total time=   0.1s\n",
      "[CV 1/3] END max_depth=9, max_leaf_nodes=4, min_samples_split=4;, score=0.819 total time=   0.1s\n",
      "[CV 2/3] END max_depth=9, max_leaf_nodes=4, min_samples_split=4;, score=0.820 total time=   0.1s\n",
      "[CV 3/3] END max_depth=9, max_leaf_nodes=4, min_samples_split=4;, score=0.825 total time=   0.1s\n",
      "[CV 1/3] END max_depth=9, max_leaf_nodes=5, min_samples_split=2;, score=0.819 total time=   0.1s\n",
      "[CV 2/3] END max_depth=9, max_leaf_nodes=5, min_samples_split=2;, score=0.820 total time=   0.1s\n",
      "[CV 3/3] END max_depth=9, max_leaf_nodes=5, min_samples_split=2;, score=0.825 total time=   0.1s\n",
      "[CV 1/3] END max_depth=9, max_leaf_nodes=5, min_samples_split=3;, score=0.819 total time=   0.1s\n",
      "[CV 2/3] END max_depth=9, max_leaf_nodes=5, min_samples_split=3;, score=0.820 total time=   0.1s\n",
      "[CV 3/3] END max_depth=9, max_leaf_nodes=5, min_samples_split=3;, score=0.825 total time=   0.1s\n",
      "[CV 1/3] END max_depth=9, max_leaf_nodes=5, min_samples_split=4;, score=0.819 total time=   0.1s\n",
      "[CV 2/3] END max_depth=9, max_leaf_nodes=5, min_samples_split=4;, score=0.820 total time=   0.1s\n",
      "[CV 3/3] END max_depth=9, max_leaf_nodes=5, min_samples_split=4;, score=0.825 total time=   0.1s\n",
      "[CV 1/3] END max_depth=9, max_leaf_nodes=6, min_samples_split=2;, score=0.819 total time=   0.1s\n",
      "[CV 2/3] END max_depth=9, max_leaf_nodes=6, min_samples_split=2;, score=0.820 total time=   0.1s\n",
      "[CV 3/3] END max_depth=9, max_leaf_nodes=6, min_samples_split=2;, score=0.832 total time=   0.1s\n",
      "[CV 1/3] END max_depth=9, max_leaf_nodes=6, min_samples_split=3;, score=0.819 total time=   0.1s\n",
      "[CV 2/3] END max_depth=9, max_leaf_nodes=6, min_samples_split=3;, score=0.820 total time=   0.1s\n",
      "[CV 3/3] END max_depth=9, max_leaf_nodes=6, min_samples_split=3;, score=0.832 total time=   0.1s\n",
      "[CV 1/3] END max_depth=9, max_leaf_nodes=6, min_samples_split=4;, score=0.819 total time=   0.1s\n",
      "[CV 2/3] END max_depth=9, max_leaf_nodes=6, min_samples_split=4;, score=0.820 total time=   0.1s\n",
      "[CV 3/3] END max_depth=9, max_leaf_nodes=6, min_samples_split=4;, score=0.832 total time=   0.1s\n",
      "[CV 1/3] END max_depth=9, max_leaf_nodes=7, min_samples_split=2;, score=0.831 total time=   0.1s\n",
      "[CV 2/3] END max_depth=9, max_leaf_nodes=7, min_samples_split=2;, score=0.834 total time=   0.1s\n",
      "[CV 3/3] END max_depth=9, max_leaf_nodes=7, min_samples_split=2;, score=0.832 total time=   0.1s\n",
      "[CV 1/3] END max_depth=9, max_leaf_nodes=7, min_samples_split=3;, score=0.831 total time=   0.1s\n",
      "[CV 2/3] END max_depth=9, max_leaf_nodes=7, min_samples_split=3;, score=0.834 total time=   0.1s\n",
      "[CV 3/3] END max_depth=9, max_leaf_nodes=7, min_samples_split=3;, score=0.832 total time=   0.1s\n",
      "[CV 1/3] END max_depth=9, max_leaf_nodes=7, min_samples_split=4;, score=0.831 total time=   0.1s\n",
      "[CV 2/3] END max_depth=9, max_leaf_nodes=7, min_samples_split=4;, score=0.834 total time=   0.1s\n",
      "[CV 3/3] END max_depth=9, max_leaf_nodes=7, min_samples_split=4;, score=0.832 total time=   0.1s\n",
      "[CV 1/3] END max_depth=9, max_leaf_nodes=8, min_samples_split=2;, score=0.835 total time=   0.1s\n",
      "[CV 2/3] END max_depth=9, max_leaf_nodes=8, min_samples_split=2;, score=0.840 total time=   0.1s\n",
      "[CV 3/3] END max_depth=9, max_leaf_nodes=8, min_samples_split=2;, score=0.836 total time=   0.1s\n",
      "[CV 1/3] END max_depth=9, max_leaf_nodes=8, min_samples_split=3;, score=0.835 total time=   0.1s\n",
      "[CV 2/3] END max_depth=9, max_leaf_nodes=8, min_samples_split=3;, score=0.840 total time=   0.1s\n",
      "[CV 3/3] END max_depth=9, max_leaf_nodes=8, min_samples_split=3;, score=0.836 total time=   0.1s\n",
      "[CV 1/3] END max_depth=9, max_leaf_nodes=8, min_samples_split=4;, score=0.835 total time=   0.1s\n",
      "[CV 2/3] END max_depth=9, max_leaf_nodes=8, min_samples_split=4;, score=0.840 total time=   0.1s\n",
      "[CV 3/3] END max_depth=9, max_leaf_nodes=8, min_samples_split=4;, score=0.836 total time=   0.1s\n",
      "[CV 1/3] END max_depth=9, max_leaf_nodes=9, min_samples_split=2;, score=0.835 total time=   0.1s\n",
      "[CV 2/3] END max_depth=9, max_leaf_nodes=9, min_samples_split=2;, score=0.840 total time=   0.1s\n",
      "[CV 3/3] END max_depth=9, max_leaf_nodes=9, min_samples_split=2;, score=0.837 total time=   0.1s\n",
      "[CV 1/3] END max_depth=9, max_leaf_nodes=9, min_samples_split=3;, score=0.835 total time=   0.1s\n",
      "[CV 2/3] END max_depth=9, max_leaf_nodes=9, min_samples_split=3;, score=0.840 total time=   0.1s\n",
      "[CV 3/3] END max_depth=9, max_leaf_nodes=9, min_samples_split=3;, score=0.837 total time=   0.1s\n",
      "[CV 1/3] END max_depth=9, max_leaf_nodes=9, min_samples_split=4;, score=0.835 total time=   0.1s\n",
      "[CV 2/3] END max_depth=9, max_leaf_nodes=9, min_samples_split=4;, score=0.840 total time=   0.1s\n",
      "[CV 3/3] END max_depth=9, max_leaf_nodes=9, min_samples_split=4;, score=0.837 total time=   0.1s\n",
      "[CV 1/3] END max_depth=11, max_leaf_nodes=2, min_samples_split=2;, score=0.817 total time=   0.0s\n",
      "[CV 2/3] END max_depth=11, max_leaf_nodes=2, min_samples_split=2;, score=0.820 total time=   0.0s\n",
      "[CV 3/3] END max_depth=11, max_leaf_nodes=2, min_samples_split=2;, score=0.825 total time=   0.0s\n",
      "[CV 1/3] END max_depth=11, max_leaf_nodes=2, min_samples_split=3;, score=0.817 total time=   0.0s\n",
      "[CV 2/3] END max_depth=11, max_leaf_nodes=2, min_samples_split=3;, score=0.820 total time=   0.0s\n",
      "[CV 3/3] END max_depth=11, max_leaf_nodes=2, min_samples_split=3;, score=0.825 total time=   0.0s\n",
      "[CV 1/3] END max_depth=11, max_leaf_nodes=2, min_samples_split=4;, score=0.817 total time=   0.0s\n",
      "[CV 2/3] END max_depth=11, max_leaf_nodes=2, min_samples_split=4;, score=0.820 total time=   0.0s\n",
      "[CV 3/3] END max_depth=11, max_leaf_nodes=2, min_samples_split=4;, score=0.825 total time=   0.0s\n",
      "[CV 1/3] END max_depth=11, max_leaf_nodes=3, min_samples_split=2;, score=0.819 total time=   0.1s\n",
      "[CV 2/3] END max_depth=11, max_leaf_nodes=3, min_samples_split=2;, score=0.820 total time=   0.0s\n",
      "[CV 3/3] END max_depth=11, max_leaf_nodes=3, min_samples_split=2;, score=0.825 total time=   0.1s\n",
      "[CV 1/3] END max_depth=11, max_leaf_nodes=3, min_samples_split=3;, score=0.819 total time=   0.0s\n",
      "[CV 2/3] END max_depth=11, max_leaf_nodes=3, min_samples_split=3;, score=0.820 total time=   0.0s\n",
      "[CV 3/3] END max_depth=11, max_leaf_nodes=3, min_samples_split=3;, score=0.825 total time=   0.1s\n",
      "[CV 1/3] END max_depth=11, max_leaf_nodes=3, min_samples_split=4;, score=0.819 total time=   0.0s\n",
      "[CV 2/3] END max_depth=11, max_leaf_nodes=3, min_samples_split=4;, score=0.820 total time=   0.0s\n",
      "[CV 3/3] END max_depth=11, max_leaf_nodes=3, min_samples_split=4;, score=0.825 total time=   0.1s\n",
      "[CV 1/3] END max_depth=11, max_leaf_nodes=4, min_samples_split=2;, score=0.819 total time=   0.1s\n",
      "[CV 2/3] END max_depth=11, max_leaf_nodes=4, min_samples_split=2;, score=0.820 total time=   0.1s\n",
      "[CV 3/3] END max_depth=11, max_leaf_nodes=4, min_samples_split=2;, score=0.825 total time=   0.1s\n",
      "[CV 1/3] END max_depth=11, max_leaf_nodes=4, min_samples_split=3;, score=0.819 total time=   0.1s\n",
      "[CV 2/3] END max_depth=11, max_leaf_nodes=4, min_samples_split=3;, score=0.820 total time=   0.1s\n",
      "[CV 3/3] END max_depth=11, max_leaf_nodes=4, min_samples_split=3;, score=0.825 total time=   0.1s\n",
      "[CV 1/3] END max_depth=11, max_leaf_nodes=4, min_samples_split=4;, score=0.819 total time=   0.1s\n",
      "[CV 2/3] END max_depth=11, max_leaf_nodes=4, min_samples_split=4;, score=0.820 total time=   0.1s\n",
      "[CV 3/3] END max_depth=11, max_leaf_nodes=4, min_samples_split=4;, score=0.825 total time=   0.1s\n",
      "[CV 1/3] END max_depth=11, max_leaf_nodes=5, min_samples_split=2;, score=0.819 total time=   0.1s\n",
      "[CV 2/3] END max_depth=11, max_leaf_nodes=5, min_samples_split=2;, score=0.820 total time=   0.1s\n",
      "[CV 3/3] END max_depth=11, max_leaf_nodes=5, min_samples_split=2;, score=0.825 total time=   0.1s\n",
      "[CV 1/3] END max_depth=11, max_leaf_nodes=5, min_samples_split=3;, score=0.819 total time=   0.1s\n",
      "[CV 2/3] END max_depth=11, max_leaf_nodes=5, min_samples_split=3;, score=0.820 total time=   0.1s\n",
      "[CV 3/3] END max_depth=11, max_leaf_nodes=5, min_samples_split=3;, score=0.825 total time=   0.1s\n",
      "[CV 1/3] END max_depth=11, max_leaf_nodes=5, min_samples_split=4;, score=0.819 total time=   0.1s\n",
      "[CV 2/3] END max_depth=11, max_leaf_nodes=5, min_samples_split=4;, score=0.820 total time=   0.1s\n",
      "[CV 3/3] END max_depth=11, max_leaf_nodes=5, min_samples_split=4;, score=0.825 total time=   0.1s\n",
      "[CV 1/3] END max_depth=11, max_leaf_nodes=6, min_samples_split=2;, score=0.819 total time=   0.1s\n",
      "[CV 2/3] END max_depth=11, max_leaf_nodes=6, min_samples_split=2;, score=0.820 total time=   0.1s\n",
      "[CV 3/3] END max_depth=11, max_leaf_nodes=6, min_samples_split=2;, score=0.832 total time=   0.1s\n",
      "[CV 1/3] END max_depth=11, max_leaf_nodes=6, min_samples_split=3;, score=0.819 total time=   0.1s\n",
      "[CV 2/3] END max_depth=11, max_leaf_nodes=6, min_samples_split=3;, score=0.820 total time=   0.1s\n",
      "[CV 3/3] END max_depth=11, max_leaf_nodes=6, min_samples_split=3;, score=0.832 total time=   0.1s\n",
      "[CV 1/3] END max_depth=11, max_leaf_nodes=6, min_samples_split=4;, score=0.819 total time=   0.1s\n",
      "[CV 2/3] END max_depth=11, max_leaf_nodes=6, min_samples_split=4;, score=0.820 total time=   0.1s\n",
      "[CV 3/3] END max_depth=11, max_leaf_nodes=6, min_samples_split=4;, score=0.832 total time=   0.1s\n",
      "[CV 1/3] END max_depth=11, max_leaf_nodes=7, min_samples_split=2;, score=0.831 total time=   0.1s\n",
      "[CV 2/3] END max_depth=11, max_leaf_nodes=7, min_samples_split=2;, score=0.834 total time=   0.1s\n",
      "[CV 3/3] END max_depth=11, max_leaf_nodes=7, min_samples_split=2;, score=0.832 total time=   0.1s\n",
      "[CV 1/3] END max_depth=11, max_leaf_nodes=7, min_samples_split=3;, score=0.831 total time=   0.1s\n",
      "[CV 2/3] END max_depth=11, max_leaf_nodes=7, min_samples_split=3;, score=0.834 total time=   0.1s\n",
      "[CV 3/3] END max_depth=11, max_leaf_nodes=7, min_samples_split=3;, score=0.832 total time=   0.1s\n",
      "[CV 1/3] END max_depth=11, max_leaf_nodes=7, min_samples_split=4;, score=0.831 total time=   0.1s\n",
      "[CV 2/3] END max_depth=11, max_leaf_nodes=7, min_samples_split=4;, score=0.834 total time=   0.1s\n",
      "[CV 3/3] END max_depth=11, max_leaf_nodes=7, min_samples_split=4;, score=0.832 total time=   0.1s\n",
      "[CV 1/3] END max_depth=11, max_leaf_nodes=8, min_samples_split=2;, score=0.835 total time=   0.1s\n",
      "[CV 2/3] END max_depth=11, max_leaf_nodes=8, min_samples_split=2;, score=0.840 total time=   0.1s\n",
      "[CV 3/3] END max_depth=11, max_leaf_nodes=8, min_samples_split=2;, score=0.836 total time=   0.1s\n",
      "[CV 1/3] END max_depth=11, max_leaf_nodes=8, min_samples_split=3;, score=0.835 total time=   0.1s\n",
      "[CV 2/3] END max_depth=11, max_leaf_nodes=8, min_samples_split=3;, score=0.840 total time=   0.1s\n",
      "[CV 3/3] END max_depth=11, max_leaf_nodes=8, min_samples_split=3;, score=0.836 total time=   0.1s\n",
      "[CV 1/3] END max_depth=11, max_leaf_nodes=8, min_samples_split=4;, score=0.835 total time=   0.1s\n",
      "[CV 2/3] END max_depth=11, max_leaf_nodes=8, min_samples_split=4;, score=0.840 total time=   0.1s\n",
      "[CV 3/3] END max_depth=11, max_leaf_nodes=8, min_samples_split=4;, score=0.836 total time=   0.1s\n",
      "[CV 1/3] END max_depth=11, max_leaf_nodes=9, min_samples_split=2;, score=0.835 total time=   0.1s\n",
      "[CV 2/3] END max_depth=11, max_leaf_nodes=9, min_samples_split=2;, score=0.840 total time=   0.1s\n",
      "[CV 3/3] END max_depth=11, max_leaf_nodes=9, min_samples_split=2;, score=0.837 total time=   0.1s\n",
      "[CV 1/3] END max_depth=11, max_leaf_nodes=9, min_samples_split=3;, score=0.835 total time=   0.1s\n",
      "[CV 2/3] END max_depth=11, max_leaf_nodes=9, min_samples_split=3;, score=0.840 total time=   0.1s\n",
      "[CV 3/3] END max_depth=11, max_leaf_nodes=9, min_samples_split=3;, score=0.837 total time=   0.1s\n",
      "[CV 1/3] END max_depth=11, max_leaf_nodes=9, min_samples_split=4;, score=0.835 total time=   0.1s\n",
      "[CV 2/3] END max_depth=11, max_leaf_nodes=9, min_samples_split=4;, score=0.840 total time=   0.1s\n",
      "[CV 3/3] END max_depth=11, max_leaf_nodes=9, min_samples_split=4;, score=0.837 total time=   0.1s\n",
      "{'max_depth': 5, 'max_leaf_nodes': 9, 'min_samples_split': 2}\n",
      "0.7\n"
     ]
    }
   ],
   "source": [
    "from sklearn.model_selection import GridSearchCV\n",
    "\n",
    "params = {\n",
    "    'max_leaf_nodes': list(range(2, 10)),\n",
    "    'min_samples_split': [2, 3, 4],\n",
    "    'max_depth': [5,7,9,11]\n",
    "}\n",
    "\n",
    "grid_search_cv = GridSearchCV(DecisionTreeClassifier(random_state=42), params, verbose=3, cv=3)\n",
    "grid_search_cv.fit(X_train, Y_train)\n",
    "print(grid_search_cv.best_params_)\n",
    "\n",
    "clf = DecisionTreeClassifier(max_depth = 5, max_leaf_nodes = 9, min_samples_split = 2, random_state=42)\n",
    "clf.fit(X_train, Y_train)\n",
    "preds_train = clf.predict(X_train)\n",
    "preds_test = clf.predict(X_test)\n",
    "print(round(roc_auc_score(Y_test, preds_test), 2))"
   ],
   "metadata": {
    "collapsed": false,
    "ExecuteTime": {
     "end_time": "2023-08-07T08:39:50.444225800Z",
     "start_time": "2023-08-07T08:38:56.585091600Z"
    }
   }
  },
  {
   "cell_type": "code",
   "execution_count": 21,
   "outputs": [
    {
     "name": "stdout",
     "output_type": "stream",
     "text": [
      "0.73\n"
     ]
    }
   ],
   "source": [
    "from sklearn.ensemble import RandomForestClassifier\n",
    "\n",
    "\n",
    "clf = RandomForestClassifier(n_estimators = 100, random_state=31)\n",
    "clf.fit(X_train, Y_train)\n",
    "preds_train = clf.predict(X_train)\n",
    "preds_test = clf.predict(X_test)\n",
    "print(round(roc_auc_score(Y_test, preds_test), 2))"
   ],
   "metadata": {
    "collapsed": false,
    "ExecuteTime": {
     "end_time": "2023-08-07T08:40:07.717973Z",
     "start_time": "2023-08-07T08:39:50.446225200Z"
    }
   }
  },
  {
   "cell_type": "code",
   "execution_count": 22,
   "outputs": [
    {
     "name": "stdout",
     "output_type": "stream",
     "text": [
      "Fitting 3 folds for each of 60 candidates, totalling 180 fits\n",
      "[CV 1/3] END max_depth=5, max_features=4, min_samples_leaf=3;, score=0.776 total time=   0.9s\n",
      "[CV 2/3] END max_depth=5, max_features=4, min_samples_leaf=3;, score=0.775 total time=   0.9s\n",
      "[CV 3/3] END max_depth=5, max_features=4, min_samples_leaf=3;, score=0.775 total time=   0.9s\n",
      "[CV 1/3] END max_depth=5, max_features=4, min_samples_leaf=5;, score=0.776 total time=   0.9s\n",
      "[CV 2/3] END max_depth=5, max_features=4, min_samples_leaf=5;, score=0.775 total time=   0.9s\n",
      "[CV 3/3] END max_depth=5, max_features=4, min_samples_leaf=5;, score=0.775 total time=   0.9s\n",
      "[CV 1/3] END max_depth=5, max_features=4, min_samples_leaf=7;, score=0.776 total time=   0.9s\n",
      "[CV 2/3] END max_depth=5, max_features=4, min_samples_leaf=7;, score=0.775 total time=   0.9s\n",
      "[CV 3/3] END max_depth=5, max_features=4, min_samples_leaf=7;, score=0.775 total time=   0.9s\n",
      "[CV 1/3] END max_depth=5, max_features=4, min_samples_leaf=9;, score=0.776 total time=   0.9s\n",
      "[CV 2/3] END max_depth=5, max_features=4, min_samples_leaf=9;, score=0.775 total time=   0.9s\n",
      "[CV 3/3] END max_depth=5, max_features=4, min_samples_leaf=9;, score=0.775 total time=   0.9s\n",
      "[CV 1/3] END max_depth=5, max_features=4, min_samples_leaf=11;, score=0.776 total time=   0.9s\n",
      "[CV 2/3] END max_depth=5, max_features=4, min_samples_leaf=11;, score=0.775 total time=   0.9s\n",
      "[CV 3/3] END max_depth=5, max_features=4, min_samples_leaf=11;, score=0.775 total time=   0.9s\n",
      "[CV 1/3] END max_depth=5, max_features=5, min_samples_leaf=3;, score=0.782 total time=   1.0s\n",
      "[CV 2/3] END max_depth=5, max_features=5, min_samples_leaf=3;, score=0.780 total time=   1.0s\n",
      "[CV 3/3] END max_depth=5, max_features=5, min_samples_leaf=3;, score=0.781 total time=   1.0s\n",
      "[CV 1/3] END max_depth=5, max_features=5, min_samples_leaf=5;, score=0.781 total time=   1.0s\n",
      "[CV 2/3] END max_depth=5, max_features=5, min_samples_leaf=5;, score=0.781 total time=   1.0s\n",
      "[CV 3/3] END max_depth=5, max_features=5, min_samples_leaf=5;, score=0.781 total time=   1.0s\n",
      "[CV 1/3] END max_depth=5, max_features=5, min_samples_leaf=7;, score=0.782 total time=   1.0s\n",
      "[CV 2/3] END max_depth=5, max_features=5, min_samples_leaf=7;, score=0.780 total time=   1.0s\n",
      "[CV 3/3] END max_depth=5, max_features=5, min_samples_leaf=7;, score=0.782 total time=   1.0s\n",
      "[CV 1/3] END max_depth=5, max_features=5, min_samples_leaf=9;, score=0.782 total time=   1.0s\n",
      "[CV 2/3] END max_depth=5, max_features=5, min_samples_leaf=9;, score=0.779 total time=   1.0s\n",
      "[CV 3/3] END max_depth=5, max_features=5, min_samples_leaf=9;, score=0.781 total time=   1.0s\n",
      "[CV 1/3] END max_depth=5, max_features=5, min_samples_leaf=11;, score=0.784 total time=   1.0s\n",
      "[CV 2/3] END max_depth=5, max_features=5, min_samples_leaf=11;, score=0.781 total time=   1.0s\n",
      "[CV 3/3] END max_depth=5, max_features=5, min_samples_leaf=11;, score=0.783 total time=   1.0s\n",
      "[CV 1/3] END max_depth=5, max_features=6, min_samples_leaf=3;, score=0.795 total time=   1.1s\n",
      "[CV 2/3] END max_depth=5, max_features=6, min_samples_leaf=3;, score=0.793 total time=   1.1s\n",
      "[CV 3/3] END max_depth=5, max_features=6, min_samples_leaf=3;, score=0.796 total time=   1.1s\n",
      "[CV 1/3] END max_depth=5, max_features=6, min_samples_leaf=5;, score=0.793 total time=   1.1s\n",
      "[CV 2/3] END max_depth=5, max_features=6, min_samples_leaf=5;, score=0.792 total time=   1.1s\n",
      "[CV 3/3] END max_depth=5, max_features=6, min_samples_leaf=5;, score=0.795 total time=   1.1s\n",
      "[CV 1/3] END max_depth=5, max_features=6, min_samples_leaf=7;, score=0.798 total time=   1.1s\n",
      "[CV 2/3] END max_depth=5, max_features=6, min_samples_leaf=7;, score=0.794 total time=   1.1s\n",
      "[CV 3/3] END max_depth=5, max_features=6, min_samples_leaf=7;, score=0.795 total time=   1.1s\n",
      "[CV 1/3] END max_depth=5, max_features=6, min_samples_leaf=9;, score=0.796 total time=   1.1s\n",
      "[CV 2/3] END max_depth=5, max_features=6, min_samples_leaf=9;, score=0.795 total time=   1.1s\n",
      "[CV 3/3] END max_depth=5, max_features=6, min_samples_leaf=9;, score=0.795 total time=   1.1s\n",
      "[CV 1/3] END max_depth=5, max_features=6, min_samples_leaf=11;, score=0.795 total time=   1.1s\n",
      "[CV 2/3] END max_depth=5, max_features=6, min_samples_leaf=11;, score=0.798 total time=   1.5s\n",
      "[CV 3/3] END max_depth=5, max_features=6, min_samples_leaf=11;, score=0.795 total time=   1.3s\n",
      "[CV 1/3] END max_depth=5, max_features=7, min_samples_leaf=3;, score=0.798 total time=   1.3s\n",
      "[CV 2/3] END max_depth=5, max_features=7, min_samples_leaf=3;, score=0.801 total time=   1.8s\n",
      "[CV 3/3] END max_depth=5, max_features=7, min_samples_leaf=3;, score=0.794 total time=   1.2s\n",
      "[CV 1/3] END max_depth=5, max_features=7, min_samples_leaf=5;, score=0.798 total time=   1.6s\n",
      "[CV 2/3] END max_depth=5, max_features=7, min_samples_leaf=5;, score=0.801 total time=   1.5s\n",
      "[CV 3/3] END max_depth=5, max_features=7, min_samples_leaf=5;, score=0.797 total time=   1.2s\n",
      "[CV 1/3] END max_depth=5, max_features=7, min_samples_leaf=7;, score=0.794 total time=   1.2s\n",
      "[CV 2/3] END max_depth=5, max_features=7, min_samples_leaf=7;, score=0.800 total time=   1.2s\n",
      "[CV 3/3] END max_depth=5, max_features=7, min_samples_leaf=7;, score=0.795 total time=   1.2s\n",
      "[CV 1/3] END max_depth=5, max_features=7, min_samples_leaf=9;, score=0.796 total time=   1.2s\n",
      "[CV 2/3] END max_depth=5, max_features=7, min_samples_leaf=9;, score=0.800 total time=   1.2s\n",
      "[CV 3/3] END max_depth=5, max_features=7, min_samples_leaf=9;, score=0.795 total time=   1.2s\n",
      "[CV 1/3] END max_depth=5, max_features=7, min_samples_leaf=11;, score=0.796 total time=   1.3s\n",
      "[CV 2/3] END max_depth=5, max_features=7, min_samples_leaf=11;, score=0.803 total time=   1.4s\n",
      "[CV 3/3] END max_depth=5, max_features=7, min_samples_leaf=11;, score=0.795 total time=   1.2s\n",
      "[CV 1/3] END max_depth=10, max_features=4, min_samples_leaf=3;, score=0.810 total time=   1.6s\n",
      "[CV 2/3] END max_depth=10, max_features=4, min_samples_leaf=3;, score=0.815 total time=   2.1s\n",
      "[CV 3/3] END max_depth=10, max_features=4, min_samples_leaf=3;, score=0.813 total time=   2.2s\n",
      "[CV 1/3] END max_depth=10, max_features=4, min_samples_leaf=5;, score=0.812 total time=   1.6s\n",
      "[CV 2/3] END max_depth=10, max_features=4, min_samples_leaf=5;, score=0.811 total time=   1.6s\n",
      "[CV 3/3] END max_depth=10, max_features=4, min_samples_leaf=5;, score=0.813 total time=   1.6s\n",
      "[CV 1/3] END max_depth=10, max_features=4, min_samples_leaf=7;, score=0.811 total time=   1.7s\n",
      "[CV 2/3] END max_depth=10, max_features=4, min_samples_leaf=7;, score=0.812 total time=   2.1s\n",
      "[CV 3/3] END max_depth=10, max_features=4, min_samples_leaf=7;, score=0.812 total time=   1.6s\n",
      "[CV 1/3] END max_depth=10, max_features=4, min_samples_leaf=9;, score=0.809 total time=   1.5s\n",
      "[CV 2/3] END max_depth=10, max_features=4, min_samples_leaf=9;, score=0.812 total time=   1.8s\n",
      "[CV 3/3] END max_depth=10, max_features=4, min_samples_leaf=9;, score=0.811 total time=   1.7s\n",
      "[CV 1/3] END max_depth=10, max_features=4, min_samples_leaf=11;, score=0.813 total time=   2.3s\n",
      "[CV 2/3] END max_depth=10, max_features=4, min_samples_leaf=11;, score=0.812 total time=   1.7s\n",
      "[CV 3/3] END max_depth=10, max_features=4, min_samples_leaf=11;, score=0.813 total time=   1.9s\n",
      "[CV 1/3] END max_depth=10, max_features=5, min_samples_leaf=3;, score=0.819 total time=   2.6s\n",
      "[CV 2/3] END max_depth=10, max_features=5, min_samples_leaf=3;, score=0.826 total time=   2.3s\n",
      "[CV 3/3] END max_depth=10, max_features=5, min_samples_leaf=3;, score=0.820 total time=   2.3s\n",
      "[CV 1/3] END max_depth=10, max_features=5, min_samples_leaf=5;, score=0.821 total time=   2.3s\n",
      "[CV 2/3] END max_depth=10, max_features=5, min_samples_leaf=5;, score=0.826 total time=   2.2s\n",
      "[CV 3/3] END max_depth=10, max_features=5, min_samples_leaf=5;, score=0.820 total time=   2.0s\n",
      "[CV 1/3] END max_depth=10, max_features=5, min_samples_leaf=7;, score=0.820 total time=   2.3s\n",
      "[CV 2/3] END max_depth=10, max_features=5, min_samples_leaf=7;, score=0.819 total time=   2.1s\n",
      "[CV 3/3] END max_depth=10, max_features=5, min_samples_leaf=7;, score=0.820 total time=   2.1s\n",
      "[CV 1/3] END max_depth=10, max_features=5, min_samples_leaf=9;, score=0.819 total time=   2.1s\n",
      "[CV 2/3] END max_depth=10, max_features=5, min_samples_leaf=9;, score=0.824 total time=   2.1s\n",
      "[CV 3/3] END max_depth=10, max_features=5, min_samples_leaf=9;, score=0.816 total time=   2.2s\n",
      "[CV 1/3] END max_depth=10, max_features=5, min_samples_leaf=11;, score=0.822 total time=   2.1s\n",
      "[CV 2/3] END max_depth=10, max_features=5, min_samples_leaf=11;, score=0.826 total time=   2.1s\n",
      "[CV 3/3] END max_depth=10, max_features=5, min_samples_leaf=11;, score=0.817 total time=   2.0s\n",
      "[CV 1/3] END max_depth=10, max_features=6, min_samples_leaf=3;, score=0.832 total time=   2.6s\n",
      "[CV 2/3] END max_depth=10, max_features=6, min_samples_leaf=3;, score=0.834 total time=   2.5s\n",
      "[CV 3/3] END max_depth=10, max_features=6, min_samples_leaf=3;, score=0.830 total time=   2.6s\n",
      "[CV 1/3] END max_depth=10, max_features=6, min_samples_leaf=5;, score=0.829 total time=   2.2s\n",
      "[CV 2/3] END max_depth=10, max_features=6, min_samples_leaf=5;, score=0.835 total time=   2.3s\n",
      "[CV 3/3] END max_depth=10, max_features=6, min_samples_leaf=5;, score=0.828 total time=   2.5s\n",
      "[CV 1/3] END max_depth=10, max_features=6, min_samples_leaf=7;, score=0.831 total time=   2.5s\n",
      "[CV 2/3] END max_depth=10, max_features=6, min_samples_leaf=7;, score=0.835 total time=   2.3s\n",
      "[CV 3/3] END max_depth=10, max_features=6, min_samples_leaf=7;, score=0.831 total time=   2.3s\n",
      "[CV 1/3] END max_depth=10, max_features=6, min_samples_leaf=9;, score=0.830 total time=   2.4s\n",
      "[CV 2/3] END max_depth=10, max_features=6, min_samples_leaf=9;, score=0.835 total time=   2.4s\n",
      "[CV 3/3] END max_depth=10, max_features=6, min_samples_leaf=9;, score=0.831 total time=   2.4s\n",
      "[CV 1/3] END max_depth=10, max_features=6, min_samples_leaf=11;, score=0.831 total time=   2.2s\n",
      "[CV 2/3] END max_depth=10, max_features=6, min_samples_leaf=11;, score=0.835 total time=   2.3s\n",
      "[CV 3/3] END max_depth=10, max_features=6, min_samples_leaf=11;, score=0.827 total time=   2.2s\n",
      "[CV 1/3] END max_depth=10, max_features=7, min_samples_leaf=3;, score=0.833 total time=   3.0s\n",
      "[CV 2/3] END max_depth=10, max_features=7, min_samples_leaf=3;, score=0.839 total time=   2.8s\n",
      "[CV 3/3] END max_depth=10, max_features=7, min_samples_leaf=3;, score=0.831 total time=   2.8s\n",
      "[CV 1/3] END max_depth=10, max_features=7, min_samples_leaf=5;, score=0.834 total time=   2.7s\n",
      "[CV 2/3] END max_depth=10, max_features=7, min_samples_leaf=5;, score=0.838 total time=   2.7s\n",
      "[CV 3/3] END max_depth=10, max_features=7, min_samples_leaf=5;, score=0.832 total time=   3.0s\n",
      "[CV 1/3] END max_depth=10, max_features=7, min_samples_leaf=7;, score=0.831 total time=   2.8s\n",
      "[CV 2/3] END max_depth=10, max_features=7, min_samples_leaf=7;, score=0.838 total time=   2.8s\n",
      "[CV 3/3] END max_depth=10, max_features=7, min_samples_leaf=7;, score=0.829 total time=   2.8s\n",
      "[CV 1/3] END max_depth=10, max_features=7, min_samples_leaf=9;, score=0.833 total time=   2.7s\n",
      "[CV 2/3] END max_depth=10, max_features=7, min_samples_leaf=9;, score=0.838 total time=   3.0s\n",
      "[CV 3/3] END max_depth=10, max_features=7, min_samples_leaf=9;, score=0.831 total time=   3.0s\n",
      "[CV 1/3] END max_depth=10, max_features=7, min_samples_leaf=11;, score=0.834 total time=   2.8s\n",
      "[CV 2/3] END max_depth=10, max_features=7, min_samples_leaf=11;, score=0.837 total time=   2.6s\n",
      "[CV 3/3] END max_depth=10, max_features=7, min_samples_leaf=11;, score=0.828 total time=   2.5s\n",
      "[CV 1/3] END max_depth=15, max_features=4, min_samples_leaf=3;, score=0.829 total time=   2.5s\n",
      "[CV 2/3] END max_depth=15, max_features=4, min_samples_leaf=3;, score=0.836 total time=   2.7s\n",
      "[CV 3/3] END max_depth=15, max_features=4, min_samples_leaf=3;, score=0.829 total time=   2.5s\n",
      "[CV 1/3] END max_depth=15, max_features=4, min_samples_leaf=5;, score=0.828 total time=   2.5s\n",
      "[CV 2/3] END max_depth=15, max_features=4, min_samples_leaf=5;, score=0.834 total time=   2.3s\n",
      "[CV 3/3] END max_depth=15, max_features=4, min_samples_leaf=5;, score=0.829 total time=   2.4s\n",
      "[CV 1/3] END max_depth=15, max_features=4, min_samples_leaf=7;, score=0.828 total time=   2.3s\n",
      "[CV 2/3] END max_depth=15, max_features=4, min_samples_leaf=7;, score=0.832 total time=   2.2s\n",
      "[CV 3/3] END max_depth=15, max_features=4, min_samples_leaf=7;, score=0.827 total time=   2.3s\n",
      "[CV 1/3] END max_depth=15, max_features=4, min_samples_leaf=9;, score=0.825 total time=   2.1s\n",
      "[CV 2/3] END max_depth=15, max_features=4, min_samples_leaf=9;, score=0.832 total time=   2.1s\n",
      "[CV 3/3] END max_depth=15, max_features=4, min_samples_leaf=9;, score=0.824 total time=   2.1s\n",
      "[CV 1/3] END max_depth=15, max_features=4, min_samples_leaf=11;, score=0.826 total time=   2.5s\n",
      "[CV 2/3] END max_depth=15, max_features=4, min_samples_leaf=11;, score=0.831 total time=   2.1s\n",
      "[CV 3/3] END max_depth=15, max_features=4, min_samples_leaf=11;, score=0.824 total time=   2.3s\n",
      "[CV 1/3] END max_depth=15, max_features=5, min_samples_leaf=3;, score=0.832 total time=   2.9s\n",
      "[CV 2/3] END max_depth=15, max_features=5, min_samples_leaf=3;, score=0.843 total time=   3.5s\n",
      "[CV 3/3] END max_depth=15, max_features=5, min_samples_leaf=3;, score=0.833 total time=   3.0s\n",
      "[CV 1/3] END max_depth=15, max_features=5, min_samples_leaf=5;, score=0.835 total time=   2.9s\n",
      "[CV 2/3] END max_depth=15, max_features=5, min_samples_leaf=5;, score=0.843 total time=   2.9s\n",
      "[CV 3/3] END max_depth=15, max_features=5, min_samples_leaf=5;, score=0.834 total time=   2.8s\n",
      "[CV 1/3] END max_depth=15, max_features=5, min_samples_leaf=7;, score=0.834 total time=   2.8s\n",
      "[CV 2/3] END max_depth=15, max_features=5, min_samples_leaf=7;, score=0.839 total time=   2.6s\n",
      "[CV 3/3] END max_depth=15, max_features=5, min_samples_leaf=7;, score=0.830 total time=   2.6s\n",
      "[CV 1/3] END max_depth=15, max_features=5, min_samples_leaf=9;, score=0.832 total time=   2.6s\n",
      "[CV 2/3] END max_depth=15, max_features=5, min_samples_leaf=9;, score=0.838 total time=   2.6s\n",
      "[CV 3/3] END max_depth=15, max_features=5, min_samples_leaf=9;, score=0.831 total time=   2.6s\n",
      "[CV 1/3] END max_depth=15, max_features=5, min_samples_leaf=11;, score=0.834 total time=   2.7s\n",
      "[CV 2/3] END max_depth=15, max_features=5, min_samples_leaf=11;, score=0.838 total time=   2.6s\n",
      "[CV 3/3] END max_depth=15, max_features=5, min_samples_leaf=11;, score=0.831 total time=   2.6s\n",
      "[CV 1/3] END max_depth=15, max_features=6, min_samples_leaf=3;, score=0.841 total time=   3.2s\n",
      "[CV 2/3] END max_depth=15, max_features=6, min_samples_leaf=3;, score=0.847 total time=   3.3s\n",
      "[CV 3/3] END max_depth=15, max_features=6, min_samples_leaf=3;, score=0.840 total time=   3.2s\n",
      "[CV 1/3] END max_depth=15, max_features=6, min_samples_leaf=5;, score=0.842 total time=   3.2s\n",
      "[CV 2/3] END max_depth=15, max_features=6, min_samples_leaf=5;, score=0.847 total time=   3.3s\n",
      "[CV 3/3] END max_depth=15, max_features=6, min_samples_leaf=5;, score=0.839 total time=   3.2s\n",
      "[CV 1/3] END max_depth=15, max_features=6, min_samples_leaf=7;, score=0.842 total time=   3.3s\n",
      "[CV 2/3] END max_depth=15, max_features=6, min_samples_leaf=7;, score=0.845 total time=   3.1s\n",
      "[CV 3/3] END max_depth=15, max_features=6, min_samples_leaf=7;, score=0.841 total time=   2.9s\n",
      "[CV 1/3] END max_depth=15, max_features=6, min_samples_leaf=9;, score=0.840 total time=   2.8s\n",
      "[CV 2/3] END max_depth=15, max_features=6, min_samples_leaf=9;, score=0.845 total time=   2.8s\n",
      "[CV 3/3] END max_depth=15, max_features=6, min_samples_leaf=9;, score=0.837 total time=   2.8s\n",
      "[CV 1/3] END max_depth=15, max_features=6, min_samples_leaf=11;, score=0.840 total time=   2.7s\n",
      "[CV 2/3] END max_depth=15, max_features=6, min_samples_leaf=11;, score=0.846 total time=   2.7s\n",
      "[CV 3/3] END max_depth=15, max_features=6, min_samples_leaf=11;, score=0.838 total time=   2.7s\n",
      "[CV 1/3] END max_depth=15, max_features=7, min_samples_leaf=3;, score=0.845 total time=   3.6s\n",
      "[CV 2/3] END max_depth=15, max_features=7, min_samples_leaf=3;, score=0.850 total time=   3.7s\n",
      "[CV 3/3] END max_depth=15, max_features=7, min_samples_leaf=3;, score=0.845 total time=   3.7s\n",
      "[CV 1/3] END max_depth=15, max_features=7, min_samples_leaf=5;, score=0.844 total time=   3.5s\n",
      "[CV 2/3] END max_depth=15, max_features=7, min_samples_leaf=5;, score=0.849 total time=   3.5s\n",
      "[CV 3/3] END max_depth=15, max_features=7, min_samples_leaf=5;, score=0.844 total time=   3.5s\n",
      "[CV 1/3] END max_depth=15, max_features=7, min_samples_leaf=7;, score=0.842 total time=   3.4s\n",
      "[CV 2/3] END max_depth=15, max_features=7, min_samples_leaf=7;, score=0.850 total time=   3.6s\n",
      "[CV 3/3] END max_depth=15, max_features=7, min_samples_leaf=7;, score=0.841 total time=   3.7s\n",
      "[CV 1/3] END max_depth=15, max_features=7, min_samples_leaf=9;, score=0.842 total time=   3.5s\n",
      "[CV 2/3] END max_depth=15, max_features=7, min_samples_leaf=9;, score=0.848 total time=   3.3s\n",
      "[CV 3/3] END max_depth=15, max_features=7, min_samples_leaf=9;, score=0.841 total time=   3.5s\n",
      "[CV 1/3] END max_depth=15, max_features=7, min_samples_leaf=11;, score=0.840 total time=   3.7s\n",
      "[CV 2/3] END max_depth=15, max_features=7, min_samples_leaf=11;, score=0.847 total time=   3.2s\n",
      "[CV 3/3] END max_depth=15, max_features=7, min_samples_leaf=11;, score=0.840 total time=   3.4s\n",
      "{'max_depth': 15, 'max_features': 7, 'min_samples_leaf': 3}\n",
      "0.7\n"
     ]
    }
   ],
   "source": [
    "params = {\n",
    "    'max_features': [4, 5, 6, 7],\n",
    "    'min_samples_leaf': [3, 5, 7, 9, 11],\n",
    "    'max_depth': [5, 10, 15]\n",
    "}\n",
    "grid_search_cv = GridSearchCV(RandomForestClassifier(random_state=31), params, verbose=3, cv=3)\n",
    "grid_search_cv.fit(X_train, Y_train)\n",
    "print(grid_search_cv.best_params_)\n",
    "clf = RandomForestClassifier(max_depth=15, max_features=7, min_samples_leaf=3, random_state=31)\n",
    "clf.fit(X_train, Y_train)\n",
    "preds_train = clf.predict(X_train)\n",
    "preds_test = clf.predict(X_test)\n",
    "print(round(roc_auc_score(Y_test, preds_test), 2))"
   ],
   "metadata": {
    "collapsed": false,
    "ExecuteTime": {
     "end_time": "2023-08-07T08:46:56.155349500Z",
     "start_time": "2023-08-07T08:40:07.721969400Z"
    }
   }
  },
  {
   "cell_type": "code",
   "execution_count": 23,
   "outputs": [
    {
     "data": {
      "text/plain": "                   feat      coef\n7           Humidity3pm  0.250783\n2              Rainfall  0.079757\n6           Humidity9am  0.070403\n10             Cloud9am  0.067092\n9           Pressure3pm  0.065272\n..                  ...       ...\n50   Location_Newcastle  0.000000\n62  Location_SalmonGums  0.000000\n51        Location_Nhil  0.000000\n52   Location_NorahHead  0.000000\n40   Location_GoldCoast  0.000000\n\n[123 rows x 2 columns]",
      "text/html": "<div>\n<style scoped>\n    .dataframe tbody tr th:only-of-type {\n        vertical-align: middle;\n    }\n\n    .dataframe tbody tr th {\n        vertical-align: top;\n    }\n\n    .dataframe thead th {\n        text-align: right;\n    }\n</style>\n<table border=\"1\" class=\"dataframe\">\n  <thead>\n    <tr style=\"text-align: right;\">\n      <th></th>\n      <th>feat</th>\n      <th>coef</th>\n    </tr>\n  </thead>\n  <tbody>\n    <tr>\n      <th>7</th>\n      <td>Humidity3pm</td>\n      <td>0.250783</td>\n    </tr>\n    <tr>\n      <th>2</th>\n      <td>Rainfall</td>\n      <td>0.079757</td>\n    </tr>\n    <tr>\n      <th>6</th>\n      <td>Humidity9am</td>\n      <td>0.070403</td>\n    </tr>\n    <tr>\n      <th>10</th>\n      <td>Cloud9am</td>\n      <td>0.067092</td>\n    </tr>\n    <tr>\n      <th>9</th>\n      <td>Pressure3pm</td>\n      <td>0.065272</td>\n    </tr>\n    <tr>\n      <th>...</th>\n      <td>...</td>\n      <td>...</td>\n    </tr>\n    <tr>\n      <th>50</th>\n      <td>Location_Newcastle</td>\n      <td>0.000000</td>\n    </tr>\n    <tr>\n      <th>62</th>\n      <td>Location_SalmonGums</td>\n      <td>0.000000</td>\n    </tr>\n    <tr>\n      <th>51</th>\n      <td>Location_Nhil</td>\n      <td>0.000000</td>\n    </tr>\n    <tr>\n      <th>52</th>\n      <td>Location_NorahHead</td>\n      <td>0.000000</td>\n    </tr>\n    <tr>\n      <th>40</th>\n      <td>Location_GoldCoast</td>\n      <td>0.000000</td>\n    </tr>\n  </tbody>\n</table>\n<p>123 rows × 2 columns</p>\n</div>"
     },
     "execution_count": 23,
     "metadata": {},
     "output_type": "execute_result"
    }
   ],
   "source": [
    "feature_names = [x for x in df_dummies if x != 'RainTomorrow']\n",
    "pd.DataFrame({'feat': feature_names,\n",
    "              'coef': clf.feature_importances_}).sort_values(by='coef', ascending=False)"
   ],
   "metadata": {
    "collapsed": false,
    "ExecuteTime": {
     "end_time": "2023-08-07T08:46:56.199319700Z",
     "start_time": "2023-08-07T08:46:56.156320500Z"
    }
   }
  },
  {
   "cell_type": "code",
   "execution_count": 24,
   "outputs": [],
   "source": [
    "df = pd.read_csv('data/AirPass.zip')"
   ],
   "metadata": {
    "collapsed": false,
    "ExecuteTime": {
     "end_time": "2023-08-07T08:46:56.831300300Z",
     "start_time": "2023-08-07T08:46:56.201320100Z"
    }
   }
  },
  {
   "cell_type": "code",
   "execution_count": 25,
   "outputs": [
    {
     "data": {
      "text/plain": "310"
     },
     "execution_count": 25,
     "metadata": {},
     "output_type": "execute_result"
    }
   ],
   "source": [
    "df.isnull().sum().sum()"
   ],
   "metadata": {
    "collapsed": false,
    "ExecuteTime": {
     "end_time": "2023-08-07T08:46:56.831300300Z",
     "start_time": "2023-08-07T08:46:56.787300300Z"
    }
   }
  },
  {
   "cell_type": "code",
   "execution_count": 25,
   "outputs": [],
   "source": [],
   "metadata": {
    "collapsed": false,
    "ExecuteTime": {
     "end_time": "2023-08-07T08:46:56.831300300Z",
     "start_time": "2023-08-07T08:46:56.787300300Z"
    }
   }
  }
 ],
 "metadata": {
  "kernelspec": {
   "display_name": "Python 3",
   "language": "python",
   "name": "python3"
  },
  "language_info": {
   "codemirror_mode": {
    "name": "ipython",
    "version": 2
   },
   "file_extension": ".py",
   "mimetype": "text/x-python",
   "name": "python",
   "nbconvert_exporter": "python",
   "pygments_lexer": "ipython2",
   "version": "2.7.6"
  }
 },
 "nbformat": 4,
 "nbformat_minor": 0
}
