{
 "cells": [
  {
   "cell_type": "code",
   "execution_count": 1,
   "metadata": {
    "collapsed": true,
    "ExecuteTime": {
     "end_time": "2023-08-14T01:45:41.806001300Z",
     "start_time": "2023-08-14T01:45:41.793000200Z"
    }
   },
   "outputs": [
    {
     "data": {
      "text/plain": "0.31673469387755115"
     },
     "execution_count": 1,
     "metadata": {},
     "output_type": "execute_result"
    }
   ],
   "source": [
    "import numpy as np\n",
    "\n",
    "\n",
    "a = np.array([4.4, 3.8, 4.8, 4.0, 3.4, 4.2, 5.2])\n",
    "b = a.mean()\n",
    "np.sum((a - b)**2)/7"
   ]
  },
  {
   "cell_type": "code",
   "execution_count": 2,
   "outputs": [
    {
     "name": "stderr",
     "output_type": "stream",
     "text": [
      "D:\\Work\\DST\\__environment\\venv\\lib\\site-packages\\sklearn\\linear_model\\_logistic.py:460: ConvergenceWarning: lbfgs failed to converge (status=1):\n",
      "STOP: TOTAL NO. of ITERATIONS REACHED LIMIT.\n",
      "\n",
      "Increase the number of iterations (max_iter) or scale the data as shown in:\n",
      "    https://scikit-learn.org/stable/modules/preprocessing.html\n",
      "Please also refer to the documentation for alternative solver options:\n",
      "    https://scikit-learn.org/stable/modules/linear_model.html#logistic-regression\n",
      "  n_iter_i = _check_optimize_result(\n"
     ]
    },
    {
     "data": {
      "text/plain": "0.7601476014760148"
     },
     "execution_count": 2,
     "metadata": {},
     "output_type": "execute_result"
    }
   ],
   "source": [
    "import pandas as pd\n",
    "import matplotlib.pyplot as plt\n",
    "import seaborn as sns\n",
    "import numpy as np\n",
    "from sklearn import tree\n",
    "from sklearn.linear_model import LogisticRegression\n",
    "from sklearn.tree import DecisionTreeClassifier\n",
    "from sklearn.model_selection import train_test_split\n",
    "from sklearn.metrics import f1_score\n",
    "\n",
    "df = pd.read_csv('data/wineQualityReds.zip')\n",
    "\n",
    "df['target']= np.where(df.quality >=6,1,0)\n",
    "Y= df['target']\n",
    "X = df.drop(['target', 'quality'], axis= 1)\n",
    "X_train, X_test, y_train, y_test = train_test_split(\n",
    "    X, Y, test_size=0.3, random_state=42)\n",
    "model = LogisticRegression()\n",
    "model.fit(X_train, y_train)\n",
    "preds_train = model.predict(X_train)\n",
    "preds_test = model.predict(X_test)\n",
    "f1_score(preds_test, y_test)\n",
    "model = DecisionTreeClassifier(max_depth = 10, random_state=42)\n",
    "model.fit(X_train, y_train)\n",
    "preds_train = model.predict(X_train)\n",
    "preds_test = model.predict(X_test)\n",
    "f1_score(preds_test, y_test)"
   ],
   "metadata": {
    "collapsed": false,
    "ExecuteTime": {
     "end_time": "2023-08-14T01:45:45.769951300Z",
     "start_time": "2023-08-14T01:45:41.809000500Z"
    }
   }
  },
  {
   "cell_type": "code",
   "execution_count": 3,
   "outputs": [
    {
     "name": "stderr",
     "output_type": "stream",
     "text": [
      "D:\\Work\\DST\\__environment\\venv\\lib\\site-packages\\sklearn\\ensemble\\_base.py:156: FutureWarning: `base_estimator` was renamed to `estimator` in version 1.2 and will be removed in 1.4.\n",
      "  warnings.warn(\n"
     ]
    },
    {
     "data": {
      "text/plain": "0.8239700374531835"
     },
     "execution_count": 3,
     "metadata": {},
     "output_type": "execute_result"
    }
   ],
   "source": [
    "import pandas as pd\n",
    "import matplotlib.pyplot as plt\n",
    "import seaborn as sns\n",
    "import numpy as np\n",
    "from sklearn import tree\n",
    "from sklearn.linear_model import LogisticRegression\n",
    "from sklearn.tree import DecisionTreeClassifier\n",
    "from sklearn.model_selection import train_test_split\n",
    "from sklearn.metrics import f1_score\n",
    "from sklearn.ensemble import BaggingClassifier\n",
    "\n",
    "model = BaggingClassifier(base_estimator=DecisionTreeClassifier(max_depth = 10, random_state=42), n_estimators=1500, random_state=42).fit(X_train, y_train)\n",
    "preds_train = model.predict(X_train)\n",
    "preds_test = model.predict(X_test)\n",
    "f1_score(preds_test, y_test)"
   ],
   "metadata": {
    "collapsed": false,
    "ExecuteTime": {
     "end_time": "2023-08-14T01:46:04.630729200Z",
     "start_time": "2023-08-14T01:45:45.770953300Z"
    }
   }
  },
  {
   "cell_type": "code",
   "execution_count": 4,
   "outputs": [
    {
     "data": {
      "text/plain": "     crim_rate    zn  business  river  nit_oxiden  rooms   age    dist  \\\n0      0.00632  18.0      2.31      0       0.538  6.575  65.2  4.0900   \n1      0.02731   0.0      7.07      0       0.469  6.421  78.9  4.9671   \n2      0.02729   0.0      7.07      0       0.469  7.185  61.1  4.9671   \n3      0.03237   0.0      2.18      0       0.458  6.998  45.8  6.0622   \n4      0.06905   0.0      2.18      0       0.458  7.147  54.2  6.0622   \n..         ...   ...       ...    ...         ...    ...   ...     ...   \n501    0.06263   0.0     11.93      0       0.573  6.593  69.1  2.4786   \n502    0.04527   0.0     11.93      0       0.573  6.120  76.7  2.2875   \n503    0.06076   0.0     11.93      0       0.573  6.976  91.0  2.1675   \n504    0.10959   0.0     11.93      0       0.573  6.794  89.3  2.3889   \n505    0.04741   0.0     11.93      0       0.573  6.030  80.8  2.5050   \n\n     highways_index    tax  pup_per_teaс  lower  target  \n0                 1  296.0          15.3   4.98    24.0  \n1                 2  242.0          17.8   9.14    21.6  \n2                 2  242.0          17.8   4.03    34.7  \n3                 3  222.0          18.7   2.94    33.4  \n4                 3  222.0          18.7   5.33    36.2  \n..              ...    ...           ...    ...     ...  \n501               1  273.0          21.0   9.67    22.4  \n502               1  273.0          21.0   9.08    20.6  \n503               1  273.0          21.0   5.64    23.9  \n504               1  273.0          21.0   6.48    22.0  \n505               1  273.0          21.0   7.88    11.9  \n\n[506 rows x 13 columns]",
      "text/html": "<div>\n<style scoped>\n    .dataframe tbody tr th:only-of-type {\n        vertical-align: middle;\n    }\n\n    .dataframe tbody tr th {\n        vertical-align: top;\n    }\n\n    .dataframe thead th {\n        text-align: right;\n    }\n</style>\n<table border=\"1\" class=\"dataframe\">\n  <thead>\n    <tr style=\"text-align: right;\">\n      <th></th>\n      <th>crim_rate</th>\n      <th>zn</th>\n      <th>business</th>\n      <th>river</th>\n      <th>nit_oxiden</th>\n      <th>rooms</th>\n      <th>age</th>\n      <th>dist</th>\n      <th>highways_index</th>\n      <th>tax</th>\n      <th>pup_per_teaс</th>\n      <th>lower</th>\n      <th>target</th>\n    </tr>\n  </thead>\n  <tbody>\n    <tr>\n      <th>0</th>\n      <td>0.00632</td>\n      <td>18.0</td>\n      <td>2.31</td>\n      <td>0</td>\n      <td>0.538</td>\n      <td>6.575</td>\n      <td>65.2</td>\n      <td>4.0900</td>\n      <td>1</td>\n      <td>296.0</td>\n      <td>15.3</td>\n      <td>4.98</td>\n      <td>24.0</td>\n    </tr>\n    <tr>\n      <th>1</th>\n      <td>0.02731</td>\n      <td>0.0</td>\n      <td>7.07</td>\n      <td>0</td>\n      <td>0.469</td>\n      <td>6.421</td>\n      <td>78.9</td>\n      <td>4.9671</td>\n      <td>2</td>\n      <td>242.0</td>\n      <td>17.8</td>\n      <td>9.14</td>\n      <td>21.6</td>\n    </tr>\n    <tr>\n      <th>2</th>\n      <td>0.02729</td>\n      <td>0.0</td>\n      <td>7.07</td>\n      <td>0</td>\n      <td>0.469</td>\n      <td>7.185</td>\n      <td>61.1</td>\n      <td>4.9671</td>\n      <td>2</td>\n      <td>242.0</td>\n      <td>17.8</td>\n      <td>4.03</td>\n      <td>34.7</td>\n    </tr>\n    <tr>\n      <th>3</th>\n      <td>0.03237</td>\n      <td>0.0</td>\n      <td>2.18</td>\n      <td>0</td>\n      <td>0.458</td>\n      <td>6.998</td>\n      <td>45.8</td>\n      <td>6.0622</td>\n      <td>3</td>\n      <td>222.0</td>\n      <td>18.7</td>\n      <td>2.94</td>\n      <td>33.4</td>\n    </tr>\n    <tr>\n      <th>4</th>\n      <td>0.06905</td>\n      <td>0.0</td>\n      <td>2.18</td>\n      <td>0</td>\n      <td>0.458</td>\n      <td>7.147</td>\n      <td>54.2</td>\n      <td>6.0622</td>\n      <td>3</td>\n      <td>222.0</td>\n      <td>18.7</td>\n      <td>5.33</td>\n      <td>36.2</td>\n    </tr>\n    <tr>\n      <th>...</th>\n      <td>...</td>\n      <td>...</td>\n      <td>...</td>\n      <td>...</td>\n      <td>...</td>\n      <td>...</td>\n      <td>...</td>\n      <td>...</td>\n      <td>...</td>\n      <td>...</td>\n      <td>...</td>\n      <td>...</td>\n      <td>...</td>\n    </tr>\n    <tr>\n      <th>501</th>\n      <td>0.06263</td>\n      <td>0.0</td>\n      <td>11.93</td>\n      <td>0</td>\n      <td>0.573</td>\n      <td>6.593</td>\n      <td>69.1</td>\n      <td>2.4786</td>\n      <td>1</td>\n      <td>273.0</td>\n      <td>21.0</td>\n      <td>9.67</td>\n      <td>22.4</td>\n    </tr>\n    <tr>\n      <th>502</th>\n      <td>0.04527</td>\n      <td>0.0</td>\n      <td>11.93</td>\n      <td>0</td>\n      <td>0.573</td>\n      <td>6.120</td>\n      <td>76.7</td>\n      <td>2.2875</td>\n      <td>1</td>\n      <td>273.0</td>\n      <td>21.0</td>\n      <td>9.08</td>\n      <td>20.6</td>\n    </tr>\n    <tr>\n      <th>503</th>\n      <td>0.06076</td>\n      <td>0.0</td>\n      <td>11.93</td>\n      <td>0</td>\n      <td>0.573</td>\n      <td>6.976</td>\n      <td>91.0</td>\n      <td>2.1675</td>\n      <td>1</td>\n      <td>273.0</td>\n      <td>21.0</td>\n      <td>5.64</td>\n      <td>23.9</td>\n    </tr>\n    <tr>\n      <th>504</th>\n      <td>0.10959</td>\n      <td>0.0</td>\n      <td>11.93</td>\n      <td>0</td>\n      <td>0.573</td>\n      <td>6.794</td>\n      <td>89.3</td>\n      <td>2.3889</td>\n      <td>1</td>\n      <td>273.0</td>\n      <td>21.0</td>\n      <td>6.48</td>\n      <td>22.0</td>\n    </tr>\n    <tr>\n      <th>505</th>\n      <td>0.04741</td>\n      <td>0.0</td>\n      <td>11.93</td>\n      <td>0</td>\n      <td>0.573</td>\n      <td>6.030</td>\n      <td>80.8</td>\n      <td>2.5050</td>\n      <td>1</td>\n      <td>273.0</td>\n      <td>21.0</td>\n      <td>7.88</td>\n      <td>11.9</td>\n    </tr>\n  </tbody>\n</table>\n<p>506 rows × 13 columns</p>\n</div>"
     },
     "metadata": {},
     "output_type": "display_data"
    },
    {
     "data": {
      "text/plain": "22.77316384180791"
     },
     "execution_count": 4,
     "metadata": {},
     "output_type": "execute_result"
    }
   ],
   "source": [
    "data = pd.read_csv('data/boston__1_.zip')\n",
    "\n",
    "data['target'] = data['target'].apply(lambda r: float(str(r).replace(',', '.')))\n",
    "data['zn'] = data['zn'].apply(lambda r: float(str(r).replace(',', '.')))\n",
    "data['crim_rate'] = data['crim_rate'].apply(lambda r: float(str(r).replace(',', '.')))\n",
    "data['business'] = data['business'].apply(lambda r: float(str(r).replace(',', '.')))\n",
    "data['nit_oxiden'] = data['nit_oxiden'].apply(lambda r: float(str(r).replace(',', '.')))\n",
    "data['rooms'] = data['rooms'].apply(lambda r: float(str(r).replace(',', '.')))\n",
    "data['age'] = data['age'].apply(lambda r: float(str(r).replace(',', '.')))\n",
    "data['dist'] = data['dist'].apply(lambda r: float(str(r).replace(',', '.')))\n",
    "data['tax'] = data['tax'].apply(lambda r: float(str(r).replace(',', '.')))\n",
    "data['pup_per_teaс'] = data['pup_per_teaс'].apply(lambda r: float(str(r).replace(',', '.')))\n",
    "data['lower'] = data['lower'].apply(lambda r: float(str(r).replace(',', '.')))\n",
    "\n",
    "display(data)\n",
    "\n",
    "X = data[data.columns[:-1]]\n",
    "Y = data[\"target\"]\n",
    "X_train, X_test, Y_train, Y_test = train_test_split(X, Y, test_size=0.3, random_state = 13)\n",
    "Y_train.mean()"
   ],
   "metadata": {
    "collapsed": false,
    "ExecuteTime": {
     "end_time": "2023-08-14T01:46:04.849726600Z",
     "start_time": "2023-08-14T01:46:04.639729700Z"
    }
   }
  },
  {
   "cell_type": "code",
   "execution_count": 5,
   "outputs": [
    {
     "name": "stdout",
     "output_type": "stream",
     "text": [
      "<class 'pandas.core.frame.DataFrame'>\n",
      "Int64Index: 354 entries, 475 to 338\n",
      "Data columns (total 12 columns):\n",
      " #   Column          Non-Null Count  Dtype  \n",
      "---  ------          --------------  -----  \n",
      " 0   crim_rate       354 non-null    float64\n",
      " 1   zn              354 non-null    float64\n",
      " 2   business        354 non-null    float64\n",
      " 3   river           354 non-null    int64  \n",
      " 4   nit_oxiden      354 non-null    float64\n",
      " 5   rooms           354 non-null    float64\n",
      " 6   age             354 non-null    float64\n",
      " 7   dist            354 non-null    float64\n",
      " 8   highways_index  354 non-null    int64  \n",
      " 9   tax             354 non-null    float64\n",
      " 10  pup_per_teaс    354 non-null    float64\n",
      " 11  lower           354 non-null    float64\n",
      "dtypes: float64(10), int64(2)\n",
      "memory usage: 36.0 KB\n"
     ]
    },
    {
     "data": {
      "text/plain": "None"
     },
     "metadata": {},
     "output_type": "display_data"
    },
    {
     "name": "stdout",
     "output_type": "stream",
     "text": [
      "3.7222793958561513\n"
     ]
    }
   ],
   "source": [
    "import pandas as pd\n",
    "import matplotlib.pyplot as plt\n",
    "import seaborn as sns\n",
    "import numpy as np\n",
    "from sklearn import tree\n",
    "from sklearn.linear_model import LogisticRegression\n",
    "from sklearn.tree import DecisionTreeClassifier\n",
    "from sklearn.model_selection import train_test_split\n",
    "from sklearn.metrics import f1_score\n",
    "from sklearn.ensemble import BaggingClassifier\n",
    "from sklearn.linear_model import LinearRegression\n",
    "from sklearn.metrics import mean_absolute_error\n",
    "\n",
    "display(X_train.info())\n",
    "\n",
    "model_lr = LinearRegression()\n",
    "model_lr.fit(X_train, Y_train)\n",
    "preds_train = model_lr.predict(X_train)\n",
    "preds_test = model_lr.predict(X_test)\n",
    "print(mean_absolute_error(Y_test, preds_test))"
   ],
   "metadata": {
    "collapsed": false,
    "ExecuteTime": {
     "end_time": "2023-08-14T01:46:05.112726400Z",
     "start_time": "2023-08-14T01:46:04.851728900Z"
    }
   }
  },
  {
   "cell_type": "code",
   "execution_count": 6,
   "outputs": [
    {
     "name": "stdout",
     "output_type": "stream",
     "text": [
      "0.0\n",
      "2.8388157894736845\n"
     ]
    }
   ],
   "source": [
    "import pandas as pd\n",
    "import matplotlib.pyplot as plt\n",
    "import seaborn as sns\n",
    "import numpy as np\n",
    "from sklearn import tree\n",
    "from sklearn.linear_model import LogisticRegression\n",
    "from sklearn.tree import DecisionTreeClassifier\n",
    "from sklearn.model_selection import train_test_split\n",
    "from sklearn.metrics import f1_score\n",
    "from sklearn.ensemble import BaggingClassifier\n",
    "from sklearn.linear_model import LinearRegression\n",
    "from sklearn.metrics import mean_absolute_error\n",
    "from sklearn.tree import DecisionTreeRegressor\n",
    "\n",
    "model = DecisionTreeRegressor(random_state=13)\n",
    "model.fit(X_train, Y_train)\n",
    "preds_train = model.predict(X_train)\n",
    "preds_test = model.predict(X_test)\n",
    "print(mean_absolute_error(Y_train, preds_train))\n",
    "print(mean_absolute_error(Y_test, preds_test))"
   ],
   "metadata": {
    "collapsed": false,
    "ExecuteTime": {
     "end_time": "2023-08-14T01:46:05.369718900Z",
     "start_time": "2023-08-14T01:46:05.069725300Z"
    }
   }
  },
  {
   "cell_type": "code",
   "execution_count": 7,
   "outputs": [
    {
     "name": "stdout",
     "output_type": "stream",
     "text": [
      "2.9328947368421057\n",
      "2.466315789473684\n",
      "2.2559736842105265\n",
      "2.2365657894736892\n"
     ]
    }
   ],
   "source": [
    "import pandas as pd\n",
    "import matplotlib.pyplot as plt\n",
    "import seaborn as sns\n",
    "import numpy as np\n",
    "from sklearn import tree\n",
    "from sklearn.linear_model import LogisticRegression\n",
    "from sklearn.tree import DecisionTreeClassifier\n",
    "from sklearn.model_selection import train_test_split\n",
    "from sklearn.metrics import f1_score\n",
    "from sklearn.ensemble import BaggingClassifier\n",
    "from sklearn.linear_model import LinearRegression\n",
    "from sklearn.metrics import mean_absolute_error\n",
    "from sklearn.tree import DecisionTreeRegressor\n",
    "from sklearn.ensemble import RandomForestRegressor\n",
    "\n",
    "for n in [3, 10, 100, 500]:\n",
    "    model = RandomForestRegressor(n_estimators=n, random_state = 13)\n",
    "    model.fit(X_train, Y_train)\n",
    "    preds_train = model.predict(X_train)\n",
    "    preds_test = model.predict(X_test)\n",
    "    print(mean_absolute_error(Y_test, preds_test))"
   ],
   "metadata": {
    "collapsed": false,
    "ExecuteTime": {
     "end_time": "2023-08-14T01:46:10.061666Z",
     "start_time": "2023-08-14T01:46:05.370719500Z"
    }
   }
  },
  {
   "cell_type": "code",
   "execution_count": 8,
   "outputs": [],
   "source": [
    "df = pd.read_csv('data/weatherAUS.zip')"
   ],
   "metadata": {
    "collapsed": false,
    "ExecuteTime": {
     "end_time": "2023-08-14T01:46:13.375832200Z",
     "start_time": "2023-08-14T01:46:10.063666400Z"
    }
   }
  },
  {
   "cell_type": "code",
   "execution_count": 9,
   "outputs": [
    {
     "data": {
      "text/plain": "343248"
     },
     "execution_count": 9,
     "metadata": {},
     "output_type": "execute_result"
    }
   ],
   "source": [
    "df.isnull().sum().sum()"
   ],
   "metadata": {
    "collapsed": false,
    "ExecuteTime": {
     "end_time": "2023-08-14T01:46:13.491832700Z",
     "start_time": "2023-08-14T01:46:13.376833900Z"
    }
   }
  },
  {
   "cell_type": "code",
   "execution_count": 10,
   "outputs": [
    {
     "data": {
      "text/plain": "(145460, 23)"
     },
     "execution_count": 10,
     "metadata": {},
     "output_type": "execute_result"
    }
   ],
   "source": [
    "df.shape"
   ],
   "metadata": {
    "collapsed": false,
    "ExecuteTime": {
     "end_time": "2023-08-14T01:46:13.502834300Z",
     "start_time": "2023-08-14T01:46:13.492835900Z"
    }
   }
  },
  {
   "cell_type": "code",
   "execution_count": 11,
   "outputs": [
    {
     "data": {
      "text/plain": "(145460, 20)"
     },
     "execution_count": 11,
     "metadata": {},
     "output_type": "execute_result"
    }
   ],
   "source": [
    "round(df.isna().sum() / len(df), 3)\n",
    "df.drop(['Evaporation','Sunshine','Cloud3pm'], axis = 1, inplace = True)\n",
    "df.shape"
   ],
   "metadata": {
    "collapsed": false,
    "ExecuteTime": {
     "end_time": "2023-08-14T01:46:13.680829500Z",
     "start_time": "2023-08-14T01:46:13.503837500Z"
    }
   }
  },
  {
   "cell_type": "code",
   "execution_count": 12,
   "outputs": [],
   "source": [
    "df.RainToday = df.RainToday.map({'No': 0, 'Yes': 1})\n",
    "df.RainTomorrow = df.RainTomorrow.map({'No': 0, 'Yes': 1})"
   ],
   "metadata": {
    "collapsed": false,
    "ExecuteTime": {
     "end_time": "2023-08-14T01:46:13.751828200Z",
     "start_time": "2023-08-14T01:46:13.681833400Z"
    }
   }
  },
  {
   "cell_type": "code",
   "execution_count": 13,
   "outputs": [
    {
     "data": {
      "text/plain": "0.22419285648984874"
     },
     "execution_count": 13,
     "metadata": {},
     "output_type": "execute_result"
    }
   ],
   "source": [
    "df['RainToday'].mean()"
   ],
   "metadata": {
    "collapsed": false,
    "ExecuteTime": {
     "end_time": "2023-08-14T01:46:13.762827600Z",
     "start_time": "2023-08-14T01:46:13.726830700Z"
    }
   }
  },
  {
   "cell_type": "code",
   "execution_count": 14,
   "outputs": [
    {
     "name": "stderr",
     "output_type": "stream",
     "text": [
      "C:\\Users\\lagovskiy.sergey\\AppData\\Local\\Temp\\1\\ipykernel_2584\\3898277681.py:4: FutureWarning: The default value of numeric_only in DataFrameGroupBy.mean is deprecated. In a future version, numeric_only will default to False. Either specify numeric_only or select only columns which should be valid for the function.\n",
      "  df_season = df.groupby('Month').mean()\n"
     ]
    },
    {
     "data": {
      "text/plain": "       RainToday\nMonth           \n1       0.189484\n2       0.206746\n3       0.217135\n4       0.216845\n5       0.222163\n6       0.263638\n7       0.270736\n8       0.253167\n9       0.229135\n10      0.196512\n11      0.210843\n12      0.213037",
      "text/html": "<div>\n<style scoped>\n    .dataframe tbody tr th:only-of-type {\n        vertical-align: middle;\n    }\n\n    .dataframe tbody tr th {\n        vertical-align: top;\n    }\n\n    .dataframe thead th {\n        text-align: right;\n    }\n</style>\n<table border=\"1\" class=\"dataframe\">\n  <thead>\n    <tr style=\"text-align: right;\">\n      <th></th>\n      <th>RainToday</th>\n    </tr>\n    <tr>\n      <th>Month</th>\n      <th></th>\n    </tr>\n  </thead>\n  <tbody>\n    <tr>\n      <th>1</th>\n      <td>0.189484</td>\n    </tr>\n    <tr>\n      <th>2</th>\n      <td>0.206746</td>\n    </tr>\n    <tr>\n      <th>3</th>\n      <td>0.217135</td>\n    </tr>\n    <tr>\n      <th>4</th>\n      <td>0.216845</td>\n    </tr>\n    <tr>\n      <th>5</th>\n      <td>0.222163</td>\n    </tr>\n    <tr>\n      <th>6</th>\n      <td>0.263638</td>\n    </tr>\n    <tr>\n      <th>7</th>\n      <td>0.270736</td>\n    </tr>\n    <tr>\n      <th>8</th>\n      <td>0.253167</td>\n    </tr>\n    <tr>\n      <th>9</th>\n      <td>0.229135</td>\n    </tr>\n    <tr>\n      <th>10</th>\n      <td>0.196512</td>\n    </tr>\n    <tr>\n      <th>11</th>\n      <td>0.210843</td>\n    </tr>\n    <tr>\n      <th>12</th>\n      <td>0.213037</td>\n    </tr>\n  </tbody>\n</table>\n</div>"
     },
     "execution_count": 14,
     "metadata": {},
     "output_type": "execute_result"
    }
   ],
   "source": [
    "df.Date = pd.to_datetime(df.Date)\n",
    "df['Month'] = df.Date.dt.month\n",
    "df.drop('Date', axis = 1, inplace = True)\n",
    "df_season = df.groupby('Month').mean()\n",
    "df_season[['RainToday']]"
   ],
   "metadata": {
    "collapsed": false,
    "ExecuteTime": {
     "end_time": "2023-08-14T01:46:14.013854Z",
     "start_time": "2023-08-14T01:46:13.752829Z"
    }
   }
  },
  {
   "cell_type": "code",
   "execution_count": 15,
   "outputs": [
    {
     "data": {
      "text/plain": "(145460, 124)"
     },
     "execution_count": 15,
     "metadata": {},
     "output_type": "execute_result"
    }
   ],
   "source": [
    "categoricals = ['Month', 'Location', 'WindGustDir', 'WindDir9am', 'WindDir3pm']\n",
    "df_dummies = pd.get_dummies(df, columns=categoricals)\n",
    "df_dummies.shape"
   ],
   "metadata": {
    "collapsed": false,
    "ExecuteTime": {
     "end_time": "2023-08-14T01:46:14.232831700Z",
     "start_time": "2023-08-14T01:46:14.014823500Z"
    }
   }
  },
  {
   "cell_type": "code",
   "execution_count": 16,
   "outputs": [
    {
     "data": {
      "text/plain": "0.22770253002811142"
     },
     "execution_count": 16,
     "metadata": {},
     "output_type": "execute_result"
    }
   ],
   "source": [
    "df_dummies.dropna(inplace=True)\n",
    "X = df_dummies.drop('RainTomorrow', axis = 1)\n",
    "Y = df_dummies['RainTomorrow']\n",
    "X_train, X_test, Y_train, Y_test = train_test_split(X, Y, test_size=0.3, random_state = 31)\n",
    "Y_test.mean()"
   ],
   "metadata": {
    "collapsed": false,
    "ExecuteTime": {
     "end_time": "2023-08-14T01:46:14.446821300Z",
     "start_time": "2023-08-14T01:46:14.219826200Z"
    }
   }
  },
  {
   "cell_type": "code",
   "execution_count": 17,
   "outputs": [
    {
     "data": {
      "text/plain": "0.02879072820657669"
     },
     "execution_count": 17,
     "metadata": {},
     "output_type": "execute_result"
    }
   ],
   "source": [
    "def gbs(data, n):\n",
    "    inds = np.random.randint(0, len(data), (n, len(data))) #определяем индексы случайным образом\n",
    "    numbers = data[inds] #выбираем значения по индексам\n",
    "    return numbers\n",
    "target = X_train['MinTemp'].values #выбираем целевую переменную\n",
    "np.random.seed(31) #задаём параметр генератора случайных чисел\n",
    "mean_values = [np.mean(x) for x in gbs(target, 1000)] #получаем все средние значения\n",
    "np.std(mean_values) #находим для них стандартное отклонение"
   ],
   "metadata": {
    "collapsed": false,
    "ExecuteTime": {
     "end_time": "2023-08-14T01:46:15.756804700Z",
     "start_time": "2023-08-14T01:46:14.449820500Z"
    }
   }
  },
  {
   "cell_type": "code",
   "execution_count": 18,
   "outputs": [
    {
     "name": "stderr",
     "output_type": "stream",
     "text": [
      "D:\\Work\\DST\\__environment\\venv\\lib\\site-packages\\sklearn\\linear_model\\_logistic.py:460: ConvergenceWarning: lbfgs failed to converge (status=1):\n",
      "STOP: TOTAL NO. of ITERATIONS REACHED LIMIT.\n",
      "\n",
      "Increase the number of iterations (max_iter) or scale the data as shown in:\n",
      "    https://scikit-learn.org/stable/modules/preprocessing.html\n",
      "Please also refer to the documentation for alternative solver options:\n",
      "    https://scikit-learn.org/stable/modules/linear_model.html#logistic-regression\n",
      "  n_iter_i = _check_optimize_result(\n"
     ]
    },
    {
     "data": {
      "text/plain": "0.7261883053393459"
     },
     "execution_count": 18,
     "metadata": {},
     "output_type": "execute_result"
    }
   ],
   "source": [
    "from sklearn.metrics import roc_auc_score\n",
    "\n",
    "clf = LogisticRegression()\n",
    "clf.fit(X_train, Y_train)\n",
    "preds_train = clf.predict(X_train)\n",
    "preds_test = clf.predict(X_test)\n",
    "roc_auc_score(Y_test, preds_test)"
   ],
   "metadata": {
    "collapsed": false,
    "ExecuteTime": {
     "end_time": "2023-08-14T01:46:18.285776800Z",
     "start_time": "2023-08-14T01:46:15.761807900Z"
    }
   }
  },
  {
   "cell_type": "code",
   "execution_count": 19,
   "outputs": [
    {
     "name": "stdout",
     "output_type": "stream",
     "text": [
      "Fitting 3 folds for each of 96 candidates, totalling 288 fits\n",
      "[CV 1/3] END max_depth=5, max_leaf_nodes=2, min_samples_split=2;, score=0.817 total time=   0.1s\n",
      "[CV 2/3] END max_depth=5, max_leaf_nodes=2, min_samples_split=2;, score=0.820 total time=   0.1s\n",
      "[CV 3/3] END max_depth=5, max_leaf_nodes=2, min_samples_split=2;, score=0.825 total time=   0.1s\n",
      "[CV 1/3] END max_depth=5, max_leaf_nodes=2, min_samples_split=3;, score=0.817 total time=   0.1s\n",
      "[CV 2/3] END max_depth=5, max_leaf_nodes=2, min_samples_split=3;, score=0.820 total time=   0.1s\n",
      "[CV 3/3] END max_depth=5, max_leaf_nodes=2, min_samples_split=3;, score=0.825 total time=   0.1s\n",
      "[CV 1/3] END max_depth=5, max_leaf_nodes=2, min_samples_split=4;, score=0.817 total time=   0.0s\n",
      "[CV 2/3] END max_depth=5, max_leaf_nodes=2, min_samples_split=4;, score=0.820 total time=   0.1s\n",
      "[CV 3/3] END max_depth=5, max_leaf_nodes=2, min_samples_split=4;, score=0.825 total time=   0.1s\n",
      "[CV 1/3] END max_depth=5, max_leaf_nodes=3, min_samples_split=2;, score=0.819 total time=   0.1s\n",
      "[CV 2/3] END max_depth=5, max_leaf_nodes=3, min_samples_split=2;, score=0.820 total time=   0.1s\n",
      "[CV 3/3] END max_depth=5, max_leaf_nodes=3, min_samples_split=2;, score=0.825 total time=   0.1s\n",
      "[CV 1/3] END max_depth=5, max_leaf_nodes=3, min_samples_split=3;, score=0.819 total time=   0.1s\n",
      "[CV 2/3] END max_depth=5, max_leaf_nodes=3, min_samples_split=3;, score=0.820 total time=   0.1s\n",
      "[CV 3/3] END max_depth=5, max_leaf_nodes=3, min_samples_split=3;, score=0.825 total time=   0.1s\n",
      "[CV 1/3] END max_depth=5, max_leaf_nodes=3, min_samples_split=4;, score=0.819 total time=   0.1s\n",
      "[CV 2/3] END max_depth=5, max_leaf_nodes=3, min_samples_split=4;, score=0.820 total time=   0.1s\n",
      "[CV 3/3] END max_depth=5, max_leaf_nodes=3, min_samples_split=4;, score=0.825 total time=   0.1s\n",
      "[CV 1/3] END max_depth=5, max_leaf_nodes=4, min_samples_split=2;, score=0.819 total time=   0.1s\n",
      "[CV 2/3] END max_depth=5, max_leaf_nodes=4, min_samples_split=2;, score=0.820 total time=   0.1s\n",
      "[CV 3/3] END max_depth=5, max_leaf_nodes=4, min_samples_split=2;, score=0.825 total time=   0.1s\n",
      "[CV 1/3] END max_depth=5, max_leaf_nodes=4, min_samples_split=3;, score=0.819 total time=   0.1s\n",
      "[CV 2/3] END max_depth=5, max_leaf_nodes=4, min_samples_split=3;, score=0.820 total time=   0.1s\n",
      "[CV 3/3] END max_depth=5, max_leaf_nodes=4, min_samples_split=3;, score=0.825 total time=   0.1s\n",
      "[CV 1/3] END max_depth=5, max_leaf_nodes=4, min_samples_split=4;, score=0.819 total time=   0.1s\n",
      "[CV 2/3] END max_depth=5, max_leaf_nodes=4, min_samples_split=4;, score=0.820 total time=   0.1s\n",
      "[CV 3/3] END max_depth=5, max_leaf_nodes=4, min_samples_split=4;, score=0.825 total time=   0.1s\n",
      "[CV 1/3] END max_depth=5, max_leaf_nodes=5, min_samples_split=2;, score=0.819 total time=   0.1s\n",
      "[CV 2/3] END max_depth=5, max_leaf_nodes=5, min_samples_split=2;, score=0.820 total time=   0.1s\n",
      "[CV 3/3] END max_depth=5, max_leaf_nodes=5, min_samples_split=2;, score=0.825 total time=   0.1s\n",
      "[CV 1/3] END max_depth=5, max_leaf_nodes=5, min_samples_split=3;, score=0.819 total time=   0.1s\n",
      "[CV 2/3] END max_depth=5, max_leaf_nodes=5, min_samples_split=3;, score=0.820 total time=   0.1s\n",
      "[CV 3/3] END max_depth=5, max_leaf_nodes=5, min_samples_split=3;, score=0.825 total time=   0.1s\n",
      "[CV 1/3] END max_depth=5, max_leaf_nodes=5, min_samples_split=4;, score=0.819 total time=   0.1s\n",
      "[CV 2/3] END max_depth=5, max_leaf_nodes=5, min_samples_split=4;, score=0.820 total time=   0.1s\n",
      "[CV 3/3] END max_depth=5, max_leaf_nodes=5, min_samples_split=4;, score=0.825 total time=   0.1s\n",
      "[CV 1/3] END max_depth=5, max_leaf_nodes=6, min_samples_split=2;, score=0.819 total time=   0.2s\n",
      "[CV 2/3] END max_depth=5, max_leaf_nodes=6, min_samples_split=2;, score=0.820 total time=   0.1s\n",
      "[CV 3/3] END max_depth=5, max_leaf_nodes=6, min_samples_split=2;, score=0.832 total time=   0.1s\n",
      "[CV 1/3] END max_depth=5, max_leaf_nodes=6, min_samples_split=3;, score=0.819 total time=   0.1s\n",
      "[CV 2/3] END max_depth=5, max_leaf_nodes=6, min_samples_split=3;, score=0.820 total time=   0.1s\n",
      "[CV 3/3] END max_depth=5, max_leaf_nodes=6, min_samples_split=3;, score=0.832 total time=   0.1s\n",
      "[CV 1/3] END max_depth=5, max_leaf_nodes=6, min_samples_split=4;, score=0.819 total time=   0.2s\n",
      "[CV 2/3] END max_depth=5, max_leaf_nodes=6, min_samples_split=4;, score=0.820 total time=   0.1s\n",
      "[CV 3/3] END max_depth=5, max_leaf_nodes=6, min_samples_split=4;, score=0.832 total time=   0.1s\n",
      "[CV 1/3] END max_depth=5, max_leaf_nodes=7, min_samples_split=2;, score=0.831 total time=   0.1s\n",
      "[CV 2/3] END max_depth=5, max_leaf_nodes=7, min_samples_split=2;, score=0.834 total time=   0.2s\n",
      "[CV 3/3] END max_depth=5, max_leaf_nodes=7, min_samples_split=2;, score=0.832 total time=   0.2s\n",
      "[CV 1/3] END max_depth=5, max_leaf_nodes=7, min_samples_split=3;, score=0.831 total time=   0.1s\n",
      "[CV 2/3] END max_depth=5, max_leaf_nodes=7, min_samples_split=3;, score=0.834 total time=   0.2s\n",
      "[CV 3/3] END max_depth=5, max_leaf_nodes=7, min_samples_split=3;, score=0.832 total time=   0.1s\n",
      "[CV 1/3] END max_depth=5, max_leaf_nodes=7, min_samples_split=4;, score=0.831 total time=   0.1s\n",
      "[CV 2/3] END max_depth=5, max_leaf_nodes=7, min_samples_split=4;, score=0.834 total time=   0.1s\n",
      "[CV 3/3] END max_depth=5, max_leaf_nodes=7, min_samples_split=4;, score=0.832 total time=   0.2s\n",
      "[CV 1/3] END max_depth=5, max_leaf_nodes=8, min_samples_split=2;, score=0.835 total time=   0.1s\n",
      "[CV 2/3] END max_depth=5, max_leaf_nodes=8, min_samples_split=2;, score=0.840 total time=   0.1s\n",
      "[CV 3/3] END max_depth=5, max_leaf_nodes=8, min_samples_split=2;, score=0.836 total time=   0.2s\n",
      "[CV 1/3] END max_depth=5, max_leaf_nodes=8, min_samples_split=3;, score=0.835 total time=   0.1s\n",
      "[CV 2/3] END max_depth=5, max_leaf_nodes=8, min_samples_split=3;, score=0.840 total time=   0.1s\n",
      "[CV 3/3] END max_depth=5, max_leaf_nodes=8, min_samples_split=3;, score=0.836 total time=   0.1s\n",
      "[CV 1/3] END max_depth=5, max_leaf_nodes=8, min_samples_split=4;, score=0.835 total time=   0.1s\n",
      "[CV 2/3] END max_depth=5, max_leaf_nodes=8, min_samples_split=4;, score=0.840 total time=   0.1s\n",
      "[CV 3/3] END max_depth=5, max_leaf_nodes=8, min_samples_split=4;, score=0.836 total time=   0.1s\n",
      "[CV 1/3] END max_depth=5, max_leaf_nodes=9, min_samples_split=2;, score=0.835 total time=   0.2s\n",
      "[CV 2/3] END max_depth=5, max_leaf_nodes=9, min_samples_split=2;, score=0.840 total time=   0.1s\n",
      "[CV 3/3] END max_depth=5, max_leaf_nodes=9, min_samples_split=2;, score=0.837 total time=   0.1s\n",
      "[CV 1/3] END max_depth=5, max_leaf_nodes=9, min_samples_split=3;, score=0.835 total time=   0.2s\n",
      "[CV 2/3] END max_depth=5, max_leaf_nodes=9, min_samples_split=3;, score=0.840 total time=   0.1s\n",
      "[CV 3/3] END max_depth=5, max_leaf_nodes=9, min_samples_split=3;, score=0.837 total time=   0.1s\n",
      "[CV 1/3] END max_depth=5, max_leaf_nodes=9, min_samples_split=4;, score=0.835 total time=   0.1s\n",
      "[CV 2/3] END max_depth=5, max_leaf_nodes=9, min_samples_split=4;, score=0.840 total time=   0.1s\n",
      "[CV 3/3] END max_depth=5, max_leaf_nodes=9, min_samples_split=4;, score=0.837 total time=   0.1s\n",
      "[CV 1/3] END max_depth=7, max_leaf_nodes=2, min_samples_split=2;, score=0.817 total time=   0.1s\n",
      "[CV 2/3] END max_depth=7, max_leaf_nodes=2, min_samples_split=2;, score=0.820 total time=   0.1s\n",
      "[CV 3/3] END max_depth=7, max_leaf_nodes=2, min_samples_split=2;, score=0.825 total time=   0.1s\n",
      "[CV 1/3] END max_depth=7, max_leaf_nodes=2, min_samples_split=3;, score=0.817 total time=   0.1s\n",
      "[CV 2/3] END max_depth=7, max_leaf_nodes=2, min_samples_split=3;, score=0.820 total time=   0.1s\n",
      "[CV 3/3] END max_depth=7, max_leaf_nodes=2, min_samples_split=3;, score=0.825 total time=   0.1s\n",
      "[CV 1/3] END max_depth=7, max_leaf_nodes=2, min_samples_split=4;, score=0.817 total time=   0.1s\n",
      "[CV 2/3] END max_depth=7, max_leaf_nodes=2, min_samples_split=4;, score=0.820 total time=   0.1s\n",
      "[CV 3/3] END max_depth=7, max_leaf_nodes=2, min_samples_split=4;, score=0.825 total time=   0.1s\n",
      "[CV 1/3] END max_depth=7, max_leaf_nodes=3, min_samples_split=2;, score=0.819 total time=   0.1s\n",
      "[CV 2/3] END max_depth=7, max_leaf_nodes=3, min_samples_split=2;, score=0.820 total time=   0.1s\n",
      "[CV 3/3] END max_depth=7, max_leaf_nodes=3, min_samples_split=2;, score=0.825 total time=   0.1s\n",
      "[CV 1/3] END max_depth=7, max_leaf_nodes=3, min_samples_split=3;, score=0.819 total time=   0.1s\n",
      "[CV 2/3] END max_depth=7, max_leaf_nodes=3, min_samples_split=3;, score=0.820 total time=   0.1s\n",
      "[CV 3/3] END max_depth=7, max_leaf_nodes=3, min_samples_split=3;, score=0.825 total time=   0.1s\n",
      "[CV 1/3] END max_depth=7, max_leaf_nodes=3, min_samples_split=4;, score=0.819 total time=   0.1s\n",
      "[CV 2/3] END max_depth=7, max_leaf_nodes=3, min_samples_split=4;, score=0.820 total time=   0.1s\n",
      "[CV 3/3] END max_depth=7, max_leaf_nodes=3, min_samples_split=4;, score=0.825 total time=   0.1s\n",
      "[CV 1/3] END max_depth=7, max_leaf_nodes=4, min_samples_split=2;, score=0.819 total time=   0.1s\n",
      "[CV 2/3] END max_depth=7, max_leaf_nodes=4, min_samples_split=2;, score=0.820 total time=   0.1s\n",
      "[CV 3/3] END max_depth=7, max_leaf_nodes=4, min_samples_split=2;, score=0.825 total time=   0.1s\n",
      "[CV 1/3] END max_depth=7, max_leaf_nodes=4, min_samples_split=3;, score=0.819 total time=   0.1s\n",
      "[CV 2/3] END max_depth=7, max_leaf_nodes=4, min_samples_split=3;, score=0.820 total time=   0.1s\n",
      "[CV 3/3] END max_depth=7, max_leaf_nodes=4, min_samples_split=3;, score=0.825 total time=   0.1s\n",
      "[CV 1/3] END max_depth=7, max_leaf_nodes=4, min_samples_split=4;, score=0.819 total time=   0.1s\n",
      "[CV 2/3] END max_depth=7, max_leaf_nodes=4, min_samples_split=4;, score=0.820 total time=   0.1s\n",
      "[CV 3/3] END max_depth=7, max_leaf_nodes=4, min_samples_split=4;, score=0.825 total time=   0.1s\n",
      "[CV 1/3] END max_depth=7, max_leaf_nodes=5, min_samples_split=2;, score=0.819 total time=   0.1s\n",
      "[CV 2/3] END max_depth=7, max_leaf_nodes=5, min_samples_split=2;, score=0.820 total time=   0.1s\n",
      "[CV 3/3] END max_depth=7, max_leaf_nodes=5, min_samples_split=2;, score=0.825 total time=   0.1s\n",
      "[CV 1/3] END max_depth=7, max_leaf_nodes=5, min_samples_split=3;, score=0.819 total time=   0.1s\n",
      "[CV 2/3] END max_depth=7, max_leaf_nodes=5, min_samples_split=3;, score=0.820 total time=   0.1s\n",
      "[CV 3/3] END max_depth=7, max_leaf_nodes=5, min_samples_split=3;, score=0.825 total time=   0.1s\n",
      "[CV 1/3] END max_depth=7, max_leaf_nodes=5, min_samples_split=4;, score=0.819 total time=   0.1s\n",
      "[CV 2/3] END max_depth=7, max_leaf_nodes=5, min_samples_split=4;, score=0.820 total time=   0.1s\n",
      "[CV 3/3] END max_depth=7, max_leaf_nodes=5, min_samples_split=4;, score=0.825 total time=   0.1s\n",
      "[CV 1/3] END max_depth=7, max_leaf_nodes=6, min_samples_split=2;, score=0.819 total time=   0.1s\n",
      "[CV 2/3] END max_depth=7, max_leaf_nodes=6, min_samples_split=2;, score=0.820 total time=   0.1s\n",
      "[CV 3/3] END max_depth=7, max_leaf_nodes=6, min_samples_split=2;, score=0.832 total time=   0.1s\n",
      "[CV 1/3] END max_depth=7, max_leaf_nodes=6, min_samples_split=3;, score=0.819 total time=   0.1s\n",
      "[CV 2/3] END max_depth=7, max_leaf_nodes=6, min_samples_split=3;, score=0.820 total time=   0.1s\n",
      "[CV 3/3] END max_depth=7, max_leaf_nodes=6, min_samples_split=3;, score=0.832 total time=   0.1s\n",
      "[CV 1/3] END max_depth=7, max_leaf_nodes=6, min_samples_split=4;, score=0.819 total time=   0.1s\n",
      "[CV 2/3] END max_depth=7, max_leaf_nodes=6, min_samples_split=4;, score=0.820 total time=   0.1s\n",
      "[CV 3/3] END max_depth=7, max_leaf_nodes=6, min_samples_split=4;, score=0.832 total time=   0.1s\n",
      "[CV 1/3] END max_depth=7, max_leaf_nodes=7, min_samples_split=2;, score=0.831 total time=   0.2s\n",
      "[CV 2/3] END max_depth=7, max_leaf_nodes=7, min_samples_split=2;, score=0.834 total time=   0.2s\n",
      "[CV 3/3] END max_depth=7, max_leaf_nodes=7, min_samples_split=2;, score=0.832 total time=   0.1s\n",
      "[CV 1/3] END max_depth=7, max_leaf_nodes=7, min_samples_split=3;, score=0.831 total time=   0.1s\n",
      "[CV 2/3] END max_depth=7, max_leaf_nodes=7, min_samples_split=3;, score=0.834 total time=   0.1s\n",
      "[CV 3/3] END max_depth=7, max_leaf_nodes=7, min_samples_split=3;, score=0.832 total time=   0.1s\n",
      "[CV 1/3] END max_depth=7, max_leaf_nodes=7, min_samples_split=4;, score=0.831 total time=   0.2s\n",
      "[CV 2/3] END max_depth=7, max_leaf_nodes=7, min_samples_split=4;, score=0.834 total time=   0.1s\n",
      "[CV 3/3] END max_depth=7, max_leaf_nodes=7, min_samples_split=4;, score=0.832 total time=   0.1s\n",
      "[CV 1/3] END max_depth=7, max_leaf_nodes=8, min_samples_split=2;, score=0.835 total time=   0.1s\n",
      "[CV 2/3] END max_depth=7, max_leaf_nodes=8, min_samples_split=2;, score=0.840 total time=   0.1s\n",
      "[CV 3/3] END max_depth=7, max_leaf_nodes=8, min_samples_split=2;, score=0.836 total time=   0.1s\n",
      "[CV 1/3] END max_depth=7, max_leaf_nodes=8, min_samples_split=3;, score=0.835 total time=   0.1s\n",
      "[CV 2/3] END max_depth=7, max_leaf_nodes=8, min_samples_split=3;, score=0.840 total time=   0.1s\n",
      "[CV 3/3] END max_depth=7, max_leaf_nodes=8, min_samples_split=3;, score=0.836 total time=   0.1s\n",
      "[CV 1/3] END max_depth=7, max_leaf_nodes=8, min_samples_split=4;, score=0.835 total time=   0.2s\n",
      "[CV 2/3] END max_depth=7, max_leaf_nodes=8, min_samples_split=4;, score=0.840 total time=   0.1s\n",
      "[CV 3/3] END max_depth=7, max_leaf_nodes=8, min_samples_split=4;, score=0.836 total time=   0.1s\n",
      "[CV 1/3] END max_depth=7, max_leaf_nodes=9, min_samples_split=2;, score=0.835 total time=   0.2s\n",
      "[CV 2/3] END max_depth=7, max_leaf_nodes=9, min_samples_split=2;, score=0.840 total time=   0.2s\n",
      "[CV 3/3] END max_depth=7, max_leaf_nodes=9, min_samples_split=2;, score=0.837 total time=   0.2s\n",
      "[CV 1/3] END max_depth=7, max_leaf_nodes=9, min_samples_split=3;, score=0.835 total time=   0.1s\n",
      "[CV 2/3] END max_depth=7, max_leaf_nodes=9, min_samples_split=3;, score=0.840 total time=   0.1s\n",
      "[CV 3/3] END max_depth=7, max_leaf_nodes=9, min_samples_split=3;, score=0.837 total time=   0.1s\n",
      "[CV 1/3] END max_depth=7, max_leaf_nodes=9, min_samples_split=4;, score=0.835 total time=   0.2s\n",
      "[CV 2/3] END max_depth=7, max_leaf_nodes=9, min_samples_split=4;, score=0.840 total time=   0.1s\n",
      "[CV 3/3] END max_depth=7, max_leaf_nodes=9, min_samples_split=4;, score=0.837 total time=   0.1s\n",
      "[CV 1/3] END max_depth=9, max_leaf_nodes=2, min_samples_split=2;, score=0.817 total time=   0.1s\n",
      "[CV 2/3] END max_depth=9, max_leaf_nodes=2, min_samples_split=2;, score=0.820 total time=   0.1s\n",
      "[CV 3/3] END max_depth=9, max_leaf_nodes=2, min_samples_split=2;, score=0.825 total time=   0.1s\n",
      "[CV 1/3] END max_depth=9, max_leaf_nodes=2, min_samples_split=3;, score=0.817 total time=   0.0s\n",
      "[CV 2/3] END max_depth=9, max_leaf_nodes=2, min_samples_split=3;, score=0.820 total time=   0.0s\n",
      "[CV 3/3] END max_depth=9, max_leaf_nodes=2, min_samples_split=3;, score=0.825 total time=   0.1s\n",
      "[CV 1/3] END max_depth=9, max_leaf_nodes=2, min_samples_split=4;, score=0.817 total time=   0.0s\n",
      "[CV 2/3] END max_depth=9, max_leaf_nodes=2, min_samples_split=4;, score=0.820 total time=   0.1s\n",
      "[CV 3/3] END max_depth=9, max_leaf_nodes=2, min_samples_split=4;, score=0.825 total time=   0.1s\n",
      "[CV 1/3] END max_depth=9, max_leaf_nodes=3, min_samples_split=2;, score=0.819 total time=   0.1s\n",
      "[CV 2/3] END max_depth=9, max_leaf_nodes=3, min_samples_split=2;, score=0.820 total time=   0.1s\n",
      "[CV 3/3] END max_depth=9, max_leaf_nodes=3, min_samples_split=2;, score=0.825 total time=   0.1s\n",
      "[CV 1/3] END max_depth=9, max_leaf_nodes=3, min_samples_split=3;, score=0.819 total time=   0.1s\n",
      "[CV 2/3] END max_depth=9, max_leaf_nodes=3, min_samples_split=3;, score=0.820 total time=   0.1s\n",
      "[CV 3/3] END max_depth=9, max_leaf_nodes=3, min_samples_split=3;, score=0.825 total time=   0.1s\n",
      "[CV 1/3] END max_depth=9, max_leaf_nodes=3, min_samples_split=4;, score=0.819 total time=   0.1s\n",
      "[CV 2/3] END max_depth=9, max_leaf_nodes=3, min_samples_split=4;, score=0.820 total time=   0.1s\n",
      "[CV 3/3] END max_depth=9, max_leaf_nodes=3, min_samples_split=4;, score=0.825 total time=   0.1s\n",
      "[CV 1/3] END max_depth=9, max_leaf_nodes=4, min_samples_split=2;, score=0.819 total time=   0.1s\n",
      "[CV 2/3] END max_depth=9, max_leaf_nodes=4, min_samples_split=2;, score=0.820 total time=   0.1s\n",
      "[CV 3/3] END max_depth=9, max_leaf_nodes=4, min_samples_split=2;, score=0.825 total time=   0.1s\n",
      "[CV 1/3] END max_depth=9, max_leaf_nodes=4, min_samples_split=3;, score=0.819 total time=   0.1s\n",
      "[CV 2/3] END max_depth=9, max_leaf_nodes=4, min_samples_split=3;, score=0.820 total time=   0.1s\n",
      "[CV 3/3] END max_depth=9, max_leaf_nodes=4, min_samples_split=3;, score=0.825 total time=   0.1s\n",
      "[CV 1/3] END max_depth=9, max_leaf_nodes=4, min_samples_split=4;, score=0.819 total time=   0.1s\n",
      "[CV 2/3] END max_depth=9, max_leaf_nodes=4, min_samples_split=4;, score=0.820 total time=   0.1s\n",
      "[CV 3/3] END max_depth=9, max_leaf_nodes=4, min_samples_split=4;, score=0.825 total time=   0.1s\n",
      "[CV 1/3] END max_depth=9, max_leaf_nodes=5, min_samples_split=2;, score=0.819 total time=   0.1s\n",
      "[CV 2/3] END max_depth=9, max_leaf_nodes=5, min_samples_split=2;, score=0.820 total time=   0.1s\n",
      "[CV 3/3] END max_depth=9, max_leaf_nodes=5, min_samples_split=2;, score=0.825 total time=   0.1s\n",
      "[CV 1/3] END max_depth=9, max_leaf_nodes=5, min_samples_split=3;, score=0.819 total time=   0.1s\n",
      "[CV 2/3] END max_depth=9, max_leaf_nodes=5, min_samples_split=3;, score=0.820 total time=   0.1s\n",
      "[CV 3/3] END max_depth=9, max_leaf_nodes=5, min_samples_split=3;, score=0.825 total time=   0.1s\n",
      "[CV 1/3] END max_depth=9, max_leaf_nodes=5, min_samples_split=4;, score=0.819 total time=   0.1s\n",
      "[CV 2/3] END max_depth=9, max_leaf_nodes=5, min_samples_split=4;, score=0.820 total time=   0.1s\n",
      "[CV 3/3] END max_depth=9, max_leaf_nodes=5, min_samples_split=4;, score=0.825 total time=   0.1s\n",
      "[CV 1/3] END max_depth=9, max_leaf_nodes=6, min_samples_split=2;, score=0.819 total time=   0.1s\n",
      "[CV 2/3] END max_depth=9, max_leaf_nodes=6, min_samples_split=2;, score=0.820 total time=   0.1s\n",
      "[CV 3/3] END max_depth=9, max_leaf_nodes=6, min_samples_split=2;, score=0.832 total time=   0.1s\n",
      "[CV 1/3] END max_depth=9, max_leaf_nodes=6, min_samples_split=3;, score=0.819 total time=   0.1s\n",
      "[CV 2/3] END max_depth=9, max_leaf_nodes=6, min_samples_split=3;, score=0.820 total time=   0.1s\n",
      "[CV 3/3] END max_depth=9, max_leaf_nodes=6, min_samples_split=3;, score=0.832 total time=   0.1s\n",
      "[CV 1/3] END max_depth=9, max_leaf_nodes=6, min_samples_split=4;, score=0.819 total time=   0.1s\n",
      "[CV 2/3] END max_depth=9, max_leaf_nodes=6, min_samples_split=4;, score=0.820 total time=   0.1s\n",
      "[CV 3/3] END max_depth=9, max_leaf_nodes=6, min_samples_split=4;, score=0.832 total time=   0.1s\n",
      "[CV 1/3] END max_depth=9, max_leaf_nodes=7, min_samples_split=2;, score=0.831 total time=   0.1s\n",
      "[CV 2/3] END max_depth=9, max_leaf_nodes=7, min_samples_split=2;, score=0.834 total time=   0.1s\n",
      "[CV 3/3] END max_depth=9, max_leaf_nodes=7, min_samples_split=2;, score=0.832 total time=   0.1s\n",
      "[CV 1/3] END max_depth=9, max_leaf_nodes=7, min_samples_split=3;, score=0.831 total time=   0.1s\n",
      "[CV 2/3] END max_depth=9, max_leaf_nodes=7, min_samples_split=3;, score=0.834 total time=   0.2s\n",
      "[CV 3/3] END max_depth=9, max_leaf_nodes=7, min_samples_split=3;, score=0.832 total time=   0.1s\n",
      "[CV 1/3] END max_depth=9, max_leaf_nodes=7, min_samples_split=4;, score=0.831 total time=   0.1s\n",
      "[CV 2/3] END max_depth=9, max_leaf_nodes=7, min_samples_split=4;, score=0.834 total time=   0.1s\n",
      "[CV 3/3] END max_depth=9, max_leaf_nodes=7, min_samples_split=4;, score=0.832 total time=   0.1s\n",
      "[CV 1/3] END max_depth=9, max_leaf_nodes=8, min_samples_split=2;, score=0.835 total time=   0.1s\n",
      "[CV 2/3] END max_depth=9, max_leaf_nodes=8, min_samples_split=2;, score=0.840 total time=   0.1s\n",
      "[CV 3/3] END max_depth=9, max_leaf_nodes=8, min_samples_split=2;, score=0.836 total time=   0.1s\n",
      "[CV 1/3] END max_depth=9, max_leaf_nodes=8, min_samples_split=3;, score=0.835 total time=   0.1s\n",
      "[CV 2/3] END max_depth=9, max_leaf_nodes=8, min_samples_split=3;, score=0.840 total time=   0.1s\n",
      "[CV 3/3] END max_depth=9, max_leaf_nodes=8, min_samples_split=3;, score=0.836 total time=   0.1s\n",
      "[CV 1/3] END max_depth=9, max_leaf_nodes=8, min_samples_split=4;, score=0.835 total time=   0.1s\n",
      "[CV 2/3] END max_depth=9, max_leaf_nodes=8, min_samples_split=4;, score=0.840 total time=   0.1s\n",
      "[CV 3/3] END max_depth=9, max_leaf_nodes=8, min_samples_split=4;, score=0.836 total time=   0.1s\n",
      "[CV 1/3] END max_depth=9, max_leaf_nodes=9, min_samples_split=2;, score=0.835 total time=   0.1s\n",
      "[CV 2/3] END max_depth=9, max_leaf_nodes=9, min_samples_split=2;, score=0.840 total time=   0.1s\n",
      "[CV 3/3] END max_depth=9, max_leaf_nodes=9, min_samples_split=2;, score=0.837 total time=   0.1s\n",
      "[CV 1/3] END max_depth=9, max_leaf_nodes=9, min_samples_split=3;, score=0.835 total time=   0.1s\n",
      "[CV 2/3] END max_depth=9, max_leaf_nodes=9, min_samples_split=3;, score=0.840 total time=   0.1s\n",
      "[CV 3/3] END max_depth=9, max_leaf_nodes=9, min_samples_split=3;, score=0.837 total time=   0.1s\n",
      "[CV 1/3] END max_depth=9, max_leaf_nodes=9, min_samples_split=4;, score=0.835 total time=   0.1s\n",
      "[CV 2/3] END max_depth=9, max_leaf_nodes=9, min_samples_split=4;, score=0.840 total time=   0.1s\n",
      "[CV 3/3] END max_depth=9, max_leaf_nodes=9, min_samples_split=4;, score=0.837 total time=   0.1s\n",
      "[CV 1/3] END max_depth=11, max_leaf_nodes=2, min_samples_split=2;, score=0.817 total time=   0.1s\n",
      "[CV 2/3] END max_depth=11, max_leaf_nodes=2, min_samples_split=2;, score=0.820 total time=   0.1s\n",
      "[CV 3/3] END max_depth=11, max_leaf_nodes=2, min_samples_split=2;, score=0.825 total time=   0.0s\n",
      "[CV 1/3] END max_depth=11, max_leaf_nodes=2, min_samples_split=3;, score=0.817 total time=   0.1s\n",
      "[CV 2/3] END max_depth=11, max_leaf_nodes=2, min_samples_split=3;, score=0.820 total time=   0.0s\n",
      "[CV 3/3] END max_depth=11, max_leaf_nodes=2, min_samples_split=3;, score=0.825 total time=   0.1s\n",
      "[CV 1/3] END max_depth=11, max_leaf_nodes=2, min_samples_split=4;, score=0.817 total time=   0.0s\n",
      "[CV 2/3] END max_depth=11, max_leaf_nodes=2, min_samples_split=4;, score=0.820 total time=   0.0s\n",
      "[CV 3/3] END max_depth=11, max_leaf_nodes=2, min_samples_split=4;, score=0.825 total time=   0.0s\n",
      "[CV 1/3] END max_depth=11, max_leaf_nodes=3, min_samples_split=2;, score=0.819 total time=   0.1s\n",
      "[CV 2/3] END max_depth=11, max_leaf_nodes=3, min_samples_split=2;, score=0.820 total time=   0.1s\n",
      "[CV 3/3] END max_depth=11, max_leaf_nodes=3, min_samples_split=2;, score=0.825 total time=   0.1s\n",
      "[CV 1/3] END max_depth=11, max_leaf_nodes=3, min_samples_split=3;, score=0.819 total time=   0.1s\n",
      "[CV 2/3] END max_depth=11, max_leaf_nodes=3, min_samples_split=3;, score=0.820 total time=   0.1s\n",
      "[CV 3/3] END max_depth=11, max_leaf_nodes=3, min_samples_split=3;, score=0.825 total time=   0.1s\n",
      "[CV 1/3] END max_depth=11, max_leaf_nodes=3, min_samples_split=4;, score=0.819 total time=   0.1s\n",
      "[CV 2/3] END max_depth=11, max_leaf_nodes=3, min_samples_split=4;, score=0.820 total time=   0.1s\n",
      "[CV 3/3] END max_depth=11, max_leaf_nodes=3, min_samples_split=4;, score=0.825 total time=   0.1s\n",
      "[CV 1/3] END max_depth=11, max_leaf_nodes=4, min_samples_split=2;, score=0.819 total time=   0.1s\n",
      "[CV 2/3] END max_depth=11, max_leaf_nodes=4, min_samples_split=2;, score=0.820 total time=   0.1s\n",
      "[CV 3/3] END max_depth=11, max_leaf_nodes=4, min_samples_split=2;, score=0.825 total time=   0.1s\n",
      "[CV 1/3] END max_depth=11, max_leaf_nodes=4, min_samples_split=3;, score=0.819 total time=   0.1s\n",
      "[CV 2/3] END max_depth=11, max_leaf_nodes=4, min_samples_split=3;, score=0.820 total time=   0.1s\n",
      "[CV 3/3] END max_depth=11, max_leaf_nodes=4, min_samples_split=3;, score=0.825 total time=   0.1s\n",
      "[CV 1/3] END max_depth=11, max_leaf_nodes=4, min_samples_split=4;, score=0.819 total time=   0.1s\n",
      "[CV 2/3] END max_depth=11, max_leaf_nodes=4, min_samples_split=4;, score=0.820 total time=   0.1s\n",
      "[CV 3/3] END max_depth=11, max_leaf_nodes=4, min_samples_split=4;, score=0.825 total time=   0.1s\n",
      "[CV 1/3] END max_depth=11, max_leaf_nodes=5, min_samples_split=2;, score=0.819 total time=   0.1s\n",
      "[CV 2/3] END max_depth=11, max_leaf_nodes=5, min_samples_split=2;, score=0.820 total time=   0.1s\n",
      "[CV 3/3] END max_depth=11, max_leaf_nodes=5, min_samples_split=2;, score=0.825 total time=   0.1s\n",
      "[CV 1/3] END max_depth=11, max_leaf_nodes=5, min_samples_split=3;, score=0.819 total time=   0.1s\n",
      "[CV 2/3] END max_depth=11, max_leaf_nodes=5, min_samples_split=3;, score=0.820 total time=   0.1s\n",
      "[CV 3/3] END max_depth=11, max_leaf_nodes=5, min_samples_split=3;, score=0.825 total time=   0.1s\n",
      "[CV 1/3] END max_depth=11, max_leaf_nodes=5, min_samples_split=4;, score=0.819 total time=   0.1s\n",
      "[CV 2/3] END max_depth=11, max_leaf_nodes=5, min_samples_split=4;, score=0.820 total time=   0.1s\n",
      "[CV 3/3] END max_depth=11, max_leaf_nodes=5, min_samples_split=4;, score=0.825 total time=   0.1s\n",
      "[CV 1/3] END max_depth=11, max_leaf_nodes=6, min_samples_split=2;, score=0.819 total time=   0.1s\n",
      "[CV 2/3] END max_depth=11, max_leaf_nodes=6, min_samples_split=2;, score=0.820 total time=   0.1s\n",
      "[CV 3/3] END max_depth=11, max_leaf_nodes=6, min_samples_split=2;, score=0.832 total time=   0.1s\n",
      "[CV 1/3] END max_depth=11, max_leaf_nodes=6, min_samples_split=3;, score=0.819 total time=   0.1s\n",
      "[CV 2/3] END max_depth=11, max_leaf_nodes=6, min_samples_split=3;, score=0.820 total time=   0.1s\n",
      "[CV 3/3] END max_depth=11, max_leaf_nodes=6, min_samples_split=3;, score=0.832 total time=   0.1s\n",
      "[CV 1/3] END max_depth=11, max_leaf_nodes=6, min_samples_split=4;, score=0.819 total time=   0.1s\n",
      "[CV 2/3] END max_depth=11, max_leaf_nodes=6, min_samples_split=4;, score=0.820 total time=   0.1s\n",
      "[CV 3/3] END max_depth=11, max_leaf_nodes=6, min_samples_split=4;, score=0.832 total time=   0.1s\n",
      "[CV 1/3] END max_depth=11, max_leaf_nodes=7, min_samples_split=2;, score=0.831 total time=   0.1s\n",
      "[CV 2/3] END max_depth=11, max_leaf_nodes=7, min_samples_split=2;, score=0.834 total time=   0.1s\n",
      "[CV 3/3] END max_depth=11, max_leaf_nodes=7, min_samples_split=2;, score=0.832 total time=   0.1s\n",
      "[CV 1/3] END max_depth=11, max_leaf_nodes=7, min_samples_split=3;, score=0.831 total time=   0.1s\n",
      "[CV 2/3] END max_depth=11, max_leaf_nodes=7, min_samples_split=3;, score=0.834 total time=   0.1s\n",
      "[CV 3/3] END max_depth=11, max_leaf_nodes=7, min_samples_split=3;, score=0.832 total time=   0.1s\n",
      "[CV 1/3] END max_depth=11, max_leaf_nodes=7, min_samples_split=4;, score=0.831 total time=   0.1s\n",
      "[CV 2/3] END max_depth=11, max_leaf_nodes=7, min_samples_split=4;, score=0.834 total time=   0.1s\n",
      "[CV 3/3] END max_depth=11, max_leaf_nodes=7, min_samples_split=4;, score=0.832 total time=   0.1s\n",
      "[CV 1/3] END max_depth=11, max_leaf_nodes=8, min_samples_split=2;, score=0.835 total time=   0.1s\n",
      "[CV 2/3] END max_depth=11, max_leaf_nodes=8, min_samples_split=2;, score=0.840 total time=   0.1s\n",
      "[CV 3/3] END max_depth=11, max_leaf_nodes=8, min_samples_split=2;, score=0.836 total time=   0.1s\n",
      "[CV 1/3] END max_depth=11, max_leaf_nodes=8, min_samples_split=3;, score=0.835 total time=   0.1s\n",
      "[CV 2/3] END max_depth=11, max_leaf_nodes=8, min_samples_split=3;, score=0.840 total time=   0.1s\n",
      "[CV 3/3] END max_depth=11, max_leaf_nodes=8, min_samples_split=3;, score=0.836 total time=   0.1s\n",
      "[CV 1/3] END max_depth=11, max_leaf_nodes=8, min_samples_split=4;, score=0.835 total time=   0.1s\n",
      "[CV 2/3] END max_depth=11, max_leaf_nodes=8, min_samples_split=4;, score=0.840 total time=   0.1s\n",
      "[CV 3/3] END max_depth=11, max_leaf_nodes=8, min_samples_split=4;, score=0.836 total time=   0.2s\n",
      "[CV 1/3] END max_depth=11, max_leaf_nodes=9, min_samples_split=2;, score=0.835 total time=   0.2s\n",
      "[CV 2/3] END max_depth=11, max_leaf_nodes=9, min_samples_split=2;, score=0.840 total time=   0.1s\n",
      "[CV 3/3] END max_depth=11, max_leaf_nodes=9, min_samples_split=2;, score=0.837 total time=   0.1s\n",
      "[CV 1/3] END max_depth=11, max_leaf_nodes=9, min_samples_split=3;, score=0.835 total time=   0.2s\n",
      "[CV 2/3] END max_depth=11, max_leaf_nodes=9, min_samples_split=3;, score=0.840 total time=   0.1s\n",
      "[CV 3/3] END max_depth=11, max_leaf_nodes=9, min_samples_split=3;, score=0.837 total time=   0.1s\n",
      "[CV 1/3] END max_depth=11, max_leaf_nodes=9, min_samples_split=4;, score=0.835 total time=   0.1s\n",
      "[CV 2/3] END max_depth=11, max_leaf_nodes=9, min_samples_split=4;, score=0.840 total time=   0.1s\n",
      "[CV 3/3] END max_depth=11, max_leaf_nodes=9, min_samples_split=4;, score=0.837 total time=   0.1s\n",
      "{'max_depth': 5, 'max_leaf_nodes': 9, 'min_samples_split': 2}\n",
      "0.7\n"
     ]
    }
   ],
   "source": [
    "import pandas as pd\n",
    "import matplotlib.pyplot as plt\n",
    "import seaborn as sns\n",
    "import numpy as np\n",
    "from sklearn import tree\n",
    "from sklearn.linear_model import LogisticRegression\n",
    "from sklearn.tree import DecisionTreeClassifier\n",
    "from sklearn.model_selection import train_test_split\n",
    "from sklearn.metrics import f1_score\n",
    "from sklearn.ensemble import BaggingClassifier\n",
    "from sklearn.linear_model import LinearRegression\n",
    "from sklearn.metrics import mean_absolute_error\n",
    "from sklearn.tree import DecisionTreeRegressor\n",
    "from sklearn.ensemble import RandomForestRegressor\n",
    "from sklearn.model_selection import GridSearchCV\n",
    "\n",
    "params = {\n",
    "    'max_leaf_nodes': list(range(2, 10)),\n",
    "    'min_samples_split': [2, 3, 4],\n",
    "    'max_depth': [5,7,9,11]\n",
    "}\n",
    "\n",
    "grid_search_cv = GridSearchCV(DecisionTreeClassifier(random_state=42), params, verbose=3, cv=3)\n",
    "grid_search_cv.fit(X_train, Y_train)\n",
    "print(grid_search_cv.best_params_)\n",
    "\n",
    "clf = DecisionTreeClassifier(max_depth = 5, max_leaf_nodes = 9, min_samples_split = 2, random_state=42)\n",
    "clf.fit(X_train, Y_train)\n",
    "preds_train = clf.predict(X_train)\n",
    "preds_test = clf.predict(X_test)\n",
    "print(round(roc_auc_score(Y_test, preds_test), 2))"
   ],
   "metadata": {
    "collapsed": false,
    "ExecuteTime": {
     "end_time": "2023-08-14T01:47:20.698113700Z",
     "start_time": "2023-08-14T01:46:18.289787Z"
    }
   }
  },
  {
   "cell_type": "code",
   "execution_count": 20,
   "outputs": [
    {
     "name": "stdout",
     "output_type": "stream",
     "text": [
      "0.73\n"
     ]
    }
   ],
   "source": [
    "import pandas as pd\n",
    "import matplotlib.pyplot as plt\n",
    "import seaborn as sns\n",
    "import numpy as np\n",
    "from sklearn import tree\n",
    "from sklearn.linear_model import LogisticRegression\n",
    "from sklearn.tree import DecisionTreeClassifier\n",
    "from sklearn.model_selection import train_test_split\n",
    "from sklearn.metrics import f1_score\n",
    "from sklearn.ensemble import BaggingClassifier\n",
    "from sklearn.linear_model import LinearRegression\n",
    "from sklearn.metrics import mean_absolute_error\n",
    "from sklearn.tree import DecisionTreeRegressor\n",
    "from sklearn.ensemble import RandomForestRegressor\n",
    "from sklearn.model_selection import GridSearchCV\n",
    "from sklearn.ensemble import RandomForestClassifier\n",
    "\n",
    "\n",
    "clf = RandomForestClassifier(n_estimators = 100, random_state=31)\n",
    "clf.fit(X_train, Y_train)\n",
    "preds_train = clf.predict(X_train)\n",
    "preds_test = clf.predict(X_test)\n",
    "print(round(roc_auc_score(Y_test, preds_test), 2))"
   ],
   "metadata": {
    "collapsed": false,
    "ExecuteTime": {
     "end_time": "2023-08-14T01:47:40.280916Z",
     "start_time": "2023-08-14T01:47:20.699113100Z"
    }
   }
  },
  {
   "cell_type": "code",
   "execution_count": 21,
   "outputs": [
    {
     "name": "stdout",
     "output_type": "stream",
     "text": [
      "Fitting 3 folds for each of 60 candidates, totalling 180 fits\n",
      "[CV 1/3] END max_depth=5, max_features=4, min_samples_leaf=3;, score=0.776 total time=   1.1s\n",
      "[CV 2/3] END max_depth=5, max_features=4, min_samples_leaf=3;, score=0.775 total time=   1.1s\n",
      "[CV 3/3] END max_depth=5, max_features=4, min_samples_leaf=3;, score=0.775 total time=   1.1s\n",
      "[CV 1/3] END max_depth=5, max_features=4, min_samples_leaf=5;, score=0.776 total time=   1.1s\n",
      "[CV 2/3] END max_depth=5, max_features=4, min_samples_leaf=5;, score=0.775 total time=   1.1s\n",
      "[CV 3/3] END max_depth=5, max_features=4, min_samples_leaf=5;, score=0.775 total time=   1.1s\n",
      "[CV 1/3] END max_depth=5, max_features=4, min_samples_leaf=7;, score=0.776 total time=   1.1s\n",
      "[CV 2/3] END max_depth=5, max_features=4, min_samples_leaf=7;, score=0.775 total time=   1.1s\n",
      "[CV 3/3] END max_depth=5, max_features=4, min_samples_leaf=7;, score=0.775 total time=   1.1s\n",
      "[CV 1/3] END max_depth=5, max_features=4, min_samples_leaf=9;, score=0.776 total time=   1.1s\n",
      "[CV 2/3] END max_depth=5, max_features=4, min_samples_leaf=9;, score=0.775 total time=   1.0s\n",
      "[CV 3/3] END max_depth=5, max_features=4, min_samples_leaf=9;, score=0.775 total time=   1.1s\n",
      "[CV 1/3] END max_depth=5, max_features=4, min_samples_leaf=11;, score=0.776 total time=   1.1s\n",
      "[CV 2/3] END max_depth=5, max_features=4, min_samples_leaf=11;, score=0.775 total time=   1.1s\n",
      "[CV 3/3] END max_depth=5, max_features=4, min_samples_leaf=11;, score=0.775 total time=   1.1s\n",
      "[CV 1/3] END max_depth=5, max_features=5, min_samples_leaf=3;, score=0.782 total time=   1.2s\n",
      "[CV 2/3] END max_depth=5, max_features=5, min_samples_leaf=3;, score=0.780 total time=   1.2s\n",
      "[CV 3/3] END max_depth=5, max_features=5, min_samples_leaf=3;, score=0.781 total time=   1.1s\n",
      "[CV 1/3] END max_depth=5, max_features=5, min_samples_leaf=5;, score=0.781 total time=   1.1s\n",
      "[CV 2/3] END max_depth=5, max_features=5, min_samples_leaf=5;, score=0.781 total time=   1.1s\n",
      "[CV 3/3] END max_depth=5, max_features=5, min_samples_leaf=5;, score=0.781 total time=   1.1s\n",
      "[CV 1/3] END max_depth=5, max_features=5, min_samples_leaf=7;, score=0.782 total time=   1.1s\n",
      "[CV 2/3] END max_depth=5, max_features=5, min_samples_leaf=7;, score=0.780 total time=   1.1s\n",
      "[CV 3/3] END max_depth=5, max_features=5, min_samples_leaf=7;, score=0.782 total time=   1.1s\n",
      "[CV 1/3] END max_depth=5, max_features=5, min_samples_leaf=9;, score=0.782 total time=   1.1s\n",
      "[CV 2/3] END max_depth=5, max_features=5, min_samples_leaf=9;, score=0.779 total time=   1.1s\n",
      "[CV 3/3] END max_depth=5, max_features=5, min_samples_leaf=9;, score=0.781 total time=   1.1s\n",
      "[CV 1/3] END max_depth=5, max_features=5, min_samples_leaf=11;, score=0.784 total time=   1.1s\n",
      "[CV 2/3] END max_depth=5, max_features=5, min_samples_leaf=11;, score=0.781 total time=   1.1s\n",
      "[CV 3/3] END max_depth=5, max_features=5, min_samples_leaf=11;, score=0.783 total time=   1.1s\n",
      "[CV 1/3] END max_depth=5, max_features=6, min_samples_leaf=3;, score=0.795 total time=   1.2s\n",
      "[CV 2/3] END max_depth=5, max_features=6, min_samples_leaf=3;, score=0.793 total time=   1.3s\n",
      "[CV 3/3] END max_depth=5, max_features=6, min_samples_leaf=3;, score=0.796 total time=   1.3s\n",
      "[CV 1/3] END max_depth=5, max_features=6, min_samples_leaf=5;, score=0.793 total time=   1.4s\n",
      "[CV 2/3] END max_depth=5, max_features=6, min_samples_leaf=5;, score=0.792 total time=   1.3s\n",
      "[CV 3/3] END max_depth=5, max_features=6, min_samples_leaf=5;, score=0.795 total time=   1.2s\n",
      "[CV 1/3] END max_depth=5, max_features=6, min_samples_leaf=7;, score=0.798 total time=   1.2s\n",
      "[CV 2/3] END max_depth=5, max_features=6, min_samples_leaf=7;, score=0.794 total time=   1.2s\n",
      "[CV 3/3] END max_depth=5, max_features=6, min_samples_leaf=7;, score=0.795 total time=   1.2s\n",
      "[CV 1/3] END max_depth=5, max_features=6, min_samples_leaf=9;, score=0.796 total time=   1.2s\n",
      "[CV 2/3] END max_depth=5, max_features=6, min_samples_leaf=9;, score=0.795 total time=   1.2s\n",
      "[CV 3/3] END max_depth=5, max_features=6, min_samples_leaf=9;, score=0.795 total time=   1.3s\n",
      "[CV 1/3] END max_depth=5, max_features=6, min_samples_leaf=11;, score=0.795 total time=   1.2s\n",
      "[CV 2/3] END max_depth=5, max_features=6, min_samples_leaf=11;, score=0.798 total time=   1.2s\n",
      "[CV 3/3] END max_depth=5, max_features=6, min_samples_leaf=11;, score=0.795 total time=   1.2s\n",
      "[CV 1/3] END max_depth=5, max_features=7, min_samples_leaf=3;, score=0.798 total time=   1.3s\n",
      "[CV 2/3] END max_depth=5, max_features=7, min_samples_leaf=3;, score=0.801 total time=   1.3s\n",
      "[CV 3/3] END max_depth=5, max_features=7, min_samples_leaf=3;, score=0.794 total time=   1.4s\n",
      "[CV 1/3] END max_depth=5, max_features=7, min_samples_leaf=5;, score=0.798 total time=   1.4s\n",
      "[CV 2/3] END max_depth=5, max_features=7, min_samples_leaf=5;, score=0.801 total time=   1.4s\n",
      "[CV 3/3] END max_depth=5, max_features=7, min_samples_leaf=5;, score=0.797 total time=   1.4s\n",
      "[CV 1/3] END max_depth=5, max_features=7, min_samples_leaf=7;, score=0.794 total time=   1.3s\n",
      "[CV 2/3] END max_depth=5, max_features=7, min_samples_leaf=7;, score=0.800 total time=   1.4s\n",
      "[CV 3/3] END max_depth=5, max_features=7, min_samples_leaf=7;, score=0.795 total time=   1.4s\n",
      "[CV 1/3] END max_depth=5, max_features=7, min_samples_leaf=9;, score=0.796 total time=   1.4s\n",
      "[CV 2/3] END max_depth=5, max_features=7, min_samples_leaf=9;, score=0.800 total time=   1.4s\n",
      "[CV 3/3] END max_depth=5, max_features=7, min_samples_leaf=9;, score=0.795 total time=   1.4s\n",
      "[CV 1/3] END max_depth=5, max_features=7, min_samples_leaf=11;, score=0.796 total time=   1.4s\n",
      "[CV 2/3] END max_depth=5, max_features=7, min_samples_leaf=11;, score=0.803 total time=   1.4s\n",
      "[CV 3/3] END max_depth=5, max_features=7, min_samples_leaf=11;, score=0.795 total time=   1.3s\n",
      "[CV 1/3] END max_depth=10, max_features=4, min_samples_leaf=3;, score=0.810 total time=   1.8s\n",
      "[CV 2/3] END max_depth=10, max_features=4, min_samples_leaf=3;, score=0.815 total time=   1.8s\n",
      "[CV 3/3] END max_depth=10, max_features=4, min_samples_leaf=3;, score=0.813 total time=   1.9s\n",
      "[CV 1/3] END max_depth=10, max_features=4, min_samples_leaf=5;, score=0.812 total time=   1.9s\n",
      "[CV 2/3] END max_depth=10, max_features=4, min_samples_leaf=5;, score=0.811 total time=   1.8s\n",
      "[CV 3/3] END max_depth=10, max_features=4, min_samples_leaf=5;, score=0.813 total time=   1.9s\n",
      "[CV 1/3] END max_depth=10, max_features=4, min_samples_leaf=7;, score=0.811 total time=   1.9s\n",
      "[CV 2/3] END max_depth=10, max_features=4, min_samples_leaf=7;, score=0.812 total time=   1.7s\n",
      "[CV 3/3] END max_depth=10, max_features=4, min_samples_leaf=7;, score=0.812 total time=   1.7s\n",
      "[CV 1/3] END max_depth=10, max_features=4, min_samples_leaf=9;, score=0.809 total time=   1.7s\n",
      "[CV 2/3] END max_depth=10, max_features=4, min_samples_leaf=9;, score=0.812 total time=   1.7s\n",
      "[CV 3/3] END max_depth=10, max_features=4, min_samples_leaf=9;, score=0.811 total time=   1.7s\n",
      "[CV 1/3] END max_depth=10, max_features=4, min_samples_leaf=11;, score=0.813 total time=   1.7s\n",
      "[CV 2/3] END max_depth=10, max_features=4, min_samples_leaf=11;, score=0.812 total time=   1.7s\n",
      "[CV 3/3] END max_depth=10, max_features=4, min_samples_leaf=11;, score=0.813 total time=   1.7s\n",
      "[CV 1/3] END max_depth=10, max_features=5, min_samples_leaf=3;, score=0.819 total time=   2.2s\n",
      "[CV 2/3] END max_depth=10, max_features=5, min_samples_leaf=3;, score=0.826 total time=   2.1s\n",
      "[CV 3/3] END max_depth=10, max_features=5, min_samples_leaf=3;, score=0.820 total time=   2.1s\n",
      "[CV 1/3] END max_depth=10, max_features=5, min_samples_leaf=5;, score=0.821 total time=   2.1s\n",
      "[CV 2/3] END max_depth=10, max_features=5, min_samples_leaf=5;, score=0.826 total time=   2.1s\n",
      "[CV 3/3] END max_depth=10, max_features=5, min_samples_leaf=5;, score=0.820 total time=   2.1s\n",
      "[CV 1/3] END max_depth=10, max_features=5, min_samples_leaf=7;, score=0.820 total time=   2.1s\n",
      "[CV 2/3] END max_depth=10, max_features=5, min_samples_leaf=7;, score=0.819 total time=   2.0s\n",
      "[CV 3/3] END max_depth=10, max_features=5, min_samples_leaf=7;, score=0.820 total time=   2.1s\n",
      "[CV 1/3] END max_depth=10, max_features=5, min_samples_leaf=9;, score=0.819 total time=   2.1s\n",
      "[CV 2/3] END max_depth=10, max_features=5, min_samples_leaf=9;, score=0.824 total time=   2.1s\n",
      "[CV 3/3] END max_depth=10, max_features=5, min_samples_leaf=9;, score=0.816 total time=   2.0s\n",
      "[CV 1/3] END max_depth=10, max_features=5, min_samples_leaf=11;, score=0.822 total time=   2.0s\n",
      "[CV 2/3] END max_depth=10, max_features=5, min_samples_leaf=11;, score=0.826 total time=   2.0s\n",
      "[CV 3/3] END max_depth=10, max_features=5, min_samples_leaf=11;, score=0.817 total time=   2.0s\n",
      "[CV 1/3] END max_depth=10, max_features=6, min_samples_leaf=3;, score=0.832 total time=   2.4s\n",
      "[CV 2/3] END max_depth=10, max_features=6, min_samples_leaf=3;, score=0.834 total time=   2.4s\n",
      "[CV 3/3] END max_depth=10, max_features=6, min_samples_leaf=3;, score=0.830 total time=   2.4s\n",
      "[CV 1/3] END max_depth=10, max_features=6, min_samples_leaf=5;, score=0.829 total time=   2.3s\n",
      "[CV 2/3] END max_depth=10, max_features=6, min_samples_leaf=5;, score=0.835 total time=   2.3s\n",
      "[CV 3/3] END max_depth=10, max_features=6, min_samples_leaf=5;, score=0.828 total time=   2.3s\n",
      "[CV 1/3] END max_depth=10, max_features=6, min_samples_leaf=7;, score=0.831 total time=   2.3s\n",
      "[CV 2/3] END max_depth=10, max_features=6, min_samples_leaf=7;, score=0.835 total time=   2.3s\n",
      "[CV 3/3] END max_depth=10, max_features=6, min_samples_leaf=7;, score=0.831 total time=   2.3s\n",
      "[CV 1/3] END max_depth=10, max_features=6, min_samples_leaf=9;, score=0.830 total time=   2.4s\n",
      "[CV 2/3] END max_depth=10, max_features=6, min_samples_leaf=9;, score=0.835 total time=   2.4s\n",
      "[CV 3/3] END max_depth=10, max_features=6, min_samples_leaf=9;, score=0.831 total time=   2.4s\n",
      "[CV 1/3] END max_depth=10, max_features=6, min_samples_leaf=11;, score=0.831 total time=   2.3s\n",
      "[CV 2/3] END max_depth=10, max_features=6, min_samples_leaf=11;, score=0.835 total time=   2.3s\n",
      "[CV 3/3] END max_depth=10, max_features=6, min_samples_leaf=11;, score=0.827 total time=   2.4s\n",
      "[CV 1/3] END max_depth=10, max_features=7, min_samples_leaf=3;, score=0.833 total time=   2.9s\n",
      "[CV 2/3] END max_depth=10, max_features=7, min_samples_leaf=3;, score=0.839 total time=   2.8s\n",
      "[CV 3/3] END max_depth=10, max_features=7, min_samples_leaf=3;, score=0.831 total time=   2.8s\n",
      "[CV 1/3] END max_depth=10, max_features=7, min_samples_leaf=5;, score=0.834 total time=   2.7s\n",
      "[CV 2/3] END max_depth=10, max_features=7, min_samples_leaf=5;, score=0.838 total time=   2.7s\n",
      "[CV 3/3] END max_depth=10, max_features=7, min_samples_leaf=5;, score=0.832 total time=   2.8s\n",
      "[CV 1/3] END max_depth=10, max_features=7, min_samples_leaf=7;, score=0.831 total time=   2.6s\n",
      "[CV 2/3] END max_depth=10, max_features=7, min_samples_leaf=7;, score=0.838 total time=   2.6s\n",
      "[CV 3/3] END max_depth=10, max_features=7, min_samples_leaf=7;, score=0.829 total time=   2.7s\n",
      "[CV 1/3] END max_depth=10, max_features=7, min_samples_leaf=9;, score=0.833 total time=   2.7s\n",
      "[CV 2/3] END max_depth=10, max_features=7, min_samples_leaf=9;, score=0.838 total time=   2.7s\n",
      "[CV 3/3] END max_depth=10, max_features=7, min_samples_leaf=9;, score=0.831 total time=   2.7s\n",
      "[CV 1/3] END max_depth=10, max_features=7, min_samples_leaf=11;, score=0.834 total time=   2.7s\n",
      "[CV 2/3] END max_depth=10, max_features=7, min_samples_leaf=11;, score=0.837 total time=   2.7s\n",
      "[CV 3/3] END max_depth=10, max_features=7, min_samples_leaf=11;, score=0.828 total time=   2.6s\n",
      "[CV 1/3] END max_depth=15, max_features=4, min_samples_leaf=3;, score=0.829 total time=   2.8s\n",
      "[CV 2/3] END max_depth=15, max_features=4, min_samples_leaf=3;, score=0.836 total time=   2.8s\n",
      "[CV 3/3] END max_depth=15, max_features=4, min_samples_leaf=3;, score=0.829 total time=   2.8s\n",
      "[CV 1/3] END max_depth=15, max_features=4, min_samples_leaf=5;, score=0.828 total time=   2.7s\n",
      "[CV 2/3] END max_depth=15, max_features=4, min_samples_leaf=5;, score=0.834 total time=   2.6s\n",
      "[CV 3/3] END max_depth=15, max_features=4, min_samples_leaf=5;, score=0.829 total time=   2.7s\n",
      "[CV 1/3] END max_depth=15, max_features=4, min_samples_leaf=7;, score=0.828 total time=   2.5s\n",
      "[CV 2/3] END max_depth=15, max_features=4, min_samples_leaf=7;, score=0.832 total time=   2.6s\n",
      "[CV 3/3] END max_depth=15, max_features=4, min_samples_leaf=7;, score=0.827 total time=   2.5s\n",
      "[CV 1/3] END max_depth=15, max_features=4, min_samples_leaf=9;, score=0.825 total time=   2.4s\n",
      "[CV 2/3] END max_depth=15, max_features=4, min_samples_leaf=9;, score=0.832 total time=   2.4s\n",
      "[CV 3/3] END max_depth=15, max_features=4, min_samples_leaf=9;, score=0.824 total time=   2.5s\n",
      "[CV 1/3] END max_depth=15, max_features=4, min_samples_leaf=11;, score=0.826 total time=   2.4s\n",
      "[CV 2/3] END max_depth=15, max_features=4, min_samples_leaf=11;, score=0.831 total time=   2.4s\n",
      "[CV 3/3] END max_depth=15, max_features=4, min_samples_leaf=11;, score=0.824 total time=   2.4s\n",
      "[CV 1/3] END max_depth=15, max_features=5, min_samples_leaf=3;, score=0.832 total time=   3.3s\n",
      "[CV 2/3] END max_depth=15, max_features=5, min_samples_leaf=3;, score=0.843 total time=   3.4s\n",
      "[CV 3/3] END max_depth=15, max_features=5, min_samples_leaf=3;, score=0.833 total time=   3.2s\n",
      "[CV 1/3] END max_depth=15, max_features=5, min_samples_leaf=5;, score=0.835 total time=   3.1s\n",
      "[CV 2/3] END max_depth=15, max_features=5, min_samples_leaf=5;, score=0.843 total time=   3.1s\n",
      "[CV 3/3] END max_depth=15, max_features=5, min_samples_leaf=5;, score=0.834 total time=   3.0s\n",
      "[CV 1/3] END max_depth=15, max_features=5, min_samples_leaf=7;, score=0.834 total time=   2.9s\n",
      "[CV 2/3] END max_depth=15, max_features=5, min_samples_leaf=7;, score=0.839 total time=   2.8s\n",
      "[CV 3/3] END max_depth=15, max_features=5, min_samples_leaf=7;, score=0.830 total time=   2.9s\n",
      "[CV 1/3] END max_depth=15, max_features=5, min_samples_leaf=9;, score=0.832 total time=   2.8s\n",
      "[CV 2/3] END max_depth=15, max_features=5, min_samples_leaf=9;, score=0.838 total time=   2.8s\n",
      "[CV 3/3] END max_depth=15, max_features=5, min_samples_leaf=9;, score=0.831 total time=   2.8s\n",
      "[CV 1/3] END max_depth=15, max_features=5, min_samples_leaf=11;, score=0.834 total time=   2.7s\n",
      "[CV 2/3] END max_depth=15, max_features=5, min_samples_leaf=11;, score=0.838 total time=   2.7s\n",
      "[CV 3/3] END max_depth=15, max_features=5, min_samples_leaf=11;, score=0.831 total time=   2.7s\n",
      "[CV 1/3] END max_depth=15, max_features=6, min_samples_leaf=3;, score=0.841 total time=   3.6s\n",
      "[CV 2/3] END max_depth=15, max_features=6, min_samples_leaf=3;, score=0.847 total time=   3.5s\n",
      "[CV 3/3] END max_depth=15, max_features=6, min_samples_leaf=3;, score=0.840 total time=   3.6s\n",
      "[CV 1/3] END max_depth=15, max_features=6, min_samples_leaf=5;, score=0.842 total time=   3.4s\n",
      "[CV 2/3] END max_depth=15, max_features=6, min_samples_leaf=5;, score=0.847 total time=   3.4s\n",
      "[CV 3/3] END max_depth=15, max_features=6, min_samples_leaf=5;, score=0.839 total time=   3.4s\n",
      "[CV 1/3] END max_depth=15, max_features=6, min_samples_leaf=7;, score=0.842 total time=   3.4s\n",
      "[CV 2/3] END max_depth=15, max_features=6, min_samples_leaf=7;, score=0.845 total time=   3.2s\n",
      "[CV 3/3] END max_depth=15, max_features=6, min_samples_leaf=7;, score=0.841 total time=   3.2s\n",
      "[CV 1/3] END max_depth=15, max_features=6, min_samples_leaf=9;, score=0.840 total time=   3.1s\n",
      "[CV 2/3] END max_depth=15, max_features=6, min_samples_leaf=9;, score=0.845 total time=   3.1s\n",
      "[CV 3/3] END max_depth=15, max_features=6, min_samples_leaf=9;, score=0.837 total time=   3.1s\n",
      "[CV 1/3] END max_depth=15, max_features=6, min_samples_leaf=11;, score=0.840 total time=   2.9s\n",
      "[CV 2/3] END max_depth=15, max_features=6, min_samples_leaf=11;, score=0.846 total time=   2.9s\n",
      "[CV 3/3] END max_depth=15, max_features=6, min_samples_leaf=11;, score=0.838 total time=   3.0s\n",
      "[CV 1/3] END max_depth=15, max_features=7, min_samples_leaf=3;, score=0.845 total time=   3.9s\n",
      "[CV 2/3] END max_depth=15, max_features=7, min_samples_leaf=3;, score=0.850 total time=   3.9s\n",
      "[CV 3/3] END max_depth=15, max_features=7, min_samples_leaf=3;, score=0.845 total time=   4.0s\n",
      "[CV 1/3] END max_depth=15, max_features=7, min_samples_leaf=5;, score=0.844 total time=   3.8s\n",
      "[CV 2/3] END max_depth=15, max_features=7, min_samples_leaf=5;, score=0.849 total time=   3.9s\n",
      "[CV 3/3] END max_depth=15, max_features=7, min_samples_leaf=5;, score=0.844 total time=   3.9s\n",
      "[CV 1/3] END max_depth=15, max_features=7, min_samples_leaf=7;, score=0.842 total time=   3.9s\n",
      "[CV 2/3] END max_depth=15, max_features=7, min_samples_leaf=7;, score=0.850 total time=   3.9s\n",
      "[CV 3/3] END max_depth=15, max_features=7, min_samples_leaf=7;, score=0.841 total time=   3.8s\n",
      "[CV 1/3] END max_depth=15, max_features=7, min_samples_leaf=9;, score=0.842 total time=   3.6s\n",
      "[CV 2/3] END max_depth=15, max_features=7, min_samples_leaf=9;, score=0.848 total time=   3.6s\n",
      "[CV 3/3] END max_depth=15, max_features=7, min_samples_leaf=9;, score=0.841 total time=   3.7s\n",
      "[CV 1/3] END max_depth=15, max_features=7, min_samples_leaf=11;, score=0.840 total time=   3.6s\n",
      "[CV 2/3] END max_depth=15, max_features=7, min_samples_leaf=11;, score=0.847 total time=   3.5s\n",
      "[CV 3/3] END max_depth=15, max_features=7, min_samples_leaf=11;, score=0.840 total time=   3.7s\n",
      "{'max_depth': 15, 'max_features': 7, 'min_samples_leaf': 3}\n",
      "0.7\n"
     ]
    }
   ],
   "source": [
    "params = {\n",
    "    'max_features': [4, 5, 6, 7],\n",
    "    'min_samples_leaf': [3, 5, 7, 9, 11],\n",
    "    'max_depth': [5, 10, 15]\n",
    "}\n",
    "grid_search_cv = GridSearchCV(RandomForestClassifier(random_state=31), params, verbose=3, cv=3)\n",
    "grid_search_cv.fit(X_train, Y_train)\n",
    "print(grid_search_cv.best_params_)\n",
    "clf = RandomForestClassifier(max_depth=15, max_features=7, min_samples_leaf=3, random_state=31)\n",
    "clf.fit(X_train, Y_train)\n",
    "preds_train = clf.predict(X_train)\n",
    "preds_test = clf.predict(X_test)\n",
    "print(round(roc_auc_score(Y_test, preds_test), 2))"
   ],
   "metadata": {
    "collapsed": false,
    "ExecuteTime": {
     "end_time": "2023-08-14T01:54:45.935632900Z",
     "start_time": "2023-08-14T01:47:40.285916600Z"
    }
   }
  },
  {
   "cell_type": "code",
   "execution_count": 22,
   "outputs": [
    {
     "data": {
      "text/plain": "                   feat      coef\n7           Humidity3pm  0.250783\n2              Rainfall  0.079757\n6           Humidity9am  0.070403\n10             Cloud9am  0.067092\n9           Pressure3pm  0.065272\n..                  ...       ...\n50   Location_Newcastle  0.000000\n62  Location_SalmonGums  0.000000\n51        Location_Nhil  0.000000\n52   Location_NorahHead  0.000000\n40   Location_GoldCoast  0.000000\n\n[123 rows x 2 columns]",
      "text/html": "<div>\n<style scoped>\n    .dataframe tbody tr th:only-of-type {\n        vertical-align: middle;\n    }\n\n    .dataframe tbody tr th {\n        vertical-align: top;\n    }\n\n    .dataframe thead th {\n        text-align: right;\n    }\n</style>\n<table border=\"1\" class=\"dataframe\">\n  <thead>\n    <tr style=\"text-align: right;\">\n      <th></th>\n      <th>feat</th>\n      <th>coef</th>\n    </tr>\n  </thead>\n  <tbody>\n    <tr>\n      <th>7</th>\n      <td>Humidity3pm</td>\n      <td>0.250783</td>\n    </tr>\n    <tr>\n      <th>2</th>\n      <td>Rainfall</td>\n      <td>0.079757</td>\n    </tr>\n    <tr>\n      <th>6</th>\n      <td>Humidity9am</td>\n      <td>0.070403</td>\n    </tr>\n    <tr>\n      <th>10</th>\n      <td>Cloud9am</td>\n      <td>0.067092</td>\n    </tr>\n    <tr>\n      <th>9</th>\n      <td>Pressure3pm</td>\n      <td>0.065272</td>\n    </tr>\n    <tr>\n      <th>...</th>\n      <td>...</td>\n      <td>...</td>\n    </tr>\n    <tr>\n      <th>50</th>\n      <td>Location_Newcastle</td>\n      <td>0.000000</td>\n    </tr>\n    <tr>\n      <th>62</th>\n      <td>Location_SalmonGums</td>\n      <td>0.000000</td>\n    </tr>\n    <tr>\n      <th>51</th>\n      <td>Location_Nhil</td>\n      <td>0.000000</td>\n    </tr>\n    <tr>\n      <th>52</th>\n      <td>Location_NorahHead</td>\n      <td>0.000000</td>\n    </tr>\n    <tr>\n      <th>40</th>\n      <td>Location_GoldCoast</td>\n      <td>0.000000</td>\n    </tr>\n  </tbody>\n</table>\n<p>123 rows × 2 columns</p>\n</div>"
     },
     "execution_count": 22,
     "metadata": {},
     "output_type": "execute_result"
    }
   ],
   "source": [
    "feature_names = [x for x in df_dummies if x != 'RainTomorrow']\n",
    "pd.DataFrame({'feat': feature_names,\n",
    "              'coef': clf.feature_importances_}).sort_values(by='coef', ascending=False)"
   ],
   "metadata": {
    "collapsed": false,
    "ExecuteTime": {
     "end_time": "2023-08-14T01:54:45.995633300Z",
     "start_time": "2023-08-14T01:54:45.937632900Z"
    }
   }
  },
  {
   "cell_type": "code",
   "execution_count": 45,
   "outputs": [],
   "source": [
    "import pandas as pd\n",
    "import matplotlib.pyplot as plt\n",
    "import seaborn as sns\n",
    "import numpy as np\n",
    "from sklearn import tree\n",
    "from sklearn.linear_model import LogisticRegression\n",
    "from sklearn.tree import DecisionTreeClassifier\n",
    "from sklearn.model_selection import train_test_split\n",
    "from sklearn.metrics import f1_score\n",
    "from sklearn.ensemble import BaggingClassifier\n",
    "from sklearn.linear_model import LinearRegression\n",
    "from sklearn.metrics import mean_absolute_error\n",
    "from sklearn.tree import DecisionTreeRegressor\n",
    "from sklearn.ensemble import RandomForestRegressor\n",
    "from sklearn.model_selection import GridSearchCV\n",
    "from sklearn.ensemble import RandomForestClassifier\n",
    "from sklearn.preprocessing import StandardScaler\n",
    "from sklearn.ensemble import AdaBoostClassifier, AdaBoostRegressor, GradientBoostingClassifier, GradientBoostingRegressor"
   ],
   "metadata": {
    "collapsed": false,
    "ExecuteTime": {
     "end_time": "2023-08-16T04:27:49.751936200Z",
     "start_time": "2023-08-16T04:27:49.703937900Z"
    }
   }
  },
  {
   "cell_type": "code",
   "execution_count": 25,
   "outputs": [],
   "source": [
    "df = pd.read_csv('data/AirPass.zip')"
   ],
   "metadata": {
    "collapsed": false,
    "ExecuteTime": {
     "end_time": "2023-08-16T04:14:57.259025100Z",
     "start_time": "2023-08-16T04:14:56.668028400Z"
    }
   }
  },
  {
   "cell_type": "code",
   "execution_count": 26,
   "outputs": [
    {
     "data": {
      "text/plain": "310"
     },
     "execution_count": 26,
     "metadata": {},
     "output_type": "execute_result"
    }
   ],
   "source": [
    "df.isnull().sum().sum()"
   ],
   "metadata": {
    "collapsed": false,
    "ExecuteTime": {
     "end_time": "2023-08-16T04:14:58.205735600Z",
     "start_time": "2023-08-16T04:14:58.135737100Z"
    }
   }
  },
  {
   "cell_type": "code",
   "execution_count": 28,
   "outputs": [
    {
     "data": {
      "text/plain": "15.133392362180475"
     },
     "execution_count": 28,
     "metadata": {},
     "output_type": "execute_result"
    }
   ],
   "source": [
    "df['Arrival Delay in Minutes'] = df['Arrival Delay in Minutes'].fillna(df['Arrival Delay in Minutes'].median())\n",
    "df['Arrival Delay in Minutes'].mean()"
   ],
   "metadata": {
    "collapsed": false,
    "ExecuteTime": {
     "end_time": "2023-08-16T04:15:56.897644200Z",
     "start_time": "2023-08-16T04:15:56.835606200Z"
    }
   }
  },
  {
   "cell_type": "code",
   "execution_count": 29,
   "outputs": [
    {
     "data": {
      "text/plain": "Gender  satisfaction           \nFemale  neutral or dissatisfied    29.058554\n        satisfied                  21.687327\nMale    neutral or dissatisfied    27.608177\n        satisfied                  21.645942\nName: satisfaction, dtype: float64"
     },
     "execution_count": 29,
     "metadata": {},
     "output_type": "execute_result"
    }
   ],
   "source": [
    "df.groupby('Gender')['satisfaction'].value_counts()*100/df.shape[0]"
   ],
   "metadata": {
    "collapsed": false,
    "ExecuteTime": {
     "end_time": "2023-08-16T04:15:59.249286Z",
     "start_time": "2023-08-16T04:15:59.184287200Z"
    }
   }
  },
  {
   "cell_type": "code",
   "execution_count": 30,
   "outputs": [
    {
     "data": {
      "text/plain": "Type of Travel   satisfaction           \nBusiness travel  satisfied                  40.177472\n                 neutral or dissatisfied    28.785225\nPersonal Travel  neutral or dissatisfied    27.881506\n                 satisfied                   3.155798\nName: satisfaction, dtype: float64"
     },
     "execution_count": 30,
     "metadata": {},
     "output_type": "execute_result"
    }
   ],
   "source": [
    "df.groupby('Type of Travel')['satisfaction'].value_counts()*100/df.shape[0]"
   ],
   "metadata": {
    "collapsed": false,
    "ExecuteTime": {
     "end_time": "2023-08-16T04:16:08.220553800Z",
     "start_time": "2023-08-16T04:16:08.146552200Z"
    }
   }
  },
  {
   "cell_type": "code",
   "execution_count": 31,
   "outputs": [
    {
     "data": {
      "text/plain": "Class     satisfaction           \nBusiness  satisfied                  33.184478\n          neutral or dissatisfied    14.614452\nEco       neutral or dissatisfied    36.614567\n          satisfied                   8.374076\nEco Plus  neutral or dissatisfied     5.437712\n          satisfied                   1.774715\nName: satisfaction, dtype: float64"
     },
     "execution_count": 31,
     "metadata": {},
     "output_type": "execute_result"
    }
   ],
   "source": [
    "df.groupby('Class')['satisfaction'].value_counts()*100/df.shape[0]"
   ],
   "metadata": {
    "collapsed": false,
    "ExecuteTime": {
     "end_time": "2023-08-16T04:16:19.616069200Z",
     "start_time": "2023-08-16T04:16:19.544070200Z"
    }
   }
  },
  {
   "cell_type": "code",
   "execution_count": 32,
   "outputs": [],
   "source": [
    "df['satisfaction'] = df['satisfaction'].map({'neutral or dissatisfied':0 , 'satisfied':1})\n",
    "df['Customer Type'] = df['Customer Type'].map({'Loyal Customer':1, 'disloyal Customer':0})\n",
    "df['Type of Travel'] = df['Type of Travel'].map({'Personal Travel':0, 'Business travel':1})\n",
    "df['Gender'] = df['Gender'].map({'Male': 0, 'Female': 1})"
   ],
   "metadata": {
    "collapsed": false,
    "ExecuteTime": {
     "end_time": "2023-08-16T04:18:07.688649500Z",
     "start_time": "2023-08-16T04:18:07.380655600Z"
    }
   }
  },
  {
   "cell_type": "code",
   "execution_count": 33,
   "outputs": [
    {
     "data": {
      "text/plain": "(103904, 27)"
     },
     "execution_count": 33,
     "metadata": {},
     "output_type": "execute_result"
    }
   ],
   "source": [
    "df=pd.get_dummies(df)\n",
    "df.shape"
   ],
   "metadata": {
    "collapsed": false,
    "ExecuteTime": {
     "end_time": "2023-08-16T04:18:16.029029800Z",
     "start_time": "2023-08-16T04:18:15.928034400Z"
    }
   }
  },
  {
   "cell_type": "code",
   "execution_count": 35,
   "outputs": [
    {
     "data": {
      "text/plain": "(20781,)"
     },
     "execution_count": 35,
     "metadata": {},
     "output_type": "execute_result"
    }
   ],
   "source": [
    "X = df.drop('satisfaction', axis = 1)\n",
    "y = df['satisfaction']\n",
    "X_train, X_test, y_train, y_test = train_test_split(X, y, test_size = 0.2, random_state=26)\n",
    "y_test.shape"
   ],
   "metadata": {
    "collapsed": false,
    "ExecuteTime": {
     "end_time": "2023-08-16T04:20:53.574268600Z",
     "start_time": "2023-08-16T04:20:53.488271300Z"
    }
   }
  },
  {
   "cell_type": "code",
   "execution_count": 39,
   "outputs": [
    {
     "data": {
      "text/plain": "1.193295224074621"
     },
     "execution_count": 39,
     "metadata": {},
     "output_type": "execute_result"
    }
   ],
   "source": [
    "scaler = StandardScaler()\n",
    "scaler.fit(X_train)\n",
    "X_train = scaler.transform(X_train)\n",
    "X_test = scaler.transform(X_test)\n",
    "X_test[0][0]"
   ],
   "metadata": {
    "collapsed": false,
    "ExecuteTime": {
     "end_time": "2023-08-16T04:23:53.168858300Z",
     "start_time": "2023-08-16T04:23:53.025863300Z"
    }
   }
  },
  {
   "cell_type": "code",
   "execution_count": 40,
   "outputs": [
    {
     "data": {
      "text/plain": "0.8550407188991856"
     },
     "execution_count": 40,
     "metadata": {},
     "output_type": "execute_result"
    }
   ],
   "source": [
    "model_lr = LogisticRegression()\n",
    "model_lr.fit(X_train, y_train)\n",
    "preds_test = model_lr.predict(X_test)\n",
    "f1_score(preds_test, y_test)"
   ],
   "metadata": {
    "collapsed": false,
    "ExecuteTime": {
     "end_time": "2023-08-16T04:24:51.211292700Z",
     "start_time": "2023-08-16T04:24:50.810300300Z"
    }
   }
  },
  {
   "cell_type": "code",
   "execution_count": 43,
   "outputs": [
    {
     "data": {
      "text/plain": "0.9376063216813916"
     },
     "execution_count": 43,
     "metadata": {},
     "output_type": "execute_result"
    }
   ],
   "source": [
    "model_ada = AdaBoostClassifier(DecisionTreeClassifier(random_state=26),random_state=26,learning_rate=0.01)\n",
    "\n",
    "model_ada.fit(X_train, y_train)\n",
    "preds_test = model_ada.predict(X_test)\n",
    "f1_score(preds_test, y_test)"
   ],
   "metadata": {
    "collapsed": false,
    "ExecuteTime": {
     "end_time": "2023-08-16T04:26:30.543620800Z",
     "start_time": "2023-08-16T04:26:28.906630700Z"
    }
   }
  },
  {
   "cell_type": "code",
   "execution_count": 44,
   "outputs": [
    {
     "ename": "NameError",
     "evalue": "name 'GradientBoostingClassifier' is not defined",
     "output_type": "error",
     "traceback": [
      "\u001B[1;31m---------------------------------------------------------------------------\u001B[0m",
      "\u001B[1;31mNameError\u001B[0m                                 Traceback (most recent call last)",
      "Cell \u001B[1;32mIn[44], line 2\u001B[0m\n\u001B[0;32m      1\u001B[0m params \u001B[38;5;241m=\u001B[39m {\u001B[38;5;124m\"\u001B[39m\u001B[38;5;124mn_estimators\u001B[39m\u001B[38;5;124m\"\u001B[39m:\u001B[38;5;241m2\u001B[39m\u001B[38;5;241m*\u001B[39m\u001B[38;5;241m*\u001B[39mnp\u001B[38;5;241m.\u001B[39marange(\u001B[38;5;241m8\u001B[39m), \u001B[38;5;124m\"\u001B[39m\u001B[38;5;124mlearning_rate\u001B[39m\u001B[38;5;124m\"\u001B[39m:\u001B[38;5;241m0.1\u001B[39m\u001B[38;5;241m*\u001B[39m\u001B[38;5;241m*\u001B[39mnp\u001B[38;5;241m.\u001B[39marange(\u001B[38;5;241m3\u001B[39m)}\n\u001B[1;32m----> 2\u001B[0m model_for_gs \u001B[38;5;241m=\u001B[39m \u001B[43mGradientBoostingClassifier\u001B[49m()\n\u001B[0;32m      3\u001B[0m params \u001B[38;5;241m=\u001B[39m {\u001B[38;5;124m\"\u001B[39m\u001B[38;5;124mn_estimators\u001B[39m\u001B[38;5;124m\"\u001B[39m:\u001B[38;5;241m2\u001B[39m\u001B[38;5;241m*\u001B[39m\u001B[38;5;241m*\u001B[39mnp\u001B[38;5;241m.\u001B[39marange(\u001B[38;5;241m8\u001B[39m), \u001B[38;5;124m\"\u001B[39m\u001B[38;5;124mlearning_rate\u001B[39m\u001B[38;5;124m\"\u001B[39m:\u001B[38;5;241m0.1\u001B[39m\u001B[38;5;241m*\u001B[39m\u001B[38;5;241m*\u001B[39mnp\u001B[38;5;241m.\u001B[39marange(\u001B[38;5;241m3\u001B[39m)}\n\u001B[0;32m      4\u001B[0m gs \u001B[38;5;241m=\u001B[39m GridSearchCV(model_for_gs, \n\u001B[0;32m      5\u001B[0m                   params, \n\u001B[0;32m      6\u001B[0m                   cv\u001B[38;5;241m=\u001B[39m\u001B[38;5;241m3\u001B[39m, \n\u001B[0;32m      7\u001B[0m                   scoring\u001B[38;5;241m=\u001B[39mmake_scorer(f1_score),\n\u001B[0;32m      8\u001B[0m                   verbose\u001B[38;5;241m=\u001B[39m\u001B[38;5;241m5\u001B[39m)\n",
      "\u001B[1;31mNameError\u001B[0m: name 'GradientBoostingClassifier' is not defined"
     ]
    }
   ],
   "source": [
    "params = {\"n_estimators\":2**np.arange(8), \"learning_rate\":0.1**np.arange(3)}\n",
    "model_for_gs = GradientBoostingClassifier()\n",
    "params = {\"n_estimators\":2**np.arange(8), \"learning_rate\":0.1**np.arange(3)}\n",
    "gs = GridSearchCV(model_for_gs,\n",
    "                  params,\n",
    "                  cv=3,\n",
    "                  scoring=make_scorer(f1_score),\n",
    "                  verbose=5)\n",
    "\n",
    "gs.fit(X_train, y_train)\n",
    "\n",
    "print(\"Лучшие гиперпараметры:\", gs.best_params_)\n",
    "print(\"Лучшее значение метрики:\", gs.best_score_)"
   ],
   "metadata": {
    "collapsed": false,
    "ExecuteTime": {
     "end_time": "2023-08-16T04:27:08.153654100Z",
     "start_time": "2023-08-16T04:27:08.069626400Z"
    }
   }
  },
  {
   "cell_type": "code",
   "execution_count": 46,
   "outputs": [
    {
     "data": {
      "text/plain": "0.9581571333184955"
     },
     "execution_count": 46,
     "metadata": {},
     "output_type": "execute_result"
    }
   ],
   "source": [
    "from xgboost import XGBClassifier\n",
    "model_xgb = XGBClassifier(random_state=26)\n",
    "model_xgb.fit(X_train,y_train)\n",
    "preds_test = model_xgb.predict(X_test)\n",
    "f1_score(preds_test, y_test)"
   ],
   "metadata": {
    "collapsed": false,
    "ExecuteTime": {
     "end_time": "2023-08-16T04:29:29.575103400Z",
     "start_time": "2023-08-16T04:29:24.838720900Z"
    }
   }
  },
  {
   "cell_type": "code",
   "execution_count": 47,
   "outputs": [
    {
     "name": "stdout",
     "output_type": "stream",
     "text": [
      "Learning rate set to 0.068023\n",
      "0:\tlearn: 0.6018138\ttotal: 143ms\tremaining: 2m 23s\n",
      "1:\tlearn: 0.5117898\ttotal: 161ms\tremaining: 1m 20s\n",
      "2:\tlearn: 0.4550663\ttotal: 178ms\tremaining: 59.1s\n",
      "3:\tlearn: 0.4109981\ttotal: 192ms\tremaining: 47.8s\n",
      "4:\tlearn: 0.3586401\ttotal: 204ms\tremaining: 40.7s\n",
      "5:\tlearn: 0.3283924\ttotal: 217ms\tremaining: 36s\n",
      "6:\tlearn: 0.3068410\ttotal: 230ms\tremaining: 32.7s\n",
      "7:\tlearn: 0.2872778\ttotal: 245ms\tremaining: 30.3s\n",
      "8:\tlearn: 0.2702367\ttotal: 258ms\tremaining: 28.4s\n",
      "9:\tlearn: 0.2568042\ttotal: 271ms\tremaining: 26.9s\n",
      "10:\tlearn: 0.2460247\ttotal: 283ms\tremaining: 25.4s\n",
      "11:\tlearn: 0.2371696\ttotal: 294ms\tremaining: 24.2s\n",
      "12:\tlearn: 0.2227434\ttotal: 322ms\tremaining: 24.4s\n",
      "13:\tlearn: 0.2113300\ttotal: 337ms\tremaining: 23.7s\n",
      "14:\tlearn: 0.2019336\ttotal: 352ms\tremaining: 23.1s\n",
      "15:\tlearn: 0.1969025\ttotal: 369ms\tremaining: 22.7s\n",
      "16:\tlearn: 0.1919289\ttotal: 385ms\tremaining: 22.3s\n",
      "17:\tlearn: 0.1882537\ttotal: 420ms\tremaining: 22.9s\n",
      "18:\tlearn: 0.1816900\ttotal: 436ms\tremaining: 22.5s\n",
      "19:\tlearn: 0.1781046\ttotal: 454ms\tremaining: 22.2s\n",
      "20:\tlearn: 0.1737657\ttotal: 471ms\tremaining: 21.9s\n",
      "21:\tlearn: 0.1703701\ttotal: 485ms\tremaining: 21.6s\n",
      "22:\tlearn: 0.1682454\ttotal: 498ms\tremaining: 21.2s\n",
      "23:\tlearn: 0.1654591\ttotal: 511ms\tremaining: 20.8s\n",
      "24:\tlearn: 0.1627966\ttotal: 527ms\tremaining: 20.5s\n",
      "25:\tlearn: 0.1609921\ttotal: 539ms\tremaining: 20.2s\n",
      "26:\tlearn: 0.1566223\ttotal: 553ms\tremaining: 19.9s\n",
      "27:\tlearn: 0.1543402\ttotal: 567ms\tremaining: 19.7s\n",
      "28:\tlearn: 0.1530955\ttotal: 582ms\tremaining: 19.5s\n",
      "29:\tlearn: 0.1511832\ttotal: 596ms\tremaining: 19.3s\n",
      "30:\tlearn: 0.1499586\ttotal: 613ms\tremaining: 19.2s\n",
      "31:\tlearn: 0.1476612\ttotal: 625ms\tremaining: 18.9s\n",
      "32:\tlearn: 0.1463307\ttotal: 639ms\tremaining: 18.7s\n",
      "33:\tlearn: 0.1445326\ttotal: 652ms\tremaining: 18.5s\n",
      "34:\tlearn: 0.1433024\ttotal: 666ms\tremaining: 18.4s\n",
      "35:\tlearn: 0.1420345\ttotal: 678ms\tremaining: 18.2s\n",
      "36:\tlearn: 0.1411672\ttotal: 691ms\tremaining: 18s\n",
      "37:\tlearn: 0.1401499\ttotal: 703ms\tremaining: 17.8s\n",
      "38:\tlearn: 0.1387327\ttotal: 716ms\tremaining: 17.6s\n",
      "39:\tlearn: 0.1379037\ttotal: 729ms\tremaining: 17.5s\n",
      "40:\tlearn: 0.1355500\ttotal: 741ms\tremaining: 17.3s\n",
      "41:\tlearn: 0.1347922\ttotal: 754ms\tremaining: 17.2s\n",
      "42:\tlearn: 0.1339064\ttotal: 767ms\tremaining: 17.1s\n",
      "43:\tlearn: 0.1331960\ttotal: 781ms\tremaining: 17s\n",
      "44:\tlearn: 0.1325332\ttotal: 796ms\tremaining: 16.9s\n",
      "45:\tlearn: 0.1320485\ttotal: 812ms\tremaining: 16.8s\n",
      "46:\tlearn: 0.1312923\ttotal: 826ms\tremaining: 16.7s\n",
      "47:\tlearn: 0.1308534\ttotal: 838ms\tremaining: 16.6s\n",
      "48:\tlearn: 0.1304499\ttotal: 851ms\tremaining: 16.5s\n",
      "49:\tlearn: 0.1290858\ttotal: 865ms\tremaining: 16.4s\n",
      "50:\tlearn: 0.1285642\ttotal: 877ms\tremaining: 16.3s\n",
      "51:\tlearn: 0.1279383\ttotal: 888ms\tremaining: 16.2s\n",
      "52:\tlearn: 0.1266798\ttotal: 900ms\tremaining: 16.1s\n",
      "53:\tlearn: 0.1261625\ttotal: 911ms\tremaining: 16s\n",
      "54:\tlearn: 0.1254416\ttotal: 924ms\tremaining: 15.9s\n",
      "55:\tlearn: 0.1247782\ttotal: 935ms\tremaining: 15.8s\n",
      "56:\tlearn: 0.1244020\ttotal: 947ms\tremaining: 15.7s\n",
      "57:\tlearn: 0.1235971\ttotal: 959ms\tremaining: 15.6s\n",
      "58:\tlearn: 0.1232183\ttotal: 970ms\tremaining: 15.5s\n",
      "59:\tlearn: 0.1226452\ttotal: 984ms\tremaining: 15.4s\n",
      "60:\tlearn: 0.1222692\ttotal: 998ms\tremaining: 15.4s\n",
      "61:\tlearn: 0.1214250\ttotal: 1.01s\tremaining: 15.3s\n",
      "62:\tlearn: 0.1208996\ttotal: 1.02s\tremaining: 15.3s\n",
      "63:\tlearn: 0.1203192\ttotal: 1.04s\tremaining: 15.2s\n",
      "64:\tlearn: 0.1198558\ttotal: 1.05s\tremaining: 15.1s\n",
      "65:\tlearn: 0.1187525\ttotal: 1.06s\tremaining: 15s\n",
      "66:\tlearn: 0.1178550\ttotal: 1.07s\tremaining: 14.9s\n",
      "67:\tlearn: 0.1174841\ttotal: 1.08s\tremaining: 14.9s\n",
      "68:\tlearn: 0.1170952\ttotal: 1.09s\tremaining: 14.8s\n",
      "69:\tlearn: 0.1166892\ttotal: 1.11s\tremaining: 14.7s\n",
      "70:\tlearn: 0.1162726\ttotal: 1.12s\tremaining: 14.6s\n",
      "71:\tlearn: 0.1159284\ttotal: 1.13s\tremaining: 14.6s\n",
      "72:\tlearn: 0.1156946\ttotal: 1.14s\tremaining: 14.5s\n",
      "73:\tlearn: 0.1150785\ttotal: 1.15s\tremaining: 14.4s\n",
      "74:\tlearn: 0.1140660\ttotal: 1.16s\tremaining: 14.3s\n",
      "75:\tlearn: 0.1137786\ttotal: 1.18s\tremaining: 14.3s\n",
      "76:\tlearn: 0.1136119\ttotal: 1.19s\tremaining: 14.2s\n",
      "77:\tlearn: 0.1132585\ttotal: 1.2s\tremaining: 14.2s\n",
      "78:\tlearn: 0.1122901\ttotal: 1.22s\tremaining: 14.2s\n",
      "79:\tlearn: 0.1118528\ttotal: 1.23s\tremaining: 14.2s\n",
      "80:\tlearn: 0.1116394\ttotal: 1.24s\tremaining: 14.1s\n",
      "81:\tlearn: 0.1115179\ttotal: 1.25s\tremaining: 14s\n",
      "82:\tlearn: 0.1111763\ttotal: 1.27s\tremaining: 14s\n",
      "83:\tlearn: 0.1104304\ttotal: 1.28s\tremaining: 13.9s\n",
      "84:\tlearn: 0.1098364\ttotal: 1.29s\tremaining: 13.9s\n",
      "85:\tlearn: 0.1095967\ttotal: 1.3s\tremaining: 13.9s\n",
      "86:\tlearn: 0.1092402\ttotal: 1.32s\tremaining: 13.8s\n",
      "87:\tlearn: 0.1090340\ttotal: 1.33s\tremaining: 13.8s\n",
      "88:\tlearn: 0.1087634\ttotal: 1.34s\tremaining: 13.7s\n",
      "89:\tlearn: 0.1082820\ttotal: 1.35s\tremaining: 13.7s\n",
      "90:\tlearn: 0.1080023\ttotal: 1.37s\tremaining: 13.7s\n",
      "91:\tlearn: 0.1077066\ttotal: 1.38s\tremaining: 13.6s\n",
      "92:\tlearn: 0.1071710\ttotal: 1.4s\tremaining: 13.6s\n",
      "93:\tlearn: 0.1069358\ttotal: 1.41s\tremaining: 13.6s\n",
      "94:\tlearn: 0.1062696\ttotal: 1.43s\tremaining: 13.6s\n",
      "95:\tlearn: 0.1057475\ttotal: 1.45s\tremaining: 13.6s\n",
      "96:\tlearn: 0.1053009\ttotal: 1.46s\tremaining: 13.6s\n",
      "97:\tlearn: 0.1050501\ttotal: 1.47s\tremaining: 13.6s\n",
      "98:\tlearn: 0.1045575\ttotal: 1.49s\tremaining: 13.5s\n",
      "99:\tlearn: 0.1042760\ttotal: 1.5s\tremaining: 13.5s\n",
      "100:\tlearn: 0.1041223\ttotal: 1.51s\tremaining: 13.5s\n",
      "101:\tlearn: 0.1040454\ttotal: 1.53s\tremaining: 13.4s\n",
      "102:\tlearn: 0.1039202\ttotal: 1.54s\tremaining: 13.4s\n",
      "103:\tlearn: 0.1037396\ttotal: 1.55s\tremaining: 13.4s\n",
      "104:\tlearn: 0.1033325\ttotal: 1.56s\tremaining: 13.3s\n",
      "105:\tlearn: 0.1029766\ttotal: 1.58s\tremaining: 13.3s\n",
      "106:\tlearn: 0.1024687\ttotal: 1.59s\tremaining: 13.3s\n",
      "107:\tlearn: 0.1023254\ttotal: 1.6s\tremaining: 13.2s\n",
      "108:\tlearn: 0.1021877\ttotal: 1.62s\tremaining: 13.2s\n",
      "109:\tlearn: 0.1020258\ttotal: 1.63s\tremaining: 13.2s\n",
      "110:\tlearn: 0.1018150\ttotal: 1.65s\tremaining: 13.2s\n",
      "111:\tlearn: 0.1017534\ttotal: 1.66s\tremaining: 13.1s\n",
      "112:\tlearn: 0.1015719\ttotal: 1.67s\tremaining: 13.1s\n",
      "113:\tlearn: 0.1014548\ttotal: 1.68s\tremaining: 13.1s\n",
      "114:\tlearn: 0.1012239\ttotal: 1.69s\tremaining: 13s\n",
      "115:\tlearn: 0.1011299\ttotal: 1.71s\tremaining: 13s\n",
      "116:\tlearn: 0.1010113\ttotal: 1.72s\tremaining: 13s\n",
      "117:\tlearn: 0.1002584\ttotal: 1.73s\tremaining: 12.9s\n",
      "118:\tlearn: 0.1000151\ttotal: 1.74s\tremaining: 12.9s\n",
      "119:\tlearn: 0.0998553\ttotal: 1.75s\tremaining: 12.9s\n",
      "120:\tlearn: 0.0996833\ttotal: 1.77s\tremaining: 12.8s\n",
      "121:\tlearn: 0.0994180\ttotal: 1.78s\tremaining: 12.8s\n",
      "122:\tlearn: 0.0992087\ttotal: 1.79s\tremaining: 12.8s\n",
      "123:\tlearn: 0.0989106\ttotal: 1.81s\tremaining: 12.8s\n",
      "124:\tlearn: 0.0985455\ttotal: 1.82s\tremaining: 12.7s\n",
      "125:\tlearn: 0.0984413\ttotal: 1.83s\tremaining: 12.7s\n",
      "126:\tlearn: 0.0981483\ttotal: 1.85s\tremaining: 12.7s\n",
      "127:\tlearn: 0.0978628\ttotal: 1.86s\tremaining: 12.7s\n",
      "128:\tlearn: 0.0976568\ttotal: 1.88s\tremaining: 12.7s\n",
      "129:\tlearn: 0.0974226\ttotal: 1.9s\tremaining: 12.7s\n",
      "130:\tlearn: 0.0972868\ttotal: 1.91s\tremaining: 12.7s\n",
      "131:\tlearn: 0.0971318\ttotal: 1.93s\tremaining: 12.7s\n",
      "132:\tlearn: 0.0970668\ttotal: 1.94s\tremaining: 12.7s\n",
      "133:\tlearn: 0.0968577\ttotal: 1.96s\tremaining: 12.7s\n",
      "134:\tlearn: 0.0967201\ttotal: 1.97s\tremaining: 12.7s\n",
      "135:\tlearn: 0.0965882\ttotal: 1.99s\tremaining: 12.6s\n",
      "136:\tlearn: 0.0964779\ttotal: 2s\tremaining: 12.6s\n",
      "137:\tlearn: 0.0963562\ttotal: 2.01s\tremaining: 12.6s\n",
      "138:\tlearn: 0.0961815\ttotal: 2.03s\tremaining: 12.6s\n",
      "139:\tlearn: 0.0958613\ttotal: 2.04s\tremaining: 12.6s\n",
      "140:\tlearn: 0.0956853\ttotal: 2.06s\tremaining: 12.5s\n",
      "141:\tlearn: 0.0953209\ttotal: 2.07s\tremaining: 12.5s\n",
      "142:\tlearn: 0.0951161\ttotal: 2.08s\tremaining: 12.5s\n",
      "143:\tlearn: 0.0949128\ttotal: 2.09s\tremaining: 12.4s\n",
      "144:\tlearn: 0.0944191\ttotal: 2.1s\tremaining: 12.4s\n",
      "145:\tlearn: 0.0942902\ttotal: 2.12s\tremaining: 12.4s\n",
      "146:\tlearn: 0.0941393\ttotal: 2.13s\tremaining: 12.3s\n",
      "147:\tlearn: 0.0940491\ttotal: 2.14s\tremaining: 12.3s\n",
      "148:\tlearn: 0.0938534\ttotal: 2.15s\tremaining: 12.3s\n",
      "149:\tlearn: 0.0936887\ttotal: 2.16s\tremaining: 12.3s\n",
      "150:\tlearn: 0.0934960\ttotal: 2.17s\tremaining: 12.2s\n",
      "151:\tlearn: 0.0933864\ttotal: 2.19s\tremaining: 12.2s\n",
      "152:\tlearn: 0.0933204\ttotal: 2.2s\tremaining: 12.2s\n",
      "153:\tlearn: 0.0931890\ttotal: 2.21s\tremaining: 12.1s\n",
      "154:\tlearn: 0.0930193\ttotal: 2.22s\tremaining: 12.1s\n",
      "155:\tlearn: 0.0929840\ttotal: 2.23s\tremaining: 12.1s\n",
      "156:\tlearn: 0.0926228\ttotal: 2.25s\tremaining: 12.1s\n",
      "157:\tlearn: 0.0924808\ttotal: 2.26s\tremaining: 12.1s\n",
      "158:\tlearn: 0.0924138\ttotal: 2.28s\tremaining: 12s\n",
      "159:\tlearn: 0.0922830\ttotal: 2.29s\tremaining: 12s\n",
      "160:\tlearn: 0.0921051\ttotal: 2.3s\tremaining: 12s\n",
      "161:\tlearn: 0.0919350\ttotal: 2.31s\tremaining: 12s\n",
      "162:\tlearn: 0.0918325\ttotal: 2.33s\tremaining: 11.9s\n",
      "163:\tlearn: 0.0916120\ttotal: 2.34s\tremaining: 11.9s\n",
      "164:\tlearn: 0.0912311\ttotal: 2.35s\tremaining: 11.9s\n",
      "165:\tlearn: 0.0911365\ttotal: 2.36s\tremaining: 11.9s\n",
      "166:\tlearn: 0.0909669\ttotal: 2.37s\tremaining: 11.8s\n",
      "167:\tlearn: 0.0909104\ttotal: 2.38s\tremaining: 11.8s\n",
      "168:\tlearn: 0.0905882\ttotal: 2.39s\tremaining: 11.8s\n",
      "169:\tlearn: 0.0904703\ttotal: 2.4s\tremaining: 11.7s\n",
      "170:\tlearn: 0.0903574\ttotal: 2.42s\tremaining: 11.7s\n",
      "171:\tlearn: 0.0902622\ttotal: 2.43s\tremaining: 11.7s\n",
      "172:\tlearn: 0.0901598\ttotal: 2.45s\tremaining: 11.7s\n",
      "173:\tlearn: 0.0900651\ttotal: 2.46s\tremaining: 11.7s\n",
      "174:\tlearn: 0.0898673\ttotal: 2.47s\tremaining: 11.7s\n",
      "175:\tlearn: 0.0897609\ttotal: 2.48s\tremaining: 11.6s\n",
      "176:\tlearn: 0.0897164\ttotal: 2.49s\tremaining: 11.6s\n",
      "177:\tlearn: 0.0896501\ttotal: 2.51s\tremaining: 11.6s\n",
      "178:\tlearn: 0.0894947\ttotal: 2.52s\tremaining: 11.5s\n",
      "179:\tlearn: 0.0894063\ttotal: 2.53s\tremaining: 11.5s\n",
      "180:\tlearn: 0.0892432\ttotal: 2.54s\tremaining: 11.5s\n",
      "181:\tlearn: 0.0891385\ttotal: 2.55s\tremaining: 11.5s\n",
      "182:\tlearn: 0.0890215\ttotal: 2.56s\tremaining: 11.4s\n",
      "183:\tlearn: 0.0889631\ttotal: 2.58s\tremaining: 11.4s\n",
      "184:\tlearn: 0.0888205\ttotal: 2.59s\tremaining: 11.4s\n",
      "185:\tlearn: 0.0887476\ttotal: 2.6s\tremaining: 11.4s\n",
      "186:\tlearn: 0.0886182\ttotal: 2.61s\tremaining: 11.4s\n",
      "187:\tlearn: 0.0884107\ttotal: 2.65s\tremaining: 11.5s\n",
      "188:\tlearn: 0.0883650\ttotal: 2.66s\tremaining: 11.4s\n",
      "189:\tlearn: 0.0882923\ttotal: 2.68s\tremaining: 11.4s\n",
      "190:\tlearn: 0.0882263\ttotal: 2.7s\tremaining: 11.4s\n",
      "191:\tlearn: 0.0881691\ttotal: 2.71s\tremaining: 11.4s\n",
      "192:\tlearn: 0.0881049\ttotal: 2.72s\tremaining: 11.4s\n",
      "193:\tlearn: 0.0879284\ttotal: 2.74s\tremaining: 11.4s\n",
      "194:\tlearn: 0.0878788\ttotal: 2.75s\tremaining: 11.4s\n",
      "195:\tlearn: 0.0877781\ttotal: 2.77s\tremaining: 11.4s\n",
      "196:\tlearn: 0.0877440\ttotal: 2.78s\tremaining: 11.3s\n",
      "197:\tlearn: 0.0875596\ttotal: 2.79s\tremaining: 11.3s\n",
      "198:\tlearn: 0.0874073\ttotal: 2.81s\tremaining: 11.3s\n",
      "199:\tlearn: 0.0873336\ttotal: 2.83s\tremaining: 11.3s\n",
      "200:\tlearn: 0.0872332\ttotal: 2.84s\tremaining: 11.3s\n",
      "201:\tlearn: 0.0871486\ttotal: 2.86s\tremaining: 11.3s\n",
      "202:\tlearn: 0.0870612\ttotal: 2.87s\tremaining: 11.3s\n",
      "203:\tlearn: 0.0870180\ttotal: 2.88s\tremaining: 11.3s\n",
      "204:\tlearn: 0.0869447\ttotal: 2.9s\tremaining: 11.2s\n",
      "205:\tlearn: 0.0868563\ttotal: 2.91s\tremaining: 11.2s\n",
      "206:\tlearn: 0.0867929\ttotal: 2.92s\tremaining: 11.2s\n",
      "207:\tlearn: 0.0866642\ttotal: 2.93s\tremaining: 11.2s\n",
      "208:\tlearn: 0.0866432\ttotal: 2.95s\tremaining: 11.2s\n",
      "209:\tlearn: 0.0865359\ttotal: 2.96s\tremaining: 11.1s\n",
      "210:\tlearn: 0.0864660\ttotal: 2.97s\tremaining: 11.1s\n",
      "211:\tlearn: 0.0863814\ttotal: 2.98s\tremaining: 11.1s\n",
      "212:\tlearn: 0.0863232\ttotal: 2.99s\tremaining: 11.1s\n",
      "213:\tlearn: 0.0862157\ttotal: 3s\tremaining: 11s\n",
      "214:\tlearn: 0.0861396\ttotal: 3.01s\tremaining: 11s\n",
      "215:\tlearn: 0.0859117\ttotal: 3.02s\tremaining: 11s\n",
      "216:\tlearn: 0.0859031\ttotal: 3.04s\tremaining: 11s\n",
      "217:\tlearn: 0.0858624\ttotal: 3.05s\tremaining: 10.9s\n",
      "218:\tlearn: 0.0858086\ttotal: 3.06s\tremaining: 10.9s\n",
      "219:\tlearn: 0.0856856\ttotal: 3.08s\tremaining: 10.9s\n",
      "220:\tlearn: 0.0856413\ttotal: 3.09s\tremaining: 10.9s\n",
      "221:\tlearn: 0.0854449\ttotal: 3.1s\tremaining: 10.9s\n",
      "222:\tlearn: 0.0853087\ttotal: 3.11s\tremaining: 10.8s\n",
      "223:\tlearn: 0.0852304\ttotal: 3.12s\tremaining: 10.8s\n",
      "224:\tlearn: 0.0851410\ttotal: 3.13s\tremaining: 10.8s\n",
      "225:\tlearn: 0.0850396\ttotal: 3.15s\tremaining: 10.8s\n",
      "226:\tlearn: 0.0849786\ttotal: 3.16s\tremaining: 10.8s\n",
      "227:\tlearn: 0.0847735\ttotal: 3.17s\tremaining: 10.7s\n",
      "228:\tlearn: 0.0847143\ttotal: 3.18s\tremaining: 10.7s\n",
      "229:\tlearn: 0.0846261\ttotal: 3.19s\tremaining: 10.7s\n",
      "230:\tlearn: 0.0844766\ttotal: 3.2s\tremaining: 10.7s\n",
      "231:\tlearn: 0.0844401\ttotal: 3.22s\tremaining: 10.6s\n",
      "232:\tlearn: 0.0843837\ttotal: 3.23s\tremaining: 10.6s\n",
      "233:\tlearn: 0.0842820\ttotal: 3.24s\tremaining: 10.6s\n",
      "234:\tlearn: 0.0841163\ttotal: 3.25s\tremaining: 10.6s\n",
      "235:\tlearn: 0.0840000\ttotal: 3.27s\tremaining: 10.6s\n",
      "236:\tlearn: 0.0839677\ttotal: 3.28s\tremaining: 10.6s\n",
      "237:\tlearn: 0.0838955\ttotal: 3.29s\tremaining: 10.5s\n",
      "238:\tlearn: 0.0838545\ttotal: 3.3s\tremaining: 10.5s\n",
      "239:\tlearn: 0.0838251\ttotal: 3.32s\tremaining: 10.5s\n",
      "240:\tlearn: 0.0838058\ttotal: 3.33s\tremaining: 10.5s\n",
      "241:\tlearn: 0.0837332\ttotal: 3.34s\tremaining: 10.5s\n",
      "242:\tlearn: 0.0836835\ttotal: 3.35s\tremaining: 10.4s\n",
      "243:\tlearn: 0.0835567\ttotal: 3.36s\tremaining: 10.4s\n",
      "244:\tlearn: 0.0835310\ttotal: 3.37s\tremaining: 10.4s\n",
      "245:\tlearn: 0.0834957\ttotal: 3.38s\tremaining: 10.4s\n",
      "246:\tlearn: 0.0834189\ttotal: 3.39s\tremaining: 10.3s\n",
      "247:\tlearn: 0.0833460\ttotal: 3.4s\tremaining: 10.3s\n",
      "248:\tlearn: 0.0833006\ttotal: 3.42s\tremaining: 10.3s\n",
      "249:\tlearn: 0.0831356\ttotal: 3.43s\tremaining: 10.3s\n",
      "250:\tlearn: 0.0831019\ttotal: 3.44s\tremaining: 10.3s\n",
      "251:\tlearn: 0.0829714\ttotal: 3.45s\tremaining: 10.2s\n",
      "252:\tlearn: 0.0828687\ttotal: 3.47s\tremaining: 10.2s\n",
      "253:\tlearn: 0.0827567\ttotal: 3.48s\tremaining: 10.2s\n",
      "254:\tlearn: 0.0826984\ttotal: 3.49s\tremaining: 10.2s\n",
      "255:\tlearn: 0.0825588\ttotal: 3.5s\tremaining: 10.2s\n",
      "256:\tlearn: 0.0824305\ttotal: 3.52s\tremaining: 10.2s\n",
      "257:\tlearn: 0.0823403\ttotal: 3.53s\tremaining: 10.1s\n",
      "258:\tlearn: 0.0822439\ttotal: 3.54s\tremaining: 10.1s\n",
      "259:\tlearn: 0.0821211\ttotal: 3.55s\tremaining: 10.1s\n",
      "260:\tlearn: 0.0820849\ttotal: 3.56s\tremaining: 10.1s\n",
      "261:\tlearn: 0.0820214\ttotal: 3.57s\tremaining: 10.1s\n",
      "262:\tlearn: 0.0819769\ttotal: 3.58s\tremaining: 10s\n",
      "263:\tlearn: 0.0817630\ttotal: 3.59s\tremaining: 10s\n",
      "264:\tlearn: 0.0817082\ttotal: 3.6s\tremaining: 10s\n",
      "265:\tlearn: 0.0816291\ttotal: 3.62s\tremaining: 9.98s\n",
      "266:\tlearn: 0.0814981\ttotal: 3.63s\tremaining: 9.96s\n",
      "267:\tlearn: 0.0813833\ttotal: 3.64s\tremaining: 9.94s\n",
      "268:\tlearn: 0.0813299\ttotal: 3.65s\tremaining: 9.92s\n",
      "269:\tlearn: 0.0810496\ttotal: 3.67s\tremaining: 9.92s\n",
      "270:\tlearn: 0.0809694\ttotal: 3.68s\tremaining: 9.9s\n",
      "271:\tlearn: 0.0809447\ttotal: 3.69s\tremaining: 9.89s\n",
      "272:\tlearn: 0.0809268\ttotal: 3.71s\tremaining: 9.87s\n",
      "273:\tlearn: 0.0808529\ttotal: 3.72s\tremaining: 9.85s\n",
      "274:\tlearn: 0.0808329\ttotal: 3.73s\tremaining: 9.83s\n",
      "275:\tlearn: 0.0808093\ttotal: 3.74s\tremaining: 9.81s\n",
      "276:\tlearn: 0.0807586\ttotal: 3.75s\tremaining: 9.79s\n",
      "277:\tlearn: 0.0807382\ttotal: 3.76s\tremaining: 9.77s\n",
      "278:\tlearn: 0.0806558\ttotal: 3.77s\tremaining: 9.75s\n",
      "279:\tlearn: 0.0805240\ttotal: 3.79s\tremaining: 9.74s\n",
      "280:\tlearn: 0.0804419\ttotal: 3.8s\tremaining: 9.72s\n",
      "281:\tlearn: 0.0803598\ttotal: 3.81s\tremaining: 9.71s\n",
      "282:\tlearn: 0.0803224\ttotal: 3.82s\tremaining: 9.69s\n",
      "283:\tlearn: 0.0803059\ttotal: 3.83s\tremaining: 9.67s\n",
      "284:\tlearn: 0.0802631\ttotal: 3.85s\tremaining: 9.65s\n",
      "285:\tlearn: 0.0802198\ttotal: 3.86s\tremaining: 9.64s\n",
      "286:\tlearn: 0.0801489\ttotal: 3.88s\tremaining: 9.63s\n",
      "287:\tlearn: 0.0801060\ttotal: 3.89s\tremaining: 9.62s\n",
      "288:\tlearn: 0.0799626\ttotal: 3.9s\tremaining: 9.6s\n",
      "289:\tlearn: 0.0799193\ttotal: 3.91s\tremaining: 9.58s\n",
      "290:\tlearn: 0.0798800\ttotal: 3.92s\tremaining: 9.56s\n",
      "291:\tlearn: 0.0797535\ttotal: 3.94s\tremaining: 9.54s\n",
      "292:\tlearn: 0.0797138\ttotal: 3.95s\tremaining: 9.52s\n",
      "293:\tlearn: 0.0796279\ttotal: 3.96s\tremaining: 9.5s\n",
      "294:\tlearn: 0.0795828\ttotal: 3.97s\tremaining: 9.48s\n",
      "295:\tlearn: 0.0795098\ttotal: 3.98s\tremaining: 9.47s\n",
      "296:\tlearn: 0.0794244\ttotal: 3.99s\tremaining: 9.45s\n",
      "297:\tlearn: 0.0793435\ttotal: 4s\tremaining: 9.43s\n",
      "298:\tlearn: 0.0792965\ttotal: 4.01s\tremaining: 9.41s\n",
      "299:\tlearn: 0.0792419\ttotal: 4.03s\tremaining: 9.39s\n",
      "300:\tlearn: 0.0791305\ttotal: 4.04s\tremaining: 9.37s\n",
      "301:\tlearn: 0.0791118\ttotal: 4.05s\tremaining: 9.36s\n",
      "302:\tlearn: 0.0790355\ttotal: 4.06s\tremaining: 9.34s\n",
      "303:\tlearn: 0.0790075\ttotal: 4.08s\tremaining: 9.33s\n",
      "304:\tlearn: 0.0788458\ttotal: 4.09s\tremaining: 9.32s\n",
      "305:\tlearn: 0.0788180\ttotal: 4.1s\tremaining: 9.3s\n",
      "306:\tlearn: 0.0787561\ttotal: 4.11s\tremaining: 9.29s\n",
      "307:\tlearn: 0.0787083\ttotal: 4.13s\tremaining: 9.27s\n",
      "308:\tlearn: 0.0786612\ttotal: 4.14s\tremaining: 9.25s\n",
      "309:\tlearn: 0.0786333\ttotal: 4.15s\tremaining: 9.23s\n",
      "310:\tlearn: 0.0785686\ttotal: 4.16s\tremaining: 9.22s\n",
      "311:\tlearn: 0.0785125\ttotal: 4.17s\tremaining: 9.2s\n",
      "312:\tlearn: 0.0784940\ttotal: 4.18s\tremaining: 9.18s\n",
      "313:\tlearn: 0.0784605\ttotal: 4.19s\tremaining: 9.16s\n",
      "314:\tlearn: 0.0784268\ttotal: 4.21s\tremaining: 9.15s\n",
      "315:\tlearn: 0.0783214\ttotal: 4.22s\tremaining: 9.13s\n",
      "316:\tlearn: 0.0783026\ttotal: 4.23s\tremaining: 9.11s\n",
      "317:\tlearn: 0.0782545\ttotal: 4.24s\tremaining: 9.09s\n",
      "318:\tlearn: 0.0781891\ttotal: 4.25s\tremaining: 9.08s\n",
      "319:\tlearn: 0.0781416\ttotal: 4.27s\tremaining: 9.06s\n",
      "320:\tlearn: 0.0780756\ttotal: 4.28s\tremaining: 9.05s\n",
      "321:\tlearn: 0.0780288\ttotal: 4.29s\tremaining: 9.04s\n",
      "322:\tlearn: 0.0779879\ttotal: 4.31s\tremaining: 9.03s\n",
      "323:\tlearn: 0.0779646\ttotal: 4.32s\tremaining: 9.01s\n",
      "324:\tlearn: 0.0778939\ttotal: 4.33s\tremaining: 9s\n",
      "325:\tlearn: 0.0778496\ttotal: 4.34s\tremaining: 8.98s\n",
      "326:\tlearn: 0.0777792\ttotal: 4.36s\tremaining: 8.97s\n",
      "327:\tlearn: 0.0777557\ttotal: 4.37s\tremaining: 8.96s\n",
      "328:\tlearn: 0.0776721\ttotal: 4.38s\tremaining: 8.94s\n",
      "329:\tlearn: 0.0775658\ttotal: 4.4s\tremaining: 8.93s\n",
      "330:\tlearn: 0.0775042\ttotal: 4.41s\tremaining: 8.91s\n",
      "331:\tlearn: 0.0774561\ttotal: 4.42s\tremaining: 8.9s\n",
      "332:\tlearn: 0.0774004\ttotal: 4.44s\tremaining: 8.88s\n",
      "333:\tlearn: 0.0772799\ttotal: 4.45s\tremaining: 8.87s\n",
      "334:\tlearn: 0.0772460\ttotal: 4.46s\tremaining: 8.86s\n",
      "335:\tlearn: 0.0771681\ttotal: 4.47s\tremaining: 8.85s\n",
      "336:\tlearn: 0.0771329\ttotal: 4.49s\tremaining: 8.83s\n",
      "337:\tlearn: 0.0770607\ttotal: 4.5s\tremaining: 8.82s\n",
      "338:\tlearn: 0.0770447\ttotal: 4.51s\tremaining: 8.8s\n",
      "339:\tlearn: 0.0770258\ttotal: 4.52s\tremaining: 8.78s\n",
      "340:\tlearn: 0.0769772\ttotal: 4.54s\tremaining: 8.77s\n",
      "341:\tlearn: 0.0769179\ttotal: 4.55s\tremaining: 8.75s\n",
      "342:\tlearn: 0.0768986\ttotal: 4.56s\tremaining: 8.74s\n",
      "343:\tlearn: 0.0768650\ttotal: 4.57s\tremaining: 8.72s\n",
      "344:\tlearn: 0.0768173\ttotal: 4.58s\tremaining: 8.7s\n",
      "345:\tlearn: 0.0767778\ttotal: 4.6s\tremaining: 8.69s\n",
      "346:\tlearn: 0.0767236\ttotal: 4.61s\tremaining: 8.67s\n",
      "347:\tlearn: 0.0766755\ttotal: 4.62s\tremaining: 8.65s\n",
      "348:\tlearn: 0.0766247\ttotal: 4.63s\tremaining: 8.64s\n",
      "349:\tlearn: 0.0765879\ttotal: 4.64s\tremaining: 8.62s\n",
      "350:\tlearn: 0.0765628\ttotal: 4.65s\tremaining: 8.6s\n",
      "351:\tlearn: 0.0765552\ttotal: 4.67s\tremaining: 8.59s\n",
      "352:\tlearn: 0.0765124\ttotal: 4.68s\tremaining: 8.57s\n",
      "353:\tlearn: 0.0764049\ttotal: 4.7s\tremaining: 8.57s\n",
      "354:\tlearn: 0.0763911\ttotal: 4.71s\tremaining: 8.55s\n",
      "355:\tlearn: 0.0762751\ttotal: 4.72s\tremaining: 8.54s\n",
      "356:\tlearn: 0.0762319\ttotal: 4.73s\tremaining: 8.52s\n",
      "357:\tlearn: 0.0762162\ttotal: 4.74s\tremaining: 8.51s\n",
      "358:\tlearn: 0.0761769\ttotal: 4.75s\tremaining: 8.49s\n",
      "359:\tlearn: 0.0761561\ttotal: 4.77s\tremaining: 8.47s\n",
      "360:\tlearn: 0.0761032\ttotal: 4.78s\tremaining: 8.46s\n",
      "361:\tlearn: 0.0760855\ttotal: 4.79s\tremaining: 8.45s\n",
      "362:\tlearn: 0.0760777\ttotal: 4.8s\tremaining: 8.43s\n",
      "363:\tlearn: 0.0760272\ttotal: 4.82s\tremaining: 8.41s\n",
      "364:\tlearn: 0.0759865\ttotal: 4.83s\tremaining: 8.4s\n",
      "365:\tlearn: 0.0759391\ttotal: 4.84s\tremaining: 8.38s\n",
      "366:\tlearn: 0.0758855\ttotal: 4.85s\tremaining: 8.37s\n",
      "367:\tlearn: 0.0758281\ttotal: 4.86s\tremaining: 8.35s\n",
      "368:\tlearn: 0.0757554\ttotal: 4.88s\tremaining: 8.34s\n",
      "369:\tlearn: 0.0757372\ttotal: 4.89s\tremaining: 8.33s\n",
      "370:\tlearn: 0.0756730\ttotal: 4.9s\tremaining: 8.31s\n",
      "371:\tlearn: 0.0756500\ttotal: 4.92s\tremaining: 8.3s\n",
      "372:\tlearn: 0.0755831\ttotal: 4.93s\tremaining: 8.28s\n",
      "373:\tlearn: 0.0755347\ttotal: 4.94s\tremaining: 8.27s\n",
      "374:\tlearn: 0.0754932\ttotal: 4.95s\tremaining: 8.25s\n",
      "375:\tlearn: 0.0754323\ttotal: 4.96s\tremaining: 8.23s\n",
      "376:\tlearn: 0.0754009\ttotal: 4.97s\tremaining: 8.22s\n",
      "377:\tlearn: 0.0753517\ttotal: 4.98s\tremaining: 8.2s\n",
      "378:\tlearn: 0.0753113\ttotal: 5s\tremaining: 8.19s\n",
      "379:\tlearn: 0.0752764\ttotal: 5.01s\tremaining: 8.17s\n",
      "380:\tlearn: 0.0752363\ttotal: 5.02s\tremaining: 8.15s\n",
      "381:\tlearn: 0.0752093\ttotal: 5.03s\tremaining: 8.13s\n",
      "382:\tlearn: 0.0751681\ttotal: 5.04s\tremaining: 8.12s\n",
      "383:\tlearn: 0.0751572\ttotal: 5.05s\tremaining: 8.1s\n",
      "384:\tlearn: 0.0751167\ttotal: 5.07s\tremaining: 8.09s\n",
      "385:\tlearn: 0.0750824\ttotal: 5.08s\tremaining: 8.08s\n",
      "386:\tlearn: 0.0750416\ttotal: 5.09s\tremaining: 8.06s\n",
      "387:\tlearn: 0.0750071\ttotal: 5.1s\tremaining: 8.05s\n",
      "388:\tlearn: 0.0749480\ttotal: 5.12s\tremaining: 8.03s\n",
      "389:\tlearn: 0.0749287\ttotal: 5.13s\tremaining: 8.02s\n",
      "390:\tlearn: 0.0749104\ttotal: 5.14s\tremaining: 8s\n",
      "391:\tlearn: 0.0748773\ttotal: 5.15s\tremaining: 7.99s\n",
      "392:\tlearn: 0.0748126\ttotal: 5.16s\tremaining: 7.97s\n",
      "393:\tlearn: 0.0747709\ttotal: 5.17s\tremaining: 7.95s\n",
      "394:\tlearn: 0.0747449\ttotal: 5.18s\tremaining: 7.94s\n",
      "395:\tlearn: 0.0746919\ttotal: 5.19s\tremaining: 7.92s\n",
      "396:\tlearn: 0.0746752\ttotal: 5.21s\tremaining: 7.91s\n",
      "397:\tlearn: 0.0746460\ttotal: 5.22s\tremaining: 7.89s\n",
      "398:\tlearn: 0.0745429\ttotal: 5.23s\tremaining: 7.87s\n",
      "399:\tlearn: 0.0745121\ttotal: 5.24s\tremaining: 7.86s\n",
      "400:\tlearn: 0.0744902\ttotal: 5.25s\tremaining: 7.84s\n",
      "401:\tlearn: 0.0744661\ttotal: 5.26s\tremaining: 7.83s\n",
      "402:\tlearn: 0.0744271\ttotal: 5.28s\tremaining: 7.82s\n",
      "403:\tlearn: 0.0744015\ttotal: 5.29s\tremaining: 7.8s\n",
      "404:\tlearn: 0.0743731\ttotal: 5.3s\tremaining: 7.79s\n",
      "405:\tlearn: 0.0743309\ttotal: 5.32s\tremaining: 7.78s\n",
      "406:\tlearn: 0.0742953\ttotal: 5.33s\tremaining: 7.76s\n",
      "407:\tlearn: 0.0742376\ttotal: 5.34s\tremaining: 7.75s\n",
      "408:\tlearn: 0.0742050\ttotal: 5.35s\tremaining: 7.73s\n",
      "409:\tlearn: 0.0741604\ttotal: 5.36s\tremaining: 7.72s\n",
      "410:\tlearn: 0.0740939\ttotal: 5.37s\tremaining: 7.7s\n",
      "411:\tlearn: 0.0739981\ttotal: 5.38s\tremaining: 7.69s\n",
      "412:\tlearn: 0.0739721\ttotal: 5.4s\tremaining: 7.67s\n",
      "413:\tlearn: 0.0739487\ttotal: 5.41s\tremaining: 7.65s\n",
      "414:\tlearn: 0.0739112\ttotal: 5.42s\tremaining: 7.64s\n",
      "415:\tlearn: 0.0738574\ttotal: 5.43s\tremaining: 7.62s\n",
      "416:\tlearn: 0.0738235\ttotal: 5.44s\tremaining: 7.61s\n",
      "417:\tlearn: 0.0737812\ttotal: 5.45s\tremaining: 7.59s\n",
      "418:\tlearn: 0.0737307\ttotal: 5.46s\tremaining: 7.58s\n",
      "419:\tlearn: 0.0736706\ttotal: 5.48s\tremaining: 7.57s\n",
      "420:\tlearn: 0.0736358\ttotal: 5.5s\tremaining: 7.56s\n",
      "421:\tlearn: 0.0735594\ttotal: 5.51s\tremaining: 7.55s\n",
      "422:\tlearn: 0.0735261\ttotal: 5.52s\tremaining: 7.53s\n",
      "423:\tlearn: 0.0734855\ttotal: 5.53s\tremaining: 7.52s\n",
      "424:\tlearn: 0.0734448\ttotal: 5.54s\tremaining: 7.5s\n",
      "425:\tlearn: 0.0733885\ttotal: 5.56s\tremaining: 7.49s\n",
      "426:\tlearn: 0.0732517\ttotal: 5.57s\tremaining: 7.47s\n",
      "427:\tlearn: 0.0732227\ttotal: 5.58s\tremaining: 7.46s\n",
      "428:\tlearn: 0.0731891\ttotal: 5.59s\tremaining: 7.44s\n",
      "429:\tlearn: 0.0731329\ttotal: 5.61s\tremaining: 7.43s\n",
      "430:\tlearn: 0.0731007\ttotal: 5.62s\tremaining: 7.42s\n",
      "431:\tlearn: 0.0730620\ttotal: 5.63s\tremaining: 7.4s\n",
      "432:\tlearn: 0.0730195\ttotal: 5.64s\tremaining: 7.39s\n",
      "433:\tlearn: 0.0729647\ttotal: 5.66s\tremaining: 7.38s\n",
      "434:\tlearn: 0.0729122\ttotal: 5.67s\tremaining: 7.37s\n",
      "435:\tlearn: 0.0728707\ttotal: 5.68s\tremaining: 7.36s\n",
      "436:\tlearn: 0.0728383\ttotal: 5.7s\tremaining: 7.34s\n",
      "437:\tlearn: 0.0728088\ttotal: 5.71s\tremaining: 7.33s\n",
      "438:\tlearn: 0.0727710\ttotal: 5.73s\tremaining: 7.32s\n",
      "439:\tlearn: 0.0727378\ttotal: 5.74s\tremaining: 7.3s\n",
      "440:\tlearn: 0.0726268\ttotal: 5.75s\tremaining: 7.29s\n",
      "441:\tlearn: 0.0725440\ttotal: 5.76s\tremaining: 7.28s\n",
      "442:\tlearn: 0.0724919\ttotal: 5.78s\tremaining: 7.26s\n",
      "443:\tlearn: 0.0724646\ttotal: 5.79s\tremaining: 7.25s\n",
      "444:\tlearn: 0.0724290\ttotal: 5.8s\tremaining: 7.24s\n",
      "445:\tlearn: 0.0723976\ttotal: 5.81s\tremaining: 7.22s\n",
      "446:\tlearn: 0.0723732\ttotal: 5.82s\tremaining: 7.21s\n",
      "447:\tlearn: 0.0722627\ttotal: 5.84s\tremaining: 7.19s\n",
      "448:\tlearn: 0.0722297\ttotal: 5.85s\tremaining: 7.18s\n",
      "449:\tlearn: 0.0721985\ttotal: 5.86s\tremaining: 7.16s\n",
      "450:\tlearn: 0.0721702\ttotal: 5.87s\tremaining: 7.15s\n",
      "451:\tlearn: 0.0721410\ttotal: 5.89s\tremaining: 7.14s\n",
      "452:\tlearn: 0.0721120\ttotal: 5.9s\tremaining: 7.13s\n",
      "453:\tlearn: 0.0720872\ttotal: 5.91s\tremaining: 7.11s\n",
      "454:\tlearn: 0.0720777\ttotal: 5.92s\tremaining: 7.1s\n",
      "455:\tlearn: 0.0720538\ttotal: 5.93s\tremaining: 7.08s\n",
      "456:\tlearn: 0.0719642\ttotal: 5.95s\tremaining: 7.07s\n",
      "457:\tlearn: 0.0719406\ttotal: 5.96s\tremaining: 7.05s\n",
      "458:\tlearn: 0.0717887\ttotal: 5.97s\tremaining: 7.04s\n",
      "459:\tlearn: 0.0717429\ttotal: 5.98s\tremaining: 7.02s\n",
      "460:\tlearn: 0.0716776\ttotal: 5.99s\tremaining: 7s\n",
      "461:\tlearn: 0.0716463\ttotal: 6s\tremaining: 6.99s\n",
      "462:\tlearn: 0.0716189\ttotal: 6.01s\tremaining: 6.97s\n",
      "463:\tlearn: 0.0715492\ttotal: 6.02s\tremaining: 6.96s\n",
      "464:\tlearn: 0.0715154\ttotal: 6.03s\tremaining: 6.94s\n",
      "465:\tlearn: 0.0715106\ttotal: 6.04s\tremaining: 6.93s\n",
      "466:\tlearn: 0.0714697\ttotal: 6.06s\tremaining: 6.91s\n",
      "467:\tlearn: 0.0714237\ttotal: 6.07s\tremaining: 6.9s\n",
      "468:\tlearn: 0.0713829\ttotal: 6.08s\tremaining: 6.88s\n",
      "469:\tlearn: 0.0713379\ttotal: 6.09s\tremaining: 6.87s\n",
      "470:\tlearn: 0.0713265\ttotal: 6.11s\tremaining: 6.86s\n",
      "471:\tlearn: 0.0712920\ttotal: 6.12s\tremaining: 6.84s\n",
      "472:\tlearn: 0.0712536\ttotal: 6.13s\tremaining: 6.83s\n",
      "473:\tlearn: 0.0712108\ttotal: 6.14s\tremaining: 6.82s\n",
      "474:\tlearn: 0.0711598\ttotal: 6.15s\tremaining: 6.8s\n",
      "475:\tlearn: 0.0711223\ttotal: 6.17s\tremaining: 6.79s\n",
      "476:\tlearn: 0.0710798\ttotal: 6.18s\tremaining: 6.77s\n",
      "477:\tlearn: 0.0710664\ttotal: 6.19s\tremaining: 6.76s\n",
      "478:\tlearn: 0.0710326\ttotal: 6.2s\tremaining: 6.74s\n",
      "479:\tlearn: 0.0709951\ttotal: 6.21s\tremaining: 6.73s\n",
      "480:\tlearn: 0.0709711\ttotal: 6.22s\tremaining: 6.71s\n",
      "481:\tlearn: 0.0709494\ttotal: 6.23s\tremaining: 6.7s\n",
      "482:\tlearn: 0.0709199\ttotal: 6.25s\tremaining: 6.68s\n",
      "483:\tlearn: 0.0708820\ttotal: 6.26s\tremaining: 6.67s\n",
      "484:\tlearn: 0.0708395\ttotal: 6.27s\tremaining: 6.66s\n",
      "485:\tlearn: 0.0707978\ttotal: 6.28s\tremaining: 6.64s\n",
      "486:\tlearn: 0.0707822\ttotal: 6.29s\tremaining: 6.63s\n",
      "487:\tlearn: 0.0707618\ttotal: 6.31s\tremaining: 6.62s\n",
      "488:\tlearn: 0.0707130\ttotal: 6.32s\tremaining: 6.61s\n",
      "489:\tlearn: 0.0706225\ttotal: 6.33s\tremaining: 6.59s\n",
      "490:\tlearn: 0.0705549\ttotal: 6.34s\tremaining: 6.58s\n",
      "491:\tlearn: 0.0705462\ttotal: 6.36s\tremaining: 6.56s\n",
      "492:\tlearn: 0.0705259\ttotal: 6.37s\tremaining: 6.55s\n",
      "493:\tlearn: 0.0704962\ttotal: 6.38s\tremaining: 6.54s\n",
      "494:\tlearn: 0.0704860\ttotal: 6.39s\tremaining: 6.52s\n",
      "495:\tlearn: 0.0704528\ttotal: 6.4s\tremaining: 6.5s\n",
      "496:\tlearn: 0.0704147\ttotal: 6.41s\tremaining: 6.49s\n",
      "497:\tlearn: 0.0703845\ttotal: 6.42s\tremaining: 6.48s\n",
      "498:\tlearn: 0.0703503\ttotal: 6.43s\tremaining: 6.46s\n",
      "499:\tlearn: 0.0703236\ttotal: 6.45s\tremaining: 6.45s\n",
      "500:\tlearn: 0.0702832\ttotal: 6.46s\tremaining: 6.43s\n",
      "501:\tlearn: 0.0702538\ttotal: 6.47s\tremaining: 6.42s\n",
      "502:\tlearn: 0.0702340\ttotal: 6.48s\tremaining: 6.4s\n",
      "503:\tlearn: 0.0702197\ttotal: 6.49s\tremaining: 6.39s\n",
      "504:\tlearn: 0.0701896\ttotal: 6.51s\tremaining: 6.38s\n",
      "505:\tlearn: 0.0701669\ttotal: 6.52s\tremaining: 6.37s\n",
      "506:\tlearn: 0.0701339\ttotal: 6.53s\tremaining: 6.35s\n",
      "507:\tlearn: 0.0701012\ttotal: 6.54s\tremaining: 6.34s\n",
      "508:\tlearn: 0.0700672\ttotal: 6.56s\tremaining: 6.33s\n",
      "509:\tlearn: 0.0700264\ttotal: 6.57s\tremaining: 6.31s\n",
      "510:\tlearn: 0.0699804\ttotal: 6.58s\tremaining: 6.3s\n",
      "511:\tlearn: 0.0699487\ttotal: 6.59s\tremaining: 6.28s\n",
      "512:\tlearn: 0.0699308\ttotal: 6.6s\tremaining: 6.27s\n",
      "513:\tlearn: 0.0699007\ttotal: 6.61s\tremaining: 6.25s\n",
      "514:\tlearn: 0.0698716\ttotal: 6.63s\tremaining: 6.24s\n",
      "515:\tlearn: 0.0698629\ttotal: 6.64s\tremaining: 6.22s\n",
      "516:\tlearn: 0.0698443\ttotal: 6.65s\tremaining: 6.21s\n",
      "517:\tlearn: 0.0698109\ttotal: 6.66s\tremaining: 6.2s\n",
      "518:\tlearn: 0.0697805\ttotal: 6.67s\tremaining: 6.18s\n",
      "519:\tlearn: 0.0697742\ttotal: 6.68s\tremaining: 6.17s\n",
      "520:\tlearn: 0.0697243\ttotal: 6.69s\tremaining: 6.15s\n",
      "521:\tlearn: 0.0696703\ttotal: 6.71s\tremaining: 6.14s\n",
      "522:\tlearn: 0.0695868\ttotal: 6.72s\tremaining: 6.13s\n",
      "523:\tlearn: 0.0695408\ttotal: 6.73s\tremaining: 6.12s\n",
      "524:\tlearn: 0.0695097\ttotal: 6.75s\tremaining: 6.1s\n",
      "525:\tlearn: 0.0695040\ttotal: 6.76s\tremaining: 6.09s\n",
      "526:\tlearn: 0.0694630\ttotal: 6.77s\tremaining: 6.07s\n",
      "527:\tlearn: 0.0694184\ttotal: 6.78s\tremaining: 6.06s\n",
      "528:\tlearn: 0.0693747\ttotal: 6.79s\tremaining: 6.05s\n",
      "529:\tlearn: 0.0693554\ttotal: 6.8s\tremaining: 6.03s\n",
      "530:\tlearn: 0.0693327\ttotal: 6.81s\tremaining: 6.02s\n",
      "531:\tlearn: 0.0693007\ttotal: 6.83s\tremaining: 6s\n",
      "532:\tlearn: 0.0692405\ttotal: 6.84s\tremaining: 5.99s\n",
      "533:\tlearn: 0.0692190\ttotal: 6.85s\tremaining: 5.97s\n",
      "534:\tlearn: 0.0691915\ttotal: 6.86s\tremaining: 5.96s\n",
      "535:\tlearn: 0.0691582\ttotal: 6.87s\tremaining: 5.95s\n",
      "536:\tlearn: 0.0691216\ttotal: 6.88s\tremaining: 5.93s\n",
      "537:\tlearn: 0.0690888\ttotal: 6.9s\tremaining: 5.92s\n",
      "538:\tlearn: 0.0690560\ttotal: 6.91s\tremaining: 5.91s\n",
      "539:\tlearn: 0.0690227\ttotal: 6.92s\tremaining: 5.89s\n",
      "540:\tlearn: 0.0690042\ttotal: 6.93s\tremaining: 5.88s\n",
      "541:\tlearn: 0.0689652\ttotal: 6.95s\tremaining: 5.87s\n",
      "542:\tlearn: 0.0689191\ttotal: 6.96s\tremaining: 5.86s\n",
      "543:\tlearn: 0.0688833\ttotal: 6.97s\tremaining: 5.84s\n",
      "544:\tlearn: 0.0688632\ttotal: 6.98s\tremaining: 5.83s\n",
      "545:\tlearn: 0.0688173\ttotal: 6.99s\tremaining: 5.81s\n",
      "546:\tlearn: 0.0687566\ttotal: 7s\tremaining: 5.8s\n",
      "547:\tlearn: 0.0687461\ttotal: 7.01s\tremaining: 5.79s\n",
      "548:\tlearn: 0.0687196\ttotal: 7.03s\tremaining: 5.77s\n",
      "549:\tlearn: 0.0686895\ttotal: 7.04s\tremaining: 5.76s\n",
      "550:\tlearn: 0.0686687\ttotal: 7.05s\tremaining: 5.74s\n",
      "551:\tlearn: 0.0686310\ttotal: 7.06s\tremaining: 5.73s\n",
      "552:\tlearn: 0.0685878\ttotal: 7.07s\tremaining: 5.72s\n",
      "553:\tlearn: 0.0685576\ttotal: 7.08s\tremaining: 5.7s\n",
      "554:\tlearn: 0.0685225\ttotal: 7.1s\tremaining: 5.69s\n",
      "555:\tlearn: 0.0684914\ttotal: 7.11s\tremaining: 5.68s\n",
      "556:\tlearn: 0.0684848\ttotal: 7.12s\tremaining: 5.66s\n",
      "557:\tlearn: 0.0684736\ttotal: 7.13s\tremaining: 5.65s\n",
      "558:\tlearn: 0.0684443\ttotal: 7.14s\tremaining: 5.64s\n",
      "559:\tlearn: 0.0684300\ttotal: 7.16s\tremaining: 5.62s\n",
      "560:\tlearn: 0.0683808\ttotal: 7.17s\tremaining: 5.61s\n",
      "561:\tlearn: 0.0683461\ttotal: 7.18s\tremaining: 5.59s\n",
      "562:\tlearn: 0.0683225\ttotal: 7.19s\tremaining: 5.58s\n",
      "563:\tlearn: 0.0683113\ttotal: 7.2s\tremaining: 5.57s\n",
      "564:\tlearn: 0.0682884\ttotal: 7.21s\tremaining: 5.55s\n",
      "565:\tlearn: 0.0682415\ttotal: 7.23s\tremaining: 5.54s\n",
      "566:\tlearn: 0.0682112\ttotal: 7.24s\tremaining: 5.53s\n",
      "567:\tlearn: 0.0681978\ttotal: 7.25s\tremaining: 5.51s\n",
      "568:\tlearn: 0.0681726\ttotal: 7.26s\tremaining: 5.5s\n",
      "569:\tlearn: 0.0681440\ttotal: 7.27s\tremaining: 5.49s\n",
      "570:\tlearn: 0.0681206\ttotal: 7.29s\tremaining: 5.47s\n",
      "571:\tlearn: 0.0681159\ttotal: 7.3s\tremaining: 5.46s\n",
      "572:\tlearn: 0.0680323\ttotal: 7.31s\tremaining: 5.45s\n",
      "573:\tlearn: 0.0680094\ttotal: 7.33s\tremaining: 5.44s\n",
      "574:\tlearn: 0.0679921\ttotal: 7.34s\tremaining: 5.42s\n",
      "575:\tlearn: 0.0679471\ttotal: 7.35s\tremaining: 5.41s\n",
      "576:\tlearn: 0.0679208\ttotal: 7.36s\tremaining: 5.4s\n",
      "577:\tlearn: 0.0679033\ttotal: 7.37s\tremaining: 5.38s\n",
      "578:\tlearn: 0.0678903\ttotal: 7.38s\tremaining: 5.37s\n",
      "579:\tlearn: 0.0678883\ttotal: 7.39s\tremaining: 5.35s\n",
      "580:\tlearn: 0.0678590\ttotal: 7.4s\tremaining: 5.34s\n",
      "581:\tlearn: 0.0678061\ttotal: 7.42s\tremaining: 5.33s\n",
      "582:\tlearn: 0.0677713\ttotal: 7.43s\tremaining: 5.31s\n",
      "583:\tlearn: 0.0677275\ttotal: 7.44s\tremaining: 5.3s\n",
      "584:\tlearn: 0.0676948\ttotal: 7.45s\tremaining: 5.29s\n",
      "585:\tlearn: 0.0676622\ttotal: 7.46s\tremaining: 5.27s\n",
      "586:\tlearn: 0.0676127\ttotal: 7.47s\tremaining: 5.26s\n",
      "587:\tlearn: 0.0674961\ttotal: 7.49s\tremaining: 5.25s\n",
      "588:\tlearn: 0.0674804\ttotal: 7.5s\tremaining: 5.23s\n",
      "589:\tlearn: 0.0674726\ttotal: 7.51s\tremaining: 5.22s\n",
      "590:\tlearn: 0.0674464\ttotal: 7.52s\tremaining: 5.21s\n",
      "591:\tlearn: 0.0674147\ttotal: 7.54s\tremaining: 5.19s\n",
      "592:\tlearn: 0.0673879\ttotal: 7.55s\tremaining: 5.18s\n",
      "593:\tlearn: 0.0673636\ttotal: 7.56s\tremaining: 5.17s\n",
      "594:\tlearn: 0.0673279\ttotal: 7.57s\tremaining: 5.15s\n",
      "595:\tlearn: 0.0672920\ttotal: 7.58s\tremaining: 5.14s\n",
      "596:\tlearn: 0.0672600\ttotal: 7.59s\tremaining: 5.13s\n",
      "597:\tlearn: 0.0672345\ttotal: 7.61s\tremaining: 5.11s\n",
      "598:\tlearn: 0.0671959\ttotal: 7.62s\tremaining: 5.1s\n",
      "599:\tlearn: 0.0671683\ttotal: 7.63s\tremaining: 5.08s\n",
      "600:\tlearn: 0.0671363\ttotal: 7.64s\tremaining: 5.07s\n",
      "601:\tlearn: 0.0671066\ttotal: 7.65s\tremaining: 5.06s\n",
      "602:\tlearn: 0.0670949\ttotal: 7.66s\tremaining: 5.04s\n",
      "603:\tlearn: 0.0670546\ttotal: 7.67s\tremaining: 5.03s\n",
      "604:\tlearn: 0.0670372\ttotal: 7.68s\tremaining: 5.02s\n",
      "605:\tlearn: 0.0670027\ttotal: 7.7s\tremaining: 5.01s\n",
      "606:\tlearn: 0.0669456\ttotal: 7.71s\tremaining: 4.99s\n",
      "607:\tlearn: 0.0669118\ttotal: 7.73s\tremaining: 4.98s\n",
      "608:\tlearn: 0.0668852\ttotal: 7.74s\tremaining: 4.97s\n",
      "609:\tlearn: 0.0668608\ttotal: 7.75s\tremaining: 4.96s\n",
      "610:\tlearn: 0.0668357\ttotal: 7.76s\tremaining: 4.94s\n",
      "611:\tlearn: 0.0667890\ttotal: 7.78s\tremaining: 4.93s\n",
      "612:\tlearn: 0.0667722\ttotal: 7.79s\tremaining: 4.92s\n",
      "613:\tlearn: 0.0667596\ttotal: 7.8s\tremaining: 4.9s\n",
      "614:\tlearn: 0.0667052\ttotal: 7.81s\tremaining: 4.89s\n",
      "615:\tlearn: 0.0666971\ttotal: 7.82s\tremaining: 4.88s\n",
      "616:\tlearn: 0.0666775\ttotal: 7.83s\tremaining: 4.86s\n",
      "617:\tlearn: 0.0666532\ttotal: 7.84s\tremaining: 4.85s\n",
      "618:\tlearn: 0.0666249\ttotal: 7.85s\tremaining: 4.83s\n",
      "619:\tlearn: 0.0666176\ttotal: 7.87s\tremaining: 4.82s\n",
      "620:\tlearn: 0.0666133\ttotal: 7.88s\tremaining: 4.81s\n",
      "621:\tlearn: 0.0665663\ttotal: 7.89s\tremaining: 4.79s\n",
      "622:\tlearn: 0.0665310\ttotal: 7.9s\tremaining: 4.78s\n",
      "623:\tlearn: 0.0665170\ttotal: 7.92s\tremaining: 4.77s\n",
      "624:\tlearn: 0.0664889\ttotal: 7.93s\tremaining: 4.76s\n",
      "625:\tlearn: 0.0664391\ttotal: 7.94s\tremaining: 4.74s\n",
      "626:\tlearn: 0.0664068\ttotal: 7.95s\tremaining: 4.73s\n",
      "627:\tlearn: 0.0663724\ttotal: 7.96s\tremaining: 4.72s\n",
      "628:\tlearn: 0.0663283\ttotal: 7.97s\tremaining: 4.7s\n",
      "629:\tlearn: 0.0663139\ttotal: 7.99s\tremaining: 4.69s\n",
      "630:\tlearn: 0.0662769\ttotal: 8s\tremaining: 4.68s\n",
      "631:\tlearn: 0.0662689\ttotal: 8.01s\tremaining: 4.66s\n",
      "632:\tlearn: 0.0662542\ttotal: 8.02s\tremaining: 4.65s\n",
      "633:\tlearn: 0.0662080\ttotal: 8.03s\tremaining: 4.63s\n",
      "634:\tlearn: 0.0661723\ttotal: 8.04s\tremaining: 4.62s\n",
      "635:\tlearn: 0.0661541\ttotal: 8.05s\tremaining: 4.61s\n",
      "636:\tlearn: 0.0661383\ttotal: 8.06s\tremaining: 4.59s\n",
      "637:\tlearn: 0.0661108\ttotal: 8.07s\tremaining: 4.58s\n",
      "638:\tlearn: 0.0660814\ttotal: 8.09s\tremaining: 4.57s\n",
      "639:\tlearn: 0.0660658\ttotal: 8.1s\tremaining: 4.56s\n",
      "640:\tlearn: 0.0660536\ttotal: 8.12s\tremaining: 4.54s\n",
      "641:\tlearn: 0.0660380\ttotal: 8.13s\tremaining: 4.53s\n",
      "642:\tlearn: 0.0660113\ttotal: 8.14s\tremaining: 4.52s\n",
      "643:\tlearn: 0.0660092\ttotal: 8.15s\tremaining: 4.5s\n",
      "644:\tlearn: 0.0659969\ttotal: 8.16s\tremaining: 4.49s\n",
      "645:\tlearn: 0.0659775\ttotal: 8.17s\tremaining: 4.48s\n",
      "646:\tlearn: 0.0659078\ttotal: 8.18s\tremaining: 4.46s\n",
      "647:\tlearn: 0.0658932\ttotal: 8.19s\tremaining: 4.45s\n",
      "648:\tlearn: 0.0658617\ttotal: 8.21s\tremaining: 4.44s\n",
      "649:\tlearn: 0.0658352\ttotal: 8.22s\tremaining: 4.42s\n",
      "650:\tlearn: 0.0658080\ttotal: 8.23s\tremaining: 4.41s\n",
      "651:\tlearn: 0.0657842\ttotal: 8.24s\tremaining: 4.4s\n",
      "652:\tlearn: 0.0657587\ttotal: 8.25s\tremaining: 4.38s\n",
      "653:\tlearn: 0.0657498\ttotal: 8.26s\tremaining: 4.37s\n",
      "654:\tlearn: 0.0657218\ttotal: 8.28s\tremaining: 4.36s\n",
      "655:\tlearn: 0.0656956\ttotal: 8.29s\tremaining: 4.35s\n",
      "656:\tlearn: 0.0656845\ttotal: 8.3s\tremaining: 4.33s\n",
      "657:\tlearn: 0.0656562\ttotal: 8.31s\tremaining: 4.32s\n",
      "658:\tlearn: 0.0656335\ttotal: 8.33s\tremaining: 4.31s\n",
      "659:\tlearn: 0.0656227\ttotal: 8.34s\tremaining: 4.3s\n",
      "660:\tlearn: 0.0656030\ttotal: 8.35s\tremaining: 4.28s\n",
      "661:\tlearn: 0.0655731\ttotal: 8.36s\tremaining: 4.27s\n",
      "662:\tlearn: 0.0655297\ttotal: 8.37s\tremaining: 4.26s\n",
      "663:\tlearn: 0.0655042\ttotal: 8.38s\tremaining: 4.24s\n",
      "664:\tlearn: 0.0654515\ttotal: 8.4s\tremaining: 4.23s\n",
      "665:\tlearn: 0.0654259\ttotal: 8.41s\tremaining: 4.22s\n",
      "666:\tlearn: 0.0654110\ttotal: 8.42s\tremaining: 4.2s\n",
      "667:\tlearn: 0.0653937\ttotal: 8.43s\tremaining: 4.19s\n",
      "668:\tlearn: 0.0653588\ttotal: 8.44s\tremaining: 4.17s\n",
      "669:\tlearn: 0.0653127\ttotal: 8.45s\tremaining: 4.16s\n",
      "670:\tlearn: 0.0652920\ttotal: 8.46s\tremaining: 4.15s\n",
      "671:\tlearn: 0.0652578\ttotal: 8.47s\tremaining: 4.13s\n",
      "672:\tlearn: 0.0652398\ttotal: 8.48s\tremaining: 4.12s\n",
      "673:\tlearn: 0.0651947\ttotal: 8.5s\tremaining: 4.11s\n",
      "674:\tlearn: 0.0651782\ttotal: 8.51s\tremaining: 4.1s\n",
      "675:\tlearn: 0.0651390\ttotal: 8.52s\tremaining: 4.08s\n",
      "676:\tlearn: 0.0651158\ttotal: 8.54s\tremaining: 4.07s\n",
      "677:\tlearn: 0.0651005\ttotal: 8.55s\tremaining: 4.06s\n",
      "678:\tlearn: 0.0650851\ttotal: 8.56s\tremaining: 4.05s\n",
      "679:\tlearn: 0.0650597\ttotal: 8.57s\tremaining: 4.03s\n",
      "680:\tlearn: 0.0650430\ttotal: 8.58s\tremaining: 4.02s\n",
      "681:\tlearn: 0.0650135\ttotal: 8.59s\tremaining: 4.01s\n",
      "682:\tlearn: 0.0649909\ttotal: 8.6s\tremaining: 3.99s\n",
      "683:\tlearn: 0.0649642\ttotal: 8.61s\tremaining: 3.98s\n",
      "684:\tlearn: 0.0648953\ttotal: 8.63s\tremaining: 3.97s\n",
      "685:\tlearn: 0.0648704\ttotal: 8.64s\tremaining: 3.95s\n",
      "686:\tlearn: 0.0648341\ttotal: 8.65s\tremaining: 3.94s\n",
      "687:\tlearn: 0.0648144\ttotal: 8.66s\tremaining: 3.93s\n",
      "688:\tlearn: 0.0647638\ttotal: 8.67s\tremaining: 3.91s\n",
      "689:\tlearn: 0.0647315\ttotal: 8.69s\tremaining: 3.9s\n",
      "690:\tlearn: 0.0647080\ttotal: 8.7s\tremaining: 3.89s\n",
      "691:\tlearn: 0.0646841\ttotal: 8.71s\tremaining: 3.88s\n",
      "692:\tlearn: 0.0646195\ttotal: 8.72s\tremaining: 3.86s\n",
      "693:\tlearn: 0.0645965\ttotal: 8.74s\tremaining: 3.85s\n",
      "694:\tlearn: 0.0645604\ttotal: 8.75s\tremaining: 3.84s\n",
      "695:\tlearn: 0.0645109\ttotal: 8.76s\tremaining: 3.83s\n",
      "696:\tlearn: 0.0644763\ttotal: 8.78s\tremaining: 3.81s\n",
      "697:\tlearn: 0.0644400\ttotal: 8.79s\tremaining: 3.8s\n",
      "698:\tlearn: 0.0644314\ttotal: 8.8s\tremaining: 3.79s\n",
      "699:\tlearn: 0.0643985\ttotal: 8.81s\tremaining: 3.77s\n",
      "700:\tlearn: 0.0643778\ttotal: 8.82s\tremaining: 3.76s\n",
      "701:\tlearn: 0.0643699\ttotal: 8.83s\tremaining: 3.75s\n",
      "702:\tlearn: 0.0643549\ttotal: 8.84s\tremaining: 3.73s\n",
      "703:\tlearn: 0.0643186\ttotal: 8.85s\tremaining: 3.72s\n",
      "704:\tlearn: 0.0642937\ttotal: 8.87s\tremaining: 3.71s\n",
      "705:\tlearn: 0.0642236\ttotal: 8.88s\tremaining: 3.7s\n",
      "706:\tlearn: 0.0642091\ttotal: 8.89s\tremaining: 3.68s\n",
      "707:\tlearn: 0.0641664\ttotal: 8.9s\tremaining: 3.67s\n",
      "708:\tlearn: 0.0641411\ttotal: 8.92s\tremaining: 3.66s\n",
      "709:\tlearn: 0.0641283\ttotal: 8.93s\tremaining: 3.65s\n",
      "710:\tlearn: 0.0641216\ttotal: 8.94s\tremaining: 3.63s\n",
      "711:\tlearn: 0.0640961\ttotal: 8.95s\tremaining: 3.62s\n",
      "712:\tlearn: 0.0640587\ttotal: 8.96s\tremaining: 3.61s\n",
      "713:\tlearn: 0.0640288\ttotal: 8.97s\tremaining: 3.59s\n",
      "714:\tlearn: 0.0639834\ttotal: 8.99s\tremaining: 3.58s\n",
      "715:\tlearn: 0.0639709\ttotal: 9s\tremaining: 3.57s\n",
      "716:\tlearn: 0.0639488\ttotal: 9.01s\tremaining: 3.56s\n",
      "717:\tlearn: 0.0639279\ttotal: 9.02s\tremaining: 3.54s\n",
      "718:\tlearn: 0.0639168\ttotal: 9.03s\tremaining: 3.53s\n",
      "719:\tlearn: 0.0638785\ttotal: 9.04s\tremaining: 3.52s\n",
      "720:\tlearn: 0.0638540\ttotal: 9.05s\tremaining: 3.5s\n",
      "721:\tlearn: 0.0638291\ttotal: 9.06s\tremaining: 3.49s\n",
      "722:\tlearn: 0.0637934\ttotal: 9.07s\tremaining: 3.48s\n",
      "723:\tlearn: 0.0637597\ttotal: 9.09s\tremaining: 3.46s\n",
      "724:\tlearn: 0.0637328\ttotal: 9.1s\tremaining: 3.45s\n",
      "725:\tlearn: 0.0637157\ttotal: 9.11s\tremaining: 3.44s\n",
      "726:\tlearn: 0.0636857\ttotal: 9.12s\tremaining: 3.43s\n",
      "727:\tlearn: 0.0636433\ttotal: 9.14s\tremaining: 3.41s\n",
      "728:\tlearn: 0.0636121\ttotal: 9.15s\tremaining: 3.4s\n",
      "729:\tlearn: 0.0635701\ttotal: 9.16s\tremaining: 3.39s\n",
      "730:\tlearn: 0.0635436\ttotal: 9.17s\tremaining: 3.38s\n",
      "731:\tlearn: 0.0635251\ttotal: 9.18s\tremaining: 3.36s\n",
      "732:\tlearn: 0.0635008\ttotal: 9.2s\tremaining: 3.35s\n",
      "733:\tlearn: 0.0634842\ttotal: 9.21s\tremaining: 3.34s\n",
      "734:\tlearn: 0.0634702\ttotal: 9.22s\tremaining: 3.32s\n",
      "735:\tlearn: 0.0634444\ttotal: 9.23s\tremaining: 3.31s\n",
      "736:\tlearn: 0.0634278\ttotal: 9.24s\tremaining: 3.3s\n",
      "737:\tlearn: 0.0634092\ttotal: 9.25s\tremaining: 3.29s\n",
      "738:\tlearn: 0.0632387\ttotal: 9.27s\tremaining: 3.27s\n",
      "739:\tlearn: 0.0631844\ttotal: 9.28s\tremaining: 3.26s\n",
      "740:\tlearn: 0.0631752\ttotal: 9.29s\tremaining: 3.25s\n",
      "741:\tlearn: 0.0631418\ttotal: 9.3s\tremaining: 3.23s\n",
      "742:\tlearn: 0.0631216\ttotal: 9.32s\tremaining: 3.22s\n",
      "743:\tlearn: 0.0631111\ttotal: 9.33s\tremaining: 3.21s\n",
      "744:\tlearn: 0.0631101\ttotal: 9.34s\tremaining: 3.2s\n",
      "745:\tlearn: 0.0630795\ttotal: 9.35s\tremaining: 3.18s\n",
      "746:\tlearn: 0.0630443\ttotal: 9.36s\tremaining: 3.17s\n",
      "747:\tlearn: 0.0630213\ttotal: 9.38s\tremaining: 3.16s\n",
      "748:\tlearn: 0.0630047\ttotal: 9.39s\tremaining: 3.15s\n",
      "749:\tlearn: 0.0629920\ttotal: 9.4s\tremaining: 3.13s\n",
      "750:\tlearn: 0.0629723\ttotal: 9.41s\tremaining: 3.12s\n",
      "751:\tlearn: 0.0629443\ttotal: 9.42s\tremaining: 3.11s\n",
      "752:\tlearn: 0.0629167\ttotal: 9.43s\tremaining: 3.09s\n",
      "753:\tlearn: 0.0628194\ttotal: 9.44s\tremaining: 3.08s\n",
      "754:\tlearn: 0.0627727\ttotal: 9.45s\tremaining: 3.07s\n",
      "755:\tlearn: 0.0627242\ttotal: 9.46s\tremaining: 3.05s\n",
      "756:\tlearn: 0.0627043\ttotal: 9.48s\tremaining: 3.04s\n",
      "757:\tlearn: 0.0626878\ttotal: 9.49s\tremaining: 3.03s\n",
      "758:\tlearn: 0.0626604\ttotal: 9.5s\tremaining: 3.02s\n",
      "759:\tlearn: 0.0626591\ttotal: 9.51s\tremaining: 3s\n",
      "760:\tlearn: 0.0626478\ttotal: 9.53s\tremaining: 2.99s\n",
      "761:\tlearn: 0.0625973\ttotal: 9.54s\tremaining: 2.98s\n",
      "762:\tlearn: 0.0625331\ttotal: 9.55s\tremaining: 2.97s\n",
      "763:\tlearn: 0.0625003\ttotal: 9.56s\tremaining: 2.95s\n",
      "764:\tlearn: 0.0624690\ttotal: 9.57s\tremaining: 2.94s\n",
      "765:\tlearn: 0.0624423\ttotal: 9.58s\tremaining: 2.93s\n",
      "766:\tlearn: 0.0624151\ttotal: 9.6s\tremaining: 2.92s\n",
      "767:\tlearn: 0.0623882\ttotal: 9.61s\tremaining: 2.9s\n",
      "768:\tlearn: 0.0623370\ttotal: 9.62s\tremaining: 2.89s\n",
      "769:\tlearn: 0.0623120\ttotal: 9.63s\tremaining: 2.88s\n",
      "770:\tlearn: 0.0622818\ttotal: 9.64s\tremaining: 2.86s\n",
      "771:\tlearn: 0.0622580\ttotal: 9.65s\tremaining: 2.85s\n",
      "772:\tlearn: 0.0622248\ttotal: 9.67s\tremaining: 2.84s\n",
      "773:\tlearn: 0.0621630\ttotal: 9.68s\tremaining: 2.83s\n",
      "774:\tlearn: 0.0621431\ttotal: 9.69s\tremaining: 2.81s\n",
      "775:\tlearn: 0.0620968\ttotal: 9.71s\tremaining: 2.8s\n",
      "776:\tlearn: 0.0620737\ttotal: 9.72s\tremaining: 2.79s\n",
      "777:\tlearn: 0.0620503\ttotal: 9.73s\tremaining: 2.78s\n",
      "778:\tlearn: 0.0620293\ttotal: 9.75s\tremaining: 2.77s\n",
      "779:\tlearn: 0.0619928\ttotal: 9.76s\tremaining: 2.75s\n",
      "780:\tlearn: 0.0619714\ttotal: 9.77s\tremaining: 2.74s\n",
      "781:\tlearn: 0.0619374\ttotal: 9.78s\tremaining: 2.73s\n",
      "782:\tlearn: 0.0619193\ttotal: 9.79s\tremaining: 2.71s\n",
      "783:\tlearn: 0.0618979\ttotal: 9.8s\tremaining: 2.7s\n",
      "784:\tlearn: 0.0618727\ttotal: 9.82s\tremaining: 2.69s\n",
      "785:\tlearn: 0.0618466\ttotal: 9.83s\tremaining: 2.67s\n",
      "786:\tlearn: 0.0618264\ttotal: 9.84s\tremaining: 2.66s\n",
      "787:\tlearn: 0.0617999\ttotal: 9.85s\tremaining: 2.65s\n",
      "788:\tlearn: 0.0617652\ttotal: 9.86s\tremaining: 2.64s\n",
      "789:\tlearn: 0.0617361\ttotal: 9.87s\tremaining: 2.62s\n",
      "790:\tlearn: 0.0617074\ttotal: 9.88s\tremaining: 2.61s\n",
      "791:\tlearn: 0.0616702\ttotal: 9.9s\tremaining: 2.6s\n",
      "792:\tlearn: 0.0616526\ttotal: 9.91s\tremaining: 2.59s\n",
      "793:\tlearn: 0.0616270\ttotal: 9.92s\tremaining: 2.57s\n",
      "794:\tlearn: 0.0616002\ttotal: 9.94s\tremaining: 2.56s\n",
      "795:\tlearn: 0.0615713\ttotal: 9.95s\tremaining: 2.55s\n",
      "796:\tlearn: 0.0615611\ttotal: 9.96s\tremaining: 2.54s\n",
      "797:\tlearn: 0.0615370\ttotal: 9.97s\tremaining: 2.52s\n",
      "798:\tlearn: 0.0615114\ttotal: 9.98s\tremaining: 2.51s\n",
      "799:\tlearn: 0.0614801\ttotal: 9.99s\tremaining: 2.5s\n",
      "800:\tlearn: 0.0614510\ttotal: 10s\tremaining: 2.48s\n",
      "801:\tlearn: 0.0614303\ttotal: 10s\tremaining: 2.47s\n",
      "802:\tlearn: 0.0614024\ttotal: 10s\tremaining: 2.46s\n",
      "803:\tlearn: 0.0613621\ttotal: 10s\tremaining: 2.45s\n",
      "804:\tlearn: 0.0613321\ttotal: 10s\tremaining: 2.43s\n",
      "805:\tlearn: 0.0612996\ttotal: 10.1s\tremaining: 2.42s\n",
      "806:\tlearn: 0.0612931\ttotal: 10.1s\tremaining: 2.41s\n",
      "807:\tlearn: 0.0612453\ttotal: 10.1s\tremaining: 2.4s\n",
      "808:\tlearn: 0.0612233\ttotal: 10.1s\tremaining: 2.38s\n",
      "809:\tlearn: 0.0611755\ttotal: 10.1s\tremaining: 2.37s\n",
      "810:\tlearn: 0.0611501\ttotal: 10.1s\tremaining: 2.36s\n",
      "811:\tlearn: 0.0611010\ttotal: 10.1s\tremaining: 2.35s\n",
      "812:\tlearn: 0.0610644\ttotal: 10.1s\tremaining: 2.33s\n",
      "813:\tlearn: 0.0610399\ttotal: 10.2s\tremaining: 2.32s\n",
      "814:\tlearn: 0.0610192\ttotal: 10.2s\tremaining: 2.31s\n",
      "815:\tlearn: 0.0609923\ttotal: 10.2s\tremaining: 2.3s\n",
      "816:\tlearn: 0.0609825\ttotal: 10.2s\tremaining: 2.28s\n",
      "817:\tlearn: 0.0609741\ttotal: 10.2s\tremaining: 2.27s\n",
      "818:\tlearn: 0.0609574\ttotal: 10.2s\tremaining: 2.26s\n",
      "819:\tlearn: 0.0609356\ttotal: 10.2s\tremaining: 2.25s\n",
      "820:\tlearn: 0.0609221\ttotal: 10.2s\tremaining: 2.23s\n",
      "821:\tlearn: 0.0608937\ttotal: 10.3s\tremaining: 2.22s\n",
      "822:\tlearn: 0.0608789\ttotal: 10.3s\tremaining: 2.21s\n",
      "823:\tlearn: 0.0608598\ttotal: 10.3s\tremaining: 2.19s\n",
      "824:\tlearn: 0.0608461\ttotal: 10.3s\tremaining: 2.18s\n",
      "825:\tlearn: 0.0608330\ttotal: 10.3s\tremaining: 2.17s\n",
      "826:\tlearn: 0.0608110\ttotal: 10.3s\tremaining: 2.16s\n",
      "827:\tlearn: 0.0607903\ttotal: 10.3s\tremaining: 2.14s\n",
      "828:\tlearn: 0.0607616\ttotal: 10.3s\tremaining: 2.13s\n",
      "829:\tlearn: 0.0607376\ttotal: 10.3s\tremaining: 2.12s\n",
      "830:\tlearn: 0.0607292\ttotal: 10.4s\tremaining: 2.11s\n",
      "831:\tlearn: 0.0607041\ttotal: 10.4s\tremaining: 2.09s\n",
      "832:\tlearn: 0.0606781\ttotal: 10.4s\tremaining: 2.08s\n",
      "833:\tlearn: 0.0606343\ttotal: 10.4s\tremaining: 2.07s\n",
      "834:\tlearn: 0.0606216\ttotal: 10.4s\tremaining: 2.06s\n",
      "835:\tlearn: 0.0605854\ttotal: 10.4s\tremaining: 2.04s\n",
      "836:\tlearn: 0.0605627\ttotal: 10.4s\tremaining: 2.03s\n",
      "837:\tlearn: 0.0605490\ttotal: 10.4s\tremaining: 2.02s\n",
      "838:\tlearn: 0.0605329\ttotal: 10.4s\tremaining: 2s\n",
      "839:\tlearn: 0.0604867\ttotal: 10.5s\tremaining: 1.99s\n",
      "840:\tlearn: 0.0604565\ttotal: 10.5s\tremaining: 1.98s\n",
      "841:\tlearn: 0.0604422\ttotal: 10.5s\tremaining: 1.97s\n",
      "842:\tlearn: 0.0604236\ttotal: 10.5s\tremaining: 1.95s\n",
      "843:\tlearn: 0.0604016\ttotal: 10.5s\tremaining: 1.94s\n",
      "844:\tlearn: 0.0603757\ttotal: 10.5s\tremaining: 1.93s\n",
      "845:\tlearn: 0.0603368\ttotal: 10.5s\tremaining: 1.92s\n",
      "846:\tlearn: 0.0603116\ttotal: 10.5s\tremaining: 1.9s\n",
      "847:\tlearn: 0.0602820\ttotal: 10.6s\tremaining: 1.89s\n",
      "848:\tlearn: 0.0602623\ttotal: 10.6s\tremaining: 1.88s\n",
      "849:\tlearn: 0.0602429\ttotal: 10.6s\tremaining: 1.87s\n",
      "850:\tlearn: 0.0602050\ttotal: 10.6s\tremaining: 1.85s\n",
      "851:\tlearn: 0.0601826\ttotal: 10.6s\tremaining: 1.84s\n",
      "852:\tlearn: 0.0601583\ttotal: 10.6s\tremaining: 1.83s\n",
      "853:\tlearn: 0.0601426\ttotal: 10.6s\tremaining: 1.82s\n",
      "854:\tlearn: 0.0601202\ttotal: 10.6s\tremaining: 1.8s\n",
      "855:\tlearn: 0.0600603\ttotal: 10.6s\tremaining: 1.79s\n",
      "856:\tlearn: 0.0600268\ttotal: 10.7s\tremaining: 1.78s\n",
      "857:\tlearn: 0.0599964\ttotal: 10.7s\tremaining: 1.77s\n",
      "858:\tlearn: 0.0599726\ttotal: 10.7s\tremaining: 1.75s\n",
      "859:\tlearn: 0.0599500\ttotal: 10.7s\tremaining: 1.74s\n",
      "860:\tlearn: 0.0599283\ttotal: 10.7s\tremaining: 1.73s\n",
      "861:\tlearn: 0.0599134\ttotal: 10.7s\tremaining: 1.72s\n",
      "862:\tlearn: 0.0598966\ttotal: 10.7s\tremaining: 1.7s\n",
      "863:\tlearn: 0.0598671\ttotal: 10.8s\tremaining: 1.69s\n",
      "864:\tlearn: 0.0598371\ttotal: 10.8s\tremaining: 1.68s\n",
      "865:\tlearn: 0.0598094\ttotal: 10.8s\tremaining: 1.67s\n",
      "866:\tlearn: 0.0597839\ttotal: 10.8s\tremaining: 1.66s\n",
      "867:\tlearn: 0.0597498\ttotal: 10.8s\tremaining: 1.64s\n",
      "868:\tlearn: 0.0597200\ttotal: 10.8s\tremaining: 1.63s\n",
      "869:\tlearn: 0.0596980\ttotal: 10.8s\tremaining: 1.62s\n",
      "870:\tlearn: 0.0596540\ttotal: 10.8s\tremaining: 1.6s\n",
      "871:\tlearn: 0.0596293\ttotal: 10.9s\tremaining: 1.59s\n",
      "872:\tlearn: 0.0596131\ttotal: 10.9s\tremaining: 1.58s\n",
      "873:\tlearn: 0.0595815\ttotal: 10.9s\tremaining: 1.57s\n",
      "874:\tlearn: 0.0595531\ttotal: 10.9s\tremaining: 1.55s\n",
      "875:\tlearn: 0.0594874\ttotal: 10.9s\tremaining: 1.54s\n",
      "876:\tlearn: 0.0594692\ttotal: 10.9s\tremaining: 1.53s\n",
      "877:\tlearn: 0.0594248\ttotal: 10.9s\tremaining: 1.52s\n",
      "878:\tlearn: 0.0594015\ttotal: 10.9s\tremaining: 1.51s\n",
      "879:\tlearn: 0.0593612\ttotal: 11s\tremaining: 1.49s\n",
      "880:\tlearn: 0.0593274\ttotal: 11s\tremaining: 1.48s\n",
      "881:\tlearn: 0.0592933\ttotal: 11s\tremaining: 1.47s\n",
      "882:\tlearn: 0.0592820\ttotal: 11s\tremaining: 1.46s\n",
      "883:\tlearn: 0.0592476\ttotal: 11s\tremaining: 1.45s\n",
      "884:\tlearn: 0.0592261\ttotal: 11s\tremaining: 1.43s\n",
      "885:\tlearn: 0.0592163\ttotal: 11s\tremaining: 1.42s\n",
      "886:\tlearn: 0.0591954\ttotal: 11.1s\tremaining: 1.41s\n",
      "887:\tlearn: 0.0591730\ttotal: 11.1s\tremaining: 1.4s\n",
      "888:\tlearn: 0.0591469\ttotal: 11.1s\tremaining: 1.38s\n",
      "889:\tlearn: 0.0591023\ttotal: 11.1s\tremaining: 1.37s\n",
      "890:\tlearn: 0.0590799\ttotal: 11.1s\tremaining: 1.36s\n",
      "891:\tlearn: 0.0590540\ttotal: 11.1s\tremaining: 1.34s\n",
      "892:\tlearn: 0.0590316\ttotal: 11.1s\tremaining: 1.33s\n",
      "893:\tlearn: 0.0590056\ttotal: 11.1s\tremaining: 1.32s\n",
      "894:\tlearn: 0.0589818\ttotal: 11.2s\tremaining: 1.31s\n",
      "895:\tlearn: 0.0589810\ttotal: 11.2s\tremaining: 1.3s\n",
      "896:\tlearn: 0.0589570\ttotal: 11.2s\tremaining: 1.28s\n",
      "897:\tlearn: 0.0589473\ttotal: 11.2s\tremaining: 1.27s\n",
      "898:\tlearn: 0.0589323\ttotal: 11.2s\tremaining: 1.26s\n",
      "899:\tlearn: 0.0589029\ttotal: 11.2s\tremaining: 1.25s\n",
      "900:\tlearn: 0.0588806\ttotal: 11.2s\tremaining: 1.23s\n",
      "901:\tlearn: 0.0588639\ttotal: 11.2s\tremaining: 1.22s\n",
      "902:\tlearn: 0.0588467\ttotal: 11.3s\tremaining: 1.21s\n",
      "903:\tlearn: 0.0588308\ttotal: 11.3s\tremaining: 1.2s\n",
      "904:\tlearn: 0.0588051\ttotal: 11.3s\tremaining: 1.18s\n",
      "905:\tlearn: 0.0587791\ttotal: 11.3s\tremaining: 1.17s\n",
      "906:\tlearn: 0.0587522\ttotal: 11.3s\tremaining: 1.16s\n",
      "907:\tlearn: 0.0587280\ttotal: 11.3s\tremaining: 1.15s\n",
      "908:\tlearn: 0.0587195\ttotal: 11.3s\tremaining: 1.13s\n",
      "909:\tlearn: 0.0587039\ttotal: 11.3s\tremaining: 1.12s\n",
      "910:\tlearn: 0.0586926\ttotal: 11.3s\tremaining: 1.11s\n",
      "911:\tlearn: 0.0586717\ttotal: 11.4s\tremaining: 1.1s\n",
      "912:\tlearn: 0.0586499\ttotal: 11.4s\tremaining: 1.08s\n",
      "913:\tlearn: 0.0586192\ttotal: 11.4s\tremaining: 1.07s\n",
      "914:\tlearn: 0.0586136\ttotal: 11.4s\tremaining: 1.06s\n",
      "915:\tlearn: 0.0585638\ttotal: 11.4s\tremaining: 1.05s\n",
      "916:\tlearn: 0.0585485\ttotal: 11.4s\tremaining: 1.03s\n",
      "917:\tlearn: 0.0585110\ttotal: 11.4s\tremaining: 1.02s\n",
      "918:\tlearn: 0.0584918\ttotal: 11.4s\tremaining: 1.01s\n",
      "919:\tlearn: 0.0584766\ttotal: 11.5s\tremaining: 996ms\n",
      "920:\tlearn: 0.0584458\ttotal: 11.5s\tremaining: 983ms\n",
      "921:\tlearn: 0.0584289\ttotal: 11.5s\tremaining: 971ms\n",
      "922:\tlearn: 0.0584057\ttotal: 11.5s\tremaining: 958ms\n",
      "923:\tlearn: 0.0583840\ttotal: 11.5s\tremaining: 946ms\n",
      "924:\tlearn: 0.0583724\ttotal: 11.5s\tremaining: 933ms\n",
      "925:\tlearn: 0.0583654\ttotal: 11.5s\tremaining: 921ms\n",
      "926:\tlearn: 0.0583274\ttotal: 11.5s\tremaining: 908ms\n",
      "927:\tlearn: 0.0582960\ttotal: 11.5s\tremaining: 896ms\n",
      "928:\tlearn: 0.0582819\ttotal: 11.6s\tremaining: 883ms\n",
      "929:\tlearn: 0.0582583\ttotal: 11.6s\tremaining: 871ms\n",
      "930:\tlearn: 0.0582447\ttotal: 11.6s\tremaining: 858ms\n",
      "931:\tlearn: 0.0582257\ttotal: 11.6s\tremaining: 846ms\n",
      "932:\tlearn: 0.0581924\ttotal: 11.6s\tremaining: 833ms\n",
      "933:\tlearn: 0.0581725\ttotal: 11.6s\tremaining: 821ms\n",
      "934:\tlearn: 0.0581462\ttotal: 11.6s\tremaining: 808ms\n",
      "935:\tlearn: 0.0581209\ttotal: 11.6s\tremaining: 796ms\n",
      "936:\tlearn: 0.0580984\ttotal: 11.7s\tremaining: 783ms\n",
      "937:\tlearn: 0.0580606\ttotal: 11.7s\tremaining: 771ms\n",
      "938:\tlearn: 0.0580315\ttotal: 11.7s\tremaining: 758ms\n",
      "939:\tlearn: 0.0580059\ttotal: 11.7s\tremaining: 746ms\n",
      "940:\tlearn: 0.0579734\ttotal: 11.7s\tremaining: 733ms\n",
      "941:\tlearn: 0.0579518\ttotal: 11.7s\tremaining: 721ms\n",
      "942:\tlearn: 0.0579328\ttotal: 11.7s\tremaining: 708ms\n",
      "943:\tlearn: 0.0579016\ttotal: 11.7s\tremaining: 696ms\n",
      "944:\tlearn: 0.0578719\ttotal: 11.7s\tremaining: 684ms\n",
      "945:\tlearn: 0.0578471\ttotal: 11.8s\tremaining: 671ms\n",
      "946:\tlearn: 0.0577647\ttotal: 11.8s\tremaining: 659ms\n",
      "947:\tlearn: 0.0577381\ttotal: 11.8s\tremaining: 647ms\n",
      "948:\tlearn: 0.0577096\ttotal: 11.8s\tremaining: 634ms\n",
      "949:\tlearn: 0.0576923\ttotal: 11.8s\tremaining: 622ms\n",
      "950:\tlearn: 0.0576738\ttotal: 11.8s\tremaining: 609ms\n",
      "951:\tlearn: 0.0576599\ttotal: 11.8s\tremaining: 597ms\n",
      "952:\tlearn: 0.0576428\ttotal: 11.8s\tremaining: 584ms\n",
      "953:\tlearn: 0.0576229\ttotal: 11.9s\tremaining: 572ms\n",
      "954:\tlearn: 0.0576058\ttotal: 11.9s\tremaining: 559ms\n",
      "955:\tlearn: 0.0575750\ttotal: 11.9s\tremaining: 547ms\n",
      "956:\tlearn: 0.0575485\ttotal: 11.9s\tremaining: 534ms\n",
      "957:\tlearn: 0.0575218\ttotal: 11.9s\tremaining: 522ms\n",
      "958:\tlearn: 0.0575104\ttotal: 11.9s\tremaining: 509ms\n",
      "959:\tlearn: 0.0574867\ttotal: 11.9s\tremaining: 497ms\n",
      "960:\tlearn: 0.0574656\ttotal: 11.9s\tremaining: 484ms\n",
      "961:\tlearn: 0.0574549\ttotal: 11.9s\tremaining: 472ms\n",
      "962:\tlearn: 0.0574456\ttotal: 12s\tremaining: 460ms\n",
      "963:\tlearn: 0.0574355\ttotal: 12s\tremaining: 447ms\n",
      "964:\tlearn: 0.0574040\ttotal: 12s\tremaining: 435ms\n",
      "965:\tlearn: 0.0573820\ttotal: 12s\tremaining: 422ms\n",
      "966:\tlearn: 0.0573060\ttotal: 12s\tremaining: 410ms\n",
      "967:\tlearn: 0.0572732\ttotal: 12s\tremaining: 398ms\n",
      "968:\tlearn: 0.0572616\ttotal: 12s\tremaining: 385ms\n",
      "969:\tlearn: 0.0572268\ttotal: 12.1s\tremaining: 373ms\n",
      "970:\tlearn: 0.0572143\ttotal: 12.1s\tremaining: 360ms\n",
      "971:\tlearn: 0.0571912\ttotal: 12.1s\tremaining: 348ms\n",
      "972:\tlearn: 0.0571477\ttotal: 12.1s\tremaining: 336ms\n",
      "973:\tlearn: 0.0571251\ttotal: 12.1s\tremaining: 323ms\n",
      "974:\tlearn: 0.0571037\ttotal: 12.1s\tremaining: 311ms\n",
      "975:\tlearn: 0.0570977\ttotal: 12.1s\tremaining: 298ms\n",
      "976:\tlearn: 0.0570836\ttotal: 12.2s\tremaining: 286ms\n",
      "977:\tlearn: 0.0570742\ttotal: 12.2s\tremaining: 274ms\n",
      "978:\tlearn: 0.0570676\ttotal: 12.2s\tremaining: 261ms\n",
      "979:\tlearn: 0.0570556\ttotal: 12.2s\tremaining: 249ms\n",
      "980:\tlearn: 0.0570461\ttotal: 12.2s\tremaining: 237ms\n",
      "981:\tlearn: 0.0570252\ttotal: 12.2s\tremaining: 224ms\n",
      "982:\tlearn: 0.0569992\ttotal: 12.2s\tremaining: 212ms\n",
      "983:\tlearn: 0.0569305\ttotal: 12.3s\tremaining: 199ms\n",
      "984:\tlearn: 0.0569164\ttotal: 12.3s\tremaining: 187ms\n",
      "985:\tlearn: 0.0568927\ttotal: 12.3s\tremaining: 175ms\n",
      "986:\tlearn: 0.0568570\ttotal: 12.3s\tremaining: 162ms\n",
      "987:\tlearn: 0.0568562\ttotal: 12.3s\tremaining: 150ms\n",
      "988:\tlearn: 0.0568354\ttotal: 12.3s\tremaining: 137ms\n",
      "989:\tlearn: 0.0568095\ttotal: 12.4s\tremaining: 125ms\n",
      "990:\tlearn: 0.0567928\ttotal: 12.4s\tremaining: 112ms\n",
      "991:\tlearn: 0.0567590\ttotal: 12.4s\tremaining: 99.9ms\n",
      "992:\tlearn: 0.0567453\ttotal: 12.4s\tremaining: 87.4ms\n",
      "993:\tlearn: 0.0567266\ttotal: 12.4s\tremaining: 74.9ms\n",
      "994:\tlearn: 0.0567167\ttotal: 12.4s\tremaining: 62.5ms\n",
      "995:\tlearn: 0.0566896\ttotal: 12.4s\tremaining: 50ms\n",
      "996:\tlearn: 0.0566573\ttotal: 12.5s\tremaining: 37.5ms\n",
      "997:\tlearn: 0.0566400\ttotal: 12.5s\tremaining: 25ms\n",
      "998:\tlearn: 0.0566224\ttotal: 12.5s\tremaining: 12.5ms\n",
      "999:\tlearn: 0.0565964\ttotal: 12.5s\tremaining: 0us\n"
     ]
    },
    {
     "data": {
      "text/plain": "0.9603382099349168"
     },
     "execution_count": 47,
     "metadata": {},
     "output_type": "execute_result"
    }
   ],
   "source": [
    "from catboost import CatBoostClassifier\n",
    "model = CatBoostClassifier(random_state=26)\n",
    "model.fit(X_train, y_train)\n",
    "preds_class = model.predict(X_test)\n",
    "f1_score(preds_class, y_test)"
   ],
   "metadata": {
    "collapsed": false,
    "ExecuteTime": {
     "end_time": "2023-08-16T04:30:21.841051300Z",
     "start_time": "2023-08-16T04:30:07.463343500Z"
    }
   }
  },
  {
   "cell_type": "code",
   "execution_count": 48,
   "outputs": [
    {
     "ename": "AttributeError",
     "evalue": "'RandomForestClassifier' object has no attribute 'get_feature_importance'",
     "output_type": "error",
     "traceback": [
      "\u001B[1;31m---------------------------------------------------------------------------\u001B[0m",
      "\u001B[1;31mAttributeError\u001B[0m                            Traceback (most recent call last)",
      "Cell \u001B[1;32mIn[48], line 3\u001B[0m\n\u001B[0;32m      1\u001B[0m pd\u001B[38;5;241m.\u001B[39mDataFrame(\n\u001B[0;32m      2\u001B[0m     {\n\u001B[1;32m----> 3\u001B[0m         \u001B[38;5;124m\"\u001B[39m\u001B[38;5;124mfeature_importance\u001B[39m\u001B[38;5;124m\"\u001B[39m: \u001B[43mclf\u001B[49m\u001B[38;5;241;43m.\u001B[39;49m\u001B[43mget_feature_importance\u001B[49m(),\n\u001B[0;32m      4\u001B[0m         \u001B[38;5;124m\"\u001B[39m\u001B[38;5;124mfeature_names\u001B[39m\u001B[38;5;124m\"\u001B[39m: df\u001B[38;5;241m.\u001B[39mdrop(columns\u001B[38;5;241m=\u001B[39m\u001B[38;5;124m\"\u001B[39m\u001B[38;5;124msatisfaction\u001B[39m\u001B[38;5;124m\"\u001B[39m)\u001B[38;5;241m.\u001B[39mcolumns,\n\u001B[0;32m      5\u001B[0m     }\n\u001B[0;32m      6\u001B[0m )\u001B[38;5;241m.\u001B[39msort_values(by\u001B[38;5;241m=\u001B[39m[\u001B[38;5;124m\"\u001B[39m\u001B[38;5;124mfeature_importance\u001B[39m\u001B[38;5;124m\"\u001B[39m], ascending\u001B[38;5;241m=\u001B[39m\u001B[38;5;28;01mFalse\u001B[39;00m)\n",
      "\u001B[1;31mAttributeError\u001B[0m: 'RandomForestClassifier' object has no attribute 'get_feature_importance'"
     ]
    }
   ],
   "source": [
    "pd.DataFrame(\n",
    "    {\n",
    "        \"feature_importance\": clf.get_feature_importance(),\n",
    "        \"feature_names\": df.drop(columns=\"satisfaction\").columns,\n",
    "    }\n",
    ").sort_values(by=[\"feature_importance\"], ascending=False)"
   ],
   "metadata": {
    "collapsed": false,
    "ExecuteTime": {
     "end_time": "2023-08-16T04:31:28.664121100Z",
     "start_time": "2023-08-16T04:31:28.625122Z"
    }
   }
  },
  {
   "cell_type": "code",
   "execution_count": null,
   "outputs": [],
   "source": [],
   "metadata": {
    "collapsed": false
   }
  }
 ],
 "metadata": {
  "kernelspec": {
   "display_name": "Python 3",
   "language": "python",
   "name": "python3"
  },
  "language_info": {
   "codemirror_mode": {
    "name": "ipython",
    "version": 2
   },
   "file_extension": ".py",
   "mimetype": "text/x-python",
   "name": "python",
   "nbconvert_exporter": "python",
   "pygments_lexer": "ipython2",
   "version": "2.7.6"
  }
 },
 "nbformat": 4,
 "nbformat_minor": 0
}
