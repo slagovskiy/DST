{
 "cells": [
  {
   "cell_type": "markdown",
   "id": "f468bf1e",
   "metadata": {},
   "source": [
    "## Область определения"
   ]
  },
  {
   "cell_type": "code",
   "execution_count": 16,
   "id": "c95eac41",
   "metadata": {
    "ExecuteTime": {
     "end_time": "2023-06-28T16:42:12.526204700Z",
     "start_time": "2023-06-28T16:42:12.481141700Z"
    }
   },
   "outputs": [
    {
     "data": {
      "text/plain": "Union(Interval.open(-oo, -5), Interval.open(-5, oo))",
      "text/latex": "$\\displaystyle \\left(-\\infty, -5\\right) \\cup \\left(-5, \\infty\\right)$"
     },
     "execution_count": 16,
     "metadata": {},
     "output_type": "execute_result"
    }
   ],
   "source": [
    "from sympy import Symbol, S\n",
    "from sympy.calculus.util import continuous_domain \n",
    "x = Symbol(\"x\") \n",
    "f = x**3/(2*(x+5)**2)\n",
    "continuous_domain(f, x, S.Reals)\n"
   ]
  },
  {
   "cell_type": "markdown",
   "id": "3def5ae7",
   "metadata": {},
   "source": [
    "## Область значений функции"
   ]
  },
  {
   "cell_type": "code",
   "execution_count": 17,
   "id": "84f388ff",
   "metadata": {
    "ExecuteTime": {
     "end_time": "2023-06-28T16:42:43.815654700Z",
     "start_time": "2023-06-28T16:42:43.607562500Z"
    }
   },
   "outputs": [
    {
     "data": {
      "text/plain": "Interval(-oo, oo)",
      "text/latex": "$\\displaystyle \\left(-\\infty, \\infty\\right)$"
     },
     "execution_count": 17,
     "metadata": {},
     "output_type": "execute_result"
    }
   ],
   "source": [
    "from sympy import Symbol, S\n",
    "from sympy.calculus.util import function_range\n",
    "x = Symbol(\"x\") \n",
    "f = x**3/(2*(x+5)**2)\n",
    "function_range(f, x, S.Reals)\n"
   ]
  },
  {
   "cell_type": "markdown",
   "id": "39726364",
   "metadata": {},
   "source": [
    "## Нахождение точек пересечения с осями координат"
   ]
  },
  {
   "cell_type": "code",
   "execution_count": 18,
   "id": "c484f33f",
   "metadata": {
    "ExecuteTime": {
     "end_time": "2023-06-28T16:43:54.239660600Z",
     "start_time": "2023-06-28T16:43:54.133313500Z"
    }
   },
   "outputs": [
    {
     "data": {
      "text/plain": "{0}",
      "text/latex": "$\\displaystyle \\left\\{0\\right\\}$"
     },
     "execution_count": 18,
     "metadata": {},
     "output_type": "execute_result"
    }
   ],
   "source": [
    "from sympy import solveset, Eq\n",
    "f = x**3/(2*(x+5)**2)\n",
    "solveset(Eq(f, 0), x)"
   ]
  },
  {
   "cell_type": "code",
   "execution_count": 19,
   "id": "a11f173f",
   "metadata": {
    "ExecuteTime": {
     "end_time": "2023-06-28T16:44:01.436045900Z",
     "start_time": "2023-06-28T16:44:01.372014Z"
    }
   },
   "outputs": [
    {
     "data": {
      "text/plain": "0",
      "text/latex": "$\\displaystyle 0$"
     },
     "execution_count": 19,
     "metadata": {},
     "output_type": "execute_result"
    }
   ],
   "source": [
    "x = Symbol(\"x\")\n",
    "f = x**3/(2*(x+5)**2)\n",
    "f.subs(x, 0)"
   ]
  },
  {
   "cell_type": "markdown",
   "id": "14d60350",
   "metadata": {},
   "source": [
    "## Нахождение производной"
   ]
  },
  {
   "cell_type": "code",
   "execution_count": 20,
   "id": "749f70c3",
   "metadata": {
    "ExecuteTime": {
     "end_time": "2023-06-28T16:44:23.078094800Z",
     "start_time": "2023-06-28T16:44:23.037464700Z"
    }
   },
   "outputs": [
    {
     "data": {
      "text/plain": "-x**3/(x + 5)**3 + 3*x**2/(2*(x + 5)**2)",
      "text/latex": "$\\displaystyle - \\frac{x^{3}}{\\left(x + 5\\right)^{3}} + \\frac{3 x^{2}}{2 \\left(x + 5\\right)^{2}}$"
     },
     "execution_count": 20,
     "metadata": {},
     "output_type": "execute_result"
    }
   ],
   "source": [
    "import sympy\n",
    "from sympy import diff\n",
    "x = sympy.Symbol(\"x\")\n",
    "expr = x**3/(2*(x+5)**2)\n",
    "expr.diff(x)\n"
   ]
  },
  {
   "cell_type": "code",
   "execution_count": 7,
   "id": "7d1093f9",
   "metadata": {
    "ExecuteTime": {
     "end_time": "2023-06-28T16:33:27.049592800Z",
     "start_time": "2023-06-28T16:33:26.887142200Z"
    }
   },
   "outputs": [
    {
     "data": {
      "text/plain": "{0, -sqrt(3), sqrt(3)}",
      "text/latex": "$\\displaystyle \\left\\{0, - \\sqrt{3}, \\sqrt{3}\\right\\}$"
     },
     "execution_count": 7,
     "metadata": {},
     "output_type": "execute_result"
    }
   ],
   "source": [
    "y = expr.diff(x)\n",
    "solveset(Eq(y, 0), x)"
   ]
  },
  {
   "cell_type": "markdown",
   "id": "10d568f8",
   "metadata": {},
   "source": [
    "## Нахождение второй производной"
   ]
  },
  {
   "cell_type": "code",
   "execution_count": 8,
   "id": "cfebc61b",
   "metadata": {
    "ExecuteTime": {
     "end_time": "2023-06-28T16:33:30.693973900Z",
     "start_time": "2023-06-28T16:33:30.631511900Z"
    }
   },
   "outputs": [
    {
     "data": {
      "text/plain": "2*x*(x**2*(4*x**2/(x**2 - 1) - 1)/(x**2 - 1) - 6*x**2/(x**2 - 1) + 3)/(x**2 - 1)",
      "text/latex": "$\\displaystyle \\frac{2 x \\left(\\frac{x^{2} \\cdot \\left(\\frac{4 x^{2}}{x^{2} - 1} - 1\\right)}{x^{2} - 1} - \\frac{6 x^{2}}{x^{2} - 1} + 3\\right)}{x^{2} - 1}$"
     },
     "execution_count": 8,
     "metadata": {},
     "output_type": "execute_result"
    }
   ],
   "source": [
    "import sympy\n",
    "from sympy import diff\n",
    "x = sympy.Symbol(\"x\")\n",
    "expr = (x**3)/(x**2-1)\n",
    "expr.diff(x,2)"
   ]
  },
  {
   "cell_type": "code",
   "execution_count": 10,
   "id": "31d8a7c8",
   "metadata": {
    "ExecuteTime": {
     "end_time": "2023-06-28T16:35:01.117677400Z",
     "start_time": "2023-06-28T16:35:01.024139Z"
    }
   },
   "outputs": [
    {
     "data": {
      "text/plain": "{0, -sqrt(3)*I, sqrt(3)*I}",
      "text/latex": "$\\displaystyle \\left\\{0, - \\sqrt{3} i, \\sqrt{3} i\\right\\}$"
     },
     "execution_count": 10,
     "metadata": {},
     "output_type": "execute_result"
    }
   ],
   "source": [
    "y = expr.diff(x,2)\n",
    "solveset(Eq(y, 0), x)"
   ]
  },
  {
   "cell_type": "markdown",
   "id": "fc9a293e",
   "metadata": {},
   "source": [
    "## Нахождение асимптот"
   ]
  },
  {
   "cell_type": "code",
   "execution_count": 11,
   "id": "9015fba6",
   "metadata": {
    "ExecuteTime": {
     "end_time": "2023-06-28T16:35:03.877315800Z",
     "start_time": "2023-06-28T16:35:03.814291200Z"
    }
   },
   "outputs": [
    {
     "data": {
      "text/plain": "oo",
      "text/latex": "$\\displaystyle \\infty$"
     },
     "execution_count": 11,
     "metadata": {},
     "output_type": "execute_result"
    }
   ],
   "source": [
    "from sympy import Symbol, limit, oo\n",
    "x = Symbol(\"x\")\n",
    "f = (x**3)/(x**2-1)\n",
    "limit(f,x,oo)\n"
   ]
  },
  {
   "cell_type": "code",
   "execution_count": 13,
   "id": "ad626e7c",
   "metadata": {
    "ExecuteTime": {
     "end_time": "2023-06-28T16:35:12.713042100Z",
     "start_time": "2023-06-28T16:35:12.648220400Z"
    }
   },
   "outputs": [
    {
     "data": {
      "text/plain": "oo",
      "text/latex": "$\\displaystyle \\infty$"
     },
     "execution_count": 13,
     "metadata": {},
     "output_type": "execute_result"
    }
   ],
   "source": [
    "from sympy import Symbol, limit, oo\n",
    "x = Symbol(\"x\")\n",
    "f = (x**3)/(x**2-1)\n",
    "limit(f,x,1)\n"
   ]
  },
  {
   "cell_type": "code",
   "execution_count": 14,
   "id": "13913fbf",
   "metadata": {
    "ExecuteTime": {
     "end_time": "2023-06-28T16:35:15.841982800Z",
     "start_time": "2023-06-28T16:35:15.799062700Z"
    }
   },
   "outputs": [
    {
     "data": {
      "text/plain": "oo",
      "text/latex": "$\\displaystyle \\infty$"
     },
     "execution_count": 14,
     "metadata": {},
     "output_type": "execute_result"
    }
   ],
   "source": [
    "from sympy import Symbol, limit, oo\n",
    "x = Symbol(\"x\")\n",
    "f = (x**3)/(x**2-1)\n",
    "limit(f,x,-1)\n"
   ]
  },
  {
   "cell_type": "code",
   "execution_count": 12,
   "id": "dfb2adc9",
   "metadata": {},
   "outputs": [
    {
     "data": {
      "text/latex": [
       "$\\displaystyle 1$"
      ],
      "text/plain": [
       "1"
      ]
     },
     "execution_count": 12,
     "metadata": {},
     "output_type": "execute_result"
    }
   ],
   "source": [
    "from sympy import Symbol, limit, oo\n",
    "x = Symbol(\"x\")\n",
    "f = (x**3)/((x**2-1)*x)\n",
    "limit(f,x,oo)\n"
   ]
  },
  {
   "cell_type": "code",
   "execution_count": 15,
   "id": "1ed7d557",
   "metadata": {
    "ExecuteTime": {
     "end_time": "2023-06-28T16:35:21.178276200Z",
     "start_time": "2023-06-28T16:35:20.889477Z"
    }
   },
   "outputs": [
    {
     "data": {
      "text/plain": "0",
      "text/latex": "$\\displaystyle 0$"
     },
     "execution_count": 15,
     "metadata": {},
     "output_type": "execute_result"
    }
   ],
   "source": [
    "from sympy import Symbol, limit, oo\n",
    "x = Symbol(\"x\")\n",
    "f = (x**3)/((x**2-1)) - 1*x\n",
    "limit(f,x,oo)\n"
   ]
  },
  {
   "cell_type": "code",
   "execution_count": null,
   "id": "23f4c70f",
   "metadata": {},
   "outputs": [],
   "source": []
  }
 ],
 "metadata": {
  "kernelspec": {
   "display_name": "Python 3 (ipykernel)",
   "language": "python",
   "name": "python3"
  },
  "language_info": {
   "codemirror_mode": {
    "name": "ipython",
    "version": 3
   },
   "file_extension": ".py",
   "mimetype": "text/x-python",
   "name": "python",
   "nbconvert_exporter": "python",
   "pygments_lexer": "ipython3",
   "version": "3.9.12"
  }
 },
 "nbformat": 4,
 "nbformat_minor": 5
}
