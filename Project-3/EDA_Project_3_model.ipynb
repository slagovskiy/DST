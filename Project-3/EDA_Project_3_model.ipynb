{
 "cells": [
  {
   "cell_type": "code",
   "execution_count": 1,
   "metadata": {
    "pycharm": {
     "name": "#%%\n"
    }
   },
   "outputs": [],
   "source": [
    "import pandas as pd"
   ]
  },
  {
   "cell_type": "code",
   "execution_count": 2,
   "metadata": {
    "pycharm": {
     "name": "#%%\n"
    }
   },
   "outputs": [
    {
     "data": {
      "text/plain": "                                       hotel_address  \\\n0  Stratton Street Mayfair Westminster Borough Lo...   \n1  130 134 Southampton Row Camden London WC1B 5AF...   \n2   151 bis Rue de Rennes 6th arr 75006 Paris France   \n\n   additional_number_of_scoring review_date  average_score  \\\n0                           581   2/19/2016            8.4   \n1                           299   1/12/2017            8.3   \n2                            32  10/18/2016            8.9   \n\n                          hotel_name reviewer_nationality  \\\n0                 The May Fair Hotel      United Kingdom    \n1    Mercure London Bloomsbury Hotel      United Kingdom    \n2  Legend Saint Germain by Elegancia               China    \n\n       negative_review  review_total_negative_word_counts  \\\n0             Leaving                                   3   \n1       poor breakfast                                  3   \n2   No kettle in room                                   6   \n\n   total_number_of_reviews      positive_review  \\\n0                     1994   Staff were amazing   \n1                     1361             location   \n2                      406          No Positive   \n\n   review_total_positive_word_counts  \\\n0                                  4   \n1                                  2   \n2                                  0   \n\n   total_number_of_reviews_reviewer_has_given  reviewer_score  \\\n0                                           7            10.0   \n1                                          14             6.3   \n2                                          14             7.5   \n\n                                                tags days_since_review  \\\n0  [' Leisure trip ', ' Couple ', ' Studio Suite ...           531 day   \n1  [' Business trip ', ' Couple ', ' Standard Dou...           203 day   \n2  [' Leisure trip ', ' Solo traveler ', ' Modern...           289 day   \n\n         lat       lng  \n0  51.507894 -0.143671  \n1  51.521009 -0.123097  \n2  48.845377  2.325643  ",
      "text/html": "<div>\n<style scoped>\n    .dataframe tbody tr th:only-of-type {\n        vertical-align: middle;\n    }\n\n    .dataframe tbody tr th {\n        vertical-align: top;\n    }\n\n    .dataframe thead th {\n        text-align: right;\n    }\n</style>\n<table border=\"1\" class=\"dataframe\">\n  <thead>\n    <tr style=\"text-align: right;\">\n      <th></th>\n      <th>hotel_address</th>\n      <th>additional_number_of_scoring</th>\n      <th>review_date</th>\n      <th>average_score</th>\n      <th>hotel_name</th>\n      <th>reviewer_nationality</th>\n      <th>negative_review</th>\n      <th>review_total_negative_word_counts</th>\n      <th>total_number_of_reviews</th>\n      <th>positive_review</th>\n      <th>review_total_positive_word_counts</th>\n      <th>total_number_of_reviews_reviewer_has_given</th>\n      <th>reviewer_score</th>\n      <th>tags</th>\n      <th>days_since_review</th>\n      <th>lat</th>\n      <th>lng</th>\n    </tr>\n  </thead>\n  <tbody>\n    <tr>\n      <th>0</th>\n      <td>Stratton Street Mayfair Westminster Borough Lo...</td>\n      <td>581</td>\n      <td>2/19/2016</td>\n      <td>8.4</td>\n      <td>The May Fair Hotel</td>\n      <td>United Kingdom</td>\n      <td>Leaving</td>\n      <td>3</td>\n      <td>1994</td>\n      <td>Staff were amazing</td>\n      <td>4</td>\n      <td>7</td>\n      <td>10.0</td>\n      <td>[' Leisure trip ', ' Couple ', ' Studio Suite ...</td>\n      <td>531 day</td>\n      <td>51.507894</td>\n      <td>-0.143671</td>\n    </tr>\n    <tr>\n      <th>1</th>\n      <td>130 134 Southampton Row Camden London WC1B 5AF...</td>\n      <td>299</td>\n      <td>1/12/2017</td>\n      <td>8.3</td>\n      <td>Mercure London Bloomsbury Hotel</td>\n      <td>United Kingdom</td>\n      <td>poor breakfast</td>\n      <td>3</td>\n      <td>1361</td>\n      <td>location</td>\n      <td>2</td>\n      <td>14</td>\n      <td>6.3</td>\n      <td>[' Business trip ', ' Couple ', ' Standard Dou...</td>\n      <td>203 day</td>\n      <td>51.521009</td>\n      <td>-0.123097</td>\n    </tr>\n    <tr>\n      <th>2</th>\n      <td>151 bis Rue de Rennes 6th arr 75006 Paris France</td>\n      <td>32</td>\n      <td>10/18/2016</td>\n      <td>8.9</td>\n      <td>Legend Saint Germain by Elegancia</td>\n      <td>China</td>\n      <td>No kettle in room</td>\n      <td>6</td>\n      <td>406</td>\n      <td>No Positive</td>\n      <td>0</td>\n      <td>14</td>\n      <td>7.5</td>\n      <td>[' Leisure trip ', ' Solo traveler ', ' Modern...</td>\n      <td>289 day</td>\n      <td>48.845377</td>\n      <td>2.325643</td>\n    </tr>\n  </tbody>\n</table>\n</div>"
     },
     "execution_count": 2,
     "metadata": {},
     "output_type": "execute_result"
    }
   ],
   "source": [
    "hotels = pd.read_csv('data/hotels.zip')\n",
    "hotels.head(3)"
   ]
  },
  {
   "cell_type": "code",
   "execution_count": 3,
   "metadata": {
    "pycharm": {
     "name": "#%%\n"
    }
   },
   "outputs": [],
   "source": [
    "# Разбиваем датафрейм на части, необходимые для обучения и тестирования модели  \n",
    "# Х - данные с информацией об отелях, у - целевая переменная (рейтинги отелей)  \n",
    "X = hotels.drop(['reviewer_score'], axis = 1)  \n",
    "y = hotels['reviewer_score'] "
   ]
  },
  {
   "cell_type": "code",
   "execution_count": 4,
   "metadata": {
    "pycharm": {
     "name": "#%%\n"
    }
   },
   "outputs": [
    {
     "ename": "ModuleNotFoundError",
     "evalue": "No module named 'sklearn'",
     "output_type": "error",
     "traceback": [
      "\u001B[1;31m---------------------------------------------------------------------------\u001B[0m",
      "\u001B[1;31mModuleNotFoundError\u001B[0m                       Traceback (most recent call last)",
      "Input \u001B[1;32mIn [4]\u001B[0m, in \u001B[0;36m<cell line: 2>\u001B[1;34m()\u001B[0m\n\u001B[0;32m      1\u001B[0m \u001B[38;5;66;03m# Загружаем специальный инструмент для разбивки:  \u001B[39;00m\n\u001B[1;32m----> 2\u001B[0m \u001B[38;5;28;01mfrom\u001B[39;00m \u001B[38;5;21;01msklearn\u001B[39;00m\u001B[38;5;21;01m.\u001B[39;00m\u001B[38;5;21;01mmodel_selection\u001B[39;00m \u001B[38;5;28;01mimport\u001B[39;00m train_test_split\n",
      "\u001B[1;31mModuleNotFoundError\u001B[0m: No module named 'sklearn'"
     ]
    }
   ],
   "source": [
    "# Загружаем специальный инструмент для разбивки:  \n",
    "from sklearn.model_selection import train_test_split  "
   ]
  },
  {
   "cell_type": "code",
   "execution_count": 7,
   "metadata": {
    "pycharm": {
     "name": "#%%\n"
    }
   },
   "outputs": [],
   "source": [
    "# Наборы данных с меткой \"train\" будут использоваться для обучения модели, \"test\" - для тестирования.  \n",
    "# Для тестирования мы будем использовать 25% от исходного датасета.  \n",
    "X_train, X_test, y_train, y_test = train_test_split(X, y, test_size=0.25, random_state=42)"
   ]
  },
  {
   "cell_type": "code",
   "execution_count": 8,
   "metadata": {
    "pycharm": {
     "name": "#%%\n"
    }
   },
   "outputs": [],
   "source": [
    "# Импортируем необходимые библиотеки:  \n",
    "from sklearn.ensemble import RandomForestRegressor # инструмент для создания и обучения модели  \n",
    "from sklearn import metrics # инструменты для оценки точности модели  \n",
    "  \n",
    "# Создаём модель  \n",
    "regr = RandomForestRegressor(n_estimators=100)  \n",
    "      \n",
    "# Обучаем модель на тестовом наборе данных  \n",
    "regr.fit(X_train, y_train)  \n",
    "      \n",
    "# Используем обученную модель для предсказания рейтинга отелей в тестовой выборке.  \n",
    "# Предсказанные значения записываем в переменную y_pred  \n",
    "y_pred = regr.predict(X_test)  \n"
   ]
  },
  {
   "cell_type": "code",
   "execution_count": 9,
   "metadata": {
    "pycharm": {
     "name": "#%%\n"
    }
   },
   "outputs": [
    {
     "name": "stdout",
     "output_type": "stream",
     "text": [
      "MAPE: 0.14138286324223787\n"
     ]
    }
   ],
   "source": [
    "# Сравниваем предсказанные значения (y_pred) с реальными (y_test), и смотрим насколько они отличаются  \n",
    "# Метрика называется Mean Absolute Percentage Error (MAPE) и показывает среднюю абсолютную процентную ошибку предсказанных значений от фактических.  \n",
    "print('MAPE:', metrics.mean_absolute_percentage_error(y_test, y_pred))"
   ]
  },
  {
   "cell_type": "markdown",
   "metadata": {
    "pycharm": {
     "name": "#%% md\n"
    }
   },
   "source": [
    "Небольшой бонус:\n"
   ]
  },
  {
   "cell_type": "code",
   "execution_count": 10,
   "metadata": {
    "pycharm": {
     "name": "#%%\n"
    }
   },
   "outputs": [],
   "source": [
    "# # убираем признаки которые еще не успели обработать, \n",
    "# # модель на признаках с dtypes \"object\" обучаться не будет, просто выберим их и удалим\n",
    "# object_columns = [s for s in hotels.columns if hotels[s].dtypes == 'object']\n",
    "# hotels.drop(object_columns, axis = 1, inplace=True)\n",
    "\n",
    "# # заполняем пропуски самым простым способом\n",
    "# hotels = hotels.fillna(0)"
   ]
  }
 ],
 "metadata": {
  "kernelspec": {
   "display_name": "Python 3",
   "language": "python",
   "name": "python3"
  },
  "language_info": {
   "codemirror_mode": {
    "name": "ipython",
    "version": 3
   },
   "file_extension": ".py",
   "mimetype": "text/x-python",
   "name": "python",
   "nbconvert_exporter": "python",
   "pygments_lexer": "ipython3",
   "version": "3.7.3"
  }
 },
 "nbformat": 4,
 "nbformat_minor": 2
}