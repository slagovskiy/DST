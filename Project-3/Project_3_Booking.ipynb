{
 "cells": [
  {
   "cell_type": "markdown",
   "source": [
    "# Проект №3 EDA + Feature Engineering Booking.com\n",
    "\n",
    "https://www.kaggle.com/code/motoborgrus/proj-3-hotels/notebook?scriptVersionId=103790140\n",
    "https://www.kaggle.com/code/margaritakr/project-3-booking-com-margaritak/notebook\n",
    "https://www.kaggle.com/code/ryroman/bookinganalysis"
   ],
   "metadata": {
    "collapsed": false,
    "pycharm": {
     "name": "#%% md\n"
    }
   }
  },
  {
   "cell_type": "markdown",
   "source": [
    "### Какой кейс решаем?\n",
    "Представим, что работаем дата-сайентистом в компании Booking. Одна из проблем компании — это нечестные отели, которые накручивают себе рейтинг. Одним из способов обнаружения таких отелей является построение модели, которая предсказывает рейтинг отеля. Если предсказания модели сильно отличаются от фактического результата, то, возможно, отель ведёт себя нечестно, и его стоит проверить.\n",
    "\n",
    "### Наименование столбцов:\n",
    "\n",
    "* hotel_address — адрес отеля;\n",
    "* review_date — дата, когда рецензент разместил соответствующий отзыв;\n",
    "* average_score — средний балл отеля, рассчитанный на основе последнего комментария за последний год;\n",
    "* hotel_name — название отеля;\n",
    "* reviewer_nationality — страна рецензента;\n",
    "* negative_review — отрицательный отзыв, который рецензент дал отелю;\n",
    "* review_total_negative_word_counts — общее количество слов в отрицательном отзыв;\n",
    "* positive_review — положительный отзыв, который рецензент дал отелю;\n",
    "* review_total_positive_word_counts — общее количество слов в положительном отзыве.\n",
    "* reviewer_score — оценка, которую рецензент поставил отелю на основе своего опыта;\n",
    "* total_number_of_reviews_reviewer_has_given — количество отзывов, которые рецензенты дали в прошлом;\n",
    "* total_number_of_reviews — общее количество действительных отзывов об отеле;\n",
    "* tags — теги, которые рецензент дал отелю;\n",
    "* days_since_review — количество дней между датой проверки и датой очистки;\n",
    "* additional_number_of_scoring — есть также некоторые гости, которые просто поставили оценку сервису, но не оставили отзыв. Это число указывает, сколько там действительных оценок без проверки.\n",
    "* lat — географическая широта отеля;\n",
    "* lng — географическая долгота отеля.\n",
    "\n",
    "### Файлы для соревнования\n",
    "\n",
    "* hotels_train.csv - набор данных для обучения [источник данных](https://github.com/slagovskiy/DST/raw/main/Project-3/data/hotels_train.csv.zip)\n",
    "* hotels_test.csv - набор данных для оценки качества [источник данных](https://github.com/slagovskiy/DST/raw/main/Project-3/data/hotels_train.csv.zip)\n",
    "* submission.csv - файл сабмишна в нужном формате [источник данных](https://github.com/slagovskiy/DST/raw/main/Project-3/data/hotels_train.csv.zip)\n"
   ],
   "metadata": {
    "collapsed": false,
    "pycharm": {
     "name": "#%% md\n"
    }
   }
  },
  {
   "cell_type": "markdown",
   "source": [
    "## 1. Исходные данные"
   ],
   "metadata": {
    "collapsed": false,
    "pycharm": {
     "name": "#%% md\n"
    }
   }
  },
  {
   "cell_type": "code",
   "execution_count": 124,
   "outputs": [
    {
     "name": "stderr",
     "output_type": "stream",
     "text": [
      "[nltk_data] Downloading package vader_lexicon to ....\n",
      "[nltk_data]   Package vader_lexicon is already up-to-date!\n"
     ]
    }
   ],
   "source": [
    "import numpy as np\n",
    "import pandas as pd\n",
    "import category_encoders as ce\n",
    "\n",
    "pd.set_option('display.max_colwidth', None)\n",
    "pd.set_option('display.float_format', '{:.3f}'.format)\n",
    "pd.set_option('display.max_rows', 200)\n",
    "\n",
    "import matplotlib.pyplot as plt\n",
    "import seaborn as sns\n",
    "%matplotlib inline\n",
    "\n",
    "import os\n",
    "import re\n",
    "import string\n",
    "import spacy\n",
    "import nltk\n",
    "from nltk.corpus import stopwords\n",
    "from nltk.sentiment.vader import SentimentIntensityAnalyzer\n",
    "# from textblob import TextBlob, Blobber\n",
    "# from textblob.sentiments import NaiveBayesAnalyzer\n",
    "from afinn import Afinn\n",
    "\n",
    "nltk.download('vader_lexicon', download_dir='.')\n",
    "\n",
    "from sklearn.model_selection import train_test_split\n",
    "from sklearn.preprocessing import MinMaxScaler\n",
    "from sklearn.feature_selection import f_classif\n",
    "from sklearn.ensemble import RandomForestRegressor\n",
    "\n",
    "# for dirname, _, filenames in os.walk('/kaggle/input'):\n",
    "#     for filename in filenames:\n",
    "#         print(os.path.join(dirname, filename))"
   ],
   "metadata": {
    "collapsed": false,
    "pycharm": {
     "name": "#%%\n"
    }
   }
  },
  {
   "cell_type": "code",
   "execution_count": 125,
   "outputs": [],
   "source": [
    "RANDOM_SEED = 42"
   ],
   "metadata": {
    "collapsed": false,
    "pycharm": {
     "name": "#%%\n"
    }
   }
  },
  {
   "cell_type": "code",
   "execution_count": 126,
   "outputs": [],
   "source": [
    "# DATA_DIR = '/kaggle/input/sf-booking/'\n",
    "# df_train = pd.read_csv(DATA_DIR + 'hotels_train.csv')\n",
    "# df_test = pd.read_csv(DATA_DIR + 'hotels_test.csv')\n",
    "# sample_submission = pd.read_csv(DATA_DIR + 'submission.csv')\n",
    "# local test only\n",
    "DATA_DIR = 'data'\n",
    "df_train = pd.read_csv(DATA_DIR + '/hotels_train.csv.zip')\n",
    "df_test = pd.read_csv(DATA_DIR + '/hotels_test.csv.zip')\n",
    "sample_submission = pd.read_csv(DATA_DIR + '/submission.csv.zip')"
   ],
   "metadata": {
    "collapsed": false,
    "pycharm": {
     "name": "#%%\n"
    }
   }
  },
  {
   "cell_type": "code",
   "execution_count": 127,
   "outputs": [
    {
     "name": "stdout",
     "output_type": "stream",
     "text": [
      "<class 'pandas.core.frame.DataFrame'>\n",
      "RangeIndex: 386803 entries, 0 to 386802\n",
      "Data columns (total 17 columns):\n",
      " #   Column                                      Non-Null Count   Dtype  \n",
      "---  ------                                      --------------   -----  \n",
      " 0   hotel_address                               386803 non-null  object \n",
      " 1   additional_number_of_scoring                386803 non-null  int64  \n",
      " 2   review_date                                 386803 non-null  object \n",
      " 3   average_score                               386803 non-null  float64\n",
      " 4   hotel_name                                  386803 non-null  object \n",
      " 5   reviewer_nationality                        386803 non-null  object \n",
      " 6   negative_review                             386803 non-null  object \n",
      " 7   review_total_negative_word_counts           386803 non-null  int64  \n",
      " 8   total_number_of_reviews                     386803 non-null  int64  \n",
      " 9   positive_review                             386803 non-null  object \n",
      " 10  review_total_positive_word_counts           386803 non-null  int64  \n",
      " 11  total_number_of_reviews_reviewer_has_given  386803 non-null  int64  \n",
      " 12  reviewer_score                              386803 non-null  float64\n",
      " 13  tags                                        386803 non-null  object \n",
      " 14  days_since_review                           386803 non-null  object \n",
      " 15  lat                                         384355 non-null  float64\n",
      " 16  lng                                         384355 non-null  float64\n",
      "dtypes: float64(4), int64(5), object(8)\n",
      "memory usage: 50.2+ MB\n"
     ]
    }
   ],
   "source": [
    "df_train.info()"
   ],
   "metadata": {
    "collapsed": false,
    "pycharm": {
     "name": "#%%\n"
    }
   }
  },
  {
   "cell_type": "code",
   "execution_count": 128,
   "outputs": [
    {
     "data": {
      "text/plain": "                                                               hotel_address  \\\n0  Stratton Street Mayfair Westminster Borough London W1J 8LT United Kingdom   \n1              130 134 Southampton Row Camden London WC1B 5AF United Kingdom   \n2                           151 bis Rue de Rennes 6th arr 75006 Paris France   \n3                         216 Avenue Jean Jaures 19th arr 75019 Paris France   \n4                                  Molenwerf 1 1014 AG Amsterdam Netherlands   \n\n   additional_number_of_scoring review_date  average_score  \\\n0                           581   2/19/2016          8.400   \n1                           299   1/12/2017          8.300   \n2                            32  10/18/2016          8.900   \n3                            34   9/22/2015          7.500   \n4                           914    3/5/2016          8.500   \n\n                                  hotel_name reviewer_nationality  \\\n0                         The May Fair Hotel      United Kingdom    \n1            Mercure London Bloomsbury Hotel      United Kingdom    \n2          Legend Saint Germain by Elegancia               China    \n3  Mercure Paris 19 Philharmonie La Villette      United Kingdom    \n4                Golden Tulip Amsterdam West              Poland    \n\n       negative_review  review_total_negative_word_counts  \\\n0             Leaving                                   3   \n1       poor breakfast                                  3   \n2   No kettle in room                                   6   \n3          No Negative                                  0   \n4         Torn sheets                                   4   \n\n   total_number_of_reviews  \\\n0                     1994   \n1                     1361   \n2                      406   \n3                      607   \n4                     7586   \n\n                                                                                                       positive_review  \\\n0                                                                                                   Staff were amazing   \n1                                                                                                             location   \n2                                                                                                          No Positive   \n3                                           Friendly staff quiet comfortable room spotlessly clean excellent location    \n4   The staff was very friendly and helpful Breakfasts were just extraordinary Room was clean quiet and very spacious    \n\n   review_total_positive_word_counts  \\\n0                                  4   \n1                                  2   \n2                                  0   \n3                                 11   \n4                                 20   \n\n   total_number_of_reviews_reviewer_has_given  reviewer_score  \\\n0                                           7          10.000   \n1                                          14           6.300   \n2                                          14           7.500   \n3                                           8          10.000   \n4                                          10           9.600   \n\n                                                                                                                          tags  \\\n0                    [' Leisure trip ', ' Couple ', ' Studio Suite ', ' Stayed 2 nights ', ' Submitted from a mobile device ']   \n1                                                [' Business trip ', ' Couple ', ' Standard Double Room ', ' Stayed 1 night ']   \n2  [' Leisure trip ', ' Solo traveler ', ' Modern Double Room Echo ', ' Stayed 3 nights ', ' Submitted from a mobile device ']   \n3                               [' Leisure trip ', ' Solo traveler ', ' Standard Room with 1 Double Bed ', ' Stayed 1 night ']   \n4                                       [' Business trip ', ' Couple ', ' Standard Double or Twin Room ', ' Stayed 6 nights ']   \n\n  days_since_review    lat    lng  \n0           531 day 51.508 -0.144  \n1           203 day 51.521 -0.123  \n2           289 day 48.845  2.326  \n3           681 day 48.889  2.395  \n4           516 day 52.386  4.847  ",
      "text/html": "<div>\n<style scoped>\n    .dataframe tbody tr th:only-of-type {\n        vertical-align: middle;\n    }\n\n    .dataframe tbody tr th {\n        vertical-align: top;\n    }\n\n    .dataframe thead th {\n        text-align: right;\n    }\n</style>\n<table border=\"1\" class=\"dataframe\">\n  <thead>\n    <tr style=\"text-align: right;\">\n      <th></th>\n      <th>hotel_address</th>\n      <th>additional_number_of_scoring</th>\n      <th>review_date</th>\n      <th>average_score</th>\n      <th>hotel_name</th>\n      <th>reviewer_nationality</th>\n      <th>negative_review</th>\n      <th>review_total_negative_word_counts</th>\n      <th>total_number_of_reviews</th>\n      <th>positive_review</th>\n      <th>review_total_positive_word_counts</th>\n      <th>total_number_of_reviews_reviewer_has_given</th>\n      <th>reviewer_score</th>\n      <th>tags</th>\n      <th>days_since_review</th>\n      <th>lat</th>\n      <th>lng</th>\n    </tr>\n  </thead>\n  <tbody>\n    <tr>\n      <th>0</th>\n      <td>Stratton Street Mayfair Westminster Borough London W1J 8LT United Kingdom</td>\n      <td>581</td>\n      <td>2/19/2016</td>\n      <td>8.400</td>\n      <td>The May Fair Hotel</td>\n      <td>United Kingdom</td>\n      <td>Leaving</td>\n      <td>3</td>\n      <td>1994</td>\n      <td>Staff were amazing</td>\n      <td>4</td>\n      <td>7</td>\n      <td>10.000</td>\n      <td>[' Leisure trip ', ' Couple ', ' Studio Suite ', ' Stayed 2 nights ', ' Submitted from a mobile device ']</td>\n      <td>531 day</td>\n      <td>51.508</td>\n      <td>-0.144</td>\n    </tr>\n    <tr>\n      <th>1</th>\n      <td>130 134 Southampton Row Camden London WC1B 5AF United Kingdom</td>\n      <td>299</td>\n      <td>1/12/2017</td>\n      <td>8.300</td>\n      <td>Mercure London Bloomsbury Hotel</td>\n      <td>United Kingdom</td>\n      <td>poor breakfast</td>\n      <td>3</td>\n      <td>1361</td>\n      <td>location</td>\n      <td>2</td>\n      <td>14</td>\n      <td>6.300</td>\n      <td>[' Business trip ', ' Couple ', ' Standard Double Room ', ' Stayed 1 night ']</td>\n      <td>203 day</td>\n      <td>51.521</td>\n      <td>-0.123</td>\n    </tr>\n    <tr>\n      <th>2</th>\n      <td>151 bis Rue de Rennes 6th arr 75006 Paris France</td>\n      <td>32</td>\n      <td>10/18/2016</td>\n      <td>8.900</td>\n      <td>Legend Saint Germain by Elegancia</td>\n      <td>China</td>\n      <td>No kettle in room</td>\n      <td>6</td>\n      <td>406</td>\n      <td>No Positive</td>\n      <td>0</td>\n      <td>14</td>\n      <td>7.500</td>\n      <td>[' Leisure trip ', ' Solo traveler ', ' Modern Double Room Echo ', ' Stayed 3 nights ', ' Submitted from a mobile device ']</td>\n      <td>289 day</td>\n      <td>48.845</td>\n      <td>2.326</td>\n    </tr>\n    <tr>\n      <th>3</th>\n      <td>216 Avenue Jean Jaures 19th arr 75019 Paris France</td>\n      <td>34</td>\n      <td>9/22/2015</td>\n      <td>7.500</td>\n      <td>Mercure Paris 19 Philharmonie La Villette</td>\n      <td>United Kingdom</td>\n      <td>No Negative</td>\n      <td>0</td>\n      <td>607</td>\n      <td>Friendly staff quiet comfortable room spotlessly clean excellent location</td>\n      <td>11</td>\n      <td>8</td>\n      <td>10.000</td>\n      <td>[' Leisure trip ', ' Solo traveler ', ' Standard Room with 1 Double Bed ', ' Stayed 1 night ']</td>\n      <td>681 day</td>\n      <td>48.889</td>\n      <td>2.395</td>\n    </tr>\n    <tr>\n      <th>4</th>\n      <td>Molenwerf 1 1014 AG Amsterdam Netherlands</td>\n      <td>914</td>\n      <td>3/5/2016</td>\n      <td>8.500</td>\n      <td>Golden Tulip Amsterdam West</td>\n      <td>Poland</td>\n      <td>Torn sheets</td>\n      <td>4</td>\n      <td>7586</td>\n      <td>The staff was very friendly and helpful Breakfasts were just extraordinary Room was clean quiet and very spacious</td>\n      <td>20</td>\n      <td>10</td>\n      <td>9.600</td>\n      <td>[' Business trip ', ' Couple ', ' Standard Double or Twin Room ', ' Stayed 6 nights ']</td>\n      <td>516 day</td>\n      <td>52.386</td>\n      <td>4.847</td>\n    </tr>\n  </tbody>\n</table>\n</div>"
     },
     "execution_count": 128,
     "metadata": {},
     "output_type": "execute_result"
    }
   ],
   "source": [
    "df_train.head()"
   ],
   "metadata": {
    "collapsed": false,
    "pycharm": {
     "name": "#%%\n"
    }
   }
  },
  {
   "cell_type": "code",
   "execution_count": 129,
   "outputs": [
    {
     "name": "stdout",
     "output_type": "stream",
     "text": [
      "<class 'pandas.core.frame.DataFrame'>\n",
      "RangeIndex: 128935 entries, 0 to 128934\n",
      "Data columns (total 16 columns):\n",
      " #   Column                                      Non-Null Count   Dtype  \n",
      "---  ------                                      --------------   -----  \n",
      " 0   hotel_address                               128935 non-null  object \n",
      " 1   additional_number_of_scoring                128935 non-null  int64  \n",
      " 2   review_date                                 128935 non-null  object \n",
      " 3   average_score                               128935 non-null  float64\n",
      " 4   hotel_name                                  128935 non-null  object \n",
      " 5   reviewer_nationality                        128935 non-null  object \n",
      " 6   negative_review                             128935 non-null  object \n",
      " 7   review_total_negative_word_counts           128935 non-null  int64  \n",
      " 8   total_number_of_reviews                     128935 non-null  int64  \n",
      " 9   positive_review                             128935 non-null  object \n",
      " 10  review_total_positive_word_counts           128935 non-null  int64  \n",
      " 11  total_number_of_reviews_reviewer_has_given  128935 non-null  int64  \n",
      " 12  tags                                        128935 non-null  object \n",
      " 13  days_since_review                           128935 non-null  object \n",
      " 14  lat                                         128115 non-null  float64\n",
      " 15  lng                                         128115 non-null  float64\n",
      "dtypes: float64(3), int64(5), object(8)\n",
      "memory usage: 15.7+ MB\n"
     ]
    }
   ],
   "source": [
    "df_test.info()"
   ],
   "metadata": {
    "collapsed": false,
    "pycharm": {
     "name": "#%%\n"
    }
   }
  },
  {
   "cell_type": "code",
   "execution_count": 130,
   "outputs": [
    {
     "data": {
      "text/plain": "                                                        hotel_address  \\\n0                                  Via Senigallia 6 20161 Milan Italy   \n1               Arlandaweg 10 Westpoort 1043 EW Amsterdam Netherlands   \n2                         Mallorca 251 Eixample 08008 Barcelona Spain   \n3        Piazza Della Repubblica 17 Central Station 20124 Milan Italy   \n4  Singel 303 309 Amsterdam City Center 1012 WJ Amsterdam Netherlands   \n\n   additional_number_of_scoring review_date  average_score  \\\n0                           904   7/21/2017          8.100   \n1                           612  12/12/2016          8.600   \n2                            46  11/26/2015          8.300   \n3                           241  10/17/2015          9.100   \n4                           834   5/16/2016          9.100   \n\n                                   hotel_name        reviewer_nationality  \\\n0                              Hotel Da Vinci             United Kingdom    \n1                           Urban Lodge Hotel                    Belgium    \n2  Alexandra Barcelona A DoubleTree by Hilton                     Sweden    \n3                    Hotel Principe Di Savoia   United States of America    \n4                              Hotel Esther a             United Kingdom    \n\n                                                                                                                                                                                                                                                          negative_review  \\\n0   Would have appreciated a shop in the hotel that sold drinking water etc but not necessity Would recommend if like us you arrive late at night to bring drinks from plane airport as there s no shop nearby There is a minibar though if you want to pay those prices    \n1                                                                                                                                                                                                                             No tissue paper box was present at the room   \n2                                                                                                                                                                                                                                                                Pillows    \n3                                                                                                                                                                                                                                                             No Negative   \n4                                                                                                                                                                                                                                                             No Negative   \n\n   review_total_negative_word_counts  total_number_of_reviews  \\\n0                                 52                    16670   \n1                                 10                     5018   \n2                                  3                      351   \n3                                  0                     1543   \n4                                  0                     4687   \n\n                                                                                                                                                                                                                                                                                                                                     positive_review  \\\n0   Hotel was great clean friendly staff free breakfast every morning with good selection good wifi connection nice sized room with bath fridge in room Personally loved the fact that the hotel isn t in the city centre but is literally next to a train station that you can easily get to and from the airport city Would definitely stay again    \n1                                                                                                                                                                                                                                                                                                                                        No Positive   \n2                                                                                                                                                                                                                                                                                                                         Nice welcoming and service   \n3                                                                                                                                                                                         Everything including the nice upgrade The Hotel has been revamped and what a surprise Love every second of it including in room dining which was excellent   \n4                                                                                                                                                                                                                                                                                                                    Lovely hotel v welcoming staff    \n\n   review_total_positive_word_counts  \\\n0                                 62   \n1                                  0   \n2                                  5   \n3                                 27   \n4                                  7   \n\n   total_number_of_reviews_reviewer_has_given  \\\n0                                           1   \n1                                           7   \n2                                          15   \n3                                           9   \n4                                           2   \n\n                                                                                                                               tags  \\\n0                                                              [' Leisure trip ', ' Couple ', ' Double Room ', ' Stayed 2 nights ']   \n1                                                                [' Leisure trip ', ' Group ', ' Triple Room ', ' Stayed 1 night ']   \n2                     [' Business trip ', ' Solo traveler ', ' Twin Room ', ' Stayed 1 night ', ' Submitted from a mobile device ']   \n3                                                   [' Leisure trip ', ' Couple ', ' Ambassador Junior Suite ', ' Stayed 1 night ']   \n4  [' Business trip ', ' Solo traveler ', ' Classic Double or Twin Room ', ' Stayed 2 nights ', ' Submitted from a mobile device ']   \n\n  days_since_review    lat   lng  \n0           13 days 45.533 9.171  \n1           234 day 52.386 4.834  \n2           616 day 41.393 2.162  \n3           656 day 45.480 9.196  \n4           444 day 52.371 4.889  ",
      "text/html": "<div>\n<style scoped>\n    .dataframe tbody tr th:only-of-type {\n        vertical-align: middle;\n    }\n\n    .dataframe tbody tr th {\n        vertical-align: top;\n    }\n\n    .dataframe thead th {\n        text-align: right;\n    }\n</style>\n<table border=\"1\" class=\"dataframe\">\n  <thead>\n    <tr style=\"text-align: right;\">\n      <th></th>\n      <th>hotel_address</th>\n      <th>additional_number_of_scoring</th>\n      <th>review_date</th>\n      <th>average_score</th>\n      <th>hotel_name</th>\n      <th>reviewer_nationality</th>\n      <th>negative_review</th>\n      <th>review_total_negative_word_counts</th>\n      <th>total_number_of_reviews</th>\n      <th>positive_review</th>\n      <th>review_total_positive_word_counts</th>\n      <th>total_number_of_reviews_reviewer_has_given</th>\n      <th>tags</th>\n      <th>days_since_review</th>\n      <th>lat</th>\n      <th>lng</th>\n    </tr>\n  </thead>\n  <tbody>\n    <tr>\n      <th>0</th>\n      <td>Via Senigallia 6 20161 Milan Italy</td>\n      <td>904</td>\n      <td>7/21/2017</td>\n      <td>8.100</td>\n      <td>Hotel Da Vinci</td>\n      <td>United Kingdom</td>\n      <td>Would have appreciated a shop in the hotel that sold drinking water etc but not necessity Would recommend if like us you arrive late at night to bring drinks from plane airport as there s no shop nearby There is a minibar though if you want to pay those prices</td>\n      <td>52</td>\n      <td>16670</td>\n      <td>Hotel was great clean friendly staff free breakfast every morning with good selection good wifi connection nice sized room with bath fridge in room Personally loved the fact that the hotel isn t in the city centre but is literally next to a train station that you can easily get to and from the airport city Would definitely stay again</td>\n      <td>62</td>\n      <td>1</td>\n      <td>[' Leisure trip ', ' Couple ', ' Double Room ', ' Stayed 2 nights ']</td>\n      <td>13 days</td>\n      <td>45.533</td>\n      <td>9.171</td>\n    </tr>\n    <tr>\n      <th>1</th>\n      <td>Arlandaweg 10 Westpoort 1043 EW Amsterdam Netherlands</td>\n      <td>612</td>\n      <td>12/12/2016</td>\n      <td>8.600</td>\n      <td>Urban Lodge Hotel</td>\n      <td>Belgium</td>\n      <td>No tissue paper box was present at the room</td>\n      <td>10</td>\n      <td>5018</td>\n      <td>No Positive</td>\n      <td>0</td>\n      <td>7</td>\n      <td>[' Leisure trip ', ' Group ', ' Triple Room ', ' Stayed 1 night ']</td>\n      <td>234 day</td>\n      <td>52.386</td>\n      <td>4.834</td>\n    </tr>\n    <tr>\n      <th>2</th>\n      <td>Mallorca 251 Eixample 08008 Barcelona Spain</td>\n      <td>46</td>\n      <td>11/26/2015</td>\n      <td>8.300</td>\n      <td>Alexandra Barcelona A DoubleTree by Hilton</td>\n      <td>Sweden</td>\n      <td>Pillows</td>\n      <td>3</td>\n      <td>351</td>\n      <td>Nice welcoming and service</td>\n      <td>5</td>\n      <td>15</td>\n      <td>[' Business trip ', ' Solo traveler ', ' Twin Room ', ' Stayed 1 night ', ' Submitted from a mobile device ']</td>\n      <td>616 day</td>\n      <td>41.393</td>\n      <td>2.162</td>\n    </tr>\n    <tr>\n      <th>3</th>\n      <td>Piazza Della Repubblica 17 Central Station 20124 Milan Italy</td>\n      <td>241</td>\n      <td>10/17/2015</td>\n      <td>9.100</td>\n      <td>Hotel Principe Di Savoia</td>\n      <td>United States of America</td>\n      <td>No Negative</td>\n      <td>0</td>\n      <td>1543</td>\n      <td>Everything including the nice upgrade The Hotel has been revamped and what a surprise Love every second of it including in room dining which was excellent</td>\n      <td>27</td>\n      <td>9</td>\n      <td>[' Leisure trip ', ' Couple ', ' Ambassador Junior Suite ', ' Stayed 1 night ']</td>\n      <td>656 day</td>\n      <td>45.480</td>\n      <td>9.196</td>\n    </tr>\n    <tr>\n      <th>4</th>\n      <td>Singel 303 309 Amsterdam City Center 1012 WJ Amsterdam Netherlands</td>\n      <td>834</td>\n      <td>5/16/2016</td>\n      <td>9.100</td>\n      <td>Hotel Esther a</td>\n      <td>United Kingdom</td>\n      <td>No Negative</td>\n      <td>0</td>\n      <td>4687</td>\n      <td>Lovely hotel v welcoming staff</td>\n      <td>7</td>\n      <td>2</td>\n      <td>[' Business trip ', ' Solo traveler ', ' Classic Double or Twin Room ', ' Stayed 2 nights ', ' Submitted from a mobile device ']</td>\n      <td>444 day</td>\n      <td>52.371</td>\n      <td>4.889</td>\n    </tr>\n  </tbody>\n</table>\n</div>"
     },
     "execution_count": 130,
     "metadata": {},
     "output_type": "execute_result"
    }
   ],
   "source": [
    "df_test.head()"
   ],
   "metadata": {
    "collapsed": false,
    "pycharm": {
     "name": "#%%\n"
    }
   }
  },
  {
   "cell_type": "code",
   "execution_count": 131,
   "outputs": [
    {
     "name": "stdout",
     "output_type": "stream",
     "text": [
      "<class 'pandas.core.frame.DataFrame'>\n",
      "RangeIndex: 128935 entries, 0 to 128934\n",
      "Data columns (total 2 columns):\n",
      " #   Column          Non-Null Count   Dtype\n",
      "---  ------          --------------   -----\n",
      " 0   reviewer_score  128935 non-null  int64\n",
      " 1   id              128935 non-null  int64\n",
      "dtypes: int64(2)\n",
      "memory usage: 2.0 MB\n"
     ]
    }
   ],
   "source": [
    "sample_submission.info()"
   ],
   "metadata": {
    "collapsed": false,
    "pycharm": {
     "name": "#%%\n"
    }
   }
  },
  {
   "cell_type": "code",
   "execution_count": 132,
   "outputs": [
    {
     "data": {
      "text/plain": "   reviewer_score      id\n0               1  488440\n1              10  274649\n2               3  374688\n3              10  404352\n4               9  451596",
      "text/html": "<div>\n<style scoped>\n    .dataframe tbody tr th:only-of-type {\n        vertical-align: middle;\n    }\n\n    .dataframe tbody tr th {\n        vertical-align: top;\n    }\n\n    .dataframe thead th {\n        text-align: right;\n    }\n</style>\n<table border=\"1\" class=\"dataframe\">\n  <thead>\n    <tr style=\"text-align: right;\">\n      <th></th>\n      <th>reviewer_score</th>\n      <th>id</th>\n    </tr>\n  </thead>\n  <tbody>\n    <tr>\n      <th>0</th>\n      <td>1</td>\n      <td>488440</td>\n    </tr>\n    <tr>\n      <th>1</th>\n      <td>10</td>\n      <td>274649</td>\n    </tr>\n    <tr>\n      <th>2</th>\n      <td>3</td>\n      <td>374688</td>\n    </tr>\n    <tr>\n      <th>3</th>\n      <td>10</td>\n      <td>404352</td>\n    </tr>\n    <tr>\n      <th>4</th>\n      <td>9</td>\n      <td>451596</td>\n    </tr>\n  </tbody>\n</table>\n</div>"
     },
     "execution_count": 132,
     "metadata": {},
     "output_type": "execute_result"
    }
   ],
   "source": [
    "sample_submission.head()"
   ],
   "metadata": {
    "collapsed": false,
    "pycharm": {
     "name": "#%%\n"
    }
   }
  },
  {
   "cell_type": "markdown",
   "source": [
    "Для обработки признаков сольем тренировочный и тестовый датасет в один, для разделения добавим общий признак sample, который будет равен 1 для тренировочных данных и 0 для тестовых. Так же в тестовом датасете создадим целевой признак reviewer_score и заполним его нулями."
   ],
   "metadata": {
    "collapsed": false,
    "pycharm": {
     "name": "#%% md\n"
    }
   }
  },
  {
   "cell_type": "code",
   "execution_count": 133,
   "outputs": [],
   "source": [
    "df_train['sample'] = 1\n",
    "df_test['sample'] = 0\n",
    "df_test['reviewer_score'] = 0\n",
    "\n",
    "hotels = pd.concat([df_train, df_test], sort=False).reset_index(drop=True)"
   ],
   "metadata": {
    "collapsed": false,
    "pycharm": {
     "name": "#%%\n"
    }
   }
  },
  {
   "cell_type": "code",
   "execution_count": 134,
   "outputs": [
    {
     "name": "stdout",
     "output_type": "stream",
     "text": [
      "<class 'pandas.core.frame.DataFrame'>\n",
      "RangeIndex: 515738 entries, 0 to 515737\n",
      "Data columns (total 18 columns):\n",
      " #   Column                                      Non-Null Count   Dtype  \n",
      "---  ------                                      --------------   -----  \n",
      " 0   hotel_address                               515738 non-null  object \n",
      " 1   additional_number_of_scoring                515738 non-null  int64  \n",
      " 2   review_date                                 515738 non-null  object \n",
      " 3   average_score                               515738 non-null  float64\n",
      " 4   hotel_name                                  515738 non-null  object \n",
      " 5   reviewer_nationality                        515738 non-null  object \n",
      " 6   negative_review                             515738 non-null  object \n",
      " 7   review_total_negative_word_counts           515738 non-null  int64  \n",
      " 8   total_number_of_reviews                     515738 non-null  int64  \n",
      " 9   positive_review                             515738 non-null  object \n",
      " 10  review_total_positive_word_counts           515738 non-null  int64  \n",
      " 11  total_number_of_reviews_reviewer_has_given  515738 non-null  int64  \n",
      " 12  reviewer_score                              515738 non-null  float64\n",
      " 13  tags                                        515738 non-null  object \n",
      " 14  days_since_review                           515738 non-null  object \n",
      " 15  lat                                         512470 non-null  float64\n",
      " 16  lng                                         512470 non-null  float64\n",
      " 17  sample                                      515738 non-null  int64  \n",
      "dtypes: float64(4), int64(6), object(8)\n",
      "memory usage: 70.8+ MB\n"
     ]
    }
   ],
   "source": [
    "hotels.info()"
   ],
   "metadata": {
    "collapsed": false,
    "pycharm": {
     "name": "#%%\n"
    }
   }
  },
  {
   "cell_type": "code",
   "execution_count": 135,
   "outputs": [
    {
     "data": {
      "text/plain": "                                                               hotel_address  \\\n0  Stratton Street Mayfair Westminster Borough London W1J 8LT United Kingdom   \n1              130 134 Southampton Row Camden London WC1B 5AF United Kingdom   \n2                           151 bis Rue de Rennes 6th arr 75006 Paris France   \n3                         216 Avenue Jean Jaures 19th arr 75019 Paris France   \n4                                  Molenwerf 1 1014 AG Amsterdam Netherlands   \n\n   additional_number_of_scoring review_date  average_score  \\\n0                           581   2/19/2016          8.400   \n1                           299   1/12/2017          8.300   \n2                            32  10/18/2016          8.900   \n3                            34   9/22/2015          7.500   \n4                           914    3/5/2016          8.500   \n\n                                  hotel_name reviewer_nationality  \\\n0                         The May Fair Hotel      United Kingdom    \n1            Mercure London Bloomsbury Hotel      United Kingdom    \n2          Legend Saint Germain by Elegancia               China    \n3  Mercure Paris 19 Philharmonie La Villette      United Kingdom    \n4                Golden Tulip Amsterdam West              Poland    \n\n       negative_review  review_total_negative_word_counts  \\\n0             Leaving                                   3   \n1       poor breakfast                                  3   \n2   No kettle in room                                   6   \n3          No Negative                                  0   \n4         Torn sheets                                   4   \n\n   total_number_of_reviews  \\\n0                     1994   \n1                     1361   \n2                      406   \n3                      607   \n4                     7586   \n\n                                                                                                       positive_review  \\\n0                                                                                                   Staff were amazing   \n1                                                                                                             location   \n2                                                                                                          No Positive   \n3                                           Friendly staff quiet comfortable room spotlessly clean excellent location    \n4   The staff was very friendly and helpful Breakfasts were just extraordinary Room was clean quiet and very spacious    \n\n   review_total_positive_word_counts  \\\n0                                  4   \n1                                  2   \n2                                  0   \n3                                 11   \n4                                 20   \n\n   total_number_of_reviews_reviewer_has_given  reviewer_score  \\\n0                                           7          10.000   \n1                                          14           6.300   \n2                                          14           7.500   \n3                                           8          10.000   \n4                                          10           9.600   \n\n                                                                                                                          tags  \\\n0                    [' Leisure trip ', ' Couple ', ' Studio Suite ', ' Stayed 2 nights ', ' Submitted from a mobile device ']   \n1                                                [' Business trip ', ' Couple ', ' Standard Double Room ', ' Stayed 1 night ']   \n2  [' Leisure trip ', ' Solo traveler ', ' Modern Double Room Echo ', ' Stayed 3 nights ', ' Submitted from a mobile device ']   \n3                               [' Leisure trip ', ' Solo traveler ', ' Standard Room with 1 Double Bed ', ' Stayed 1 night ']   \n4                                       [' Business trip ', ' Couple ', ' Standard Double or Twin Room ', ' Stayed 6 nights ']   \n\n  days_since_review    lat    lng  sample  \n0           531 day 51.508 -0.144       1  \n1           203 day 51.521 -0.123       1  \n2           289 day 48.845  2.326       1  \n3           681 day 48.889  2.395       1  \n4           516 day 52.386  4.847       1  ",
      "text/html": "<div>\n<style scoped>\n    .dataframe tbody tr th:only-of-type {\n        vertical-align: middle;\n    }\n\n    .dataframe tbody tr th {\n        vertical-align: top;\n    }\n\n    .dataframe thead th {\n        text-align: right;\n    }\n</style>\n<table border=\"1\" class=\"dataframe\">\n  <thead>\n    <tr style=\"text-align: right;\">\n      <th></th>\n      <th>hotel_address</th>\n      <th>additional_number_of_scoring</th>\n      <th>review_date</th>\n      <th>average_score</th>\n      <th>hotel_name</th>\n      <th>reviewer_nationality</th>\n      <th>negative_review</th>\n      <th>review_total_negative_word_counts</th>\n      <th>total_number_of_reviews</th>\n      <th>positive_review</th>\n      <th>review_total_positive_word_counts</th>\n      <th>total_number_of_reviews_reviewer_has_given</th>\n      <th>reviewer_score</th>\n      <th>tags</th>\n      <th>days_since_review</th>\n      <th>lat</th>\n      <th>lng</th>\n      <th>sample</th>\n    </tr>\n  </thead>\n  <tbody>\n    <tr>\n      <th>0</th>\n      <td>Stratton Street Mayfair Westminster Borough London W1J 8LT United Kingdom</td>\n      <td>581</td>\n      <td>2/19/2016</td>\n      <td>8.400</td>\n      <td>The May Fair Hotel</td>\n      <td>United Kingdom</td>\n      <td>Leaving</td>\n      <td>3</td>\n      <td>1994</td>\n      <td>Staff were amazing</td>\n      <td>4</td>\n      <td>7</td>\n      <td>10.000</td>\n      <td>[' Leisure trip ', ' Couple ', ' Studio Suite ', ' Stayed 2 nights ', ' Submitted from a mobile device ']</td>\n      <td>531 day</td>\n      <td>51.508</td>\n      <td>-0.144</td>\n      <td>1</td>\n    </tr>\n    <tr>\n      <th>1</th>\n      <td>130 134 Southampton Row Camden London WC1B 5AF United Kingdom</td>\n      <td>299</td>\n      <td>1/12/2017</td>\n      <td>8.300</td>\n      <td>Mercure London Bloomsbury Hotel</td>\n      <td>United Kingdom</td>\n      <td>poor breakfast</td>\n      <td>3</td>\n      <td>1361</td>\n      <td>location</td>\n      <td>2</td>\n      <td>14</td>\n      <td>6.300</td>\n      <td>[' Business trip ', ' Couple ', ' Standard Double Room ', ' Stayed 1 night ']</td>\n      <td>203 day</td>\n      <td>51.521</td>\n      <td>-0.123</td>\n      <td>1</td>\n    </tr>\n    <tr>\n      <th>2</th>\n      <td>151 bis Rue de Rennes 6th arr 75006 Paris France</td>\n      <td>32</td>\n      <td>10/18/2016</td>\n      <td>8.900</td>\n      <td>Legend Saint Germain by Elegancia</td>\n      <td>China</td>\n      <td>No kettle in room</td>\n      <td>6</td>\n      <td>406</td>\n      <td>No Positive</td>\n      <td>0</td>\n      <td>14</td>\n      <td>7.500</td>\n      <td>[' Leisure trip ', ' Solo traveler ', ' Modern Double Room Echo ', ' Stayed 3 nights ', ' Submitted from a mobile device ']</td>\n      <td>289 day</td>\n      <td>48.845</td>\n      <td>2.326</td>\n      <td>1</td>\n    </tr>\n    <tr>\n      <th>3</th>\n      <td>216 Avenue Jean Jaures 19th arr 75019 Paris France</td>\n      <td>34</td>\n      <td>9/22/2015</td>\n      <td>7.500</td>\n      <td>Mercure Paris 19 Philharmonie La Villette</td>\n      <td>United Kingdom</td>\n      <td>No Negative</td>\n      <td>0</td>\n      <td>607</td>\n      <td>Friendly staff quiet comfortable room spotlessly clean excellent location</td>\n      <td>11</td>\n      <td>8</td>\n      <td>10.000</td>\n      <td>[' Leisure trip ', ' Solo traveler ', ' Standard Room with 1 Double Bed ', ' Stayed 1 night ']</td>\n      <td>681 day</td>\n      <td>48.889</td>\n      <td>2.395</td>\n      <td>1</td>\n    </tr>\n    <tr>\n      <th>4</th>\n      <td>Molenwerf 1 1014 AG Amsterdam Netherlands</td>\n      <td>914</td>\n      <td>3/5/2016</td>\n      <td>8.500</td>\n      <td>Golden Tulip Amsterdam West</td>\n      <td>Poland</td>\n      <td>Torn sheets</td>\n      <td>4</td>\n      <td>7586</td>\n      <td>The staff was very friendly and helpful Breakfasts were just extraordinary Room was clean quiet and very spacious</td>\n      <td>20</td>\n      <td>10</td>\n      <td>9.600</td>\n      <td>[' Business trip ', ' Couple ', ' Standard Double or Twin Room ', ' Stayed 6 nights ']</td>\n      <td>516 day</td>\n      <td>52.386</td>\n      <td>4.847</td>\n      <td>1</td>\n    </tr>\n  </tbody>\n</table>\n</div>"
     },
     "execution_count": 135,
     "metadata": {},
     "output_type": "execute_result"
    }
   ],
   "source": [
    "hotels.head()"
   ],
   "metadata": {
    "collapsed": false,
    "pycharm": {
     "name": "#%%\n"
    }
   }
  },
  {
   "cell_type": "code",
   "execution_count": 136,
   "outputs": [
    {
     "data": {
      "text/plain": "hotel_address                                   1493\nadditional_number_of_scoring                     480\nreview_date                                      731\naverage_score                                     34\nhotel_name                                      1492\nreviewer_nationality                             227\nnegative_review                               330011\nreview_total_negative_word_counts                402\ntotal_number_of_reviews                         1142\npositive_review                               412601\nreview_total_positive_word_counts                365\ntotal_number_of_reviews_reviewer_has_given       198\nreviewer_score                                    38\ntags                                           55242\ndays_since_review                                731\nlat                                             1473\nlng                                             1473\nsample                                             2\ndtype: int64"
     },
     "execution_count": 136,
     "metadata": {},
     "output_type": "execute_result"
    }
   ],
   "source": [
    "hotels.nunique(dropna=False)"
   ],
   "metadata": {
    "collapsed": false,
    "pycharm": {
     "name": "#%%\n"
    }
   }
  },
  {
   "cell_type": "markdown",
   "source": [
    "## 2. Проектирование признаков"
   ],
   "metadata": {
    "collapsed": false,
    "pycharm": {
     "name": "#%% md\n"
    }
   }
  },
  {
   "cell_type": "markdown",
   "source": [
    "Выделим признаки с пропусками в данных"
   ],
   "metadata": {
    "collapsed": false,
    "pycharm": {
     "name": "#%% md\n"
    }
   }
  },
  {
   "cell_type": "code",
   "execution_count": null,
   "outputs": [],
   "source": [
    "hotels_nulls = hotels.isnull().sum()\n",
    "display(hotels_nulls[hotels_nulls > 0])"
   ],
   "metadata": {
    "collapsed": false,
    "pycharm": {
     "name": "#%%\n",
     "is_executing": true
    }
   }
  },
  {
   "cell_type": "markdown",
   "source": [
    "В признаках lat и lng есть пропуски в данных, это географические координаты, нет смысла подбирать какие то осознанные замены для этих данных, по этому заполним пропуски нулями."
   ],
   "metadata": {
    "collapsed": false,
    "pycharm": {
     "name": "#%% md\n"
    }
   }
  },
  {
   "cell_type": "code",
   "execution_count": null,
   "outputs": [],
   "source": [
    "hotels['lat'] = hotels['lat'].fillna(0, inplace=True)\n",
    "hotels['lng'] = hotels['lng'].fillna(0, inplace=True)"
   ],
   "metadata": {
    "collapsed": false,
    "pycharm": {
     "name": "#%%\n",
     "is_executing": true
    }
   }
  },
  {
   "cell_type": "markdown",
   "source": [
    "### 2.1 Название отеля"
   ],
   "metadata": {
    "collapsed": false,
    "pycharm": {
     "name": "#%% md\n"
    }
   }
  },
  {
   "cell_type": "markdown",
   "source": [
    "Первоначально получим количество уникальных отелей по названиям."
   ],
   "metadata": {
    "collapsed": false,
    "pycharm": {
     "name": "#%% md\n"
    }
   }
  },
  {
   "cell_type": "code",
   "execution_count": null,
   "outputs": [],
   "source": [
    "hotels['hotel_name'].nunique()"
   ],
   "metadata": {
    "collapsed": false,
    "pycharm": {
     "name": "#%%\n",
     "is_executing": true
    }
   }
  },
  {
   "cell_type": "markdown",
   "source": [
    "Выделим отели под одинаковым названием, но с различным адресом и добавим, для уникальности, к названию часть адреса."
   ],
   "metadata": {
    "collapsed": false,
    "pycharm": {
     "name": "#%% md\n"
    }
   }
  },
  {
   "cell_type": "code",
   "execution_count": null,
   "outputs": [],
   "source": [
    "address_list = hotels.pivot_table(\n",
    "    values = 'hotel_address',\n",
    "    index = 'hotel_name',\n",
    "    aggfunc = 'nunique'\n",
    ")\n",
    "dupl_hotel = address_list[address_list['hotel_address'] > 1]\n",
    "display(dupl_hotel)\n",
    "_temp_list = dupl_hotel[dupl_hotel['hotel_address'] > 1].index.to_list() # через временную переменную быстрее обрабатывается\n",
    "hotels['hotel_name'] = hotels.apply(lambda x: (x['hotel_name'] + ' in ' + x['hotel_address'].split()[-1])\n",
    "    if (x['hotel_name'] in _temp_list) else x['hotel_name'], axis=1)\n",
    "display(hotels['hotel_name'].nunique())"
   ],
   "metadata": {
    "collapsed": false,
    "pycharm": {
     "name": "#%%\n",
     "is_executing": true
    }
   }
  },
  {
   "cell_type": "markdown",
   "source": [
    "Окончательно получили 1494 уникальных отеля."
   ],
   "metadata": {
    "collapsed": false,
    "pycharm": {
     "name": "#%% md\n"
    }
   }
  },
  {
   "cell_type": "markdown",
   "source": [
    "### 2.2 Адрес отеля"
   ],
   "metadata": {
    "collapsed": false,
    "pycharm": {
     "name": "#%% md\n"
    }
   }
  },
  {
   "cell_type": "markdown",
   "source": [
    "Из признака hotel_address, извлечём: страну и город."
   ],
   "metadata": {
    "collapsed": false,
    "pycharm": {
     "name": "#%% md\n"
    }
   }
  },
  {
   "cell_type": "code",
   "execution_count": null,
   "outputs": [],
   "source": [
    "hotels['hotel_address'].head(20)"
   ],
   "metadata": {
    "collapsed": false,
    "pycharm": {
     "name": "#%%\n",
     "is_executing": true
    }
   }
  },
  {
   "cell_type": "code",
   "execution_count": null,
   "outputs": [],
   "source": [
    "hotels['hotel_country'] = hotels['hotel_address'].apply(lambda x: x.split()[-1])\n",
    "hotels['hotel_country'] = hotels['hotel_country'].apply(lambda x:'United Kingdom' if x == 'Kingdom' else x)\n",
    "country_list = list(hotels['hotel_country'].unique())\n",
    "display(country_list)"
   ],
   "metadata": {
    "collapsed": false,
    "pycharm": {
     "name": "#%%\n",
     "is_executing": true
    }
   }
  },
  {
   "cell_type": "markdown",
   "source": [
    "Выделено 6 уникальных стран."
   ],
   "metadata": {
    "collapsed": false,
    "pycharm": {
     "name": "#%% md\n"
    }
   }
  },
  {
   "cell_type": "code",
   "execution_count": null,
   "outputs": [],
   "source": [
    "hotels['hotel_city'] = hotels['hotel_address'].apply(lambda x: x.split()[-2])\n",
    "hotels['hotel_city'] = hotels['hotel_city'].apply(lambda x: 'London' if x == 'United' else x)\n",
    "city_list = list(hotels['hotel_city'].unique())\n",
    "display(city_list)"
   ],
   "metadata": {
    "collapsed": false,
    "pycharm": {
     "name": "#%%\n",
     "is_executing": true
    }
   }
  },
  {
   "cell_type": "markdown",
   "source": [
    "Так же получено 6 унимальных городов.\n",
    "В каждой стране представлен только один город, по этому кодировать признак города не имеет смысла, кодируем страну и создаем новый признак."
   ],
   "metadata": {
    "collapsed": false,
    "pycharm": {
     "name": "#%% md\n"
    }
   }
  },
  {
   "cell_type": "code",
   "execution_count": null,
   "outputs": [],
   "source": [
    "hotels['hotel_country_code'] = hotels['hotel_country'].astype('category').cat.codes\n",
    "hotels.head()"
   ],
   "metadata": {
    "collapsed": false,
    "pycharm": {
     "name": "#%%\n",
     "is_executing": true
    }
   }
  },
  {
   "cell_type": "markdown",
   "source": [
    "### 2.3 Географические координаты."
   ],
   "metadata": {
    "collapsed": false,
    "pycharm": {
     "name": "#%% md\n"
    }
   }
  },
  {
   "cell_type": "markdown",
   "source": [
    "Несмотря на то, что данные представлены в числовом виде правильнее их рассматривать как категориальные. Можно постараться сделать расчеты до центра города, или до ближайших станций метро или же до каких то достопримечательностей, но по моему проще избавиться от этих признаков. Если результат нас не удовлетворит, то вернемся к этому моменту."
   ],
   "metadata": {
    "collapsed": false,
    "pycharm": {
     "name": "#%% md\n"
    }
   }
  },
  {
   "cell_type": "code",
   "execution_count": null,
   "outputs": [],
   "source": [
    "hotels = hotels.drop(['lat', 'lng'], axis=1)\n",
    "hotels.head()"
   ],
   "metadata": {
    "collapsed": false,
    "pycharm": {
     "name": "#%%\n",
     "is_executing": true
    }
   }
  },
  {
   "cell_type": "markdown",
   "source": [
    "### 2.4 Национальность рецензента."
   ],
   "metadata": {
    "collapsed": false,
    "pycharm": {
     "name": "#%% md\n"
    }
   }
  },
  {
   "cell_type": "code",
   "execution_count": null,
   "outputs": [],
   "source": [
    "hotels['reviewer_nationality'] = hotels['reviewer_nationality'].apply(lambda x: x.strip())"
   ],
   "metadata": {
    "collapsed": false,
    "pycharm": {
     "name": "#%%\n",
     "is_executing": true
    }
   }
  },
  {
   "cell_type": "markdown",
   "source": [
    "Сделаем признак того, что рецензент является гражданином страны, в котором расположен отель"
   ],
   "metadata": {
    "collapsed": false,
    "pycharm": {
     "name": "#%% md\n"
    }
   }
  },
  {
   "cell_type": "code",
   "execution_count": null,
   "outputs": [],
   "source": [
    "hotels['is_citizen'] = hotels['reviewer_nationality'] == hotels['hotel_country']\n",
    "hotels['is_citizen'] = hotels['is_citizen'].astype('int')"
   ],
   "metadata": {
    "collapsed": false,
    "pycharm": {
     "name": "#%%\n",
     "is_executing": true
    }
   }
  },
  {
   "cell_type": "markdown",
   "source": [
    "В наборе данных 227 уникальных значений для признака национальности рецензента. Закодируем топ 10, остальных отметим как other."
   ],
   "metadata": {
    "collapsed": false,
    "pycharm": {
     "name": "#%% md\n"
    }
   }
  },
  {
   "cell_type": "code",
   "execution_count": null,
   "outputs": [],
   "source": [
    "top_nations = list(hotels['reviewer_nationality'].value_counts()[:10].index)\n",
    "hotels['reviewer_nationality'] = hotels['reviewer_nationality'].apply(lambda x: x if x in top_nations else 'other')\n",
    "hotels['reviewer_nationality_code'] = hotels['reviewer_nationality'].astype('category').cat.codes"
   ],
   "metadata": {
    "collapsed": false,
    "pycharm": {
     "name": "#%%\n",
     "is_executing": true
    }
   }
  },
  {
   "cell_type": "markdown",
   "source": [
    "Европейские страны по большей части христиане, выделим возможных рецензентов-мусульман."
   ],
   "metadata": {
    "collapsed": false,
    "pycharm": {
     "name": "#%% md\n"
    }
   }
  },
  {
   "cell_type": "code",
   "execution_count": null,
   "outputs": [],
   "source": [
    "muslim_countries = ['Turkey', 'United Arab Emirates', 'Saudi Arabia', 'Qatar', 'Kuwait', 'Oman']\n",
    "hotels['possible_muslim'] = hotels['reviewer_nationality'].apply(lambda x: 1 if x in muslim_countries else 0)"
   ],
   "metadata": {
    "collapsed": false,
    "pycharm": {
     "name": "#%%\n",
     "is_executing": true
    }
   }
  },
  {
   "cell_type": "code",
   "execution_count": null,
   "outputs": [],
   "source": [
    "hotels.head()"
   ],
   "metadata": {
    "collapsed": false,
    "pycharm": {
     "name": "#%%\n",
     "is_executing": true
    }
   }
  },
  {
   "cell_type": "markdown",
   "source": [
    "### 2.5 Тэги"
   ],
   "metadata": {
    "collapsed": false,
    "pycharm": {
     "name": "#%% md\n"
    }
   }
  },
  {
   "cell_type": "markdown",
   "source": [
    "Количество тэгов."
   ],
   "metadata": {
    "collapsed": false,
    "pycharm": {
     "name": "#%% md\n"
    }
   }
  },
  {
   "cell_type": "code",
   "execution_count": null,
   "outputs": [],
   "source": [
    "hotels['tags_count'] = hotels['tags'].apply(lambda x: len(re.findall(\"'[^\\'](.+?)[^\\']'\", x)))"
   ],
   "metadata": {
    "collapsed": false,
    "pycharm": {
     "name": "#%%\n",
     "is_executing": true
    }
   }
  },
  {
   "cell_type": "markdown",
   "source": [
    "Создадим новые признаки на основании тегов."
   ],
   "metadata": {
    "collapsed": false,
    "pycharm": {
     "name": "#%% md\n"
    }
   }
  },
  {
   "cell_type": "code",
   "execution_count": null,
   "outputs": [],
   "source": [
    "def get_tags(tags_string):\n",
    "    tags_string = tags_string.replace('[', '').replace(']', '')\n",
    "    tags_string = tags_string.replace(\"' \", '').replace(\" '\", '')\n",
    "    tags_list = tags_string.split(',')\n",
    "    tags_list = list(map(lambda x: x.strip(), tags_list))\n",
    "\n",
    "    reviewer_types = {\n",
    "        'Solo traveler': 1,\n",
    "        'Couple': 2,\n",
    "        'Travelers with friends': 3,\n",
    "        'Family with young children': 4,\n",
    "        'Family with older children': 5,\n",
    "        'Group': 6\n",
    "    }\n",
    "\n",
    "    room_types = {\n",
    "            'without Window': 0,\n",
    "            'Guestroom': 1,\n",
    "            'Classic': 2,\n",
    "            'Single': 3,\n",
    "            'Standard': 4,\n",
    "            'Superior': 5,\n",
    "            'Comfort': 6,\n",
    "            'Club': 7,\n",
    "            'Suite': 8,\n",
    "            'Deluxe': 9,\n",
    "            'King': 10,\n",
    "            'Premier': 11\n",
    "            # 'Double'        # 12\n",
    "            # 'Other'         # 13\n",
    "        }\n",
    "\n",
    "\n",
    "    tag_from_mobile = 0\n",
    "    tag_with_pet = 0\n",
    "    tag_leisure_trip = 1\n",
    "    tag_reviewer_type = 0\n",
    "    tag_count_nights = 0\n",
    "    tag_view_room = 0\n",
    "    tag_room_type = -1\n",
    "\n",
    "    for _tag in list(tags_list):\n",
    "        if _tag == 'Submitted from a mobile device':\n",
    "            tag_from_mobile = 1\n",
    "            tags_list.remove(_tag)\n",
    "\n",
    "        if _tag == 'With a pet':\n",
    "            tag_with_pet = 1\n",
    "            tags_list.remove(_tag)\n",
    "\n",
    "        if _tag == 'Business trip':\n",
    "            tag_leisure_trip = 0\n",
    "            tags_list.remove(_tag)\n",
    "\n",
    "        if _tag == 'Leisure trip':\n",
    "            tag_leisure_trip = 1\n",
    "            tags_list.remove(_tag)\n",
    "\n",
    "        if _tag in reviewer_types.keys():\n",
    "            tag_reviewer_type = reviewer_types[_tag]\n",
    "            tags_list.remove(_tag)\n",
    "\n",
    "        if re.fullmatch(r'Stayed\\s\\d+\\snight\\w?', _tag):\n",
    "            tag_count_nights = [float(s) for s in re.findall(r'-?\\d+\\.?\\d*', _tag)][0]\n",
    "            tags_list.remove(_tag)\n",
    "\n",
    "        if len(tags_list) > 0:\n",
    "            if ('View' in tags_list[0]) | ('Panoramic' in tags_list[0]):\n",
    "                tag_view_room = 1\n",
    "\n",
    "            for rt in room_types.keys():\n",
    "                if rt in tags_list[0]:\n",
    "                    tag_room_type = room_types[rt]\n",
    "\n",
    "            if 'Double' in tags_list[0] or 'Twin' in tags_list[0]:\n",
    "                tag_room_type = 12\n",
    "            if tag_room_type == -1:\n",
    "                tag_room_type = 13\n",
    "\n",
    "    return tag_from_mobile, tag_with_pet, tag_leisure_trip, tag_reviewer_type, tag_count_nights, tag_view_room, tag_room_type\n",
    "\n",
    "hotels[['tag_from_mobile',    # отправлено с мобильного\n",
    "        'tag_with_pet',       # путешествие с домашними животными\n",
    "        'tag_leisure_trip',   # путешествие по работе / отдых\n",
    "        'tag_reviewer_type',  # тип путешествия\n",
    "        'tag_count_nights',   # количество ночей\n",
    "        'tag_view_room',      # номер с видом на ...\n",
    "        'tag_room_type'       # тип номера\n",
    "        ]\n",
    "] = pd.DataFrame(hotels['tags'].apply(get_tags).to_list(), index=hotels.index)"
   ],
   "metadata": {
    "collapsed": false,
    "pycharm": {
     "name": "#%%\n",
     "is_executing": true
    }
   }
  },
  {
   "cell_type": "code",
   "execution_count": null,
   "outputs": [],
   "source": [
    "hotels.head()"
   ],
   "metadata": {
    "collapsed": false,
    "pycharm": {
     "name": "#%%\n",
     "is_executing": true
    }
   }
  },
  {
   "cell_type": "markdown",
   "source": [
    "### 2.6 Дата отзыва"
   ],
   "metadata": {
    "collapsed": false,
    "pycharm": {
     "name": "#%% md\n"
    }
   }
  },
  {
   "cell_type": "markdown",
   "source": [
    "Выделим из даты отзыва месяц."
   ],
   "metadata": {
    "collapsed": false,
    "pycharm": {
     "name": "#%% md\n"
    }
   }
  },
  {
   "cell_type": "code",
   "execution_count": null,
   "outputs": [],
   "source": [
    "hotels['review_date'] = pd.to_datetime(hotels['review_date'])\n",
    "hotels['review_month'] = hotels['review_date'].dt.month"
   ],
   "metadata": {
    "collapsed": false,
    "pycharm": {
     "name": "#%%\n",
     "is_executing": true
    }
   }
  },
  {
   "cell_type": "markdown",
   "source": [
    "Выделим день недели"
   ],
   "metadata": {
    "collapsed": false,
    "pycharm": {
     "name": "#%% md\n"
    }
   }
  },
  {
   "cell_type": "code",
   "execution_count": null,
   "outputs": [],
   "source": [
    "hotels['day_of_week'] = hotels['review_date'].dt.dayofweek"
   ],
   "metadata": {
    "collapsed": false,
    "pycharm": {
     "name": "#%%\n",
     "is_executing": true
    }
   }
  },
  {
   "cell_type": "markdown",
   "source": [
    "Выделим месяцы \"высокого\" сезона."
   ],
   "metadata": {
    "collapsed": false,
    "pycharm": {
     "name": "#%% md\n"
    }
   }
  },
  {
   "cell_type": "code",
   "execution_count": null,
   "outputs": [],
   "source": [
    "display(hotels['review_month'].value_counts())"
   ],
   "metadata": {
    "collapsed": false,
    "pycharm": {
     "name": "#%%\n",
     "is_executing": true
    }
   }
  },
  {
   "cell_type": "markdown",
   "source": [
    "Выделим топ 4, дальше разброс не сильно большой."
   ],
   "metadata": {
    "collapsed": false,
    "pycharm": {
     "name": "#%% md\n"
    }
   }
  },
  {
   "cell_type": "code",
   "execution_count": null,
   "outputs": [],
   "source": [
    "hotels['high_season'] = hotels['review_month'].apply(lambda x: 1 if x in [8,7,5,10] else 0)"
   ],
   "metadata": {
    "collapsed": false,
    "pycharm": {
     "name": "#%%\n",
     "is_executing": true
    }
   }
  },
  {
   "cell_type": "markdown",
   "source": [
    "Заменим признак days_since_review на числовой."
   ],
   "metadata": {
    "collapsed": false,
    "pycharm": {
     "name": "#%% md\n"
    }
   }
  },
  {
   "cell_type": "code",
   "execution_count": null,
   "outputs": [],
   "source": [
    "hotels['days_since_review'] = hotels['days_since_review'].apply(lambda x: np.float64(re.findall(r'\\d+', x)[0])).convert_dtypes()"
   ],
   "metadata": {
    "collapsed": false,
    "pycharm": {
     "name": "#%%\n",
     "is_executing": true
    }
   }
  },
  {
   "cell_type": "code",
   "execution_count": null,
   "outputs": [],
   "source": [
    "hotels.head()"
   ],
   "metadata": {
    "collapsed": false,
    "pycharm": {
     "name": "#%%\n",
     "is_executing": true
    }
   }
  },
  {
   "cell_type": "markdown",
   "source": [
    "### 2.7 Отзывы"
   ],
   "metadata": {
    "collapsed": false,
    "pycharm": {
     "name": "#%% md\n"
    }
   }
  },
  {
   "cell_type": "markdown",
   "source": [
    " Отзывы и их структура поможет разобраться в поставленной задаче лучше всего. Для этого надо изучить отзывы, выделить эмоциональную окраску: негативная, нейтральная, позитивная.\n",
    "\n",
    "Участники соревнования активно применяют библиотеку VADER, класс SentimentIntensityAnalyzer, не будем от них отставать."
   ],
   "metadata": {
    "collapsed": false,
    "pycharm": {
     "name": "#%% md\n"
    }
   }
  },
  {
   "cell_type": "code",
   "execution_count": null,
   "outputs": [],
   "source": [
    "# Создаём объекты SentimentIntensityAnalyzer\n",
    "positive = SentimentIntensityAnalyzer()\n",
    "negative = SentimentIntensityAnalyzer()\n",
    "\n",
    "# посмотрим как изменится характеристика слова 'nothing':\n",
    "example = 'nothing'\n",
    "print(f'Словарь оценок слова \"{example}\" до преобразований:')\n",
    "print(negative.polarity_scores(example), '\\n')\n",
    "\n",
    "# добавим контекст:\n",
    "negative_words = {'small': -1, 'nothing': 10}\n",
    "positive_words = {'nothing': -10, 'everything': 10}\n",
    "negative.lexicon.update(negative_words)\n",
    "positive.lexicon.update(positive_words)\n",
    "\n",
    "print(f' - после преобразований (для негативного контекста):')\n",
    "print(negative.polarity_scores(example))\n",
    "print(f' - после преобразований (для позитивного контекста):')\n",
    "print(positive.polarity_scores(example))\n",
    "\n",
    "# фразы \"No Negative\" тонально будет нести негативную окраску:\n",
    "example = 'No Negative'\n",
    "print(f'\\nСловарь оценок фразы \"{example}\":')\n",
    "print(negative.polarity_scores(example))\n",
    "example = 'Positive'\n",
    "print(f'Словарь оценок фразы \"{example}\":')\n",
    "print(negative.polarity_scores(example))\n",
    "\n",
    "# меняем метки отсутствия частей отзыва:\n",
    "hotels['negative_review_temp'] = hotels['negative_review'].apply(lambda x: x.replace('No Negative', 'Positive'))\n",
    "hotels['positive_review_temp'] = hotels['positive_review'].apply(lambda x: x.replace('No Positive', 'Negative'))"
   ],
   "metadata": {
    "collapsed": false,
    "pycharm": {
     "name": "#%%\n",
     "is_executing": true
    }
   }
  },
  {
   "cell_type": "code",
   "execution_count": null,
   "outputs": [],
   "source": [
    "%%time\n",
    "\n",
    "hotels['negative_review_sentiments'] = hotels['negative_review_temp'].apply(lambda x: negative.polarity_scores(x))\n",
    "\n",
    "hotels['positive_review_sentiments'] = hotels['positive_review_temp'].apply(lambda x: positive.polarity_scores(x))\n",
    "\n",
    "# формируем новые признаки:\n",
    "hotels['neg_review_sentiments_neg'] = hotels['negative_review_sentiments'].apply(lambda x: x['neg'])\n",
    "hotels['neg_review_sentiments_neu'] = hotels['negative_review_sentiments'].apply(lambda x: x['neu'])\n",
    "hotels['neg_review_sentiments_pos'] = hotels['negative_review_sentiments'].apply(lambda x: x['pos'])\n",
    "hotels['neg_review_sentiments_compound'] = hotels['negative_review_sentiments'].apply(lambda x: x['compound'])\n",
    "\n",
    "hotels['pos_review_sentiments_neg'] = hotels['positive_review_sentiments'].apply(lambda x: x['neg'])\n",
    "hotels['pos_review_sentiments_neu'] = hotels['positive_review_sentiments'].apply(lambda x: x['neu'])\n",
    "hotels['pos_review_sentiments_pos'] = hotels['positive_review_sentiments'].apply(lambda x: x['pos'])\n",
    "hotels['pos_review_sentiments_compound'] = hotels['positive_review_sentiments'].apply(lambda x: x['compound'])"
   ],
   "metadata": {
    "collapsed": false,
    "pycharm": {
     "name": "#%%\n",
     "is_executing": true
    }
   }
  },
  {
   "cell_type": "markdown",
   "source": [
    "## 3. Отбор призаков"
   ],
   "metadata": {
    "collapsed": false,
    "pycharm": {
     "name": "#%% md\n"
    }
   }
  },
  {
   "cell_type": "markdown",
   "source": [
    "### 3.1 Очистка дата-сета от ненужных вспомогательных признаков"
   ],
   "metadata": {
    "collapsed": false,
    "pycharm": {
     "name": "#%% md\n"
    }
   }
  },
  {
   "cell_type": "code",
   "execution_count": null,
   "outputs": [],
   "source": [
    "hotels.info()"
   ],
   "metadata": {
    "collapsed": false,
    "pycharm": {
     "name": "#%%\n",
     "is_executing": true
    }
   }
  },
  {
   "cell_type": "code",
   "execution_count": null,
   "outputs": [],
   "source": [
    "hotels_copy = hotels.copy()"
   ],
   "metadata": {
    "collapsed": false,
    "pycharm": {
     "name": "#%%\n",
     "is_executing": true
    }
   }
  },
  {
   "cell_type": "code",
   "execution_count": null,
   "outputs": [],
   "source": [
    "object_columns = [s for s in hotels_copy.columns if hotels_copy[s].dtypes == 'object']\n",
    "hotels_copy.drop(object_columns, axis = 1, inplace=True)"
   ],
   "metadata": {
    "collapsed": false,
    "pycharm": {
     "name": "#%%\n",
     "is_executing": true
    }
   }
  },
  {
   "cell_type": "code",
   "execution_count": null,
   "outputs": [],
   "source": [
    "hotels_copy.info()"
   ],
   "metadata": {
    "collapsed": false,
    "pycharm": {
     "name": "#%%\n",
     "is_executing": true
    }
   }
  },
  {
   "cell_type": "code",
   "execution_count": null,
   "outputs": [],
   "source": [
    "cat_date_columns = [cd for cd in hotels_copy.columns if ((hotels_copy[cd].dtypes.name == 'category') or (hotels_copy[cd].dtypes == 'datetime64[ns]'))]\n",
    "hotels_copy.drop(cat_date_columns, axis = 1, inplace=True)"
   ],
   "metadata": {
    "collapsed": false,
    "pycharm": {
     "name": "#%%\n",
     "is_executing": true
    }
   }
  },
  {
   "cell_type": "code",
   "execution_count": null,
   "outputs": [],
   "source": [
    "hotels_copy.info()"
   ],
   "metadata": {
    "collapsed": false,
    "pycharm": {
     "name": "#%%\n",
     "is_executing": true
    }
   }
  },
  {
   "cell_type": "markdown",
   "source": [
    "### 3.2 Анализ мультиколлинеарности"
   ],
   "metadata": {
    "collapsed": false,
    "pycharm": {
     "name": "#%% md\n"
    }
   }
  },
  {
   "cell_type": "code",
   "execution_count": null,
   "outputs": [],
   "source": [
    "cols_num = [\n",
    "    'review_total_negative_word_counts',\n",
    "    'review_total_positive_word_counts',\n",
    "    'total_number_of_reviews_reviewer_has_given',\n",
    "    'tags_count',\n",
    "    'tag_count_nights',\n",
    "    'neg_review_sentiments_neg',\n",
    "    'neg_review_sentiments_neu',\n",
    "    'neg_review_sentiments_pos',\n",
    "    'neg_review_sentiments_compound',\n",
    "    'pos_review_sentiments_neg',\n",
    "    'pos_review_sentiments_neu',\n",
    "    'pos_review_sentiments_pos',\n",
    "    'pos_review_sentiments_compound'\n",
    "]\n",
    "\n",
    "cols_cat = [\n",
    "    'additional_number_of_scoring',\n",
    "    'average_score',\n",
    "    'total_number_of_reviews',\n",
    "    'days_since_review',\n",
    "    'hotel_country_code',\n",
    "    'reviewer_nationality_code',\n",
    "    'is_citizen',\n",
    "    'possible_muslim',\n",
    "    'reviewer_score',\n",
    "    'is_citizen',\n",
    "    'possible_muslim',\n",
    "    'tag_from_mobile',\n",
    "    'tag_with_pet',\n",
    "    'tag_leisure_trip',\n",
    "    'tag_reviewer_type',\n",
    "    'tag_view_room',\n",
    "    'tag_room_type',\n",
    "    'review_month',\n",
    "    'day_of_week',\n",
    "    'high_season',\n",
    "    'review_month',\n",
    "]"
   ],
   "metadata": {
    "collapsed": false,
    "pycharm": {
     "name": "#%%\n",
     "is_executing": true
    }
   }
  },
  {
   "cell_type": "code",
   "execution_count": null,
   "outputs": [],
   "source": [
    "def show_corr_heatmap(columns_list, title, method):\n",
    "    fig_, ax_ = plt.subplots(figsize=(15, 12))\n",
    "    corr = hotels_copy[columns_list].corr(method=method)\n",
    "    mask = np.triu(np.ones_like(corr, dtype=bool))\n",
    "    sns.heatmap(corr,\n",
    "                annot=True,\n",
    "                linewidths=0.1,\n",
    "                ax=ax_,\n",
    "                mask=mask,\n",
    "                cmap='viridis',\n",
    "                fmt='.1g')\n",
    "    ax_.set_title(title, fontsize=18)\n",
    "    plt.show()"
   ],
   "metadata": {
    "collapsed": false,
    "pycharm": {
     "name": "#%%\n",
     "is_executing": true
    }
   }
  },
  {
   "cell_type": "code",
   "execution_count": null,
   "outputs": [],
   "source": [
    "show_corr_heatmap(cols_num, 'КОРРЕЛЯЦИЯ НЕПРЕРЫВНЫХ ПРИЗНАКОВ', method='pearson')"
   ],
   "metadata": {
    "collapsed": false,
    "pycharm": {
     "name": "#%%\n",
     "is_executing": true
    }
   }
  },
  {
   "cell_type": "code",
   "execution_count": null,
   "outputs": [],
   "source": [
    "drop_columns = ['neg_review_sentiments_pos']"
   ],
   "metadata": {
    "collapsed": false,
    "pycharm": {
     "name": "#%%\n",
     "is_executing": true
    }
   }
  },
  {
   "cell_type": "code",
   "execution_count": null,
   "outputs": [],
   "source": [
    "show_corr_heatmap(cols_cat, 'КОРРЕЛЯЦИЯ КАТЕГОРИАЛЬНЫХ ПРИЗНАКОВ', method='spearman');"
   ],
   "metadata": {
    "collapsed": false,
    "pycharm": {
     "name": "#%%\n",
     "is_executing": true
    }
   }
  },
  {
   "cell_type": "code",
   "execution_count": null,
   "outputs": [],
   "source": [
    "drop_columns += ['is_citizen', 'possible_muslim',]"
   ],
   "metadata": {
    "collapsed": false,
    "pycharm": {
     "name": "#%%\n",
     "is_executing": true
    }
   }
  },
  {
   "cell_type": "code",
   "execution_count": null,
   "outputs": [],
   "source": [
    "hotels_copy.drop(drop_columns, axis = 1, inplace=True)"
   ],
   "metadata": {
    "collapsed": false,
    "pycharm": {
     "name": "#%%\n",
     "is_executing": true
    }
   }
  },
  {
   "cell_type": "code",
   "execution_count": null,
   "outputs": [],
   "source": [
    "hotels_copy.info()"
   ],
   "metadata": {
    "collapsed": false,
    "pycharm": {
     "name": "#%%\n",
     "is_executing": true
    }
   }
  },
  {
   "cell_type": "markdown",
   "source": [
    "### 3.3 Оценка значимости признаков"
   ],
   "metadata": {
    "collapsed": false,
    "pycharm": {
     "name": "#%% md\n"
    }
   }
  },
  {
   "cell_type": "markdown",
   "source": [
    "Для оценки значимости категориальных признаков будем использовать тест хи-квадрат, для непрерывных признаков — тест ANOVA."
   ],
   "metadata": {
    "collapsed": false,
    "pycharm": {
     "name": "#%% md\n"
    }
   }
  },
  {
   "cell_type": "code",
   "execution_count": null,
   "outputs": [],
   "source": [
    "y = hotels_copy.query('sample == 1').drop(['sample'], axis=1)['reviewer_score'].values\n",
    "X = hotels_copy.query('sample == 1').drop(['sample', 'reviewer_score'], axis=1)\n",
    "\n",
    "# визуализируем результат анализа значимости:\n",
    "imp_num = pd.Series(f_classif(X[X.columns], y)[0], index = X.columns)\n",
    "imp_num.sort_values(inplace = True)\n",
    "\n",
    "fig5, ax5 = plt.subplots(figsize=(15, 20))\n",
    "imp_num.plot(kind = 'barh', color='blue')"
   ],
   "metadata": {
    "collapsed": false,
    "pycharm": {
     "name": "#%%\n",
     "is_executing": true
    }
   }
  },
  {
   "cell_type": "code",
   "execution_count": null,
   "outputs": [],
   "source": [
    "drop_columns = ['day_of_week']"
   ],
   "metadata": {
    "collapsed": false,
    "pycharm": {
     "name": "#%%\n",
     "is_executing": true
    }
   }
  },
  {
   "cell_type": "code",
   "execution_count": null,
   "outputs": [],
   "source": [
    "hotels_copy.drop(drop_columns, axis = 1, inplace=True)"
   ],
   "metadata": {
    "collapsed": false,
    "pycharm": {
     "name": "#%%\n",
     "is_executing": true
    }
   }
  },
  {
   "cell_type": "markdown",
   "source": [
    "## 4. Обучение модели и получение предсказания"
   ],
   "metadata": {
    "collapsed": false,
    "pycharm": {
     "name": "#%% md\n"
    }
   }
  },
  {
   "cell_type": "markdown",
   "source": [
    "Разбиваем датафрейм на части, необходимые для обучения и тестирования модели"
   ],
   "metadata": {
    "collapsed": false,
    "pycharm": {
     "name": "#%% md\n"
    }
   }
  },
  {
   "cell_type": "code",
   "execution_count": null,
   "outputs": [],
   "source": [
    "train_data = hotels_copy.query('sample == 1').drop(['sample'], axis=1)\n",
    "test_data = hotels_copy.query('sample == 0').drop(['sample'], axis=1)\n",
    "\n",
    "y = train_data.reviewer_score.values\n",
    "X = train_data.drop(['reviewer_score'], axis=1)\n",
    "\n",
    "X_train, X_test, y_train, y_test = train_test_split(X, y, test_size=0.2, random_state=RANDOM_SEED)\n",
    "\n",
    "test_data.shape, train_data.shape, X.shape, X_train.shape, X_test.shape"
   ],
   "metadata": {
    "collapsed": false,
    "pycharm": {
     "name": "#%%\n",
     "is_executing": true
    }
   }
  },
  {
   "cell_type": "code",
   "execution_count": null,
   "outputs": [],
   "source": [
    "model = RandomForestRegressor(\n",
    "    n_estimators=100,\n",
    "    verbose=1,\n",
    "    n_jobs=-1,\n",
    "    random_state=RANDOM_SEED)"
   ],
   "metadata": {
    "collapsed": false,
    "pycharm": {
     "name": "#%%\n",
     "is_executing": true
    }
   }
  },
  {
   "cell_type": "code",
   "execution_count": null,
   "outputs": [],
   "source": [
    "%%time\n",
    "\n",
    "# обучаем модель на тестовом наборе данных\n",
    "model.fit(X_train, y_train)\n",
    "\n",
    "# предсказанные значения записываем в переменную y_pred\n",
    "y_pred = model.predict(X_test)"
   ],
   "metadata": {
    "collapsed": false,
    "pycharm": {
     "name": "#%%\n",
     "is_executing": true
    }
   }
  },
  {
   "cell_type": "code",
   "execution_count": null,
   "outputs": [],
   "source": [
    "# сравниваем предсказанные значения (y_pred) с реальными (y_test),\n",
    "# метрика Mean Absolute Percentage Error (MAPE) показывает среднюю абсолютную\n",
    "# процентную ошибку предсказанных значений от фактических:\n",
    "\n",
    "def mean_absolute_percentage_error(y_tr, y_pr):\n",
    "    \"\"\"Получение средней абсолютной ошибки\"\"\"\n",
    "    y_tr, y_pr = np.array(y_tr), np.array(y_pr)\n",
    "    return np.mean(np.abs((y_tr - y_pr) / y_tr)) * 100\n",
    "\n",
    "print('MAPE:', round(mean_absolute_percentage_error(y_test, y_pred), 2))"
   ],
   "metadata": {
    "collapsed": false,
    "pycharm": {
     "name": "#%%\n",
     "is_executing": true
    }
   }
  },
  {
   "cell_type": "code",
   "execution_count": null,
   "outputs": [],
   "source": [
    "# в RandomForestRegressor есть возможность вывести самые важные признаки\n",
    "plt.rcParams['figure.figsize'] = (10,10)\n",
    "feat_importances = pd.Series(model.feature_importances_, index=X.columns)\n",
    "feat_importances.nlargest(15).plot(kind='barh', color='green');"
   ],
   "metadata": {
    "collapsed": false,
    "pycharm": {
     "name": "#%%\n",
     "is_executing": true
    }
   }
  },
  {
   "cell_type": "markdown",
   "source": [
    "Получаем предсказание целевой переменной"
   ],
   "metadata": {
    "collapsed": false,
    "pycharm": {
     "name": "#%% md\n"
    }
   }
  },
  {
   "cell_type": "code",
   "execution_count": null,
   "outputs": [],
   "source": [
    "test_data = test_data.drop(['reviewer_score'], axis=1)\n",
    "predict_submission = model.predict(test_data)\n",
    "sample_submission['reviewer_score'] = predict_submission\n",
    "\n",
    "#  сохраняем результат:\n",
    "sample_submission.to_csv('submission.csv', index=False)\n",
    "sample_submission.head(10)"
   ],
   "metadata": {
    "collapsed": false,
    "pycharm": {
     "name": "#%%\n",
     "is_executing": true
    }
   }
  },
  {
   "cell_type": "markdown",
   "source": [
    "Среди 15 главных для построения модели признаков с итоговым MAPE 11.92 - только два исходных - рейтинг отеля и общее количество отзывов об отеле (несправедливо недооцененный мной признак). Остальные - это признаки, сконструированные в процессе исследования данных. Учитывая, что критерий MAPE на необработанных данных - 14.14%, только при помощи инструментов EDA мне удалось улучшить его примерно на 15,5 процентов. В ряду важнейших признаков есть и дистанция до центра и соотношение количества слов в разных частях отзыва. Но конечно, главную роль сыграли признаки, отвечающие за определение эмоциональной окраски текста.\n",
    "P.S. Это ноутбук предпоследнего, не самого лучшего моего решения. В последнем варианте, по прежнему не меняя вида и настроек модели, только за счет EDA (работы с признаками) мне удалось улучшить итоговую метрику MAPE до значения 11.55. Учитывая, что это текущее первое место соревнования, считаю, что обнародовать его будет немного не спортивно :D\n",
    "\n",
    "Если вы в данный момент выполняете свой проект - желаю вам вдохновения и удачи. На все вопросы отвечу с удовольствием!"
   ],
   "metadata": {
    "collapsed": false,
    "pycharm": {
     "name": "#%% md\n"
    }
   }
  },
  {
   "cell_type": "code",
   "execution_count": null,
   "outputs": [],
   "source": [],
   "metadata": {
    "collapsed": false,
    "pycharm": {
     "name": "#%%\n",
     "is_executing": true
    }
   }
  }
 ],
 "metadata": {
  "kernelspec": {
   "display_name": "Python 3",
   "language": "python",
   "name": "python3"
  },
  "language_info": {
   "codemirror_mode": {
    "name": "ipython",
    "version": 2
   },
   "file_extension": ".py",
   "mimetype": "text/x-python",
   "name": "python",
   "nbconvert_exporter": "python",
   "pygments_lexer": "ipython2",
   "version": "2.7.6"
  }
 },
 "nbformat": 4,
 "nbformat_minor": 0
}