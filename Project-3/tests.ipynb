{
 "cells": [
  {
   "cell_type": "code",
   "execution_count": 1,
   "metadata": {
    "collapsed": true,
    "pycharm": {
     "name": "#%%\n"
    }
   },
   "outputs": [],
   "source": [
    "import pandas as pd\n",
    "import numpy as np"
   ]
  },
  {
   "cell_type": "code",
   "execution_count": 2,
   "outputs": [
    {
     "data": {
      "text/plain": "                                       hotel_address  \\\n0  Stratton Street Mayfair Westminster Borough Lo...   \n1  130 134 Southampton Row Camden London WC1B 5AF...   \n2   151 bis Rue de Rennes 6th arr 75006 Paris France   \n3  216 Avenue Jean Jaures 19th arr 75019 Paris Fr...   \n4          Molenwerf 1 1014 AG Amsterdam Netherlands   \n\n   additional_number_of_scoring review_date  average_score  \\\n0                           581   2/19/2016            8.4   \n1                           299   1/12/2017            8.3   \n2                            32  10/18/2016            8.9   \n3                            34   9/22/2015            7.5   \n4                           914    3/5/2016            8.5   \n\n                                  hotel_name reviewer_nationality  \\\n0                         The May Fair Hotel      United Kingdom    \n1            Mercure London Bloomsbury Hotel      United Kingdom    \n2          Legend Saint Germain by Elegancia               China    \n3  Mercure Paris 19 Philharmonie La Villette      United Kingdom    \n4                Golden Tulip Amsterdam West              Poland    \n\n       negative_review  review_total_negative_word_counts  \\\n0             Leaving                                   3   \n1       poor breakfast                                  3   \n2   No kettle in room                                   6   \n3          No Negative                                  0   \n4         Torn sheets                                   4   \n\n   total_number_of_reviews                                    positive_review  \\\n0                     1994                                 Staff were amazing   \n1                     1361                                           location   \n2                      406                                        No Positive   \n3                      607   Friendly staff quiet comfortable room spotles...   \n4                     7586   The staff was very friendly and helpful Break...   \n\n   review_total_positive_word_counts  \\\n0                                  4   \n1                                  2   \n2                                  0   \n3                                 11   \n4                                 20   \n\n   total_number_of_reviews_reviewer_has_given  reviewer_score  \\\n0                                           7            10.0   \n1                                          14             6.3   \n2                                          14             7.5   \n3                                           8            10.0   \n4                                          10             9.6   \n\n                                                tags days_since_review  \\\n0  [' Leisure trip ', ' Couple ', ' Studio Suite ...           531 day   \n1  [' Business trip ', ' Couple ', ' Standard Dou...           203 day   \n2  [' Leisure trip ', ' Solo traveler ', ' Modern...           289 day   \n3  [' Leisure trip ', ' Solo traveler ', ' Standa...           681 day   \n4  [' Business trip ', ' Couple ', ' Standard Dou...           516 day   \n\n         lat       lng  \n0  51.507894 -0.143671  \n1  51.521009 -0.123097  \n2  48.845377  2.325643  \n3  48.888697  2.394540  \n4  52.385601  4.847060  ",
      "text/html": "<div>\n<style scoped>\n    .dataframe tbody tr th:only-of-type {\n        vertical-align: middle;\n    }\n\n    .dataframe tbody tr th {\n        vertical-align: top;\n    }\n\n    .dataframe thead th {\n        text-align: right;\n    }\n</style>\n<table border=\"1\" class=\"dataframe\">\n  <thead>\n    <tr style=\"text-align: right;\">\n      <th></th>\n      <th>hotel_address</th>\n      <th>additional_number_of_scoring</th>\n      <th>review_date</th>\n      <th>average_score</th>\n      <th>hotel_name</th>\n      <th>reviewer_nationality</th>\n      <th>negative_review</th>\n      <th>review_total_negative_word_counts</th>\n      <th>total_number_of_reviews</th>\n      <th>positive_review</th>\n      <th>review_total_positive_word_counts</th>\n      <th>total_number_of_reviews_reviewer_has_given</th>\n      <th>reviewer_score</th>\n      <th>tags</th>\n      <th>days_since_review</th>\n      <th>lat</th>\n      <th>lng</th>\n    </tr>\n  </thead>\n  <tbody>\n    <tr>\n      <th>0</th>\n      <td>Stratton Street Mayfair Westminster Borough Lo...</td>\n      <td>581</td>\n      <td>2/19/2016</td>\n      <td>8.4</td>\n      <td>The May Fair Hotel</td>\n      <td>United Kingdom</td>\n      <td>Leaving</td>\n      <td>3</td>\n      <td>1994</td>\n      <td>Staff were amazing</td>\n      <td>4</td>\n      <td>7</td>\n      <td>10.0</td>\n      <td>[' Leisure trip ', ' Couple ', ' Studio Suite ...</td>\n      <td>531 day</td>\n      <td>51.507894</td>\n      <td>-0.143671</td>\n    </tr>\n    <tr>\n      <th>1</th>\n      <td>130 134 Southampton Row Camden London WC1B 5AF...</td>\n      <td>299</td>\n      <td>1/12/2017</td>\n      <td>8.3</td>\n      <td>Mercure London Bloomsbury Hotel</td>\n      <td>United Kingdom</td>\n      <td>poor breakfast</td>\n      <td>3</td>\n      <td>1361</td>\n      <td>location</td>\n      <td>2</td>\n      <td>14</td>\n      <td>6.3</td>\n      <td>[' Business trip ', ' Couple ', ' Standard Dou...</td>\n      <td>203 day</td>\n      <td>51.521009</td>\n      <td>-0.123097</td>\n    </tr>\n    <tr>\n      <th>2</th>\n      <td>151 bis Rue de Rennes 6th arr 75006 Paris France</td>\n      <td>32</td>\n      <td>10/18/2016</td>\n      <td>8.9</td>\n      <td>Legend Saint Germain by Elegancia</td>\n      <td>China</td>\n      <td>No kettle in room</td>\n      <td>6</td>\n      <td>406</td>\n      <td>No Positive</td>\n      <td>0</td>\n      <td>14</td>\n      <td>7.5</td>\n      <td>[' Leisure trip ', ' Solo traveler ', ' Modern...</td>\n      <td>289 day</td>\n      <td>48.845377</td>\n      <td>2.325643</td>\n    </tr>\n    <tr>\n      <th>3</th>\n      <td>216 Avenue Jean Jaures 19th arr 75019 Paris Fr...</td>\n      <td>34</td>\n      <td>9/22/2015</td>\n      <td>7.5</td>\n      <td>Mercure Paris 19 Philharmonie La Villette</td>\n      <td>United Kingdom</td>\n      <td>No Negative</td>\n      <td>0</td>\n      <td>607</td>\n      <td>Friendly staff quiet comfortable room spotles...</td>\n      <td>11</td>\n      <td>8</td>\n      <td>10.0</td>\n      <td>[' Leisure trip ', ' Solo traveler ', ' Standa...</td>\n      <td>681 day</td>\n      <td>48.888697</td>\n      <td>2.394540</td>\n    </tr>\n    <tr>\n      <th>4</th>\n      <td>Molenwerf 1 1014 AG Amsterdam Netherlands</td>\n      <td>914</td>\n      <td>3/5/2016</td>\n      <td>8.5</td>\n      <td>Golden Tulip Amsterdam West</td>\n      <td>Poland</td>\n      <td>Torn sheets</td>\n      <td>4</td>\n      <td>7586</td>\n      <td>The staff was very friendly and helpful Break...</td>\n      <td>20</td>\n      <td>10</td>\n      <td>9.6</td>\n      <td>[' Business trip ', ' Couple ', ' Standard Dou...</td>\n      <td>516 day</td>\n      <td>52.385601</td>\n      <td>4.847060</td>\n    </tr>\n  </tbody>\n</table>\n</div>"
     },
     "execution_count": 2,
     "metadata": {},
     "output_type": "execute_result"
    }
   ],
   "source": [
    "df = pd.read_csv('data/hotels.zip')\n",
    "df.head()"
   ],
   "metadata": {
    "collapsed": false,
    "pycharm": {
     "name": "#%%\n"
    }
   }
  },
  {
   "cell_type": "code",
   "execution_count": 3,
   "outputs": [
    {
     "name": "stdout",
     "output_type": "stream",
     "text": [
      "<class 'pandas.core.frame.DataFrame'>\n",
      "RangeIndex: 386803 entries, 0 to 386802\n",
      "Data columns (total 17 columns):\n",
      " #   Column                                      Non-Null Count   Dtype  \n",
      "---  ------                                      --------------   -----  \n",
      " 0   hotel_address                               386803 non-null  object \n",
      " 1   additional_number_of_scoring                386803 non-null  int64  \n",
      " 2   review_date                                 386803 non-null  object \n",
      " 3   average_score                               386803 non-null  float64\n",
      " 4   hotel_name                                  386803 non-null  object \n",
      " 5   reviewer_nationality                        386803 non-null  object \n",
      " 6   negative_review                             386803 non-null  object \n",
      " 7   review_total_negative_word_counts           386803 non-null  int64  \n",
      " 8   total_number_of_reviews                     386803 non-null  int64  \n",
      " 9   positive_review                             386803 non-null  object \n",
      " 10  review_total_positive_word_counts           386803 non-null  int64  \n",
      " 11  total_number_of_reviews_reviewer_has_given  386803 non-null  int64  \n",
      " 12  reviewer_score                              386803 non-null  float64\n",
      " 13  tags                                        386803 non-null  object \n",
      " 14  days_since_review                           386803 non-null  object \n",
      " 15  lat                                         384355 non-null  float64\n",
      " 16  lng                                         384355 non-null  float64\n",
      "dtypes: float64(4), int64(5), object(8)\n",
      "memory usage: 50.2+ MB\n"
     ]
    }
   ],
   "source": [
    "df.info()"
   ],
   "metadata": {
    "collapsed": false,
    "pycharm": {
     "name": "#%%\n"
    }
   }
  },
  {
   "cell_type": "code",
   "execution_count": null,
   "outputs": [],
   "source": [],
   "metadata": {
    "collapsed": false,
    "pycharm": {
     "name": "#%%\n"
    }
   }
  }
 ],
 "metadata": {
  "kernelspec": {
   "display_name": "Python 3",
   "language": "python",
   "name": "python3"
  },
  "language_info": {
   "codemirror_mode": {
    "name": "ipython",
    "version": 2
   },
   "file_extension": ".py",
   "mimetype": "text/x-python",
   "name": "python",
   "nbconvert_exporter": "python",
   "pygments_lexer": "ipython2",
   "version": "2.7.6"
  }
 },
 "nbformat": 4,
 "nbformat_minor": 0
}